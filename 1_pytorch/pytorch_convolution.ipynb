{
 "cells": [
  {
   "cell_type": "code",
   "execution_count": 3,
   "id": "4db6eba0-800f-4ed9-95ea-d5bfbe2804c7",
   "metadata": {},
   "outputs": [],
   "source": [
    "import torch.nn as nn\n",
    "import torch"
   ]
  },
  {
   "cell_type": "markdown",
   "id": "65298c3c-0782-445a-8119-b15207c519db",
   "metadata": {},
   "source": [
    "# conv1d"
   ]
  },
  {
   "cell_type": "markdown",
   "id": "072a2d8d-d1de-4f07-891b-62373b6a24eb",
   "metadata": {},
   "source": [
    "## pointwise"
   ]
  },
  {
   "cell_type": "code",
   "execution_count": 8,
   "id": "f1c9645a-2886-4e43-ab25-98b537a1431e",
   "metadata": {},
   "outputs": [
    {
     "name": "stdout",
     "output_type": "stream",
     "text": [
      "torch.Size([2, 1, 982])\n"
     ]
    }
   ],
   "source": [
    "B = 2\n",
    "x = torch.rand(B,1,1231)\n",
    "m = nn.Conv1d(1,1,250)\n",
    "y = m(x)\n",
    "print(y.shape)"
   ]
  },
  {
   "cell_type": "markdown",
   "id": "52de46e8-96c6-42cd-9acd-19c7a6712f15",
   "metadata": {},
   "source": [
    "## stacked Conv1D"
   ]
  },
  {
   "cell_type": "code",
   "execution_count": 16,
   "id": "8f28ab5c-1d3f-488b-ba98-7f0941653e4a",
   "metadata": {},
   "outputs": [
    {
     "name": "stdout",
     "output_type": "stream",
     "text": [
      "torch.Size([2, 1, 982])\n",
      "torch.Size([2, 1, 733])\n",
      "torch.Size([2, 1, 484])\n",
      "torch.Size([2, 1, 235])\n"
     ]
    },
    {
     "ename": "RuntimeError",
     "evalue": "Calculated padded input size per channel: (235). Kernel size: (250). Kernel size can't be greater than actual input size",
     "output_type": "error",
     "traceback": [
      "\u001b[0;31m---------------------------------------------------------------------------\u001b[0m",
      "\u001b[0;31mRuntimeError\u001b[0m                              Traceback (most recent call last)",
      "\u001b[0;32m/tmp/ipykernel_23171/787703057.py\u001b[0m in \u001b[0;36m<module>\u001b[0;34m\u001b[0m\n\u001b[1;32m     10\u001b[0m \u001b[0my\u001b[0m \u001b[0;34m=\u001b[0m \u001b[0mm\u001b[0m\u001b[0;34m(\u001b[0m\u001b[0my\u001b[0m\u001b[0;34m)\u001b[0m\u001b[0;34m\u001b[0m\u001b[0;34m\u001b[0m\u001b[0m\n\u001b[1;32m     11\u001b[0m \u001b[0mprint\u001b[0m\u001b[0;34m(\u001b[0m\u001b[0my\u001b[0m\u001b[0;34m.\u001b[0m\u001b[0mshape\u001b[0m\u001b[0;34m)\u001b[0m\u001b[0;34m\u001b[0m\u001b[0;34m\u001b[0m\u001b[0m\n\u001b[0;32m---> 12\u001b[0;31m \u001b[0my\u001b[0m \u001b[0;34m=\u001b[0m \u001b[0mm\u001b[0m\u001b[0;34m(\u001b[0m\u001b[0my\u001b[0m\u001b[0;34m)\u001b[0m\u001b[0;34m\u001b[0m\u001b[0;34m\u001b[0m\u001b[0m\n\u001b[0m\u001b[1;32m     13\u001b[0m \u001b[0mprint\u001b[0m\u001b[0;34m(\u001b[0m\u001b[0my\u001b[0m\u001b[0;34m.\u001b[0m\u001b[0mshape\u001b[0m\u001b[0;34m)\u001b[0m\u001b[0;34m\u001b[0m\u001b[0;34m\u001b[0m\u001b[0m\n",
      "\u001b[0;32m~/.conda/envs/dnn/lib/python3.8/site-packages/torch/nn/modules/module.py\u001b[0m in \u001b[0;36m_call_impl\u001b[0;34m(self, *input, **kwargs)\u001b[0m\n\u001b[1;32m   1100\u001b[0m         if not (self._backward_hooks or self._forward_hooks or self._forward_pre_hooks or _global_backward_hooks\n\u001b[1;32m   1101\u001b[0m                 or _global_forward_hooks or _global_forward_pre_hooks):\n\u001b[0;32m-> 1102\u001b[0;31m             \u001b[0;32mreturn\u001b[0m \u001b[0mforward_call\u001b[0m\u001b[0;34m(\u001b[0m\u001b[0;34m*\u001b[0m\u001b[0minput\u001b[0m\u001b[0;34m,\u001b[0m \u001b[0;34m**\u001b[0m\u001b[0mkwargs\u001b[0m\u001b[0;34m)\u001b[0m\u001b[0;34m\u001b[0m\u001b[0;34m\u001b[0m\u001b[0m\n\u001b[0m\u001b[1;32m   1103\u001b[0m         \u001b[0;31m# Do not call functions when jit is used\u001b[0m\u001b[0;34m\u001b[0m\u001b[0;34m\u001b[0m\u001b[0;34m\u001b[0m\u001b[0m\n\u001b[1;32m   1104\u001b[0m         \u001b[0mfull_backward_hooks\u001b[0m\u001b[0;34m,\u001b[0m \u001b[0mnon_full_backward_hooks\u001b[0m \u001b[0;34m=\u001b[0m \u001b[0;34m[\u001b[0m\u001b[0;34m]\u001b[0m\u001b[0;34m,\u001b[0m \u001b[0;34m[\u001b[0m\u001b[0;34m]\u001b[0m\u001b[0;34m\u001b[0m\u001b[0;34m\u001b[0m\u001b[0m\n",
      "\u001b[0;32m~/.conda/envs/dnn/lib/python3.8/site-packages/torch/nn/modules/conv.py\u001b[0m in \u001b[0;36mforward\u001b[0;34m(self, input)\u001b[0m\n\u001b[1;32m    299\u001b[0m \u001b[0;34m\u001b[0m\u001b[0m\n\u001b[1;32m    300\u001b[0m     \u001b[0;32mdef\u001b[0m \u001b[0mforward\u001b[0m\u001b[0;34m(\u001b[0m\u001b[0mself\u001b[0m\u001b[0;34m,\u001b[0m \u001b[0minput\u001b[0m\u001b[0;34m:\u001b[0m \u001b[0mTensor\u001b[0m\u001b[0;34m)\u001b[0m \u001b[0;34m->\u001b[0m \u001b[0mTensor\u001b[0m\u001b[0;34m:\u001b[0m\u001b[0;34m\u001b[0m\u001b[0;34m\u001b[0m\u001b[0m\n\u001b[0;32m--> 301\u001b[0;31m         \u001b[0;32mreturn\u001b[0m \u001b[0mself\u001b[0m\u001b[0;34m.\u001b[0m\u001b[0m_conv_forward\u001b[0m\u001b[0;34m(\u001b[0m\u001b[0minput\u001b[0m\u001b[0;34m,\u001b[0m \u001b[0mself\u001b[0m\u001b[0;34m.\u001b[0m\u001b[0mweight\u001b[0m\u001b[0;34m,\u001b[0m \u001b[0mself\u001b[0m\u001b[0;34m.\u001b[0m\u001b[0mbias\u001b[0m\u001b[0;34m)\u001b[0m\u001b[0;34m\u001b[0m\u001b[0;34m\u001b[0m\u001b[0m\n\u001b[0m\u001b[1;32m    302\u001b[0m \u001b[0;34m\u001b[0m\u001b[0m\n\u001b[1;32m    303\u001b[0m \u001b[0;34m\u001b[0m\u001b[0m\n",
      "\u001b[0;32m~/.conda/envs/dnn/lib/python3.8/site-packages/torch/nn/modules/conv.py\u001b[0m in \u001b[0;36m_conv_forward\u001b[0;34m(self, input, weight, bias)\u001b[0m\n\u001b[1;32m    295\u001b[0m                             \u001b[0mweight\u001b[0m\u001b[0;34m,\u001b[0m \u001b[0mbias\u001b[0m\u001b[0;34m,\u001b[0m \u001b[0mself\u001b[0m\u001b[0;34m.\u001b[0m\u001b[0mstride\u001b[0m\u001b[0;34m,\u001b[0m\u001b[0;34m\u001b[0m\u001b[0;34m\u001b[0m\u001b[0m\n\u001b[1;32m    296\u001b[0m                             _single(0), self.dilation, self.groups)\n\u001b[0;32m--> 297\u001b[0;31m         return F.conv1d(input, weight, bias, self.stride,\n\u001b[0m\u001b[1;32m    298\u001b[0m                         self.padding, self.dilation, self.groups)\n\u001b[1;32m    299\u001b[0m \u001b[0;34m\u001b[0m\u001b[0m\n",
      "\u001b[0;31mRuntimeError\u001b[0m: Calculated padded input size per channel: (235). Kernel size: (250). Kernel size can't be greater than actual input size"
     ]
    }
   ],
   "source": [
    "B = 2\n",
    "x = torch.rand(B,1,1231)\n",
    "m = nn.Conv1d(1,1,250)\n",
    "y = m(x)\n",
    "print(y.shape)\n",
    "y = m(y)\n",
    "print(y.shape)\n",
    "y = m(y)\n",
    "print(y.shape)\n",
    "y = m(y)\n",
    "print(y.shape)\n",
    "y = m(y)\n",
    "print(y.shape)"
   ]
  },
  {
   "cell_type": "markdown",
   "id": "9801a710-accc-49db-b104-f45b90c998ec",
   "metadata": {},
   "source": [
    "## Dialated Conv1d"
   ]
  },
  {
   "cell_type": "code",
   "execution_count": 24,
   "id": "9c6b27d9-83da-4ff1-be61-ce378b64ba02",
   "metadata": {},
   "outputs": [
    {
     "name": "stdout",
     "output_type": "stream",
     "text": [
      "torch.Size([2, 3, 40])\n"
     ]
    }
   ],
   "source": [
    "x = torch.rand(2,3,40)\n",
    "m = nn.Conv1d(3,3,1,dilation=52)\n",
    "y = m(x)\n",
    "print(y.shape)"
   ]
  },
  {
   "cell_type": "code",
   "execution_count": 25,
   "id": "d02b7815-e7fb-4acd-b9e7-1338b5cbc5d6",
   "metadata": {},
   "outputs": [
    {
     "data": {
      "text/plain": [
       "128"
      ]
     },
     "execution_count": 25,
     "metadata": {},
     "output_type": "execute_result"
    }
   ],
   "source": [
    "2**7"
   ]
  },
  {
   "cell_type": "markdown",
   "id": "28d3c9a2-dff9-4700-badb-6fb2f3b22683",
   "metadata": {},
   "source": [
    "## 256 1 x 1 Kernels\n",
    "``` Subsequently, the sequence is fed into a 1-D\n",
    "convolutional layer with 256 kernels of size 1 (i.e. a pointwise\n",
    "convolutional layer) for dimension reduction.```"
   ]
  },
  {
   "cell_type": "code",
   "execution_count": 16,
   "id": "63552e95-3dce-4575-b475-081ea516f853",
   "metadata": {},
   "outputs": [
    {
     "name": "stdout",
     "output_type": "stream",
     "text": [
      "torch.Size([2, 256, 1])\n"
     ]
    }
   ],
   "source": [
    "x = torch.rand(2,1799,1)\n",
    "m = nn.Conv1d(1799,256,1)\n",
    "y = m(x)\n",
    "print(y.shape)"
   ]
  },
  {
   "cell_type": "markdown",
   "id": "ea8697d7-e720-428a-bb99-6b752dad6817",
   "metadata": {
    "tags": []
   },
   "source": [
    "# etc"
   ]
  },
  {
   "cell_type": "code",
   "execution_count": 4,
   "id": "8f4a905c-63ac-4b30-8997-c65fd6e777de",
   "metadata": {},
   "outputs": [
    {
     "name": "stdout",
     "output_type": "stream",
     "text": [
      "tensor([[[[0.4306, 0.8484, 0.0770, 0.8523],\n",
      "          [0.6840, 0.2329, 0.5694, 0.0304],\n",
      "          [0.4517, 0.1560, 0.7737, 0.0912]],\n",
      "\n",
      "         [[0.9331, 0.2958, 0.9927, 0.7459],\n",
      "          [0.3794, 0.3654, 0.9607, 0.0208],\n",
      "          [0.4611, 0.0405, 0.5814, 0.3793]]]])\n",
      "torch.Size([1, 2, 3, 4])\n"
     ]
    }
   ],
   "source": [
    "x = torch.rand(1,2,3,4)\n",
    "print(x)\n",
    "print(x.shape)"
   ]
  },
  {
   "cell_type": "code",
   "execution_count": 17,
   "id": "925999df-fc73-4832-bf01-941542937ccf",
   "metadata": {},
   "outputs": [],
   "source": [
    "cnn1 = torch.nn.Conv2d(in_channels=2, out_channels=6, kernel_size=(3,3), stride=1, padding=(1,1), dilation=1, groups=1, bias=True, padding_mode='zeros')"
   ]
  },
  {
   "cell_type": "code",
   "execution_count": 18,
   "id": "65523278-dfea-4218-a520-69cbc5cab0dc",
   "metadata": {},
   "outputs": [
    {
     "name": "stdout",
     "output_type": "stream",
     "text": [
      "torch.Size([1, 6, 3, 4])\n"
     ]
    }
   ],
   "source": [
    "y = cnn1(x)\n",
    "print(y.shape)"
   ]
  },
  {
   "cell_type": "code",
   "execution_count": 22,
   "id": "63862f1f-c449-4732-a6a4-ee437fd7da89",
   "metadata": {},
   "outputs": [
    {
     "data": {
      "text/plain": [
       "-20.0"
      ]
     },
     "execution_count": 22,
     "metadata": {},
     "output_type": "execute_result"
    }
   ],
   "source": [
    "import numpy as np\n",
    "\n",
    "10*np.log10(0.01)"
   ]
  },
  {
   "cell_type": "code",
   "execution_count": null,
   "id": "2495986e-1a08-40d6-9d1b-ebe500811127",
   "metadata": {},
   "outputs": [],
   "source": []
  }
 ],
 "metadata": {
  "kernelspec": {
   "display_name": "Python 3 (ipykernel)",
   "language": "python",
   "name": "python3"
  },
  "language_info": {
   "codemirror_mode": {
    "name": "ipython",
    "version": 3
   },
   "file_extension": ".py",
   "mimetype": "text/x-python",
   "name": "python",
   "nbconvert_exporter": "python",
   "pygments_lexer": "ipython3",
   "version": "3.8.10"
  }
 },
 "nbformat": 4,
 "nbformat_minor": 5
}
