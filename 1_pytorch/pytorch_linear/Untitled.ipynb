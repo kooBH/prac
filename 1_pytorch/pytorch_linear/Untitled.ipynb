{
 "cells": [
  {
   "cell_type": "code",
   "execution_count": 1,
   "id": "7d63dedb-b6cf-47da-a864-2006dbe3cf42",
   "metadata": {},
   "outputs": [],
   "source": [
    "import torch\n",
    "import torch.nn as nn"
   ]
  },
  {
   "cell_type": "code",
   "execution_count": 2,
   "id": "179fb83d-fe43-4046-aba5-93f9c6bea91c",
   "metadata": {},
   "outputs": [],
   "source": [
    "x = torch.rand(3,20,13)"
   ]
  },
  {
   "cell_type": "code",
   "execution_count": 3,
   "id": "0869533b-565f-4ada-8f09-b14847fbb95c",
   "metadata": {},
   "outputs": [],
   "source": [
    "m = nn.Linear(13,14)"
   ]
  },
  {
   "cell_type": "code",
   "execution_count": 4,
   "id": "b06a5271-6819-418d-9960-c9cdd3ce5b23",
   "metadata": {},
   "outputs": [
    {
     "name": "stdout",
     "output_type": "stream",
     "text": [
      "torch.Size([3, 20, 14])\n"
     ]
    }
   ],
   "source": [
    "y = m(x)\n",
    "print(y.shape)"
   ]
  },
  {
   "cell_type": "code",
   "execution_count": null,
   "id": "9ba3ff01-81d4-475b-a32b-35131a96c232",
   "metadata": {},
   "outputs": [],
   "source": []
  }
 ],
 "metadata": {
  "kernelspec": {
   "display_name": "Python 3 (ipykernel)",
   "language": "python",
   "name": "python3"
  },
  "language_info": {
   "codemirror_mode": {
    "name": "ipython",
    "version": 3
   },
   "file_extension": ".py",
   "mimetype": "text/x-python",
   "name": "python",
   "nbconvert_exporter": "python",
   "pygments_lexer": "ipython3",
   "version": "3.9.6"
  }
 },
 "nbformat": 4,
 "nbformat_minor": 5
}
