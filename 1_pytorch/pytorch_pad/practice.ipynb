{
 "cells": [
  {
   "cell_type": "code",
   "execution_count": 5,
   "id": "1d29837c-5873-4349-938f-1b92b3b09ed0",
   "metadata": {},
   "outputs": [],
   "source": [
    "import torch\n",
    "import torch.nn.functional as F"
   ]
  },
  {
   "cell_type": "code",
   "execution_count": 2,
   "id": "4d26a20d-a25c-4afc-a969-aecbbc9b7d01",
   "metadata": {},
   "outputs": [],
   "source": [
    "B = 3\n",
    "N = 5"
   ]
  },
  {
   "cell_type": "code",
   "execution_count": 3,
   "id": "1536cc8f-86d8-4c75-84d5-d2d984d6990f",
   "metadata": {},
   "outputs": [
    {
     "name": "stdout",
     "output_type": "stream",
     "text": [
      "torch.Size([3, 5])\n",
      "tensor([[1, 4, 4, 4, 2],\n",
      "        [1, 4, 4, 3, 1],\n",
      "        [4, 4, 3, 4, 2]])\n"
     ]
    }
   ],
   "source": [
    "a = torch.randint(1, 5, (B,N))\n",
    "print(a.shape)\n",
    "print(a)"
   ]
  },
  {
   "cell_type": "code",
   "execution_count": 11,
   "id": "cf086510-9668-4396-b9a3-74abe2b164a1",
   "metadata": {},
   "outputs": [
    {
     "name": "stdout",
     "output_type": "stream",
     "text": [
      "torch.Size([10, 8])\n",
      "tensor([[0, 0, 0, 0, 0, 0, 0, 0],\n",
      "        [0, 0, 0, 0, 0, 0, 0, 0],\n",
      "        [0, 0, 0, 0, 0, 0, 0, 0],\n",
      "        [0, 1, 4, 4, 4, 2, 0, 0],\n",
      "        [0, 1, 4, 4, 3, 1, 0, 0],\n",
      "        [0, 4, 4, 3, 4, 2, 0, 0],\n",
      "        [0, 0, 0, 0, 0, 0, 0, 0],\n",
      "        [0, 0, 0, 0, 0, 0, 0, 0],\n",
      "        [0, 0, 0, 0, 0, 0, 0, 0],\n",
      "        [0, 0, 0, 0, 0, 0, 0, 0]])\n"
     ]
    }
   ],
   "source": [
    "b = F.pad(a,((1,2,3,4)), 'constant',value=0)\n",
    "print(b.shape)\n",
    "print(b)"
   ]
  },
  {
   "cell_type": "code",
   "execution_count": null,
   "id": "1739d47b-d4c4-4add-a54a-f88630acb847",
   "metadata": {},
   "outputs": [],
   "source": []
  }
 ],
 "metadata": {
  "kernelspec": {
   "display_name": "Python 3",
   "language": "python",
   "name": "python3"
  },
  "language_info": {
   "codemirror_mode": {
    "name": "ipython",
    "version": 3
   },
   "file_extension": ".py",
   "mimetype": "text/x-python",
   "name": "python",
   "nbconvert_exporter": "python",
   "pygments_lexer": "ipython3",
   "version": "3.8.0"
  }
 },
 "nbformat": 4,
 "nbformat_minor": 5
}
