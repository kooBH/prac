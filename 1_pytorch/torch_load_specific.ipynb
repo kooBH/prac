{
 "cells": [
  {
   "cell_type": "code",
   "execution_count": 9,
   "id": "d150154f-4fb7-4670-b07d-24a840192564",
   "metadata": {},
   "outputs": [],
   "source": [
    "import torch\n",
    "import torch.nn as nn\n",
    "from collections import OrderedDict"
   ]
  },
  {
   "cell_type": "code",
   "execution_count": 4,
   "id": "82c8d5f3-90ba-483a-8089-d1dd2adf91c4",
   "metadata": {},
   "outputs": [],
   "source": [
    "class part_a(nn.Module):\n",
    "    def __init__(self) : \n",
    "        super(part_a, self).__init__()\n",
    "        self.module = nn.Linear(16,16)\n",
    "    \n",
    "    def forward(self,x):\n",
    "        return x\n",
    "        \n",
    "class part_b(nn.Module):\n",
    "    def __init__(self) : \n",
    "        super(part_b, self).__init__()\n",
    "        self.module = nn.Linear(7,19)\n",
    "    \n",
    "    def forward(self,x):\n",
    "        return x \n",
    "    \n",
    "class mm(nn.Module):\n",
    "    def __init__(self) :\n",
    "        super(mm,self).__init__()\n",
    "        self.a = part_a()\n",
    "        self.b = part_b()\n",
    "        \n",
    "    def forward(self,x):\n",
    "        return x"
   ]
  },
  {
   "cell_type": "code",
   "execution_count": 5,
   "id": "cdf3d6cf-c0a5-4fdf-b334-be9f6c8ee7c3",
   "metadata": {},
   "outputs": [],
   "source": [
    "m = mm()\n",
    "\n",
    "torch.save(m.state_dict(),\"tmp/tmp.pt\")"
   ]
  },
  {
   "cell_type": "code",
   "execution_count": 6,
   "id": "adbf2298-59e7-4239-ac79-0c925e655688",
   "metadata": {},
   "outputs": [],
   "source": [
    "m2 = torch.load(\"tmp/tmp.pt\")"
   ]
  },
  {
   "cell_type": "code",
   "execution_count": 8,
   "id": "6c54da0c-9b30-44b6-bcc0-304b0b99b7c1",
   "metadata": {},
   "outputs": [
    {
     "data": {
      "text/plain": [
       "odict_keys(['a.module.weight', 'a.module.bias', 'b.module.weight', 'b.module.bias'])"
      ]
     },
     "execution_count": 8,
     "metadata": {},
     "output_type": "execute_result"
    }
   ],
   "source": [
    "m2.keys()"
   ]
  },
  {
   "cell_type": "code",
   "execution_count": 11,
   "id": "75358a90-937f-480a-96cc-642b33ca5c4e",
   "metadata": {},
   "outputs": [
    {
     "name": "stdout",
     "output_type": "stream",
     "text": [
      "odict_keys(['module.weight', 'module.bias'])\n"
     ]
    },
    {
     "data": {
      "text/plain": [
       "<All keys matched successfully>"
      ]
     },
     "execution_count": 11,
     "metadata": {},
     "output_type": "execute_result"
    }
   ],
   "source": [
    "ma = part_a()\n",
    "#parse dictm\n",
    "m3 = OrderedDict()\n",
    "m3[\"module.weight\"] = m2[\"a.module.weight\"]\n",
    "m3[\"module.bias\"] = m2[\"a.module.bias\"]\n",
    "print(m3.keys())\n",
    "ma.load_state_dict(m3)"
   ]
  },
  {
   "cell_type": "code",
   "execution_count": null,
   "id": "89d1b147-ccb0-41e3-9bdf-212db0f1ed5d",
   "metadata": {},
   "outputs": [],
   "source": []
  }
 ],
 "metadata": {
  "kernelspec": {
   "display_name": "Python 3 (ipykernel)",
   "language": "python",
   "name": "python3"
  },
  "language_info": {
   "codemirror_mode": {
    "name": "ipython",
    "version": 3
   },
   "file_extension": ".py",
   "mimetype": "text/x-python",
   "name": "python",
   "nbconvert_exporter": "python",
   "pygments_lexer": "ipython3",
   "version": "3.9.12"
  }
 },
 "nbformat": 4,
 "nbformat_minor": 5
}
