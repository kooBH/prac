{
 "cells": [
  {
   "cell_type": "code",
   "execution_count": 24,
   "id": "b8ec23b1-17cc-4bb7-b38c-b46255378b9d",
   "metadata": {},
   "outputs": [],
   "source": [
    "import torch\n",
    "import numpy as np"
   ]
  },
  {
   "cell_type": "code",
   "execution_count": 19,
   "id": "1a99e7cf-bb20-43de-9d9a-a1b4a4896a4f",
   "metadata": {},
   "outputs": [
    {
     "name": "stdout",
     "output_type": "stream",
     "text": [
      "tensor([[[-23.9023, -42.9429, -35.0474,  34.4896],\n",
      "         [-22.6018, -39.4004,  36.2005,  40.4559],\n",
      "         [ 40.6678,   7.4085, -15.4454,   4.7267]],\n",
      "\n",
      "        [[-12.3044, -34.2171, -29.0196,  44.1569],\n",
      "         [ 43.7200, -17.9868,  19.9076,  17.2998],\n",
      "         [ 41.7760, -32.2899, -39.7272,  46.9468]]])\n"
     ]
    }
   ],
   "source": [
    "x = (torch.rand(2,3,4)-0.5)*100\n",
    "print(x)"
   ]
  },
  {
   "cell_type": "code",
   "execution_count": 20,
   "id": "ff159379-71fb-4c14-927e-33311f172c70",
   "metadata": {},
   "outputs": [
    {
     "data": {
      "text/plain": [
       "tensor([[[-0.3438, -0.6177, -0.5041,  0.4961],\n",
       "         [-0.3193, -0.5566,  0.5114,  0.5715],\n",
       "         [ 0.9163,  0.1669, -0.3480,  0.1065]],\n",
       "\n",
       "        [[-0.1918, -0.5335, -0.4524,  0.6884],\n",
       "         [ 0.8076, -0.3323,  0.3677,  0.3196],\n",
       "         [ 0.5154, -0.3984, -0.4901,  0.5792]]])"
      ]
     },
     "execution_count": 20,
     "metadata": {},
     "output_type": "execute_result"
    }
   ],
   "source": [
    "torch.nn.functional.normalize(x,dim=2)"
   ]
  },
  {
   "cell_type": "code",
   "execution_count": 37,
   "id": "7f884ab0-9970-4af9-972b-2993755fbd1c",
   "metadata": {},
   "outputs": [
    {
     "name": "stdout",
     "output_type": "stream",
     "text": [
      "tensor([[  1.,   2.,   3.],\n",
      "        [-10., -20., -30.]], dtype=torch.float64)\n",
      "tensor([[ 0.2673,  0.5345,  0.8018],\n",
      "        [-0.2673, -0.5345, -0.8018]], dtype=torch.float64)\n",
      "tensor([[ 0.0995,  0.0995,  0.0995],\n",
      "        [-0.9950, -0.9950, -0.9950]], dtype=torch.float64)\n"
     ]
    }
   ],
   "source": [
    "x = np.zeros((2,3))\n",
    "x[0][0] = 1\n",
    "x[0][1] = 2\n",
    "x[0][2] = 3\n",
    "x[1][0] = -10\n",
    "x[1][1] = -20\n",
    "x[1][2] = -30\n",
    "x = torch.from_numpy(x)\n",
    "print(x)\n",
    "y1 = torch.nn.functional.normalize(x,dim=1)\n",
    "print(y1)\n",
    "y2 = torch.nn.functional.normalize(x,dim=0)\n",
    "print(y2)"
   ]
  },
  {
   "cell_type": "code",
   "execution_count": null,
   "id": "2756c468-ef56-478f-a965-b8b124af8f50",
   "metadata": {},
   "outputs": [],
   "source": []
  }
 ],
 "metadata": {
  "kernelspec": {
   "display_name": "Python 3",
   "language": "python",
   "name": "python3"
  },
  "language_info": {
   "codemirror_mode": {
    "name": "ipython",
    "version": 3
   },
   "file_extension": ".py",
   "mimetype": "text/x-python",
   "name": "python",
   "nbconvert_exporter": "python",
   "pygments_lexer": "ipython3",
   "version": "3.8.0"
  }
 },
 "nbformat": 4,
 "nbformat_minor": 5
}
