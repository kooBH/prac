{
 "cells": [
  {
   "cell_type": "code",
   "execution_count": 2,
   "id": "7959465d-258f-4a7f-b10d-d44c434bd5b9",
   "metadata": {},
   "outputs": [],
   "source": [
    "import torch\n",
    "import torch.nn as nn"
   ]
  },
  {
   "cell_type": "markdown",
   "id": "010ce42d-a777-46ec-99aa-7f4f06207115",
   "metadata": {},
   "source": [
    "# List of tensors  \n",
    "```[[B,T,F]*N] -> [B,N,T,F] -> [B * N,T,F] -> processs-> [B*N,T,F'] -> [B,N,T,F']-> [B,T,N*F']```"
   ]
  },
  {
   "cell_type": "code",
   "execution_count": 15,
   "id": "e6f1e58b-7b1d-49fd-bcb8-f6072a4ff90e",
   "metadata": {},
   "outputs": [
    {
     "name": "stdout",
     "output_type": "stream",
     "text": [
      "[tensor([[1.],\n",
      "        [1.]]), tensor([[2.],\n",
      "        [2.]]), tensor([[3.],\n",
      "        [3.]])]\n",
      "torch.Size([2, 3, 1])\n",
      "tensor([[1., 2., 3.],\n",
      "        [1., 2., 3.]])\n"
     ]
    }
   ],
   "source": [
    "B = 2\n",
    "F = 1\n",
    "N = 3\n",
    "\n",
    "d = []\n",
    "\n",
    "for i in range(N):\n",
    "    x = torch.ones(B,F)*(i+1)\n",
    "    d.append(x)\n",
    "\n",
    "print(d)\n",
    "\n",
    "dd = torch.stack(d,dim=1)\n",
    "print(dd.shape)\n",
    "\n",
    "ddd = torch.reshape(dd,(B,N*F))\n",
    "print(ddd)"
   ]
  },
  {
   "cell_type": "code",
   "execution_count": null,
   "id": "4c5760f5-41d1-40f4-b25c-e8cbe88a6639",
   "metadata": {},
   "outputs": [],
   "source": []
  },
  {
   "cell_type": "code",
   "execution_count": null,
   "id": "d8d59324-d014-4e6d-a05c-135bc0375261",
   "metadata": {},
   "outputs": [],
   "source": []
  },
  {
   "cell_type": "markdown",
   "id": "8a0ed391-c13a-4e5c-80d0-f628894cf15e",
   "metadata": {},
   "source": [
    "https://discuss.pytorch.org/t/what-is-reshape-layer-in-pytorch/1110\n",
    "```\n",
    "There’s no reshape layer. You just call .view on the output you want to reshape in the forward function of your custom model.\n",
    "```"
   ]
  }
 ],
 "metadata": {
  "kernelspec": {
   "display_name": "Python 3 (ipykernel)",
   "language": "python",
   "name": "python3"
  },
  "language_info": {
   "codemirror_mode": {
    "name": "ipython",
    "version": 3
   },
   "file_extension": ".py",
   "mimetype": "text/x-python",
   "name": "python",
   "nbconvert_exporter": "python",
   "pygments_lexer": "ipython3",
   "version": "3.10.14"
  }
 },
 "nbformat": 4,
 "nbformat_minor": 5
}
