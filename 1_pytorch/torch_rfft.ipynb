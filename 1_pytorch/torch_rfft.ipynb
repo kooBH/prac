{
 "cells": [
  {
   "cell_type": "code",
   "execution_count": 47,
   "id": "51c5c075-e6c5-4c20-a554-6472a84e3413",
   "metadata": {},
   "outputs": [],
   "source": [
    "import torch\n",
    "import matplotlib.pyplot as plt   \n",
    "import IPython.display as ipd"
   ]
  },
  {
   "cell_type": "code",
   "execution_count": 25,
   "id": "7f8ae4f2-c420-4324-86d2-8a462f91b44f",
   "metadata": {},
   "outputs": [],
   "source": [
    "B = 2\n",
    "C = 1\n",
    "L = 16000\n",
    "W = 128"
   ]
  },
  {
   "cell_type": "code",
   "execution_count": 44,
   "id": "4492c32f-f9be-4ccd-a532-c56897e4c785",
   "metadata": {},
   "outputs": [
    {
     "name": "stdout",
     "output_type": "stream",
     "text": [
      "torch.Size([2, 16000])\n",
      "torch.Size([2, 128, 125])\n",
      "torch.Size([2, 65, 125])\n",
      "torch.Size([2, 128, 125])\n",
      "torch.Size([2, 16000])\n"
     ]
    }
   ],
   "source": [
    "x = torch.rand(B,L)\n",
    "print(x.shape)\n",
    "\n",
    "X = torch.reshape(x,(B,W,-1))\n",
    "print(X.shape)\n",
    "                  \n",
    "X = torch.fft.rfft(X,dim=1)\n",
    "print(X.shape)\n",
    "\n",
    "y = torch.fft.irfft(X,dim=1)\n",
    "print(y.shape)\n",
    "y = torch.reshape(y,(B,-1))\n",
    "print(y.shape)"
   ]
  },
  {
   "cell_type": "code",
   "execution_count": 63,
   "id": "2b2729a9-9335-4674-9e01-c5f83eb581cf",
   "metadata": {},
   "outputs": [
    {
     "data": {
      "text/plain": [
       "torch.Size([2, 65, 501, 2])"
      ]
     },
     "execution_count": 63,
     "metadata": {},
     "output_type": "execute_result"
    }
   ],
   "source": [
    "Z = torch.stft(x,n_fft=128)\n",
    "Z.shape"
   ]
  },
  {
   "cell_type": "code",
   "execution_count": 64,
   "id": "916b5486-1573-4276-8c7a-fe6c5bc2452e",
   "metadata": {},
   "outputs": [
    {
     "data": {
      "text/plain": [
       "torch.Size([2, 65, 125, 2])"
      ]
     },
     "execution_count": 64,
     "metadata": {},
     "output_type": "execute_result"
    }
   ],
   "source": [
    "Z = torch.stack([X.real,X.imag],dim=-1)\n",
    "Z.shape"
   ]
  },
  {
   "cell_type": "code",
   "execution_count": null,
   "id": "735baaaa-6c5a-44b9-9cae-a4df3bf57dd9",
   "metadata": {},
   "outputs": [],
   "source": []
  },
  {
   "cell_type": "code",
   "execution_count": 38,
   "id": "aa2f5859-7f51-4c29-8445-d3d0028ff3d8",
   "metadata": {},
   "outputs": [],
   "source": [
    "import matplotlib.pyplot as plt   "
   ]
  },
  {
   "cell_type": "code",
   "execution_count": 40,
   "id": "27725367-3917-446b-a98f-fe5bf99b28aa",
   "metadata": {},
   "outputs": [
    {
     "data": {
      "text/plain": [
       "[<matplotlib.lines.Line2D at 0x7fc0e8692d30>]"
      ]
     },
     "execution_count": 40,
     "metadata": {},
     "output_type": "execute_result"
    },
    {
     "data": {
      "image/png": "[encoded data removed]",
      "text/plain": [
       "<Figure size 432x288 with 1 Axes>"
      ]
     },
     "metadata": {
      "needs_background": "light"
     },
     "output_type": "display_data"
    }
   ],
   "source": [
    "plt.plot(abs(x[0]))"
   ]
  },
  {
   "cell_type": "code",
   "execution_count": 39,
   "id": "572ea89a-7dc4-4664-8402-0a8629314fe5",
   "metadata": {},
   "outputs": [
    {
     "data": {
      "text/plain": [
       "[<matplotlib.lines.Line2D at 0x7fc0e8816f70>]"
      ]
     },
     "execution_count": 39,
     "metadata": {},
     "output_type": "execute_result"
    },
    {
     "data": {
      "image/png": "[encoded data removed]",
      "text/plain": [
       "<Figure size 432x288 with 1 Axes>"
      ]
     },
     "metadata": {
      "needs_background": "light"
     },
     "output_type": "display_data"
    }
   ],
   "source": [
    "plt.plot(abs(x[0]-y[0]))"
   ]
  },
  {
   "cell_type": "code",
   "execution_count": 43,
   "id": "c3b302b3-fd2f-4c7a-8678-5f46a33f5547",
   "metadata": {},
   "outputs": [
    {
     "data": {
      "text/plain": [
       "torch.Size([2, 257, 126, 2])"
      ]
     },
     "execution_count": 43,
     "metadata": {},
     "output_type": "execute_result"
    }
   ],
   "source": [
    "zz = torch.stft(x,n_fft=512)\n",
    "zz.shape"
   ]
  },
  {
   "cell_type": "code",
   "execution_count": null,
   "id": "2516d428-e02d-4b7a-96f4-e981c31c184c",
   "metadata": {},
   "outputs": [],
   "source": []
  }
 ],
 "metadata": {
  "kernelspec": {
   "display_name": "Python 3 (ipykernel)",
   "language": "python",
   "name": "python3"
  },
  "language_info": {
   "codemirror_mode": {
    "name": "ipython",
    "version": 3
   },
   "file_extension": ".py",
   "mimetype": "text/x-python",
   "name": "python",
   "nbconvert_exporter": "python",
   "pygments_lexer": "ipython3",
   "version": "3.9.12"
  }
 },
 "nbformat": 4,
 "nbformat_minor": 5
}
