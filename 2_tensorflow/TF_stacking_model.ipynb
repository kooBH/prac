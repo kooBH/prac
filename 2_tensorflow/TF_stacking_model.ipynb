{
 "cells": [
  {
   "cell_type": "code",
   "execution_count": 2,
   "id": "50470ea6-882d-49bc-bb6a-3411338cefb1",
   "metadata": {},
   "outputs": [],
   "source": [
    "import tensorflow.keras as keras\n",
    "import tensorflow as tf"
   ]
  },
  {
   "cell_type": "markdown",
   "id": "08b0eedb-2ebb-4680-8623-276d0cbd5612",
   "metadata": {},
   "source": [
    "```python\n",
    "tf.keras.layers.Conv2D(\n",
    "    filters,\n",
    "    kernel_size,\n",
    "    strides=(1, 1),\n",
    "    padding=&#x27;valid',\n",
    "    data_format=None,\n",
    "    dilation_rate=(1, 1),\n",
    "    groups=1,\n",
    "    activation=None,\n",
    "    use_bias=True,\n",
    "    kernel_initializer=&#x27;glorot_uniform',\n",
    "    bias_initializer=&#x27;zeros',\n",
    "    kernel_regularizer=None,\n",
    "    bias_regularizer=None,\n",
    "    activity_regularizer=None,\n",
    "    kernel_constraint=None,\n",
    "    bias_constraint=None,\n",
    "    **kwargs\n",
    ")\n",
    "```\n",
    "\n",
    "|args|desc|\n",
    "|---|---|\n",
    "|padding|\tstring, either \"valid\" or \"same\" (case-insensitive). \"valid\" means no padding. \"same\" results in padding evenly to the left/right or up/down of the input. When padding=\"same\" and strides=1, the output has the same size as the input.|\n",
    "|z|z|"
   ]
  },
  {
   "cell_type": "code",
   "execution_count": 15,
   "id": "32c4189f-0970-4b13-b047-c31aabe85ec3",
   "metadata": {},
   "outputs": [
    {
     "name": "stdout",
     "output_type": "stream",
     "text": [
      "(5, 5, 129, 10)\n",
      "(5, 5, 129, 5)\n"
     ]
    }
   ],
   "source": [
    "class Encoder(tf.keras.layers.Layer):\n",
    "    def __init__(self, latent_dim):\n",
    "        super(Encoder, self).__init__()\n",
    "        self.conv1 = tf.keras.layers.Conv2D(10, (3, 3), activation='relu', padding='same', strides=(2, 2))\n",
    "        self.bn =  tf.keras.layers.BatchNormalization()\n",
    "        self.relu = tf.keras.layers.ReLU()\n",
    "    def call(self, x):\n",
    "        x = self.conv1(x)\n",
    "        x = self.bn(x)\n",
    "        x = self.relu(x)\n",
    "        return x\n",
    "\n",
    "class MyModel(keras.Model):\n",
    "    def __init__(self):\n",
    "        super().__init__()\n",
    "        self.dense1 = Encoder(5)\n",
    "        self.dense2 = keras.layers.Dense(5, activation=\"softmax\")\n",
    "\n",
    "    def call(self, inputs):\n",
    "        x = self.dense1(inputs)\n",
    "        print(x.shape)\n",
    "        return self.dense2(x)\n",
    "\n",
    "model = MyModel()\n",
    "\n",
    "batch_input = tf.random.normal([5, 10,257, 128])\n",
    "batch_output = model(batch_input)\n",
    "print(batch_output.shape)"
   ]
  },
  {
   "cell_type": "code",
   "execution_count": null,
   "id": "6ccf09fc-6dd7-4fa1-ac9e-eac7774c4e16",
   "metadata": {},
   "outputs": [],
   "source": []
  }
 ],
 "metadata": {
  "kernelspec": {
   "display_name": "Python 3 (ipykernel)",
   "language": "python",
   "name": "python3"
  },
  "language_info": {
   "codemirror_mode": {
    "name": "ipython",
    "version": 3
   },
   "file_extension": ".py",
   "mimetype": "text/x-python",
   "name": "python",
   "nbconvert_exporter": "python",
   "pygments_lexer": "ipython3",
   "version": "3.10.14"
  }
 },
 "nbformat": 4,
 "nbformat_minor": 5
}
