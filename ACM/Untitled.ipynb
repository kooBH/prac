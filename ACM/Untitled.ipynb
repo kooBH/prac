{
 "cells": [
  {
   "cell_type": "code",
   "execution_count": 3,
   "id": "provincial-invasion",
   "metadata": {},
   "outputs": [],
   "source": [
    "input_1 = [\"5\", \"2\"]\n",
    "input_2 = [\"4\",\"4\"]\n",
    "input_3 = [\"8bd2529a\",\"000000d5\"]\n",
    "input_4 = [\"5\"]"
   ]
  },
  {
   "cell_type": "code",
   "execution_count": 12,
   "id": "grave-obligation",
   "metadata": {},
   "outputs": [],
   "source": [
    "x = '12345'"
   ]
  },
  {
   "cell_type": "code",
   "execution_count": 14,
   "id": "resident-continent",
   "metadata": {},
   "outputs": [
    {
     "name": "stdout",
     "output_type": "stream",
     "text": [
      "1\n",
      "2\n",
      "3\n",
      "4\n",
      "5\n"
     ]
    }
   ],
   "source": [
    "for y in str(x):\n",
    "    print(y)"
   ]
  },
  {
   "cell_type": "code",
   "execution_count": 17,
   "id": "invalid-adams",
   "metadata": {},
   "outputs": [
    {
     "name": "stdout",
     "output_type": "stream",
     "text": [
      "0\n",
      "1\n",
      "2\n",
      "3\n"
     ]
    }
   ],
   "source": [
    "for x in range(4) : \n",
    "    print(x)"
   ]
  },
  {
   "cell_type": "code",
   "execution_count": null,
   "id": "sound-right",
   "metadata": {},
   "outputs": [],
   "source": []
  }
 ],
 "metadata": {
  "kernelspec": {
   "display_name": "Python 3",
   "language": "python",
   "name": "python3"
  },
  "language_info": {
   "codemirror_mode": {
    "name": "ipython",
    "version": 3
   },
   "file_extension": ".py",
   "mimetype": "text/x-python",
   "name": "python",
   "nbconvert_exporter": "python",
   "pygments_lexer": "ipython3",
   "version": "3.8.0"
  }
 },
 "nbformat": 4,
 "nbformat_minor": 5
}
