{
 "cells": [
  {
   "cell_type": "code",
   "execution_count": 11,
   "id": "4d7cdfaa-c076-44fd-aa90-9a64a49f7e51",
   "metadata": {},
   "outputs": [],
   "source": [
    "import librosa\n",
    "import numpy as np\n",
    "import soundfile as sf\n",
    "import os\n",
    "from glob import glob"
   ]
  },
  {
   "cell_type": "code",
   "execution_count": 27,
   "id": "cd512687-853a-4a71-a322-8a2013ff3bd9",
   "metadata": {},
   "outputs": [
    {
     "name": "stdout",
     "output_type": "stream",
     "text": [
      "(102530,)\n",
      "(26372,)\n",
      "(122052,)\n",
      "(19652,)\n",
      "(487457,)\n",
      "(26166,)\n",
      "(88304,)\n",
      "(21243,)\n",
      "(78642,)\n",
      "(24392,)\n"
     ]
    }
   ],
   "source": [
    "list_target = [x for x in glob(os.path.join(\"/home/nas/user/kbh/DOA-Audio-Separation/sample_DESED/CHime\",\".wav\"))]\n",
    "list_target = [x for x in glob(os.path.join(\".\",\"**_2.wav\"))]\n",
    "x = np.zeros(16000)\n",
    "for path in list_target :\n",
    "    raw,_ = librosa.load(path,sr=16000,mono=True)\n",
    "    \n",
    "    raw = raw / np.max(np.abs(raw))\n",
    "    \n",
    "    x = np.concatenate((x,raw))\n",
    "    print(raw.shape)\n",
    "    \n",
    "    pad = np.zeros(np.random.randint(low=16000,high=32000))\n",
    "    print(pad.shape)\n",
    "    x = np.concatenate((x,pad))\n",
    "sf.write(\"chime_2.wav\",x,16000)"
   ]
  },
  {
   "cell_type": "code",
   "execution_count": null,
   "id": "d344ff60-fd1a-4832-bda6-908f4cfcb283",
   "metadata": {},
   "outputs": [],
   "source": []
  }
 ],
 "metadata": {
  "kernelspec": {
   "display_name": "Python 3 (ipykernel)",
   "language": "python",
   "name": "python3"
  },
  "language_info": {
   "codemirror_mode": {
    "name": "ipython",
    "version": 3
   },
   "file_extension": ".py",
   "mimetype": "text/x-python",
   "name": "python",
   "nbconvert_exporter": "python",
   "pygments_lexer": "ipython3",
   "version": "3.9.12"
  }
 },
 "nbformat": 4,
 "nbformat_minor": 5
}
