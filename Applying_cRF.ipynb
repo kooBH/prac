{
 "cells": [
  {
   "cell_type": "code",
   "execution_count": 2,
   "id": "a6ce8b2d-6679-48c3-ad9d-3f988e34df72",
   "metadata": {},
   "outputs": [],
   "source": [
    "import torch\n",
    "import torch.nn as nn\n",
    "import IPython.display as ipd"
   ]
  },
  {
   "cell_type": "code",
   "execution_count": 80,
   "id": "50bccabd-4479-4792-9912-2743de8d80c4",
   "metadata": {},
   "outputs": [
    {
     "name": "stdout",
     "output_type": "stream",
     "text": [
      "torch.Size([2, 2, 3, 3, 4, 3])\n",
      "torch.Size([2, 4, 3])\n",
      "tensor([[[1., 1., 1.],\n",
      "         [1., 1., 1.],\n",
      "         [1., 1., 1.],\n",
      "         [1., 1., 1.]],\n",
      "\n",
      "        [[1., 1., 1.],\n",
      "         [1., 1., 1.],\n",
      "         [1., 1., 1.],\n",
      "         [1., 1., 1.]]])\n"
     ]
    },
    {
     "data": {
      "text/markdown": [
       "## input_alt : padding"
      ],
      "text/plain": [
       "<IPython.core.display.Markdown object>"
      ]
     },
     "metadata": {},
     "output_type": "display_data"
    },
    {
     "name": "stdout",
     "output_type": "stream",
     "text": [
      "torch.Size([2, 6, 5])\n",
      "tensor([[[0., 0., 0., 0., 0.],\n",
      "         [0., 1., 1., 1., 0.],\n",
      "         [0., 1., 1., 1., 0.],\n",
      "         [0., 1., 1., 1., 0.],\n",
      "         [0., 1., 1., 1., 0.],\n",
      "         [0., 0., 0., 0., 0.]],\n",
      "\n",
      "        [[0., 0., 0., 0., 0.],\n",
      "         [0., 1., 1., 1., 0.],\n",
      "         [0., 1., 1., 1., 0.],\n",
      "         [0., 1., 1., 1., 0.],\n",
      "         [0., 1., 1., 1., 0.],\n",
      "         [0., 0., 0., 0., 0.]]])\n"
     ]
    },
    {
     "data": {
      "text/markdown": [
       "## output"
      ],
      "text/plain": [
       "<IPython.core.display.Markdown object>"
      ]
     },
     "metadata": {},
     "output_type": "display_data"
    },
    {
     "name": "stdout",
     "output_type": "stream",
     "text": [
      "tensor([[[[ 4.,  6.,  4.],\n",
      "          [ 6.,  9.,  6.],\n",
      "          [ 6.,  9.,  6.],\n",
      "          [ 4.,  6.,  4.]],\n",
      "\n",
      "         [[ 4.,  6.,  4.],\n",
      "          [ 6.,  9.,  6.],\n",
      "          [ 6.,  9.,  6.],\n",
      "          [ 4.,  6.,  4.]]],\n",
      "\n",
      "\n",
      "        [[[ 8., 12.,  8.],\n",
      "          [12., 18., 12.],\n",
      "          [12., 18., 12.],\n",
      "          [ 8., 12.,  8.]],\n",
      "\n",
      "         [[ 8., 12.,  8.],\n",
      "          [12., 18., 12.],\n",
      "          [12., 18., 12.],\n",
      "          [ 8., 12.,  8.]]]])\n"
     ]
    }
   ],
   "source": [
    "C = 2\n",
    "N = 2\n",
    "L = 1\n",
    "F = 4\n",
    "T = 3\n",
    "\n",
    "kernel = torch.ones(N,C,2*L+1,2*L+1,F,T)\n",
    "kernel[1,:] *= 2\n",
    "input = torch.ones(C,F,T)\n",
    "print(kernel.shape)\n",
    "print(input.shape)\n",
    "\n",
    "print(input)\n",
    "ipd.display(ipd.Markdown('## input_alt : padding'))\n",
    "input_alt = torch.nn.functional.pad(input,(L,L,L,L) ,\"constant\", 0)\n",
    "print(input_alt.shape)\n",
    "print(input_alt)\n",
    "                                    \n",
    "                                    \n",
    "output = torch.zeros(N,C,F,T)\n",
    "for w in range(2*L+1) : \n",
    "    for h in range(2*L+1) : \n",
    "        output[:,:,:,:] += torch.mul(input_alt[:,w:F-2*L+2+w,h:T-2*L+2+h],kernel[:,:,w,h,:,:])\n",
    "ipd.display(ipd.Markdown('## output'))\n",
    "print(output)"
   ]
  },
  {
   "cell_type": "code",
   "execution_count": null,
   "id": "7fc7c2d4-59d2-4ccd-bf9d-715a375d8ed4",
   "metadata": {},
   "outputs": [],
   "source": []
  }
 ],
 "metadata": {
  "kernelspec": {
   "display_name": "Python 3 (ipykernel)",
   "language": "python",
   "name": "python3"
  },
  "language_info": {
   "codemirror_mode": {
    "name": "ipython",
    "version": 3
   },
   "file_extension": ".py",
   "mimetype": "text/x-python",
   "name": "python",
   "nbconvert_exporter": "python",
   "pygments_lexer": "ipython3",
   "version": "3.8.10"
  }
 },
 "nbformat": 4,
 "nbformat_minor": 5
}
