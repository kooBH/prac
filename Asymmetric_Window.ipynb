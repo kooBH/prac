{
 "cells": [
  {
   "cell_type": "code",
   "execution_count": 2,
   "id": "f586a725-dd95-4395-b1c0-118783207fec",
   "metadata": {},
   "outputs": [],
   "source": [
    "import numpy as np\n",
    "from scipy.fft import fft, ifft\n",
    "import librosa as rs\n",
    "\n",
    "def hann_window(length):\n",
    "    return 0.5 * (1 - np.cos(2 * np.pi * np.arange(length) / (length - 1)))\n",
    "\n",
    "def asymmetric_windows(K, M, d):\n",
    "    # Analysis Window  - long window\n",
    "    analysis_window = np.zeros(K)\n",
    "    analysis_window[d:K-M] = np.sqrt(hann_window(2 * (K - M - d)))[:K-M-d]\n",
    "    analysis_window[K-M:] = np.sqrt(hann_window(2 * M))\n",
    "    \n",
    "    # Synthesis Window - Short window\n",
    "    synthesis_window = np.zeros(K)\n",
    "    synthesis_window[K-2*M:K-M] = hann_window(2 * M)[:M] / analysis_window[K-2*M:K-M]\n",
    "    synthesis_window[K-M:] = np.sqrt(hann_window(2 * M))\n",
    "    \n",
    "    return analysis_window, synthesis_window\n",
    "\n",
    "\n",
    "\n",
    "def stft(signal, analysis_window, K, M):\n",
    "    frames = []\n",
    "    for i in range(0, len(signal) - K + 1, M):\n",
    "        frame = signal[i:i + K] * analysis_window\n",
    "        frames.append(fft(frame))\n",
    "    return np.array(frames)\n",
    "\n",
    "def istft(frames, synthesis_window, K, M):\n",
    "    signal = np.zeros((frames.shape[0] - 1) * M + K)\n",
    "    for i, frame in enumerate(frames):\n",
    "        time_frame = np.real(ifft(frame)) * synthesis_window\n",
    "        signal[i * M:i * M + K] += time_frame\n",
    "    return signal"
   ]
  },
  {
   "cell_type": "code",
   "execution_count": 4,
   "id": "cfde8ca1-6b0e-40ff-a5aa-877ffe5f5c99",
   "metadata": {},
   "outputs": [
    {
     "ename": "ValueError",
     "evalue": "could not broadcast input array from shape (256,) into shape (128,)",
     "output_type": "error",
     "traceback": [
      "\u001b[0;31m---------------------------------------------------------------------------\u001b[0m",
      "\u001b[0;31mValueError\u001b[0m                                Traceback (most recent call last)",
      "Cell \u001b[0;32mIn[4], line 7\u001b[0m\n\u001b[1;32m      1\u001b[0m signla,sr \u001b[38;5;241m=\u001b[39m rs\u001b[38;5;241m.\u001b[39mload(\u001b[38;5;124m\"\u001b[39m\u001b[38;5;124mdata/female_1.wav\u001b[39m\u001b[38;5;124m\"\u001b[39m)\n\u001b[1;32m      4\u001b[0m \u001b[38;5;66;03m# Analysis Phase\u001b[39;00m\n\u001b[0;32m----> 7\u001b[0m analysis_window, synthesis_window \u001b[38;5;241m=\u001b[39m \u001b[43masymmetric_windows\u001b[49m\u001b[43m(\u001b[49m\u001b[43mK\u001b[49m\u001b[38;5;241;43m=\u001b[39;49m\u001b[38;5;241;43m512\u001b[39;49m\u001b[43m,\u001b[49m\u001b[43m \u001b[49m\u001b[43mM\u001b[49m\u001b[38;5;241;43m=\u001b[39;49m\u001b[38;5;241;43m128\u001b[39;49m\u001b[43m,\u001b[49m\u001b[43m \u001b[49m\u001b[43md\u001b[49m\u001b[38;5;241;43m=\u001b[39;49m\u001b[38;5;241;43m64\u001b[39;49m\u001b[43m)\u001b[49m\n\u001b[1;32m      8\u001b[0m stft_frames \u001b[38;5;241m=\u001b[39m stft(signal, analysis_window, K\u001b[38;5;241m=\u001b[39m\u001b[38;5;241m512\u001b[39m, M\u001b[38;5;241m=\u001b[39m\u001b[38;5;241m128\u001b[39m)\n\u001b[1;32m     11\u001b[0m \u001b[38;5;66;03m# Synthesis Phase\u001b[39;00m\n",
      "Cell \u001b[0;32mIn[2], line 12\u001b[0m, in \u001b[0;36masymmetric_windows\u001b[0;34m(K, M, d)\u001b[0m\n\u001b[1;32m     10\u001b[0m analysis_window \u001b[38;5;241m=\u001b[39m np\u001b[38;5;241m.\u001b[39mzeros(K)\n\u001b[1;32m     11\u001b[0m analysis_window[d:K\u001b[38;5;241m-\u001b[39mM] \u001b[38;5;241m=\u001b[39m np\u001b[38;5;241m.\u001b[39msqrt(hann_window(\u001b[38;5;241m2\u001b[39m \u001b[38;5;241m*\u001b[39m (K \u001b[38;5;241m-\u001b[39m M \u001b[38;5;241m-\u001b[39m d)))[:K\u001b[38;5;241m-\u001b[39mM\u001b[38;5;241m-\u001b[39md]\n\u001b[0;32m---> 12\u001b[0m \u001b[43manalysis_window\u001b[49m\u001b[43m[\u001b[49m\u001b[43mK\u001b[49m\u001b[38;5;241;43m-\u001b[39;49m\u001b[43mM\u001b[49m\u001b[43m:\u001b[49m\u001b[43m]\u001b[49m \u001b[38;5;241m=\u001b[39m np\u001b[38;5;241m.\u001b[39msqrt(hann_window(\u001b[38;5;241m2\u001b[39m \u001b[38;5;241m*\u001b[39m M))\n\u001b[1;32m     14\u001b[0m \u001b[38;5;66;03m# Synthesis Window (짧은 윈도우)\u001b[39;00m\n\u001b[1;32m     15\u001b[0m synthesis_window \u001b[38;5;241m=\u001b[39m np\u001b[38;5;241m.\u001b[39mzeros(K)\n",
      "\u001b[0;31mValueError\u001b[0m: could not broadcast input array from shape (256,) into shape (128,)"
     ]
    }
   ],
   "source": [
    "signla,sr = rs.load(\"data/female_1.wav\")\n",
    "\n",
    "\n",
    "# Analysis Phase\n",
    "analysis_window, synthesis_window = asymmetric_windows(K=512, M=128, d=64)\n",
    "stft_frames = stft(signal, analysis_window, K=512, M=128)\n",
    "\n",
    "\n",
    "# Synthesis Phase\n",
    "reconstructed_signal = istft(stft_frames, synthesis_window, K=512, M=128)"
   ]
  },
  {
   "cell_type": "code",
   "execution_count": null,
   "id": "9bec4405-3069-4bf2-95e5-eb83c2f78e19",
   "metadata": {},
   "outputs": [],
   "source": []
  }
 ],
 "metadata": {
  "kernelspec": {
   "display_name": "Python 3 (ipykernel)",
   "language": "python",
   "name": "python3"
  },
  "language_info": {
   "codemirror_mode": {
    "name": "ipython",
    "version": 3
   },
   "file_extension": ".py",
   "mimetype": "text/x-python",
   "name": "python",
   "nbconvert_exporter": "python",
   "pygments_lexer": "ipython3",
   "version": "3.10.14"
  }
 },
 "nbformat": 4,
 "nbformat_minor": 5
}
