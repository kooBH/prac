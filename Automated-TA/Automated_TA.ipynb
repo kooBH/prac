{
 "cells": [
  {
   "cell_type": "code",
   "execution_count": 1,
   "id": "f6aaffc8-2e7d-4243-873c-4d0ade5243e3",
   "metadata": {},
   "outputs": [
    {
     "ename": "ModuleNotFoundError",
     "evalue": "No module named 'pandas'",
     "output_type": "error",
     "traceback": [
      "\u001b[0;31m---------------------------------------------------------------------------\u001b[0m",
      "\u001b[0;31mModuleNotFoundError\u001b[0m                       Traceback (most recent call last)",
      "Input \u001b[0;32mIn [1]\u001b[0m, in \u001b[0;36m<cell line: 1>\u001b[0;34m()\u001b[0m\n\u001b[0;32m----> 1\u001b[0m \u001b[38;5;28;01mimport\u001b[39;00m \u001b[38;5;21;01mpandas\u001b[39;00m \u001b[38;5;28;01mas\u001b[39;00m \u001b[38;5;21;01mpd\u001b[39;00m\n",
      "\u001b[0;31mModuleNotFoundError\u001b[0m: No module named 'pandas'"
     ]
    }
   ],
   "source": [
    "import pandas as pd\n",
    "## NOTE : openpyxl 가 필요함"
   ]
  },
  {
   "cell_type": "markdown",
   "id": "e1044af2-a354-4a84-9fd9-7cf8b89711fb",
   "metadata": {},
   "source": [
    "## 명단"
   ]
  },
  {
   "cell_type": "code",
   "execution_count": 78,
   "id": "1e4df1ed-5fce-4f3a-ae07-a53fd711ffec",
   "metadata": {},
   "outputs": [
    {
     "data": {
      "text/html": [
       "<div>\n",
       "<style scoped>\n",
       "    .dataframe tbody tr th:only-of-type {\n",
       "        vertical-align: middle;\n",
       "    }\n",
       "\n",
       "    .dataframe tbody tr th {\n",
       "        vertical-align: top;\n",
       "    }\n",
       "\n",
       "    .dataframe thead th {\n",
       "        text-align: right;\n",
       "    }\n",
       "</style>\n",
       "<table border=\"1\" class=\"dataframe\">\n",
       "  <thead>\n",
       "    <tr style=\"text-align: right;\">\n",
       "      <th></th>\n",
       "      <th>출     석    부</th>\n",
       "      <th>Unnamed: 1</th>\n",
       "      <th>Unnamed: 2</th>\n",
       "      <th>Unnamed: 3</th>\n",
       "      <th>Unnamed: 4</th>\n",
       "      <th>Unnamed: 5</th>\n",
       "      <th>Unnamed: 6</th>\n",
       "      <th>Unnamed: 7</th>\n",
       "      <th>Unnamed: 8</th>\n",
       "      <th>Unnamed: 9</th>\n",
       "      <th>...</th>\n",
       "      <th>Unnamed: 45</th>\n",
       "      <th>Unnamed: 46</th>\n",
       "      <th>Unnamed: 47</th>\n",
       "      <th>Unnamed: 48</th>\n",
       "      <th>Unnamed: 49</th>\n",
       "      <th>Unnamed: 50</th>\n",
       "      <th>Unnamed: 51</th>\n",
       "      <th>Unnamed: 52</th>\n",
       "      <th>Unnamed: 53</th>\n",
       "      <th>Unnamed: 54</th>\n",
       "    </tr>\n",
       "  </thead>\n",
       "  <tbody>\n",
       "    <tr>\n",
       "      <th>0</th>\n",
       "      <td>2022 년도    제  1 학기</td>\n",
       "      <td>NaN</td>\n",
       "      <td>NaN</td>\n",
       "      <td>학점</td>\n",
       "      <td>NaN</td>\n",
       "      <td>NaN</td>\n",
       "      <td>NaN</td>\n",
       "      <td>3</td>\n",
       "      <td>NaN</td>\n",
       "      <td>NaN</td>\n",
       "      <td>...</td>\n",
       "      <td>서강대학교(서울)</td>\n",
       "      <td>NaN</td>\n",
       "      <td>NaN</td>\n",
       "      <td>NaN</td>\n",
       "      <td>NaN</td>\n",
       "      <td>NaN</td>\n",
       "      <td>NaN</td>\n",
       "      <td>NaN</td>\n",
       "      <td>NaN</td>\n",
       "      <td>NaN</td>\n",
       "    </tr>\n",
       "    <tr>\n",
       "      <th>1</th>\n",
       "      <td>과목코드 - 분반</td>\n",
       "      <td>NaN</td>\n",
       "      <td>NaN</td>\n",
       "      <td>11111</td>\n",
       "      <td>NaN</td>\n",
       "      <td>NaN</td>\n",
       "      <td>NaN</td>\n",
       "      <td>교과목명</td>\n",
       "      <td>NaN</td>\n",
       "      <td>NaN</td>\n",
       "      <td>...</td>\n",
       "      <td>표기예시</td>\n",
       "      <td>NaN</td>\n",
       "      <td>NaN</td>\n",
       "      <td>(● :출석, ▲ : 지각, X : 결석, - : 미체크)</td>\n",
       "      <td>NaN</td>\n",
       "      <td>NaN</td>\n",
       "      <td>NaN</td>\n",
       "      <td>NaN</td>\n",
       "      <td>NaN</td>\n",
       "      <td>NaN</td>\n",
       "    </tr>\n",
       "    <tr>\n",
       "      <th>2</th>\n",
       "      <td>순번</td>\n",
       "      <td>학과</td>\n",
       "      <td>NaN</td>\n",
       "      <td>학번</td>\n",
       "      <td>학년</td>\n",
       "      <td>성명</td>\n",
       "      <td>주</td>\n",
       "      <td>2</td>\n",
       "      <td>4</td>\n",
       "      <td>NaN</td>\n",
       "      <td>...</td>\n",
       "      <td>\\n</td>\n",
       "      <td>\\n</td>\n",
       "      <td>\\n</td>\n",
       "      <td>\\n</td>\n",
       "      <td>\\n</td>\n",
       "      <td>\\n</td>\n",
       "      <td>출석\\n일수</td>\n",
       "      <td>지각\\n일수</td>\n",
       "      <td>결석\\n일수</td>\n",
       "      <td>미체크</td>\n",
       "    </tr>\n",
       "    <tr>\n",
       "      <th>3</th>\n",
       "      <td>NaN</td>\n",
       "      <td>NaN</td>\n",
       "      <td>NaN</td>\n",
       "      <td>NaN</td>\n",
       "      <td>NaN</td>\n",
       "      <td>NaN</td>\n",
       "      <td>차\\n시</td>\n",
       "      <td>1</td>\n",
       "      <td>1</td>\n",
       "      <td>2</td>\n",
       "      <td>...</td>\n",
       "      <td>\\n</td>\n",
       "      <td>\\n</td>\n",
       "      <td>\\n</td>\n",
       "      <td>\\n</td>\n",
       "      <td>\\n</td>\n",
       "      <td>\\n</td>\n",
       "      <td>NaN</td>\n",
       "      <td>NaN</td>\n",
       "      <td>NaN</td>\n",
       "      <td>NaN</td>\n",
       "    </tr>\n",
       "    <tr>\n",
       "      <th>4</th>\n",
       "      <td>NaN</td>\n",
       "      <td>NaN</td>\n",
       "      <td>NaN</td>\n",
       "      <td>NaN</td>\n",
       "      <td>NaN</td>\n",
       "      <td>NaN</td>\n",
       "      <td>월</td>\n",
       "      <td>3</td>\n",
       "      <td>3</td>\n",
       "      <td>3</td>\n",
       "      <td>...</td>\n",
       "      <td>\\n</td>\n",
       "      <td>\\n</td>\n",
       "      <td>\\n</td>\n",
       "      <td>\\n</td>\n",
       "      <td>\\n</td>\n",
       "      <td>\\n</td>\n",
       "      <td>NaN</td>\n",
       "      <td>NaN</td>\n",
       "      <td>NaN</td>\n",
       "      <td>NaN</td>\n",
       "    </tr>\n",
       "  </tbody>\n",
       "</table>\n",
       "<p>5 rows × 55 columns</p>\n",
       "</div>"
      ],
      "text/plain": [
       "          출     석    부 Unnamed: 1  Unnamed: 2 Unnamed: 3 Unnamed: 4  \\\n",
       "0  2022 년도    제  1 학기         NaN         NaN         학점        NaN   \n",
       "1            과목코드 - 분반        NaN         NaN      11111        NaN   \n",
       "2                   순번         학과         NaN         학번         학년   \n",
       "3                  NaN        NaN         NaN        NaN        NaN   \n",
       "4                  NaN        NaN         NaN        NaN        NaN   \n",
       "\n",
       "  Unnamed: 5 Unnamed: 6 Unnamed: 7 Unnamed: 8 Unnamed: 9  ... Unnamed: 45  \\\n",
       "0        NaN        NaN          3        NaN        NaN  ...   서강대학교(서울)   \n",
       "1        NaN        NaN       교과목명        NaN        NaN  ...        표기예시   \n",
       "2         성명          주          2          4        NaN  ...          \\n   \n",
       "3        NaN       차\\n시          1          1          2  ...          \\n   \n",
       "4        NaN          월          3          3          3  ...          \\n   \n",
       "\n",
       "  Unnamed: 46 Unnamed: 47                       Unnamed: 48 Unnamed: 49  \\\n",
       "0         NaN         NaN                               NaN         NaN   \n",
       "1         NaN         NaN  (● :출석, ▲ : 지각, X : 결석, - : 미체크)         NaN   \n",
       "2          \\n          \\n                                \\n          \\n   \n",
       "3          \\n          \\n                                \\n          \\n   \n",
       "4          \\n          \\n                                \\n          \\n   \n",
       "\n",
       "  Unnamed: 50 Unnamed: 51 Unnamed: 52 Unnamed: 53 Unnamed: 54  \n",
       "0         NaN         NaN         NaN         NaN         NaN  \n",
       "1         NaN         NaN         NaN         NaN         NaN  \n",
       "2          \\n      출석\\n일수      지각\\n일수      결석\\n일수         미체크  \n",
       "3          \\n         NaN         NaN         NaN         NaN  \n",
       "4          \\n         NaN         NaN         NaN         NaN  \n",
       "\n",
       "[5 rows x 55 columns]"
      ]
     },
     "metadata": {},
     "output_type": "display_data"
    },
    {
     "data": {
      "text/html": [
       "<div>\n",
       "<style scoped>\n",
       "    .dataframe tbody tr th:only-of-type {\n",
       "        vertical-align: middle;\n",
       "    }\n",
       "\n",
       "    .dataframe tbody tr th {\n",
       "        vertical-align: top;\n",
       "    }\n",
       "\n",
       "    .dataframe thead th {\n",
       "        text-align: right;\n",
       "    }\n",
       "</style>\n",
       "<table border=\"1\" class=\"dataframe\">\n",
       "  <thead>\n",
       "    <tr style=\"text-align: right;\">\n",
       "      <th></th>\n",
       "      <th>출     석    부</th>\n",
       "      <th>Unnamed: 1</th>\n",
       "      <th>Unnamed: 2</th>\n",
       "      <th>Unnamed: 3</th>\n",
       "      <th>Unnamed: 4</th>\n",
       "      <th>Unnamed: 5</th>\n",
       "      <th>Unnamed: 6</th>\n",
       "      <th>Unnamed: 7</th>\n",
       "      <th>Unnamed: 8</th>\n",
       "      <th>Unnamed: 9</th>\n",
       "      <th>...</th>\n",
       "      <th>Unnamed: 45</th>\n",
       "      <th>Unnamed: 46</th>\n",
       "      <th>Unnamed: 47</th>\n",
       "      <th>Unnamed: 48</th>\n",
       "      <th>Unnamed: 49</th>\n",
       "      <th>Unnamed: 50</th>\n",
       "      <th>Unnamed: 51</th>\n",
       "      <th>Unnamed: 52</th>\n",
       "      <th>Unnamed: 53</th>\n",
       "      <th>Unnamed: 54</th>\n",
       "    </tr>\n",
       "  </thead>\n",
       "  <tbody>\n",
       "    <tr>\n",
       "      <th>7</th>\n",
       "      <td>NaN</td>\n",
       "      <td>NaN</td>\n",
       "      <td>NaN</td>\n",
       "      <td>NaN</td>\n",
       "      <td>NaN</td>\n",
       "      <td>NaN</td>\n",
       "      <td>구\\n분</td>\n",
       "      <td>NaN</td>\n",
       "      <td>NaN</td>\n",
       "      <td>NaN</td>\n",
       "      <td>...</td>\n",
       "      <td>\\n</td>\n",
       "      <td>\\n</td>\n",
       "      <td>\\n</td>\n",
       "      <td>\\n</td>\n",
       "      <td>\\n</td>\n",
       "      <td>\\n</td>\n",
       "      <td>NaN</td>\n",
       "      <td>NaN</td>\n",
       "      <td>NaN</td>\n",
       "      <td>NaN</td>\n",
       "    </tr>\n",
       "    <tr>\n",
       "      <th>8</th>\n",
       "      <td>1</td>\n",
       "      <td>경영학부(경영학전공)</td>\n",
       "      <td>NaN</td>\n",
       "      <td>1234</td>\n",
       "      <td>2</td>\n",
       "      <td>김김김</td>\n",
       "      <td>NaN</td>\n",
       "      <td>●</td>\n",
       "      <td>●</td>\n",
       "      <td>●</td>\n",
       "      <td>...</td>\n",
       "      <td>\\n</td>\n",
       "      <td>\\n</td>\n",
       "      <td>\\n</td>\n",
       "      <td>\\n</td>\n",
       "      <td>\\n</td>\n",
       "      <td>\\n</td>\n",
       "      <td>5</td>\n",
       "      <td>0</td>\n",
       "      <td>0</td>\n",
       "      <td>0</td>\n",
       "    </tr>\n",
       "    <tr>\n",
       "      <th>9</th>\n",
       "      <td>2</td>\n",
       "      <td>경제학과</td>\n",
       "      <td>NaN</td>\n",
       "      <td>5678</td>\n",
       "      <td>4</td>\n",
       "      <td>박박박</td>\n",
       "      <td>NaN</td>\n",
       "      <td>●</td>\n",
       "      <td>●</td>\n",
       "      <td>●</td>\n",
       "      <td>...</td>\n",
       "      <td>\\n</td>\n",
       "      <td>\\n</td>\n",
       "      <td>\\n</td>\n",
       "      <td>\\n</td>\n",
       "      <td>\\n</td>\n",
       "      <td>\\n</td>\n",
       "      <td>5</td>\n",
       "      <td>0</td>\n",
       "      <td>0</td>\n",
       "      <td>0</td>\n",
       "    </tr>\n",
       "    <tr>\n",
       "      <th>10</th>\n",
       "      <td>3</td>\n",
       "      <td>모른다학과</td>\n",
       "      <td>NaN</td>\n",
       "      <td>0000</td>\n",
       "      <td>3</td>\n",
       "      <td>Lee Le L</td>\n",
       "      <td>NaN</td>\n",
       "      <td>NaN</td>\n",
       "      <td>NaN</td>\n",
       "      <td>NaN</td>\n",
       "      <td>...</td>\n",
       "      <td>NaN</td>\n",
       "      <td>NaN</td>\n",
       "      <td>NaN</td>\n",
       "      <td>NaN</td>\n",
       "      <td>NaN</td>\n",
       "      <td>NaN</td>\n",
       "      <td>NaN</td>\n",
       "      <td>NaN</td>\n",
       "      <td>NaN</td>\n",
       "      <td>NaN</td>\n",
       "    </tr>\n",
       "    <tr>\n",
       "      <th>11</th>\n",
       "      <td>4</td>\n",
       "      <td>fasd</td>\n",
       "      <td>NaN</td>\n",
       "      <td>1111</td>\n",
       "      <td>1</td>\n",
       "      <td>나나나</td>\n",
       "      <td>NaN</td>\n",
       "      <td>NaN</td>\n",
       "      <td>NaN</td>\n",
       "      <td>NaN</td>\n",
       "      <td>...</td>\n",
       "      <td>NaN</td>\n",
       "      <td>NaN</td>\n",
       "      <td>NaN</td>\n",
       "      <td>NaN</td>\n",
       "      <td>NaN</td>\n",
       "      <td>NaN</td>\n",
       "      <td>NaN</td>\n",
       "      <td>NaN</td>\n",
       "      <td>NaN</td>\n",
       "      <td>NaN</td>\n",
       "    </tr>\n",
       "  </tbody>\n",
       "</table>\n",
       "<p>5 rows × 55 columns</p>\n",
       "</div>"
      ],
      "text/plain": [
       "   출     석    부   Unnamed: 1  Unnamed: 2 Unnamed: 3 Unnamed: 4 Unnamed: 5  \\\n",
       "7           NaN          NaN         NaN        NaN        NaN        NaN   \n",
       "8             1  경영학부(경영학전공)         NaN       1234          2        김김김   \n",
       "9             2         경제학과         NaN       5678          4        박박박   \n",
       "10            3        모른다학과         NaN       0000          3   Lee Le L   \n",
       "11            4         fasd         NaN       1111          1        나나나   \n",
       "\n",
       "   Unnamed: 6 Unnamed: 7 Unnamed: 8 Unnamed: 9  ... Unnamed: 45 Unnamed: 46  \\\n",
       "7        구\\n분        NaN        NaN        NaN  ...          \\n          \\n   \n",
       "8         NaN          ●          ●          ●  ...          \\n          \\n   \n",
       "9         NaN          ●          ●          ●  ...          \\n          \\n   \n",
       "10        NaN        NaN        NaN        NaN  ...         NaN         NaN   \n",
       "11        NaN        NaN        NaN        NaN  ...         NaN         NaN   \n",
       "\n",
       "   Unnamed: 47 Unnamed: 48 Unnamed: 49 Unnamed: 50 Unnamed: 51 Unnamed: 52  \\\n",
       "7           \\n          \\n          \\n          \\n         NaN         NaN   \n",
       "8           \\n          \\n          \\n          \\n           5           0   \n",
       "9           \\n          \\n          \\n          \\n           5           0   \n",
       "10         NaN         NaN         NaN         NaN         NaN         NaN   \n",
       "11         NaN         NaN         NaN         NaN         NaN         NaN   \n",
       "\n",
       "   Unnamed: 53 Unnamed: 54  \n",
       "7          NaN         NaN  \n",
       "8            0           0  \n",
       "9            0           0  \n",
       "10         NaN         NaN  \n",
       "11         NaN         NaN  \n",
       "\n",
       "[5 rows x 55 columns]"
      ]
     },
     "metadata": {},
     "output_type": "display_data"
    }
   ],
   "source": [
    "df_list = pd.read_excel(\"list.xlsx\")\n",
    "display(df_list.head())\n",
    "display(df_list.tail())"
   ]
  },
  {
   "cell_type": "code",
   "execution_count": 79,
   "id": "bc208e6b-cc6e-4f4f-8fbf-d3968548bb43",
   "metadata": {},
   "outputs": [
    {
     "data": {
      "text/plain": [
       "0        학점\n",
       "1     11111\n",
       "2        학번\n",
       "3       NaN\n",
       "4       NaN\n",
       "5       NaN\n",
       "6       NaN\n",
       "7       NaN\n",
       "8      1234\n",
       "9      5678\n",
       "10     0000\n",
       "11     1111\n",
       "Name: Unnamed: 3, dtype: object"
      ]
     },
     "execution_count": 79,
     "metadata": {},
     "output_type": "execute_result"
    }
   ],
   "source": [
    "df_list[df_list.columns[3]]"
   ]
  },
  {
   "cell_type": "code",
   "execution_count": 80,
   "id": "497d46f1-0124-4800-9604-7b04292542b9",
   "metadata": {
    "tags": []
   },
   "outputs": [
    {
     "data": {
      "text/plain": [
       "0          NaN\n",
       "1          NaN\n",
       "2           성명\n",
       "3          NaN\n",
       "4          NaN\n",
       "5          NaN\n",
       "6          NaN\n",
       "7          NaN\n",
       "8          김김김\n",
       "9          박박박\n",
       "10    Lee Le L\n",
       "11         나나나\n",
       "Name: Unnamed: 5, dtype: object"
      ]
     },
     "execution_count": 80,
     "metadata": {},
     "output_type": "execute_result"
    }
   ],
   "source": [
    "df_list[df_list.columns[5]]"
   ]
  },
  {
   "cell_type": "markdown",
   "id": "6683eda9-da8e-4153-ada7-09155b15cb81",
   "metadata": {},
   "source": [
    "idx 8 부터 데이터 존재  \n",
    "항목 변수 생성"
   ]
  },
  {
   "cell_type": "code",
   "execution_count": 128,
   "id": "553ceace-1ee5-42d2-bfd4-afa4f84fe67f",
   "metadata": {},
   "outputs": [
    {
     "name": "stdout",
     "output_type": "stream",
     "text": [
      "[['1234', '김김김', '결석'], ['5678', '박박박', '결석'], ['0000', 'Lee Le L', '결석'], ['1111', '나나나', '결석']]\n"
     ]
    }
   ],
   "source": [
    "df_list.iloc[8,3]\n",
    "list_student=[]\n",
    "for i in range(8,len(df_list)) : \n",
    "    list_student.append([df_list.iloc[i,3],df_list.iloc[i,5],\"결석\"]) # default \"결석\"\n",
    "print(list_student)"
   ]
  },
  {
   "cell_type": "markdown",
   "id": "8c3ca37d-600f-4b64-b491-17c041bfd7e6",
   "metadata": {},
   "source": [
    "## ZOOM 기록"
   ]
  },
  {
   "cell_type": "code",
   "execution_count": 129,
   "id": "7a2fb87f-930e-4bb2-9fa8-06852b66f51b",
   "metadata": {},
   "outputs": [
    {
     "data": {
      "text/html": [
       "<div>\n",
       "<style scoped>\n",
       "    .dataframe tbody tr th:only-of-type {\n",
       "        vertical-align: middle;\n",
       "    }\n",
       "\n",
       "    .dataframe tbody tr th {\n",
       "        vertical-align: top;\n",
       "    }\n",
       "\n",
       "    .dataframe thead th {\n",
       "        text-align: right;\n",
       "    }\n",
       "</style>\n",
       "<table border=\"1\" class=\"dataframe\">\n",
       "  <thead>\n",
       "    <tr style=\"text-align: right;\">\n",
       "      <th></th>\n",
       "      <th>실시간강의 참가이력</th>\n",
       "      <th>Unnamed: 1</th>\n",
       "      <th>Unnamed: 2</th>\n",
       "      <th>Unnamed: 3</th>\n",
       "      <th>Unnamed: 4</th>\n",
       "      <th>Unnamed: 5</th>\n",
       "      <th>Unnamed: 6</th>\n",
       "      <th>Unnamed: 7</th>\n",
       "      <th>Unnamed: 8</th>\n",
       "      <th>Unnamed: 9</th>\n",
       "      <th>Unnamed: 10</th>\n",
       "    </tr>\n",
       "  </thead>\n",
       "  <tbody>\n",
       "    <tr>\n",
       "      <th>0</th>\n",
       "      <td>No</td>\n",
       "      <td>진행번호</td>\n",
       "      <td>이름(Zoom)</td>\n",
       "      <td>이메일(Zoom)</td>\n",
       "      <td>수강생</td>\n",
       "      <td>학번</td>\n",
       "      <td>이름</td>\n",
       "      <td>학과</td>\n",
       "      <td>입장시간</td>\n",
       "      <td>퇴장시간</td>\n",
       "      <td>진행시간</td>\n",
       "    </tr>\n",
       "    <tr>\n",
       "      <th>1</th>\n",
       "      <td>1</td>\n",
       "      <td>1</td>\n",
       "      <td>강사</td>\n",
       "      <td>강사</td>\n",
       "      <td>N</td>\n",
       "      <td>15789</td>\n",
       "      <td>강강강</td>\n",
       "      <td>전인교육원(교양일반)</td>\n",
       "      <td>2022.05.06 오전 10:11:43</td>\n",
       "      <td>r</td>\n",
       "      <td>2시간 58분 42초</td>\n",
       "    </tr>\n",
       "    <tr>\n",
       "      <th>2</th>\n",
       "      <td>2</td>\n",
       "      <td>1</td>\n",
       "      <td>1234 김김김</td>\n",
       "      <td>NaN</td>\n",
       "      <td>N</td>\n",
       "      <td>-</td>\n",
       "      <td>NaN</td>\n",
       "      <td>NaN</td>\n",
       "      <td>2022.05.06 오전 10:12:03</td>\n",
       "      <td>2022.05.06 오전 10:21:13</td>\n",
       "      <td>9분 10초</td>\n",
       "    </tr>\n",
       "    <tr>\n",
       "      <th>3</th>\n",
       "      <td>16</td>\n",
       "      <td>1</td>\n",
       "      <td>5678 박박박</td>\n",
       "      <td>NaN</td>\n",
       "      <td>N</td>\n",
       "      <td>-</td>\n",
       "      <td>NaN</td>\n",
       "      <td>NaN</td>\n",
       "      <td>2022.05.06 오전 10:21:05</td>\n",
       "      <td>2022.05.06 오후 1:08:37</td>\n",
       "      <td>2시간 47분 32초</td>\n",
       "    </tr>\n",
       "    <tr>\n",
       "      <th>4</th>\n",
       "      <td>17</td>\n",
       "      <td>1</td>\n",
       "      <td>Lee Le</td>\n",
       "      <td>NaN</td>\n",
       "      <td>N</td>\n",
       "      <td>-</td>\n",
       "      <td>NaN</td>\n",
       "      <td>NaN</td>\n",
       "      <td>2022.05.06 오전 10:21:06</td>\n",
       "      <td>2022.05.06 오후 1:08:38</td>\n",
       "      <td>2시간 47분 32초</td>\n",
       "    </tr>\n",
       "  </tbody>\n",
       "</table>\n",
       "</div>"
      ],
      "text/plain": [
       "  실시간강의 참가이력 Unnamed: 1 Unnamed: 2 Unnamed: 3 Unnamed: 4 Unnamed: 5  \\\n",
       "0         No       진행번호   이름(Zoom)  이메일(Zoom)        수강생         학번   \n",
       "1          1          1         강사         강사          N      15789   \n",
       "2          2          1   1234 김김김        NaN          N          -   \n",
       "3         16          1   5678 박박박        NaN          N          -   \n",
       "4         17          1     Lee Le        NaN          N          -   \n",
       "\n",
       "  Unnamed: 6   Unnamed: 7              Unnamed: 8              Unnamed: 9  \\\n",
       "0         이름           학과                    입장시간                    퇴장시간   \n",
       "1        강강강  전인교육원(교양일반)  2022.05.06 오전 10:11:43                       r   \n",
       "2        NaN          NaN  2022.05.06 오전 10:12:03  2022.05.06 오전 10:21:13   \n",
       "3        NaN          NaN  2022.05.06 오전 10:21:05   2022.05.06 오후 1:08:37   \n",
       "4        NaN          NaN  2022.05.06 오전 10:21:06   2022.05.06 오후 1:08:38   \n",
       "\n",
       "   Unnamed: 10  \n",
       "0         진행시간  \n",
       "1  2시간 58분 42초  \n",
       "2       9분 10초  \n",
       "3  2시간 47분 32초  \n",
       "4  2시간 47분 32초  "
      ]
     },
     "metadata": {},
     "output_type": "display_data"
    },
    {
     "data": {
      "text/html": [
       "<div>\n",
       "<style scoped>\n",
       "    .dataframe tbody tr th:only-of-type {\n",
       "        vertical-align: middle;\n",
       "    }\n",
       "\n",
       "    .dataframe tbody tr th {\n",
       "        vertical-align: top;\n",
       "    }\n",
       "\n",
       "    .dataframe thead th {\n",
       "        text-align: right;\n",
       "    }\n",
       "</style>\n",
       "<table border=\"1\" class=\"dataframe\">\n",
       "  <thead>\n",
       "    <tr style=\"text-align: right;\">\n",
       "      <th></th>\n",
       "      <th>실시간강의 참가이력</th>\n",
       "      <th>Unnamed: 1</th>\n",
       "      <th>Unnamed: 2</th>\n",
       "      <th>Unnamed: 3</th>\n",
       "      <th>Unnamed: 4</th>\n",
       "      <th>Unnamed: 5</th>\n",
       "      <th>Unnamed: 6</th>\n",
       "      <th>Unnamed: 7</th>\n",
       "      <th>Unnamed: 8</th>\n",
       "      <th>Unnamed: 9</th>\n",
       "      <th>Unnamed: 10</th>\n",
       "    </tr>\n",
       "  </thead>\n",
       "  <tbody>\n",
       "    <tr>\n",
       "      <th>1</th>\n",
       "      <td>1</td>\n",
       "      <td>1</td>\n",
       "      <td>강사</td>\n",
       "      <td>강사</td>\n",
       "      <td>N</td>\n",
       "      <td>15789</td>\n",
       "      <td>강강강</td>\n",
       "      <td>전인교육원(교양일반)</td>\n",
       "      <td>2022.05.06 오전 10:11:43</td>\n",
       "      <td>r</td>\n",
       "      <td>2시간 58분 42초</td>\n",
       "    </tr>\n",
       "    <tr>\n",
       "      <th>2</th>\n",
       "      <td>2</td>\n",
       "      <td>1</td>\n",
       "      <td>1234 김김김</td>\n",
       "      <td>NaN</td>\n",
       "      <td>N</td>\n",
       "      <td>-</td>\n",
       "      <td>NaN</td>\n",
       "      <td>NaN</td>\n",
       "      <td>2022.05.06 오전 10:12:03</td>\n",
       "      <td>2022.05.06 오전 10:21:13</td>\n",
       "      <td>9분 10초</td>\n",
       "    </tr>\n",
       "    <tr>\n",
       "      <th>3</th>\n",
       "      <td>16</td>\n",
       "      <td>1</td>\n",
       "      <td>5678 박박박</td>\n",
       "      <td>NaN</td>\n",
       "      <td>N</td>\n",
       "      <td>-</td>\n",
       "      <td>NaN</td>\n",
       "      <td>NaN</td>\n",
       "      <td>2022.05.06 오전 10:21:05</td>\n",
       "      <td>2022.05.06 오후 1:08:37</td>\n",
       "      <td>2시간 47분 32초</td>\n",
       "    </tr>\n",
       "    <tr>\n",
       "      <th>4</th>\n",
       "      <td>17</td>\n",
       "      <td>1</td>\n",
       "      <td>Lee Le</td>\n",
       "      <td>NaN</td>\n",
       "      <td>N</td>\n",
       "      <td>-</td>\n",
       "      <td>NaN</td>\n",
       "      <td>NaN</td>\n",
       "      <td>2022.05.06 오전 10:21:06</td>\n",
       "      <td>2022.05.06 오후 1:08:38</td>\n",
       "      <td>2시간 47분 32초</td>\n",
       "    </tr>\n",
       "    <tr>\n",
       "      <th>5</th>\n",
       "      <td>18</td>\n",
       "      <td>1</td>\n",
       "      <td>나나나</td>\n",
       "      <td>NaN</td>\n",
       "      <td>N</td>\n",
       "      <td>-</td>\n",
       "      <td>NaN</td>\n",
       "      <td>NaN</td>\n",
       "      <td>2022.05.06 오전 10:21:06</td>\n",
       "      <td>2022.05.06 오후 1:09:37</td>\n",
       "      <td>2시간 48분 31초</td>\n",
       "    </tr>\n",
       "  </tbody>\n",
       "</table>\n",
       "</div>"
      ],
      "text/plain": [
       "  실시간강의 참가이력 Unnamed: 1 Unnamed: 2 Unnamed: 3 Unnamed: 4 Unnamed: 5  \\\n",
       "1          1          1         강사         강사          N      15789   \n",
       "2          2          1   1234 김김김        NaN          N          -   \n",
       "3         16          1   5678 박박박        NaN          N          -   \n",
       "4         17          1     Lee Le        NaN          N          -   \n",
       "5         18          1        나나나        NaN          N          -   \n",
       "\n",
       "  Unnamed: 6   Unnamed: 7              Unnamed: 8              Unnamed: 9  \\\n",
       "1        강강강  전인교육원(교양일반)  2022.05.06 오전 10:11:43                       r   \n",
       "2        NaN          NaN  2022.05.06 오전 10:12:03  2022.05.06 오전 10:21:13   \n",
       "3        NaN          NaN  2022.05.06 오전 10:21:05   2022.05.06 오후 1:08:37   \n",
       "4        NaN          NaN  2022.05.06 오전 10:21:06   2022.05.06 오후 1:08:38   \n",
       "5        NaN          NaN  2022.05.06 오전 10:21:06   2022.05.06 오후 1:09:37   \n",
       "\n",
       "   Unnamed: 10  \n",
       "1  2시간 58분 42초  \n",
       "2       9분 10초  \n",
       "3  2시간 47분 32초  \n",
       "4  2시간 47분 32초  \n",
       "5  2시간 48분 31초  "
      ]
     },
     "metadata": {},
     "output_type": "display_data"
    }
   ],
   "source": [
    "df_log = pd.read_excel(\"log.xlsx\")\n",
    "display(df_log.head())\n",
    "display(df_log.tail())"
   ]
  },
  {
   "cell_type": "markdown",
   "id": "fdd6eba9-41aa-4904-9fdb-88d79e54a070",
   "metadata": {},
   "source": [
    "시간 item 및 수치로 변환"
   ]
  },
  {
   "cell_type": "code",
   "execution_count": 2,
   "id": "01d019af-6db6-4feb-a0cb-3662429c80d1",
   "metadata": {},
   "outputs": [],
   "source": [
    "import datetime"
   ]
  },
  {
   "cell_type": "code",
   "execution_count": 131,
   "id": "32aa08cc-6892-46b7-8689-53a764e01dab",
   "metadata": {},
   "outputs": [
    {
     "data": {
      "text/plain": [
       "0    이름(Zoom)\n",
       "1          강사\n",
       "2    1234 김김김\n",
       "3    5678 박박박\n",
       "4      Lee Le\n",
       "5         나나나\n",
       "Name: Unnamed: 2, dtype: object"
      ]
     },
     "metadata": {},
     "output_type": "display_data"
    },
    {
     "data": {
      "text/plain": [
       "0                      입장시간\n",
       "1    2022.05.06 오전 10:11:43\n",
       "2    2022.05.06 오전 10:12:03\n",
       "3    2022.05.06 오전 10:21:05\n",
       "4    2022.05.06 오전 10:21:06\n",
       "5    2022.05.06 오전 10:21:06\n",
       "Name: Unnamed: 8, dtype: object"
      ]
     },
     "metadata": {},
     "output_type": "display_data"
    },
    {
     "data": {
      "text/plain": [
       "0                      퇴장시간\n",
       "1                         r\n",
       "2    2022.05.06 오전 10:21:13\n",
       "3     2022.05.06 오후 1:08:37\n",
       "4     2022.05.06 오후 1:08:38\n",
       "5     2022.05.06 오후 1:09:37\n",
       "Name: Unnamed: 9, dtype: object"
      ]
     },
     "metadata": {},
     "output_type": "display_data"
    },
    {
     "data": {
      "text/plain": [
       "datetime.datetime(1900, 1, 1, 10, 12, 3)"
      ]
     },
     "metadata": {},
     "output_type": "display_data"
    },
    {
     "data": {
      "text/plain": [
       "datetime.datetime(1900, 1, 1, 10, 21, 13)"
      ]
     },
     "metadata": {},
     "output_type": "display_data"
    },
    {
     "data": {
      "text/plain": [
       "True"
      ]
     },
     "execution_count": 131,
     "metadata": {},
     "output_type": "execute_result"
    }
   ],
   "source": [
    "display(df_log.iloc[0:,2])\n",
    "display(df_log.iloc[0:,8])\n",
    "display(df_log.iloc[0:,9])\n",
    "x = datetime.datetime.strptime(df_log.iloc[2,8].split(\" \")[-1],'%H:%M:%S')\n",
    "y = datetime.datetime.strptime(df_log.iloc[2,9].split(\" \")[-1],'%H:%M:%S')\n",
    "display(x)\n",
    "display(y)\n",
    "x<y"
   ]
  },
  {
   "cell_type": "markdown",
   "id": "f70354dc-1e78-45e3-90b5-5c635a58c4b5",
   "metadata": {},
   "source": [
    "출결 체크"
   ]
  },
  {
   "cell_type": "code",
   "execution_count": 140,
   "id": "27aceefe-83c6-43df-87fe-210cab18a847",
   "metadata": {},
   "outputs": [
    {
     "data": {
      "text/plain": [
       "datetime.datetime(1900, 1, 1, 10, 31)"
      ]
     },
     "metadata": {},
     "output_type": "display_data"
    },
    {
     "data": {
      "text/plain": [
       "datetime.datetime(1900, 1, 1, 11, 31)"
      ]
     },
     "metadata": {},
     "output_type": "display_data"
    }
   ],
   "source": [
    "t_start = datetime.datetime(1900,1,1,10,31,0)\n",
    "t_class = datetime.timedelta(minutes=60)\n",
    "t_end   = t_start + t_class\n",
    "display(t_start)\n",
    "display(t_end)"
   ]
  },
  {
   "cell_type": "code",
   "execution_count": 143,
   "id": "ee655a55-a256-40c3-98e7-24b8bd94e707",
   "metadata": {},
   "outputs": [
    {
     "name": "stdout",
     "output_type": "stream",
     "text": [
      "[['1234', '김김김', '결석'], ['5678', '박박박', '출석'], ['0000', 'Lee Le L', '결석'], ['1111', '나나나', '출석']]\n"
     ]
    }
   ],
   "source": [
    "noon = datetime.timedelta(hours=12)\n",
    "# per each student\n",
    "for student in list_student : \n",
    "    idx = 2\n",
    "    # for all log\n",
    "    for i_log in df_log.iloc[idx:,2] : \n",
    "        t_in = datetime.datetime.strptime(df_log.iloc[idx,8].split(\" \")[-1],'%H:%M:%S')\n",
    "        t_out = datetime.datetime.strptime(df_log.iloc[idx,9].split(\" \")[-1],'%H:%M:%S')\n",
    "        if df_log.iloc[idx,9].split(\" \")[1] == \"오후\" : \n",
    "            t_out += noon\n",
    "        \n",
    "        # id, name\n",
    "        for i_stu in student[0:2] :\n",
    "            # matching ? \n",
    "            if i_stu in i_log : \n",
    "                # in class\n",
    "                if  t_in <= t_start and  t_out >= t_end :\n",
    "                    student[2] = \"출석\"\n",
    "        idx+=1\n",
    "        \n",
    "print(list_student)"
   ]
  },
  {
   "cell_type": "markdown",
   "id": "f4278616-e40c-4db6-9cdf-73740f59b41e",
   "metadata": {},
   "source": [
    "## 출석부"
   ]
  },
  {
   "cell_type": "code",
   "execution_count": 148,
   "id": "3ce0a927-be66-4070-862a-7b41d7af1bc8",
   "metadata": {},
   "outputs": [
    {
     "name": "stdout",
     "output_type": "stream",
     "text": [
      "            이름  출결\n",
      "학번                \n",
      "0000  Lee Le L  결석\n",
      "1111       나나나  출석\n",
      "1234       김김김  결석\n",
      "5678       박박박  출석\n"
     ]
    }
   ],
   "source": [
    "df = pd.DataFrame(list_student, columns = ['학번', '이름', '출결'])\n",
    "df = df.set_index('학번')\n",
    "df = df.sort_index()\n",
    "print(df)\n",
    "df.to_excel(\"output.xlsx\")  "
   ]
  },
  {
   "cell_type": "code",
   "execution_count": null,
   "id": "5525d039-e568-441b-9c30-287faf645c47",
   "metadata": {},
   "outputs": [],
   "source": []
  },
  {
   "cell_type": "markdown",
   "id": "d056b925-68c2-4b68-b657-274ad5782b78",
   "metadata": {},
   "source": [
    "## 저장"
   ]
  },
  {
   "cell_type": "code",
   "execution_count": null,
   "id": "0e76b48f-52b5-48c6-8f20-75f6991a862e",
   "metadata": {},
   "outputs": [],
   "source": []
  },
  {
   "cell_type": "markdown",
   "id": "8d321c97-a8d3-4e5e-8f40-787d8f4fa74e",
   "metadata": {},
   "source": [
    "##  Timedelta to int"
   ]
  },
  {
   "cell_type": "code",
   "execution_count": 20,
   "id": "35cdbcbe-77d6-4157-a526-d580c8f8d680",
   "metadata": {},
   "outputs": [],
   "source": [
    "t_in   = datetime.datetime(1900,1,1,10,31,0)\n",
    "t_out  = datetime.datetime(1900,1,1,10,31,5)"
   ]
  },
  {
   "cell_type": "code",
   "execution_count": 21,
   "id": "3407c19a-a8ab-461d-aa44-193a68c9fa03",
   "metadata": {},
   "outputs": [],
   "source": [
    "diff = t_out - t_in "
   ]
  },
  {
   "cell_type": "code",
   "execution_count": 22,
   "id": "9de59886-eab8-42a1-8380-d94630e000bb",
   "metadata": {},
   "outputs": [
    {
     "data": {
      "text/plain": [
       "0.08333333333333333"
      ]
     },
     "execution_count": 22,
     "metadata": {},
     "output_type": "execute_result"
    }
   ],
   "source": [
    "diff / datetime.timedelta(minutes=1)"
   ]
  },
  {
   "cell_type": "code",
   "execution_count": 26,
   "id": "21c2cfd7-3bb2-4c27-8679-711659093a8a",
   "metadata": {},
   "outputs": [
    {
     "data": {
      "text/plain": [
       "10"
      ]
     },
     "execution_count": 26,
     "metadata": {},
     "output_type": "execute_result"
    }
   ],
   "source": [
    "t_out.hour"
   ]
  },
  {
   "cell_type": "code",
   "execution_count": null,
   "id": "3c11af86-111d-4732-b748-afd5c8744aef",
   "metadata": {},
   "outputs": [],
   "source": []
  }
 ],
 "metadata": {
  "kernelspec": {
   "display_name": "Python 3 (ipykernel)",
   "language": "python",
   "name": "python3"
  },
  "language_info": {
   "codemirror_mode": {
    "name": "ipython",
    "version": 3
   },
   "file_extension": ".py",
   "mimetype": "text/x-python",
   "name": "python",
   "nbconvert_exporter": "python",
   "pygments_lexer": "ipython3",
   "version": "3.9.12"
  }
 },
 "nbformat": 4,
 "nbformat_minor": 5
}
