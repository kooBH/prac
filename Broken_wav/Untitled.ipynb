{
 "cells": [
  {
   "cell_type": "code",
   "execution_count": 3,
   "id": "ed7336e1-80b4-4782-9bb3-45ddf625f8c9",
   "metadata": {},
   "outputs": [],
   "source": [
    "import librosa"
   ]
  },
  {
   "cell_type": "code",
   "execution_count": 4,
   "id": "72e72da1-30e6-4d1c-821c-d08e3ec0395a",
   "metadata": {},
   "outputs": [
    {
     "name": "stdout",
     "output_type": "stream",
     "text": [
      "Audio buffer is not finite everywhere\n"
     ]
    }
   ],
   "source": [
    "\n",
    "try:\n",
    "    x,_ = librosa.load(\"47563_1.wav\",sr=16000,mono=False)\n",
    "except librosa.ParameterError as e:\n",
    "    print(e)"
   ]
  },
  {
   "cell_type": "code",
   "execution_count": 9,
   "id": "83b5aff0-67c1-40b3-bbba-b375edb8f2bf",
   "metadata": {},
   "outputs": [],
   "source": [
    "from scipy.io import wavfile\n",
    "\n",
    "fs, data = wavfile.read(\"47563_1.wav\")"
   ]
  },
  {
   "cell_type": "code",
   "execution_count": 12,
   "id": "8997b6de-8feb-4aea-8154-c7506cf3f70a",
   "metadata": {},
   "outputs": [
    {
     "data": {
      "text/plain": [
       "(16000, 4)"
      ]
     },
     "execution_count": 12,
     "metadata": {},
     "output_type": "execute_result"
    }
   ],
   "source": [
    "data.shape"
   ]
  },
  {
   "cell_type": "code",
   "execution_count": null,
   "id": "4302a716-17f8-4878-a530-cd6b6b8bca35",
   "metadata": {},
   "outputs": [],
   "source": []
  }
 ],
 "metadata": {
  "kernelspec": {
   "display_name": "Python 3 (ipykernel)",
   "language": "python",
   "name": "python3"
  },
  "language_info": {
   "codemirror_mode": {
    "name": "ipython",
    "version": 3
   },
   "file_extension": ".py",
   "mimetype": "text/x-python",
   "name": "python",
   "nbconvert_exporter": "python",
   "pygments_lexer": "ipython3",
   "version": "3.9.12"
  }
 },
 "nbformat": 4,
 "nbformat_minor": 5
}
