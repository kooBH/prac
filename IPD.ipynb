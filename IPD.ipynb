{
 "cells": [
  {
   "cell_type": "markdown",
   "id": "ba9f8e25-a0fe-450f-9258-71077f2f70cb",
   "metadata": {},
   "source": [
    "# Inter-Phase-Difference"
   ]
  },
  {
   "cell_type": "code",
   "execution_count": 1,
   "id": "69f30473-804c-4246-9028-731839e3a785",
   "metadata": {},
   "outputs": [],
   "source": [
    "import torch"
   ]
  },
  {
   "cell_type": "code",
   "execution_count": 9,
   "id": "9a11c89d-c051-4e9e-b200-19bb99f62dc1",
   "metadata": {},
   "outputs": [
    {
     "name": "stdout",
     "output_type": "stream",
     "text": [
      "torch.Size([2, 3, 257, 4])\n",
      "torch.Size([2, 3, 257, 1])\n",
      "torch.Size([2, 3, 257, 3])\n"
     ]
    }
   ],
   "source": [
    "B = 2\n",
    "C = 4\n",
    "F = 257\n",
    "T = 3\n",
    "x_r = torch.rand(B,T,F,C)\n",
    "x_i = torch.rand(B,T,F,C)\n",
    "x_c = torch.complex(x_r,x_i)\n",
    "print(x_c.shape)\n",
    "x_angle = x_c.angle() \n",
    "print(x_angle[...,0:1].shape)\n",
    "ipd = x_angle[..., 0:1] - x_angle[..., 1:]\n",
    "print(ipd.shape)\n"
   ]
  },
  {
   "cell_type": "code",
   "execution_count": null,
   "id": "4dce61eb-7a28-4454-ab51-a84d54c238f2",
   "metadata": {},
   "outputs": [],
   "source": []
  }
 ],
 "metadata": {
  "kernelspec": {
   "display_name": "Python 3 (ipykernel)",
   "language": "python",
   "name": "python3"
  },
  "language_info": {
   "codemirror_mode": {
    "name": "ipython",
    "version": 3
   },
   "file_extension": ".py",
   "mimetype": "text/x-python",
   "name": "python",
   "nbconvert_exporter": "python",
   "pygments_lexer": "ipython3",
   "version": "3.10.14"
  }
 },
 "nbformat": 4,
 "nbformat_minor": 5
}
