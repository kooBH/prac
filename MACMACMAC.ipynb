{
 "cells": [
  {
   "cell_type": "code",
   "execution_count": 37,
   "id": "e4360eb7-896a-4064-b1a7-d773c4d72fca",
   "metadata": {},
   "outputs": [],
   "source": [
    "import torch\n",
    "import torch.nn as nn\n",
    "from thop import profile\n",
    "from ptflops import get_model_complexity_info"
   ]
  },
  {
   "cell_type": "code",
   "execution_count": 46,
   "id": "ee38747c-f105-49b3-b244-75ca3cdc7155",
   "metadata": {},
   "outputs": [
    {
     "name": "stdout",
     "output_type": "stream",
     "text": [
      "[INFO] Register count_convNd() for <class 'torch.nn.modules.conv.Conv2d'>.\n",
      "thop : MACS : 1152.0 | Param : 0\n",
      "Conv2d(18, 100.000% Params, 1.15 KMac, 100.000% MACs, 1, 2, kernel_size=(3, 3), stride=(1, 1), bias=False)\n",
      "ptflops : MACS 1152 |  PARAM 18\n"
     ]
    }
   ],
   "source": [
    "m = nn.Conv2d(1,2,(3,3),(1,1),bias=False)\n",
    "m.eval()\n",
    "\n",
    "input = torch.rand(1,1,10,10)\n",
    "macs_thop, params_thop = profile(m, inputs=(input,))\n",
    "print(\"thop : MACS : {} | Param : {}\".format(macs_thop,params_thop))\n",
    "\n",
    "# https://github.com/sovrasov/flops-counter.pytorch\n",
    "\n",
    "macs_ptflos, params_ptflops = get_model_complexity_info(m, (1,10,10), as_strings=False,print_per_layer_stat=True, verbose=True)   \n",
    "print(\"ptflops : MACS {} |  PARAM {}\".format(macs_ptflos,params_ptflops))"
   ]
  },
  {
   "cell_type": "code",
   "execution_count": 47,
   "id": "66f2ad43-a80f-4662-8fac-18c578b810c1",
   "metadata": {},
   "outputs": [
    {
     "name": "stdout",
     "output_type": "stream",
     "text": [
      "[INFO] Register count_convNd() for <class 'torch.nn.modules.conv.Conv2d'>.\n",
      "thop : MACS : 1152.0 | Param : 0\n",
      "Conv2d(20, 100.000% Params, 1.28 KMac, 100.000% MACs, 1, 2, kernel_size=(3, 3), stride=(1, 1))\n",
      "ptflops : MACS 1280 |  PARAM 20\n"
     ]
    }
   ],
   "source": [
    "m = nn.Conv2d(1,2,(3,3),(1,1),bias=True)\n",
    "m.eval()\n",
    "\n",
    "input = torch.rand(1,1,10,10)\n",
    "macs_thop, params_thop = profile(m, inputs=(input,))\n",
    "print(\"thop : MACS : {} | Param : {}\".format(macs_thop,params_thop))\n",
    "\n",
    "# https://github.com/sovrasov/flops-counter.pytorch\n",
    "\n",
    "macs_ptflos, params_ptflops = get_model_complexity_info(m, (1,10,10), as_strings=False,print_per_layer_stat=True, verbose=True)   \n",
    "print(\"ptflops : MACS {} |  PARAM {}\".format(macs_ptflos,params_ptflops))"
   ]
  },
  {
   "cell_type": "code",
   "execution_count": 42,
   "id": "c027d5d6-d5c9-404d-b3f5-55b4aac17e8b",
   "metadata": {},
   "outputs": [
    {
     "name": "stdout",
     "output_type": "stream",
     "text": [
      "[INFO] Register count_convNd() for <class 'torch.nn.modules.conv.ConvTranspose2d'>.\n",
      "thop : MACS : 200.0 | Param : 0\n",
      "ConvTranspose2d(4, 100.000% Params, 400.0 Mac, 100.000% MACs, 1, 2, kernel_size=(1, 1), stride=(1, 1))\n",
      "ptflops : MACS 400 |  PARAM 4\n"
     ]
    }
   ],
   "source": [
    "m = nn.ConvTranspose2d(1,2,(1,1),(1,1))\n",
    "m.eval()\n",
    "\n",
    "input = torch.rand(1,1,10,10)\n",
    "macs_thop, params_thop = profile(m, inputs=(input,))\n",
    "print(\"thop : MACS : {} | Param : {}\".format(macs_thop,params_thop))\n",
    "\n",
    "# https://github.com/sovrasov/flops-counter.pytorch\n",
    "\n",
    "macs_ptflos, params_ptflops = get_model_complexity_info(m, (1,10,10), as_strings=False,print_per_layer_stat=True, verbose=True)   \n",
    "print(\"ptflops : MACS {} |  PARAM {}\".format(macs_ptflos,params_ptflops))"
   ]
  },
  {
   "cell_type": "code",
   "execution_count": 43,
   "id": "4f83ab04-1044-4981-84df-96e02d7f7cb4",
   "metadata": {},
   "outputs": [
    {
     "name": "stdout",
     "output_type": "stream",
     "text": [
      "thop : MACS : 0.0 | Param : 0\n",
      "Warning: module NonDynamicallyQuantizableLinear is treated as a zero-op.\n",
      "Warning: module SA is treated as a zero-op.\n",
      "SA(\n",
      "  66.05 k, 100.000% Params, 16.61 MMac, 99.604% MACs, \n",
      "  (aa): MultiheadAttention(\n",
      "    66.05 k, 100.000% Params, 16.61 MMac, 99.604% MACs, \n",
      "    (out_proj): NonDynamicallyQuantizableLinear(0, 0.000% Params, 0.0 Mac, 0.000% MACs, in_features=128, out_features=128, bias=True)\n",
      "  )\n",
      ")\n",
      "ptflops : MACS 16676000 |  PARAM 66048\n"
     ]
    }
   ],
   "source": [
    "class SA(nn.Module) :\n",
    "    def __init__(self):\n",
    "        super(SA,self).__init__()\n",
    "        self.aa = nn.MultiheadAttention(128,8)\n",
    "        \n",
    "    def forward(self,x):\n",
    "        y = self.aa(x,x,x)\n",
    "        return y\n",
    "m = SA()\n",
    "m.eval()\n",
    "\n",
    "input = torch.rand(1,250,128)\n",
    "macs_thop, params_thop = profile(m, inputs=(input,))\n",
    "print(\"thop : MACS : {} | Param : {}\".format(macs_thop,params_thop))\n",
    "\n",
    "# https://github.com/sovrasov/flops-counter.pytorch\n",
    "\n",
    "macs_ptflos, params_ptflops = get_model_complexity_info(m, (250,128), as_strings=False,print_per_layer_stat=True, verbose=True)   \n",
    "print(\"ptflops : MACS {} |  PARAM {}\".format(macs_ptflos,params_ptflops))"
   ]
  },
  {
   "cell_type": "code",
   "execution_count": null,
   "id": "7bc8d122-b27e-4af1-b95b-4c39e4fb7025",
   "metadata": {},
   "outputs": [],
   "source": []
  }
 ],
 "metadata": {
  "kernelspec": {
   "display_name": "Python 3 (ipykernel)",
   "language": "python",
   "name": "python3"
  },
  "language_info": {
   "codemirror_mode": {
    "name": "ipython",
    "version": 3
   },
   "file_extension": ".py",
   "mimetype": "text/x-python",
   "name": "python",
   "nbconvert_exporter": "python",
   "pygments_lexer": "ipython3",
   "version": "3.9.12"
  }
 },
 "nbformat": 4,
 "nbformat_minor": 5
}
