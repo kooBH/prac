{
 "cells": [
  {
   "cell_type": "code",
   "execution_count": 4,
   "id": "7830b544-099f-4a0e-bed9-9da4f5cb7cb6",
   "metadata": {},
   "outputs": [
    {
     "data": {
      "text/plain": [
       "[[1, 1], [2, 2], [3, 3]]"
      ]
     },
     "execution_count": 4,
     "metadata": {},
     "output_type": "execute_result"
    }
   ],
   "source": [
    "[2*[u] for u in range(1,4)]"
   ]
  },
  {
   "cell_type": "code",
   "execution_count": 6,
   "id": "29d45f14-151e-454f-88eb-aa8cd813eddd",
   "metadata": {},
   "outputs": [
    {
     "data": {
      "text/plain": [
       "[1, 1, 2, 2, 3, 3]"
      ]
     },
     "execution_count": 6,
     "metadata": {},
     "output_type": "execute_result"
    }
   ],
   "source": [
    "sum([2*[u] for u in range(1,4)],[])"
   ]
  },
  {
   "cell_type": "code",
   "execution_count": null,
   "id": "0d673211-c243-42c9-8e21-9e288af224cd",
   "metadata": {},
   "outputs": [],
   "source": []
  }
 ],
 "metadata": {
  "kernelspec": {
   "display_name": "Python 3 (ipykernel)",
   "language": "python",
   "name": "python3"
  },
  "language_info": {
   "codemirror_mode": {
    "name": "ipython",
    "version": 3
   },
   "file_extension": ".py",
   "mimetype": "text/x-python",
   "name": "python",
   "nbconvert_exporter": "python",
   "pygments_lexer": "ipython3",
   "version": "3.9.12"
  }
 },
 "nbformat": 4,
 "nbformat_minor": 5
}
