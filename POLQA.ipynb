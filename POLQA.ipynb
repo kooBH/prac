{
 "cells": [
  {
   "cell_type": "markdown",
   "id": "0db6b56b-438f-4977-809e-3e2a23ce611c",
   "metadata": {},
   "source": [
    "```\n",
    "pip install AlgorithmLib\n",
    "```\n",
    "\n",
    "```\n",
    "\t:param testFile: the files under test ,\n",
    "\t:param refFile: the reference file ,FR metrics need POLQA/PESQ/PEAQ\n",
    "```"
   ]
  },
  {
   "cell_type": "markdown",
   "id": "c1856507-8288-48ec-95b1-69724b4b8d08",
   "metadata": {},
   "source": [
    "사이트도 이상하고 뭔가 이상함\n",
    "\n",
    "일단 라이센스나 트레이드마크 걸려있는 유료 소프트웨어에서는 제공을 해주고\n",
    "논문에서 사용한 경우도 기업 도움 받는거 명시를 하니... 안되겠구먼"
   ]
  },
  {
   "cell_type": "code",
   "execution_count": null,
   "id": "67ea27f6-ce0b-4308-8a9a-9e84fae7ab88",
   "metadata": {},
   "outputs": [],
   "source": []
  },
  {
   "cell_type": "code",
   "execution_count": 2,
   "id": "9a2acb3a-7e12-4c55-9de9-fd9dd0ea9517",
   "metadata": {},
   "outputs": [
    {
     "ename": "ModuleNotFoundError",
     "evalue": "No module named 'AlgorithmLib'",
     "output_type": "error",
     "traceback": [
      "\u001b[0;31m---------------------------------------------------------------------------\u001b[0m",
      "\u001b[0;31mModuleNotFoundError\u001b[0m                       Traceback (most recent call last)",
      "Input \u001b[0;32mIn [2]\u001b[0m, in \u001b[0;36m<cell line: 1>\u001b[0;34m()\u001b[0m\n\u001b[0;32m----> 1\u001b[0m \u001b[38;5;28;01mimport\u001b[39;00m \u001b[38;5;21;01mAlgorithmLib\u001b[39;00m\n",
      "\u001b[0;31mModuleNotFoundError\u001b[0m: No module named 'AlgorithmLib'"
     ]
    }
   ],
   "source": [
    "import AlgorithmLib"
   ]
  },
  {
   "cell_type": "code",
   "execution_count": 1,
   "id": "377dee8d-6668-40dc-9981-c2b97ec1882a",
   "metadata": {},
   "outputs": [
    {
     "ename": "NameError",
     "evalue": "name 'compute_audio_quality' is not defined",
     "output_type": "error",
     "traceback": [
      "\u001b[0;31m---------------------------------------------------------------------------\u001b[0m",
      "\u001b[0;31mNameError\u001b[0m                                 Traceback (most recent call last)",
      "Input \u001b[0;32mIn [1]\u001b[0m, in \u001b[0;36m<cell line: 1>\u001b[0;34m()\u001b[0m\n\u001b[0;32m----> 1\u001b[0m \u001b[43mcompute_audio_quality\u001b[49m(\u001b[38;5;124m'\u001b[39m\u001b[38;5;124mPOLQA\u001b[39m\u001b[38;5;124m'\u001b[39m,testFile\u001b[38;5;241m=\u001b[39m\u001b[38;5;28;01mNone\u001b[39;00m,refFile\u001b[38;5;241m=\u001b[39m\u001b[38;5;28;01mNone\u001b[39;00m,samplerate\u001b[38;5;241m=\u001b[39m\u001b[38;5;241m16000\u001b[39m)\n",
      "\u001b[0;31mNameError\u001b[0m: name 'compute_audio_quality' is not defined"
     ]
    }
   ],
   "source": [
    "compute_audio_quality('POLQA',testFile=None,refFile=None,samplerate=16000)"
   ]
  },
  {
   "cell_type": "code",
   "execution_count": null,
   "id": "a5955efe-535c-40f5-a556-54efef590e49",
   "metadata": {},
   "outputs": [],
   "source": []
  }
 ],
 "metadata": {
  "kernelspec": {
   "display_name": "Python 3 (ipykernel)",
   "language": "python",
   "name": "python3"
  },
  "language_info": {
   "codemirror_mode": {
    "name": "ipython",
    "version": 3
   },
   "file_extension": ".py",
   "mimetype": "text/x-python",
   "name": "python",
   "nbconvert_exporter": "python",
   "pygments_lexer": "ipython3",
   "version": "3.9.12"
  }
 },
 "nbformat": 4,
 "nbformat_minor": 5
}
