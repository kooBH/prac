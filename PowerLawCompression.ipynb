{
 "cells": [
  {
   "cell_type": "code",
   "execution_count": 1,
   "id": "ec2c382f-a925-4a12-b389-e02dc91a5b03",
   "metadata": {},
   "outputs": [
    {
     "name": "stderr",
     "output_type": "stream",
     "text": [
      "/home/kbh/.conda/envs/dnn/lib/python3.9/site-packages/tqdm/auto.py:22: TqdmWarning: IProgress not found. Please update jupyter and ipywidgets. See https://ipywidgets.readthedocs.io/en/stable/user_install.html\n",
      "  from .autonotebook import tqdm as notebook_tqdm\n"
     ]
    }
   ],
   "source": [
    "import torch\n",
    "import torch.nn as nn\n",
    "import torch.nn.functional as F\n",
    "import numpy as np"
   ]
  },
  {
   "cell_type": "code",
   "execution_count": 16,
   "id": "93f652a9-8c2e-49f4-9ac8-4cf1393b2ba7",
   "metadata": {},
   "outputs": [],
   "source": [
    "\"\"\"\n",
    "Real Phase Encoder with Mag with Power Law Compression\n",
    "Inspired by Shetu, Shrishti Saha, et al. \"Ultra Low Complexity Deep Learning Based Noise Suppression.\" arXiv preprint arXiv:2312.08132 (2023).\n",
    "\"\"\"\n",
    "# NOTE : torch.sign is not differentiable\n",
    "# https://pytorch.org/docs/stable/autograd.html#torch.autograd.Function\n",
    "class GradSign(torch.autograd.Function):\n",
    "    @staticmethod\n",
    "    def forward(ctx, x):\n",
    "        x = torch.sign(x)\n",
    "        #ctx.save_for_backward(x)\n",
    "        #return torch.tanh(x / epsilon)    \n",
    "        return x\n",
    "\n",
    "    @staticmethod\n",
    "    def backward(ctx, grad_output):\n",
    "        #x, = ctx.saved_tensors\n",
    "        grad_input = grad_output\n",
    "        return grad_input\n",
    "\n",
    "# NOTE : torch.abs is not differentiable\n",
    "# https://pytorch.org/docs/stable/autograd.html#torch.autograd.Function\n",
    "class GradAbs(torch.autograd.Function):\n",
    "    @staticmethod\n",
    "    def forward(ctx, x):\n",
    "        x = torch.abs(x)\n",
    "        #ctx.save_for_backward(x)\n",
    "        return x\n",
    "\n",
    "    @staticmethod\n",
    "    def backward(ctx, grad_output):\n",
    "        #x, = ctx.saved_tensors\n",
    "        #grad_input = grad_output * GradSign(x) \n",
    "        grad_input = grad_output\n",
    "        return grad_input\n",
    "\n",
    "class PowerLawCompression(nn.Module):\n",
    "    def __init__(self, alpha=0.3, **kwargs):\n",
    "        super(PowerLawCompression, self).__init__()\n",
    "        self.alpha = alpha\n",
    "\n",
    "    def forward(self, X):\n",
    "        \"\"\"\n",
    "        X.shape == (B,F,T,2)\n",
    "        \"\"\"\n",
    "        # Power Law Compression\n",
    "        # NOTE : PLC on compelx \n",
    "        print(GradSign.apply(X[:,:,:,:]))\n",
    "        X[:,:,:,:] = GradSign.apply(X[:,:,:,:]) * torch.pow(GradAbs.apply(X[:,:,:,:]), self.alpha)\n",
    "        return X\n",
    "\n",
    "class PowerLawDecompression(nn.Module):\n",
    "    def __init__(self, alpha=0.3, **kwargs):\n",
    "        super(PowerLawDecompression, self).__init__()\n",
    "        self.alpha = alpha\n",
    "        #self.eps = 1e-7\n",
    "        self.eps = 0\n",
    "\n",
    "    def forward(self, X):\n",
    "        \"\"\"\n",
    "        X.shape == (B,F,T,2)\n",
    "        \"\"\"\n",
    "        X[:,:,:,:] = GradSign.apply(X[:,:,:,:]) * torch.pow(GradAbs.apply(X[:,:,:,:]), 1/self.alpha)\n",
    "\n",
    "        return X\n"
   ]
  },
  {
   "cell_type": "code",
   "execution_count": 17,
   "id": "d8c261af-e8da-4114-b981-912778c15dfc",
   "metadata": {},
   "outputs": [
    {
     "name": "stdout",
     "output_type": "stream",
     "text": [
      "tensor([[[[ 0.0000,  2.9881],\n",
      "          [-2.5757,  4.0735],\n",
      "          [-3.9225, -3.0302]],\n",
      "\n",
      "         [[ 0.5688, -0.3853],\n",
      "          [ 0.7594,  2.4158],\n",
      "          [-4.9838, -4.0396]]]])\n",
      "tensor([[[[ 0.,  1.],\n",
      "          [-1.,  1.],\n",
      "          [-1., -1.]],\n",
      "\n",
      "         [[ 1., -1.],\n",
      "          [ 1.,  1.],\n",
      "          [-1., -1.]]]])\n",
      "tensor([[[[ 0.0000,  1.3887],\n",
      "          [-1.3282,  1.5240],\n",
      "          [-1.5068, -1.3946]],\n",
      "\n",
      "         [[ 0.8443, -0.7512],\n",
      "          [ 0.9207,  1.3029],\n",
      "          [-1.6191, -1.5202]]]])\n",
      "tensor([[[[ 0.0000,  2.9881],\n",
      "          [-2.5757,  4.0735],\n",
      "          [-3.9225, -3.0302]],\n",
      "\n",
      "         [[ 0.5688, -0.3853],\n",
      "          [ 0.7594,  2.4158],\n",
      "          [-4.9838, -4.0396]]]])\n"
     ]
    }
   ],
   "source": [
    "X = (torch.rand(1,2,3,2)-0.5)*10\n",
    "X[0,0,0,0] = 0\n",
    "print(X)\n",
    "\n",
    "\n",
    "\n",
    "m1 = PowerLawCompression()\n",
    "m2 = PowerLawDecompression()\n",
    "\n",
    "Y = m1(X)\n",
    "print(Y)\n",
    "\n",
    "Z = m2(Y)\n",
    "print(Z)"
   ]
  },
  {
   "cell_type": "code",
   "execution_count": null,
   "id": "9be81270-2998-4058-9549-c16fffcc3782",
   "metadata": {},
   "outputs": [],
   "source": []
  }
 ],
 "metadata": {
  "kernelspec": {
   "display_name": "Python 3 (ipykernel)",
   "language": "python",
   "name": "python3"
  },
  "language_info": {
   "codemirror_mode": {
    "name": "ipython",
    "version": 3
   },
   "file_extension": ".py",
   "mimetype": "text/x-python",
   "name": "python",
   "nbconvert_exporter": "python",
   "pygments_lexer": "ipython3",
   "version": "3.9.12"
  }
 },
 "nbformat": 4,
 "nbformat_minor": 5
}
