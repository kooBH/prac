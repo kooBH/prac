{
 "cells": [
  {
   "cell_type": "code",
   "execution_count": 2,
   "id": "0fe16920-7ca0-41f2-9d18-78ffc064aed3",
   "metadata": {},
   "outputs": [
    {
     "name": "stderr",
     "output_type": "stream",
     "text": [
      "2024-11-19 22:17:53.483739: I tensorflow/core/util/port.cc:110] oneDNN custom operations are on. You may see slightly different numerical results due to floating-point round-off errors from different computation orders. To turn them off, set the environment variable `TF_ENABLE_ONEDNN_OPTS=0`.\n",
      "2024-11-19 22:17:53.485504: I tensorflow/tsl/cuda/cudart_stub.cc:28] Could not find cuda drivers on your machine, GPU will not be used.\n",
      "2024-11-19 22:17:53.523191: I tensorflow/tsl/cuda/cudart_stub.cc:28] Could not find cuda drivers on your machine, GPU will not be used.\n",
      "2024-11-19 22:17:53.524159: I tensorflow/core/platform/cpu_feature_guard.cc:182] This TensorFlow binary is optimized to use available CPU instructions in performance-critical operations.\n",
      "To enable the following instructions: AVX2 AVX512F AVX512_VNNI FMA, in other operations, rebuild TensorFlow with the appropriate compiler flags.\n",
      "2024-11-19 22:17:54.175101: W tensorflow/compiler/tf2tensorrt/utils/py_utils.cc:38] TF-TRT Warning: Could not find TensorRT\n"
     ]
    }
   ],
   "source": [
    "import tensorflow as tf\n",
    "from tensorflow.keras import layers, models\n",
    "import numpy as np\n"
   ]
  },
  {
   "cell_type": "code",
   "execution_count": 10,
   "id": "a55fa08b-dd7c-4feb-839f-24fb0e5d8345",
   "metadata": {},
   "outputs": [
    {
     "name": "stdout",
     "output_type": "stream",
     "text": [
      "tf.Tensor(0.0005755245, shape=(), dtype=float32)\n",
      "tf.Tensor(-0.1591752, shape=(), dtype=float32)\n"
     ]
    }
   ],
   "source": [
    "\n",
    "# Generalized Exponent Spectrum\n",
    "class GESLoss(tf.keras.losses.Loss):\n",
    "    def __init__(self, n_fft = 512, n_hop = 128, gamma = 0.3,name=\"GESLoss\"):\n",
    "        super().__init__(name=name)\n",
    "        self.frame_length = n_fft\n",
    "        self.frame_step = n_hop\n",
    "        self.fft_length = n_fft\n",
    "        self.gamma = gamma\n",
    "\n",
    "    def call(self, target, estim):\n",
    "        target_spec = tf.signal.stft(target, \n",
    "                              frame_length=self.frame_length, \n",
    "                              frame_step=self.frame_step, \n",
    "                              fft_length=self.fft_length)\n",
    "        estim_spec = tf.signal.stft(estim, \n",
    "                              frame_length=self.frame_length, \n",
    "                              frame_step=self.frame_step, \n",
    "                              fft_length=self.fft_length)\n",
    "        target_mag = tf.abs(target_spec)\n",
    "        estim_mag = tf.abs(estim_spec)\n",
    "\n",
    "        dist = target_mag**self.gamma - estim_mag**self.gamma\n",
    "        return tf.reduce_mean(dist)\n",
    "\n",
    "x = tf.random.uniform(shape=(1, 16000))\n",
    "y = tf.random.uniform(shape=(1, 16000))\n",
    "z = x+y\n",
    "\n",
    "criterion = GESLoss()\n",
    "\n",
    "loss = criterion(x,y)\n",
    "print(loss)\n",
    "\n",
    "loss = criterion(x,z)\n",
    "print(loss)"
   ]
  },
  {
   "cell_type": "code",
   "execution_count": null,
   "id": "66a046da-ab0d-4af2-9922-ded7c65ad666",
   "metadata": {},
   "outputs": [],
   "source": [
    "\n",
    "\n",
    "model.compile(optimizer=optimizer,\n",
    "              loss=loss_fn,\n",
    "              metrics=['accuracy'])\n",
    "optimizer = tf.keras.optimizers.Adam()\n",
    "model.fit(train_ds, validation_data=test_ds, epochs=5)\n",
    "test_loss, test_acc = model.evaluate(test_ds, verbose=2)"
   ]
  }
 ],
 "metadata": {
  "kernelspec": {
   "display_name": "Python 3 (ipykernel)",
   "language": "python",
   "name": "python3"
  },
  "language_info": {
   "codemirror_mode": {
    "name": "ipython",
    "version": 3
   },
   "file_extension": ".py",
   "mimetype": "text/x-python",
   "name": "python",
   "nbconvert_exporter": "python",
   "pygments_lexer": "ipython3",
   "version": "3.10.14"
  }
 },
 "nbformat": 4,
 "nbformat_minor": 5
}
