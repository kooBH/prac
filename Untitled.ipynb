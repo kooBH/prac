{
 "cells": [
  {
   "cell_type": "code",
   "execution_count": 13,
   "id": "b8387771-e567-4f7f-b45e-4682cd2830b3",
   "metadata": {},
   "outputs": [
    {
     "name": "stderr",
     "output_type": "stream",
     "text": [
      "/home/kbh/.conda/envs/dnn/lib/python3.9/site-packages/tqdm/auto.py:22: TqdmWarning: IProgress not found. Please update jupyter and ipywidgets. See https://ipywidgets.readthedocs.io/en/stable/user_install.html\n",
      "  from .autonotebook import tqdm as notebook_tqdm\n"
     ]
    }
   ],
   "source": [
    "import numpy as np\n",
    "import torch\n",
    "import torch.nn as nn"
   ]
  },
  {
   "cell_type": "code",
   "execution_count": 36,
   "id": "0279add4-a4f7-4328-83fa-de6b77efce27",
   "metadata": {},
   "outputs": [
    {
     "name": "stdout",
     "output_type": "stream",
     "text": [
      "torch.Size([2, 128, 2, 40])\n",
      "torch.Size([2, 128, 2, 40])\n",
      "torch.Size([80, 256])\n",
      "torch.Size([80, 256])\n",
      "torch.Size([80, 512])\n",
      "torch.Size([80, 256])\n",
      "torch.Size([2, 128, 2, 40])\n"
     ]
    }
   ],
   "source": [
    "\n",
    "# B, C, F', T'\n",
    "spec = torch.rand(2,128,2,40)\n",
    "face = torch.rand(2,128,2,40)\n",
    "B,C,F,T = spec.shape\n",
    "\n",
    "print(spec.shape)\n",
    "print(face.shape)\n",
    "\n",
    "\n",
    "\n",
    "# B*T, C*F'\n",
    "\n",
    "spec = spec.permute(0,3,1,2)\n",
    "face = face.permute(0,3,1,2)\n",
    "\n",
    "spec = spec.reshape(B*T,C*F)\n",
    "face = face.reshape(B*T,C*F)\n",
    "\n",
    "print(spec.shape)\n",
    "print(face.shape)\n",
    "\n",
    "\n",
    "# B*T, 2*C*F\n",
    "feat = torch.cat([spec,face],dim=1)\n",
    "\n",
    "m = nn.MultiheadAttention(256*2,2)\n",
    "m2 = nn.MaxPool1d(5, stride=2,padding=2)\n",
    "\n",
    "y,_ = m(feat,feat,feat)\n",
    "\n",
    "print(y.shape)\n",
    "\n",
    "y = m2(y)\n",
    "print(y.shape)\n",
    "\n",
    "y = y.reshape(B,T,C,F)\n",
    "y = y.permute(0,2,3,1)\n",
    "\n",
    "print(y.shape)"
   ]
  },
  {
   "cell_type": "code",
   "execution_count": null,
   "id": "b2a27096-8eff-4545-9b7e-66764b669b8a",
   "metadata": {},
   "outputs": [],
   "source": []
  }
 ],
 "metadata": {
  "kernelspec": {
   "display_name": "Python 3 (ipykernel)",
   "language": "python",
   "name": "python3"
  },
  "language_info": {
   "codemirror_mode": {
    "name": "ipython",
    "version": 3
   },
   "file_extension": ".py",
   "mimetype": "text/x-python",
   "name": "python",
   "nbconvert_exporter": "python",
   "pygments_lexer": "ipython3",
   "version": "3.9.12"
  }
 },
 "nbformat": 4,
 "nbformat_minor": 5
}
