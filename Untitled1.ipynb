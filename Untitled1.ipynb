{
 "cells": [
  {
   "cell_type": "code",
   "execution_count": 1,
   "id": "4554de11-d0fd-41f1-abe8-929f11add5bf",
   "metadata": {},
   "outputs": [
    {
     "name": "stderr",
     "output_type": "stream",
     "text": [
      "/home/kbh/.conda/envs/dnn/lib/python3.9/site-packages/tqdm/auto.py:22: TqdmWarning: IProgress not found. Please update jupyter and ipywidgets. See https://ipywidgets.readthedocs.io/en/stable/user_install.html\n",
      "  from .autonotebook import tqdm as notebook_tqdm\n"
     ]
    }
   ],
   "source": [
    "import torch.nn as nn\n",
    "import torch\n"
   ]
  },
  {
   "cell_type": "code",
   "execution_count": 2,
   "id": "cd45c420-ae77-4e14-bd86-1a4e38e429d3",
   "metadata": {},
   "outputs": [
    {
     "name": "stdout",
     "output_type": "stream",
     "text": [
      "torch.Size([1, 2, 3, 4])\n",
      "tensor([[[[0.3998, 0.7630, 0.3952, 0.9469],\n",
      "          [0.5147, 0.4551, 0.6778, 0.7043],\n",
      "          [0.7419, 0.9135, 0.5526, 0.9877]],\n",
      "\n",
      "         [[0.8707, 0.7576, 0.3878, 0.6898],\n",
      "          [0.7202, 0.7629, 0.6226, 0.6400],\n",
      "          [0.5542, 0.7704, 0.3658, 0.7975]]]])\n",
      "torch.Size([1, 2, 3, 2])\n",
      "tensor([[[[0.2389, 0.5497],\n",
      "          [0.3413, 0.3045],\n",
      "          [0.4709, 0.6656]],\n",
      "\n",
      "         [[0.5187, 0.5045],\n",
      "          [0.4687, 0.4995],\n",
      "          [0.3272, 0.5311]]]])\n"
     ]
    }
   ],
   "source": [
    "B = 1\n",
    "C = 2\n",
    "F = 3\n",
    "T = 4\n",
    "\n",
    "m = nn.GLU()\n",
    "x = torch.rand(B,C,F,T)\n",
    "print(x.shape)\n",
    "print(x)\n",
    "y = m(x)\n",
    "print(y.shape)\n",
    "print(y)"
   ]
  },
  {
   "cell_type": "code",
   "execution_count": null,
   "id": "05ebf4c1-e36b-4b95-ba65-26be97ca235b",
   "metadata": {},
   "outputs": [],
   "source": []
  }
 ],
 "metadata": {
  "kernelspec": {
   "display_name": "Python 3 (ipykernel)",
   "language": "python",
   "name": "python3"
  },
  "language_info": {
   "codemirror_mode": {
    "name": "ipython",
    "version": 3
   },
   "file_extension": ".py",
   "mimetype": "text/x-python",
   "name": "python",
   "nbconvert_exporter": "python",
   "pygments_lexer": "ipython3",
   "version": "3.9.12"
  }
 },
 "nbformat": 4,
 "nbformat_minor": 5
}
