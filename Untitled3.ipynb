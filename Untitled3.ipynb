{
 "cells": [
  {
   "cell_type": "code",
   "execution_count": 1,
   "id": "80376498-e4cc-445f-bd64-2620754264bd",
   "metadata": {},
   "outputs": [],
   "source": [
    "import numpy as np"
   ]
  },
  {
   "cell_type": "code",
   "execution_count": 2,
   "id": "076d12e2-06e1-49b9-af9b-2356ad3e5096",
   "metadata": {},
   "outputs": [],
   "source": [
    "target = 200000000"
   ]
  },
  {
   "cell_type": "code",
   "execution_count": 43,
   "id": "37165a34-7705-4dbc-bef7-377fd121244d",
   "metadata": {},
   "outputs": [
    {
     "name": "stdout",
     "output_type": "stream",
     "text": [
      "61.53599999999301 325013000.52005774 0\n",
      "=> 200000000.0\n",
      "61.94999999999112 322841000.80714875 0\n",
      "=> 200000000.0\n",
      "62.49999999998862 320000000.0000583 0\n",
      "=> 200000000.00000003\n",
      "62.569999999988305 319642000.95898575 0\n",
      "=> 200000000.0\n",
      "63.38199999998461 315547000.7258347 0\n",
      "=> 200000000.0\n",
      "63.999999999981796 312500000.0000889 0\n",
      "=> 199999999.99999997\n",
      "66.66399999996968 300012000.4801557 0\n",
      "=> 200000000.0\n",
      "66.66599999996966 300003000.0301368 0\n",
      "=> 200000000.0\n",
      "66.66799999996965 299994000.1201342 0\n",
      "=> 200000000.0\n",
      "66.66999999996965 299985000.7500991 0\n",
      "=> 200000000.00000003\n",
      "0.7000099999995448\n"
     ]
    }
   ],
   "source": [
    "ratio = 0.60000\n",
    "while(ratio < 0.7) : \n",
    "    total = target/ratio\n",
    "    \n",
    "    valid = int(total)%1000\n",
    "    #print(\"{} {} {}\".format(ratio,total,valid))\n",
    "    if valid == 0 :\n",
    "        print(\"{} {} {}\".format(ratio*100,total,valid))\n",
    "        print(\"=> {}\".format(total*ratio))\n",
    "    ratio += 0.00001\n",
    "print(ratio)"
   ]
  },
  {
   "cell_type": "code",
   "execution_count": 42,
   "id": "26114014-a0f5-4595-ac5c-539636f11862",
   "metadata": {},
   "outputs": [
    {
     "data": {
      "text/plain": [
       "199999969.5015"
      ]
     },
     "execution_count": 42,
     "metadata": {},
     "output_type": "execute_result"
    }
   ],
   "source": [
    "ratio = 0.60000\n",
    "while(ratio < 0.7) : \n",
    "    total = int(target/ratio\n",
    "    \n",
    "    valid = int(total)%1000\n",
    "    #print(\"{} {} {}\".format(ratio,total,valid))\n",
    "    if valid == 0 :\n",
    "        print(\"{} {} {}\".format(ratio*100,total,valid))\n",
    "        print(\"=> {}\".format(total*ratio))\n",
    "    ratio += 0.00001\n",
    "print(ratio)"
   ]
  },
  {
   "cell_type": "code",
   "execution_count": null,
   "id": "3d0e39c5-f3b3-4882-b01f-b242642e6385",
   "metadata": {},
   "outputs": [],
   "source": []
  }
 ],
 "metadata": {
  "kernelspec": {
   "display_name": "Python 3 (ipykernel)",
   "language": "python",
   "name": "python3"
  },
  "language_info": {
   "codemirror_mode": {
    "name": "ipython",
    "version": 3
   },
   "file_extension": ".py",
   "mimetype": "text/x-python",
   "name": "python",
   "nbconvert_exporter": "python",
   "pygments_lexer": "ipython3",
   "version": "3.9.12"
  }
 },
 "nbformat": 4,
 "nbformat_minor": 5
}
