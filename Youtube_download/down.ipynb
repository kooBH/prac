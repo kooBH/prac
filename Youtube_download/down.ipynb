{
 "cells": [
  {
   "cell_type": "code",
   "execution_count": 9,
   "id": "fbd81aa4-7935-40a1-b3fd-f0edcf1902b1",
   "metadata": {},
   "outputs": [
    {
     "name": "stdin",
     "output_type": "stream",
     "text": [
      "Enter the YouTube video URL:  https://youtu.be/weFtDMaQaDY\n"
     ]
    },
    {
     "name": "stdout",
     "output_type": "stream",
     "text": [
      "\n",
      "Fetching available formats...\n",
      "\n",
      "Available Formats:\n",
      "1: 597 - mp4 - 256x144 - 15 fps\n",
      "2: 602 - mp4 - 256x144 - 15.0 fps\n",
      "3: 598 - webm - 256x144 - 15 fps\n",
      "4: 269 - mp4 - 256x144 - 30.0 fps\n",
      "5: 160 - mp4 - 256x144 - 30 fps\n",
      "6: 603 - mp4 - 256x144 - 30.0 fps\n",
      "7: 278 - webm - 256x144 - 30 fps\n",
      "8: 394 - mp4 - 256x144 - 30 fps\n",
      "9: 229 - mp4 - 426x240 - 30.0 fps\n",
      "10: 133 - mp4 - 426x240 - 30 fps\n",
      "11: 604 - mp4 - 426x240 - 30.0 fps\n",
      "12: 242 - webm - 426x240 - 30 fps\n",
      "13: 395 - mp4 - 426x240 - 30 fps\n",
      "14: 230 - mp4 - 640x360 - 30.0 fps\n",
      "15: 134 - mp4 - 640x360 - 30 fps\n",
      "16: 18 - mp4 - 640x360 - 30 fps\n",
      "17: 605 - mp4 - 640x360 - 30.0 fps\n",
      "18: 243 - webm - 640x360 - 30 fps\n",
      "19: 396 - mp4 - 640x360 - 30 fps\n",
      "20: 231 - mp4 - 854x480 - 30.0 fps\n",
      "21: 135 - mp4 - 854x480 - 30 fps\n",
      "22: 606 - mp4 - 854x480 - 30.0 fps\n",
      "23: 244 - webm - 854x480 - 30 fps\n",
      "24: 397 - mp4 - 854x480 - 30 fps\n",
      "25: 232 - mp4 - 1280x720 - 30.0 fps\n",
      "26: 136 - mp4 - 1280x720 - 30 fps\n",
      "27: 609 - mp4 - 1280x720 - 30.0 fps\n",
      "28: 247 - webm - 1280x720 - 30 fps\n",
      "29: 398 - mp4 - 1280x720 - 30 fps\n"
     ]
    },
    {
     "name": "stdin",
     "output_type": "stream",
     "text": [
      "\n",
      "Choose a format (enter the number):  26\n",
      "Enter the output directory (or press Enter for current directory):  .\n"
     ]
    },
    {
     "name": "stdout",
     "output_type": "stream",
     "text": [
      "[youtube] Extracting URL: https://youtu.be/weFtDMaQaDY\n",
      "[youtube] weFtDMaQaDY: Downloading webpage\n",
      "[youtube] weFtDMaQaDY: Downloading ios player API JSON\n",
      "[youtube] weFtDMaQaDY: Downloading mweb player API JSON\n",
      "[youtube] weFtDMaQaDY: Downloading m3u8 information\n",
      "[info] weFtDMaQaDY: Downloading 1 format(s): 136\n",
      "[download] Destination: ./스마트폰 다음은？...한국이 주도하는 '아이언맨 안경' ⧸ YTN.mp4\n",
      "[download] 100% of    8.63MiB in 00:00:00 at 11.86MiB/s  \n",
      "Download completed!\n"
     ]
    }
   ],
   "source": [
    "import yt_dlp\n",
    "\n",
    "def list_video_formats(url):\n",
    "    \"\"\"\n",
    "    List all available video formats for the given YouTube URL.\n",
    "\n",
    "    Args:\n",
    "    - url (str): The URL of the YouTube video.\n",
    "\n",
    "    Returns:\n",
    "    - formats (list): A list of available formats with details.\n",
    "    \"\"\"\n",
    "    ydl_opts = {\n",
    "        'quiet': True,  # Suppress verbose output\n",
    "    }\n",
    "    with yt_dlp.YoutubeDL(ydl_opts) as ydl:\n",
    "        info = ydl.extract_info(url, download=False)  # Get video info\n",
    "        formats = info.get('formats', [])\n",
    "        return formats\n",
    "\n",
    "def download_youtube_video(url, format_id, output_path=\".\"):\n",
    "    \"\"\"\n",
    "    Download a YouTube video in the chosen format.\n",
    "\n",
    "    Args:\n",
    "    - url (str): The URL of the YouTube video.\n",
    "    - format_id (str): The format ID for the chosen video format.\n",
    "    - output_path (str): Directory where the video will be saved (default: current directory).\n",
    "    \"\"\"\n",
    "    ydl_opts = {\n",
    "        'format': format_id,  # Download the selected format\n",
    "        'outtmpl': f'{output_path}/%(title)s.%(ext)s',  # Save with video title as filename\n",
    "    }\n",
    "    with yt_dlp.YoutubeDL(ydl_opts) as ydl:\n",
    "        ydl.download([url])\n",
    "        print(\"Download completed!\")\n",
    "\n",
    "if __name__ == \"__main__\":\n",
    "    video_url = input(\"Enter the YouTube video URL: \")\n",
    "\n",
    "    # List available formats\n",
    "    print(\"\\nFetching available formats...\")\n",
    "    formats = list_video_formats(video_url)\n",
    "    video_formats = [f for f in formats if f.get('vcodec') != 'none']  # Filter video formats only\n",
    "\n",
    "    # Display available formats\n",
    "    print(\"\\nAvailable Formats:\")\n",
    "    for i, f in enumerate(video_formats):\n",
    "        print(f\"{i + 1}: {f['format_id']} - {f['ext']} - {f['resolution']} - {f['fps']} fps\")\n",
    "\n",
    "    # User chooses a format\n",
    "    choice = int(input(\"\\nChoose a format (enter the number): \")) - 1\n",
    "    if 0 <= choice < len(video_formats):\n",
    "        selected_format_id = video_formats[choice]['format_id']\n",
    "        output_directory = input(\"Enter the output directory (or press Enter for current directory): \") or \".\"\n",
    "        \n",
    "        # Download the selected format\n",
    "        download_youtube_video(video_url, selected_format_id, output_directory)\n",
    "    else:\n",
    "        print(\"Invalid choice. Exiting.\")\n"
   ]
  },
  {
   "cell_type": "code",
   "execution_count": 7,
   "id": "5ece59f0-bf66-408c-8dd1-ec3764898a47",
   "metadata": {},
   "outputs": [
    {
     "name": "stdout",
     "output_type": "stream",
     "text": [
      "An error occurred: HTTP Error 403: Forbidden\n"
     ]
    }
   ],
   "source": [
    "download_youtube_video(\"https://youtu.be/weFtDMaQaDY\")"
   ]
  },
  {
   "cell_type": "code",
   "execution_count": null,
   "id": "450139ca-c307-4ec4-9905-ba00071ccc2a",
   "metadata": {},
   "outputs": [],
   "source": []
  }
 ],
 "metadata": {
  "kernelspec": {
   "display_name": "Python 3 (ipykernel)",
   "language": "python",
   "name": "python3"
  },
  "language_info": {
   "codemirror_mode": {
    "name": "ipython",
    "version": 3
   },
   "file_extension": ".py",
   "mimetype": "text/x-python",
   "name": "python",
   "nbconvert_exporter": "python",
   "pygments_lexer": "ipython3",
   "version": "3.10.14"
  }
 },
 "nbformat": 4,
 "nbformat_minor": 5
}
