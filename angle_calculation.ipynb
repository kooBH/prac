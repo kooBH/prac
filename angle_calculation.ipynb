{
 "cells": [
  {
   "cell_type": "code",
   "execution_count": 36,
   "id": "6b5b611c-9f09-4bdf-b218-1ad89b80b112",
   "metadata": {},
   "outputs": [],
   "source": [
    "import numpy as np"
   ]
  },
  {
   "cell_type": "code",
   "execution_count": 37,
   "id": "d066a545-0c05-4b85-80ad-55f10b4b36f5",
   "metadata": {},
   "outputs": [],
   "source": [
    "target = [\n",
    "        1,\n",
    "        1,\n",
    "        1\n",
    "        ]\n",
    "sensor = [\n",
    "        0,\n",
    "        0,\n",
    "        0\n",
    "]"
   ]
  },
  {
   "cell_type": "code",
   "execution_count": 38,
   "id": "93412ba1-77fb-43ca-aae8-58b9bfdb5635",
   "metadata": {},
   "outputs": [
    {
     "data": {
      "text/plain": [
       "0.7853981633974483"
      ]
     },
     "execution_count": 38,
     "metadata": {},
     "output_type": "execute_result"
    }
   ],
   "source": [
    "np.arctan(1/1)"
   ]
  },
  {
   "cell_type": "code",
   "execution_count": 39,
   "id": "737216e5-7b16-440d-a23a-f12e377e8a1d",
   "metadata": {},
   "outputs": [
    {
     "data": {
      "text/plain": [
       "45.0"
      ]
     },
     "execution_count": 39,
     "metadata": {},
     "output_type": "execute_result"
    }
   ],
   "source": [
    "np.degrees(0.7853981633974483)"
   ]
  },
  {
   "cell_type": "markdown",
   "id": "c31d491e-97dd-43ee-a7d5-0e663c6aa7c8",
   "metadata": {},
   "source": [
    "## Batch"
   ]
  },
  {
   "cell_type": "code",
   "execution_count": 52,
   "id": "982d0f21-f815-4ef9-bdeb-6145e1933ec9",
   "metadata": {},
   "outputs": [
    {
     "name": "stdout",
     "output_type": "stream",
     "text": [
      "[[0.63371796 0.64232599 0.36354261]\n",
      " [0.81180299 0.0443519  0.51331432]\n",
      " [0.75517014 0.76002511 0.97149973]\n",
      " [0.8730889  0.28967989 0.17922092]\n",
      " [0.34071817 0.04788628 0.76878023]\n",
      " [0.4066949  0.9904591  0.35218706]\n",
      " [0.6878258  0.75904495 0.92022844]\n",
      " [0.61748608 0.2542057  0.27591017]\n",
      " [0.37205482 0.73847031 0.99329208]\n",
      " [0.46282594 0.85918659 0.46380519]]\n",
      "[[0.20113057 0.43279975 0.85395865]\n",
      " [0.51888928 0.98099273 0.66567603]\n",
      " [0.14775078 0.19750596 0.68602502]\n",
      " [0.0636246  0.8254254  0.34753302]\n",
      " [0.12109358 0.55200656 0.7560245 ]\n",
      " [0.48576121 0.24310809 0.96241622]\n",
      " [0.08977171 0.26230572 0.57309436]\n",
      " [0.02151689 0.24603926 0.97528148]\n",
      " [0.40807563 0.20029489 0.0565188 ]\n",
      " [0.14640198 0.09580224 0.15063646]]\n"
     ]
    }
   ],
   "source": [
    "a = np.random.rand(10,3)\n",
    "b = np.random.rand(10,3)\n",
    "print(a)\n",
    "print(b)"
   ]
  },
  {
   "cell_type": "code",
   "execution_count": 53,
   "id": "bc40926b-a9c0-40b5-a586-585c482b6f26",
   "metadata": {},
   "outputs": [
    {
     "data": {
      "text/plain": [
       "array([0.48065902, 0.98137377, 0.82788047, 0.97069857, 0.54988382,\n",
       "       0.75152179, 0.7774436 , 0.59602513, 0.53937953, 0.82636542])"
      ]
     },
     "execution_count": 53,
     "metadata": {},
     "output_type": "execute_result"
    }
   ],
   "source": [
    "dist = np.sqrt(np.power(a[:,0]-b[:,0],2) + np.power(a[:,1]-b[:,1],2))\n",
    "dist"
   ]
  },
  {
   "cell_type": "code",
   "execution_count": 54,
   "id": "465601ce-79c4-475b-bf90-95cffd6baed5",
   "metadata": {},
   "outputs": [
    {
     "name": "stdout",
     "output_type": "stream",
     "text": [
      "[ 25.8435005  -72.63408099  42.80216602 -33.4986598  -66.45921228\n",
      " -83.96083352  39.71276723   0.78506323 -86.1708271   67.4859195 ]\n",
      "[ 44.42433183  81.17508408 -70.97447499  80.16313036 -88.67114043\n",
      "  50.92370202 -65.93889981  40.4386281  -29.93267047 -69.244733  ]\n"
     ]
    }
   ],
   "source": [
    "azi = np.arctan((a[:,1]-b[:,1])/(a[:,0]-b[:,0]))  \n",
    "ele = np.arctan(dist/(b[:,2]-a[:,2]))\n",
    "\n",
    "print(np.degrees(azi))\n",
    "print(np.degrees(ele))"
   ]
  },
  {
   "cell_type": "code",
   "execution_count": null,
   "id": "c32631a4-9a71-4f64-854a-47c5306d75b6",
   "metadata": {},
   "outputs": [],
   "source": []
  }
 ],
 "metadata": {
  "kernelspec": {
   "display_name": "Python 3 (ipykernel)",
   "language": "python",
   "name": "python3"
  },
  "language_info": {
   "codemirror_mode": {
    "name": "ipython",
    "version": 3
   },
   "file_extension": ".py",
   "mimetype": "text/x-python",
   "name": "python",
   "nbconvert_exporter": "python",
   "pygments_lexer": "ipython3",
   "version": "3.9.6"
  }
 },
 "nbformat": 4,
 "nbformat_minor": 5
}
