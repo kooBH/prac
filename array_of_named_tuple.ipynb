{
 "cells": [
  {
   "cell_type": "code",
   "execution_count": 14,
   "id": "5d63ed36-b807-40d7-bb3d-78b54ea18445",
   "metadata": {},
   "outputs": [],
   "source": [
    "from collections import namedtuple,deque\n",
    "import numpy as np\n",
    "import random\n",
    "Transition = namedtuple('Transition',\n",
    "                        ('state', 'action', 'next_state', 'reward'))"
   ]
  },
  {
   "cell_type": "code",
   "execution_count": 25,
   "id": "8ee3277e-4a24-4035-853d-fd9f3636bfa5",
   "metadata": {},
   "outputs": [
    {
     "name": "stdout",
     "output_type": "stream",
     "text": [
      "[Transition(state=0, action='1', next_state='2', reward='3'), Transition(state=1, action='1', next_state='2', reward='3'), Transition(state=2, action='1', next_state='2', reward='3'), Transition(state=3, action='1', next_state='2', reward='3'), Transition(state=4, action='1', next_state='2', reward='3'), Transition(state=5, action='1', next_state='2', reward='3'), Transition(state=6, action='1', next_state='2', reward='3'), Transition(state=7, action='1', next_state='2', reward='3'), Transition(state=8, action='1', next_state='2', reward='3'), Transition(state=9, action='1', next_state='2', reward='3')]\n",
      "Transition(state=6, action='1', next_state='2', reward='3')\n",
      "[Transition(state=0, action='1', next_state='2', reward='3'), Transition(state=1, action='1', next_state='2', reward='3'), Transition(state=2, action='1', next_state='2', reward='3'), Transition(state=3, action='1', next_state='2', reward='3'), Transition(state=4, action='1', next_state='2', reward='3'), Transition(state=5, action='1', next_state='2', reward='3'), Transition(state=7, action='1', next_state='2', reward='3'), Transition(state=8, action='1', next_state='2', reward='3'), Transition(state=9, action='1', next_state='2', reward='3')]\n"
     ]
    }
   ],
   "source": [
    "x = []\n",
    "for i in range(10):\n",
    "    x.append(Transition(i,\"1\",\"2\",\"3\"))\n",
    "print(x)\n",
    "z = x.pop(random.randrange(0,len(x),3))\n",
    "print(z)\n",
    "print(x)"
   ]
  },
  {
   "cell_type": "code",
   "execution_count": 38,
   "id": "b9753988-fbe9-4acc-94f5-21a39cebe801",
   "metadata": {},
   "outputs": [
    {
     "data": {
      "text/plain": [
       "0"
      ]
     },
     "execution_count": 38,
     "metadata": {},
     "output_type": "execute_result"
    }
   ],
   "source": [
    "random.randrange(0,10,3)"
   ]
  },
  {
   "cell_type": "code",
   "execution_count": 39,
   "id": "76be0f69-4347-48a2-9157-f5370ba3f736",
   "metadata": {},
   "outputs": [
    {
     "name": "stdout",
     "output_type": "stream",
     "text": [
      "[0, 1, 2, 3, 4, 5, 6, 7, 8, 9]\n",
      "[7, 8, 9]\n",
      "[0, 1, 2, 3, 4, 5, 6]\n"
     ]
    }
   ],
   "source": [
    "x = list(range(10))\n",
    "print(x)\n",
    "print(x[-3:])\n",
    "print(x[:-3])"
   ]
  },
  {
   "cell_type": "code",
   "execution_count": null,
   "id": "8eb9753f-8c54-4699-9551-dcfdd5aa5564",
   "metadata": {},
   "outputs": [],
   "source": []
  }
 ],
 "metadata": {
  "kernelspec": {
   "display_name": "Python 3 (ipykernel)",
   "language": "python",
   "name": "python3"
  },
  "language_info": {
   "codemirror_mode": {
    "name": "ipython",
    "version": 3
   },
   "file_extension": ".py",
   "mimetype": "text/x-python",
   "name": "python",
   "nbconvert_exporter": "python",
   "pygments_lexer": "ipython3",
   "version": "3.9.12"
  }
 },
 "nbformat": 4,
 "nbformat_minor": 5
}
