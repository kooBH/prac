{
 "cells": [
  {
   "cell_type": "code",
   "execution_count": 45,
   "id": "0231fffd-2506-43e6-a693-fa4587138a83",
   "metadata": {},
   "outputs": [],
   "source": [
    "import torch"
   ]
  },
  {
   "cell_type": "code",
   "execution_count": 46,
   "id": "06361914-dc5c-41d9-bed0-89bee35dce0e",
   "metadata": {},
   "outputs": [],
   "source": [
    "embed_dim = 128*3\n",
    "num_heads = 8\n",
    "m = torch.nn.MultiheadAttention(\n",
    "    embed_dim, \n",
    "    num_heads, \n",
    "    dropout=0.0, \n",
    "    bias=True, \n",
    "    add_bias_kv=False, \n",
    "    add_zero_attn=False, \n",
    "    kdim=None, \n",
    "    vdim=None, \n",
    "    batch_first=True, \n",
    "    device=None, \n",
    "    dtype=None)"
   ]
  },
  {
   "cell_type": "code",
   "execution_count": 47,
   "id": "7df2e1ad-4f99-4d83-9756-769c412303a2",
   "metadata": {},
   "outputs": [],
   "source": [
    "n_seq = 32\n",
    "x = torch.rand(2,n_seq,embed_dim)"
   ]
  },
  {
   "cell_type": "code",
   "execution_count": 48,
   "id": "e7c39dc0-b36b-43af-945e-7a5e4310b949",
   "metadata": {},
   "outputs": [
    {
     "name": "stdout",
     "output_type": "stream",
     "text": [
      "torch.Size([2, 32, 384])\n",
      "torch.Size([2, 32, 32])\n"
     ]
    }
   ],
   "source": [
    "y,_ = m(x,x,x)\n",
    "print(y.shape)\n",
    "print(_.shape)"
   ]
  }
 ],
 "metadata": {
  "kernelspec": {
   "display_name": "Python 3 (ipykernel)",
   "language": "python",
   "name": "python3"
  },
  "language_info": {
   "codemirror_mode": {
    "name": "ipython",
    "version": 3
   },
   "file_extension": ".py",
   "mimetype": "text/x-python",
   "name": "python",
   "nbconvert_exporter": "python",
   "pygments_lexer": "ipython3",
   "version": "3.9.12"
  }
 },
 "nbformat": 4,
 "nbformat_minor": 5
}
