{
 "cells": [
  {
   "cell_type": "code",
   "execution_count": 1,
   "id": "dcea5b55-2c3d-4239-a997-1668c4506163",
   "metadata": {},
   "outputs": [],
   "source": [
    "import numpy as np"
   ]
  },
  {
   "cell_type": "code",
   "execution_count": 14,
   "id": "61ff1076-eae4-4fd8-b02d-74c4e40a1dbb",
   "metadata": {},
   "outputs": [
    {
     "name": "stdout",
     "output_type": "stream",
     "text": [
      "[[99 91 22 60 81]\n",
      " [13 43 18 68 56]]\n",
      "[[0 0 0 0 0]\n",
      " [0 0 0 0 0]]\n"
     ]
    }
   ],
   "source": [
    "n_unit = 5\n",
    "n_hop = 5\n",
    "\n",
    "x = np.random.rand(2,n_unit)*100\n",
    "x = x.astype(np.int16)\n",
    "print(x)\n",
    "x[:,0:-n_hop] = x[:,n_hop:]\n",
    "x[:,-n_hop:] = 0\n",
    "print(x)"
   ]
  },
  {
   "cell_type": "code",
   "execution_count": null,
   "id": "fea57380-17d8-4040-9865-54c66520a29f",
   "metadata": {},
   "outputs": [],
   "source": []
  }
 ],
 "metadata": {
  "kernelspec": {
   "display_name": "Python 3 (ipykernel)",
   "language": "python",
   "name": "python3"
  },
  "language_info": {
   "codemirror_mode": {
    "name": "ipython",
    "version": 3
   },
   "file_extension": ".py",
   "mimetype": "text/x-python",
   "name": "python",
   "nbconvert_exporter": "python",
   "pygments_lexer": "ipython3",
   "version": "3.9.12"
  }
 },
 "nbformat": 4,
 "nbformat_minor": 5
}
