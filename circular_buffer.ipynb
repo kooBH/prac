{
 "cells": [
  {
   "cell_type": "code",
   "execution_count": 4,
   "id": "95b4d924-d38a-453f-b632-f86d25d86aef",
   "metadata": {},
   "outputs": [],
   "source": [
    "from collections import deque\n",
    "import numpy as np"
   ]
  },
  {
   "cell_type": "code",
   "execution_count": 5,
   "id": "39b145ed-d162-4e28-95a9-63f75b0577d4",
   "metadata": {},
   "outputs": [
    {
     "data": {
      "text/plain": [
       "array([0, 1, 2])"
      ]
     },
     "execution_count": 5,
     "metadata": {},
     "output_type": "execute_result"
    }
   ],
   "source": [
    "np.array(range(3))"
   ]
  },
  {
   "cell_type": "code",
   "execution_count": 2,
   "id": "e464bbb5-d460-489d-bb9f-d0fe1c26012b",
   "metadata": {},
   "outputs": [],
   "source": [
    "buffer = deque()"
   ]
  },
  {
   "cell_type": "code",
   "execution_count": 16,
   "id": "6abec6b0-695e-4c73-a1b7-aef523cfc75f",
   "metadata": {},
   "outputs": [
    {
     "data": {
      "text/plain": [
       "array([0, 1, 2, 3, 4, 5])"
      ]
     },
     "execution_count": 16,
     "metadata": {},
     "output_type": "execute_result"
    }
   ],
   "source": [
    "buffer.clear()\n",
    "for i in range(3) : \n",
    "    buffer.append(list(np.array(range(i*3,(i+1)*3))))\n",
    "np.concatenate((buffer[0],buffer[1]))"
   ]
  },
  {
   "cell_type": "code",
   "execution_count": 20,
   "id": "749074dd-0e8e-4634-8f70-d165040f8fbf",
   "metadata": {},
   "outputs": [
    {
     "data": {
      "text/plain": [
       "array([[0.8338304 , 0.74103752, 0.11704021, 0.10275593],\n",
       "       [0.83862884, 0.90776859, 0.02294221, 0.44388724],\n",
       "       [0.70172541, 0.75524376, 0.30330519, 0.86624744]])"
      ]
     },
     "execution_count": 20,
     "metadata": {},
     "output_type": "execute_result"
    }
   ],
   "source": [
    "xx = np.random.rand(3,4) \n",
    "xx"
   ]
  },
  {
   "cell_type": "code",
   "execution_count": 21,
   "id": "28b0f3fc-7627-465e-ae18-d10a6923a4a5",
   "metadata": {},
   "outputs": [
    {
     "data": {
      "text/plain": [
       "array([[0.8338304 , 0.11704021],\n",
       "       [0.83862884, 0.02294221],\n",
       "       [0.70172541, 0.30330519]])"
      ]
     },
     "execution_count": 21,
     "metadata": {},
     "output_type": "execute_result"
    }
   ],
   "source": [
    "xx[:,::2]"
   ]
  },
  {
   "cell_type": "code",
   "execution_count": 24,
   "id": "17cc10c0-40ed-4b81-8b03-99e36bed2c6f",
   "metadata": {},
   "outputs": [
    {
     "data": {
      "text/plain": [
       "array([[0.74103752, 0.10275593],\n",
       "       [0.90776859, 0.44388724],\n",
       "       [0.75524376, 0.86624744]])"
      ]
     },
     "execution_count": 24,
     "metadata": {},
     "output_type": "execute_result"
    }
   ],
   "source": [
    "xx[:,1::2]"
   ]
  },
  {
   "cell_type": "code",
   "execution_count": null,
   "id": "2cfd1bf4-6fd4-442a-a90d-6cd79da8f1b6",
   "metadata": {},
   "outputs": [],
   "source": []
  }
 ],
 "metadata": {
  "kernelspec": {
   "display_name": "Python 3 (ipykernel)",
   "language": "python",
   "name": "python3"
  },
  "language_info": {
   "codemirror_mode": {
    "name": "ipython",
    "version": 3
   },
   "file_extension": ".py",
   "mimetype": "text/x-python",
   "name": "python",
   "nbconvert_exporter": "python",
   "pygments_lexer": "ipython3",
   "version": "3.9.0"
  }
 },
 "nbformat": 4,
 "nbformat_minor": 5
}
