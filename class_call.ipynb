{
 "cells": [
  {
   "cell_type": "code",
   "execution_count": 14,
   "id": "fdab9a90-ef23-4e67-8822-01617cc62e92",
   "metadata": {},
   "outputs": [],
   "source": [
    "class ccc : \n",
    "    def __init__(self,val,c_type=\"sum\"):\n",
    "        self.val = val\n",
    "        \n",
    "        if c_type ==\"sum\":\n",
    "            self.f = self.c_sum\n",
    "        else :\n",
    "            self.f = self.c_prod\n",
    "        \n",
    "        print(\"init {}\".format(val))\n",
    "        \n",
    "    def __call__(self,val):\n",
    "        print(\"{} {}\".format(self.val,val))\n",
    "        self.f(self.val,val)\n",
    "        \n",
    "    def c_sum(self,x,y):\n",
    "        print(x+y)\n",
    "        \n",
    "    def c_prod(self,x,y) :\n",
    "        print(x*y)"
   ]
  },
  {
   "cell_type": "code",
   "execution_count": 16,
   "id": "43411e2b-4334-4aab-b529-a5e08c40aeaf",
   "metadata": {},
   "outputs": [
    {
     "name": "stdout",
     "output_type": "stream",
     "text": [
      "init 7\n",
      "7 3\n",
      "10\n",
      "init 5\n",
      "5 6\n",
      "30\n"
     ]
    }
   ],
   "source": [
    "x = ccc(7)\n",
    "x(3)\n",
    "\n",
    "x = ccc(5,\"prod\")\n",
    "x(6)"
   ]
  },
  {
   "cell_type": "code",
   "execution_count": null,
   "id": "ec571cc4-a708-4149-bcf3-0259b004a647",
   "metadata": {},
   "outputs": [],
   "source": []
  }
 ],
 "metadata": {
  "kernelspec": {
   "display_name": "Python 3 (ipykernel)",
   "language": "python",
   "name": "python3"
  },
  "language_info": {
   "codemirror_mode": {
    "name": "ipython",
    "version": 3
   },
   "file_extension": ".py",
   "mimetype": "text/x-python",
   "name": "python",
   "nbconvert_exporter": "python",
   "pygments_lexer": "ipython3",
   "version": "3.9.12"
  }
 },
 "nbformat": 4,
 "nbformat_minor": 5
}
