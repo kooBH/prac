{
 "cells": [
  {
   "cell_type": "code",
   "execution_count": 1,
   "id": "401384c9-d472-459b-ae0b-501260a95631",
   "metadata": {},
   "outputs": [],
   "source": [
    "import numpy as np"
   ]
  },
  {
   "cell_type": "code",
   "execution_count": 2,
   "id": "4e253597-f43a-4ae7-8809-cca28223bc00",
   "metadata": {},
   "outputs": [
    {
     "data": {
      "text/plain": [
       "array([0.44693672+0.81761036j, 0.45184771+0.05109186j])"
      ]
     },
     "execution_count": 2,
     "metadata": {},
     "output_type": "execute_result"
    }
   ],
   "source": [
    "x = np.random.random(2) + np.random.random(2) * 1j\n",
    "x"
   ]
  },
  {
   "cell_type": "code",
   "execution_count": 8,
   "id": "bd5f6a37-d2fd-4122-9106-e495ed0e29aa",
   "metadata": {},
   "outputs": [
    {
     "name": "stdout",
     "output_type": "stream",
     "text": [
      "[0.48522891+0.53447195j 0.19651139+0.1687195j  0.40916614+0.30057621j]\n",
      "[[0.48522891 0.19651139 0.40916614]\n",
      " [0.53447195 0.1687195  0.30057621]]\n",
      "(2, 3)\n"
     ]
    }
   ],
   "source": [
    "x = np.random.random(3) + np.random.random(3) * 1j\n",
    "print(x)\n",
    "print(np.stack([x.real,x.imag]))\n",
    "print(np.stack([x.real,x.imag]).shape)"
   ]
  },
  {
   "cell_type": "code",
   "execution_count": 9,
   "id": "ec64869a-9357-4fe2-a7bf-4e2bca7f578a",
   "metadata": {},
   "outputs": [
    {
     "name": "stdout",
     "output_type": "stream",
     "text": [
      "[0.88465568+0.83753534j 0.9476825 +0.78075992j 0.51627461+0.54336614j]\n",
      "[0.88465568 0.9476825  0.51627461 0.83753534 0.78075992 0.54336614]\n"
     ]
    }
   ],
   "source": [
    "x = np.random.random(3) + np.random.random(3) * 1j\n",
    "print(x)\n",
    "print(np.concatenate([x.real,x.imag]))"
   ]
  },
  {
   "cell_type": "code",
   "execution_count": 1,
   "id": "f3c255b1-9c42-4b8e-a3ae-6bfb4ce19a64",
   "metadata": {},
   "outputs": [
    {
     "name": "stderr",
     "output_type": "stream",
     "text": [
      "/home/kbh/.conda/envs/dnn/lib/python3.9/site-packages/tqdm/auto.py:22: TqdmWarning: IProgress not found. Please update jupyter and ipywidgets. See https://ipywidgets.readthedocs.io/en/stable/user_install.html\n",
      "  from .autonotebook import tqdm as notebook_tqdm\n"
     ]
    }
   ],
   "source": [
    "import torch"
   ]
  },
  {
   "cell_type": "code",
   "execution_count": 2,
   "id": "bccbe108-66ef-48e0-8f7a-9bade131bac4",
   "metadata": {},
   "outputs": [
    {
     "name": "stdout",
     "output_type": "stream",
     "text": [
      "tensor([0.7084+0.6851j, 0.7990+0.0763j])\n"
     ]
    }
   ],
   "source": [
    "x = torch.rand(2) + torch.rand(2)*1j\n",
    "print(x)"
   ]
  },
  {
   "cell_type": "code",
   "execution_count": 9,
   "id": "42ab2f53-b729-4d51-8073-f24866220b7c",
   "metadata": {},
   "outputs": [
    {
     "name": "stdout",
     "output_type": "stream",
     "text": [
      "tensor([0.8021, 1.4756])\n",
      "tensor([0.7687, 0.0952])\n"
     ]
    },
    {
     "data": {
      "text/plain": [
       "tensor([0.7687, 0.0952])"
      ]
     },
     "execution_count": 9,
     "metadata": {},
     "output_type": "execute_result"
    }
   ],
   "source": [
    "y = torch.atan2(x.real,x.imag)\n",
    "print(y)\n",
    "y = torch.atan2(x.imag,x.real)\n",
    "print(y)\n",
    "\n",
    "torch.angle(x)"
   ]
  },
  {
   "cell_type": "code",
   "execution_count": 27,
   "id": "66a822ef-574c-44b2-b62c-a32700c68c3f",
   "metadata": {},
   "outputs": [
    {
     "name": "stdout",
     "output_type": "stream",
     "text": [
      "tensor([[[-0.3441-0.1280j, -0.9207-0.4487j, -0.3772-0.4046j,  0.5065-0.1703j],\n",
      "         [ 0.8077+0.6046j,  0.3116+1.1059j,  0.2083-0.7167j,  0.1279+1.1893j],\n",
      "         [-0.6667+0.0462j,  1.3652+0.1824j,  0.3536-0.7930j, -1.2080-0.8848j]],\n",
      "\n",
      "        [[-0.0893+0.2029j, -0.1046+0.0346j, -0.1208-0.0274j,  1.2703+0.0455j],\n",
      "         [ 0.9947+0.3275j,  0.5457+1.4296j,  0.9338-1.1075j, -0.6547-0.4104j],\n",
      "         [-0.2098+0.3105j, -0.1684-0.0152j, -0.2089-0.6587j,  0.2307+0.3432j]]])\n",
      "torch.Size([2, 3, 4, 2])\n",
      "tensor([[[-0.3441, -0.9207, -0.3772,  0.5065],\n",
      "         [ 0.8077,  0.3116,  0.2083,  0.1279],\n",
      "         [-0.6667,  1.3652,  0.3536, -1.2080],\n",
      "         [-0.1280, -0.4487, -0.4046, -0.1703],\n",
      "         [ 0.6046,  1.1059, -0.7167,  1.1893],\n",
      "         [ 0.0462,  0.1824, -0.7930, -0.8848]],\n",
      "\n",
      "        [[-0.0893, -0.1046, -0.1208,  1.2703],\n",
      "         [ 0.9947,  0.5457,  0.9338, -0.6547],\n",
      "         [-0.2098, -0.1684, -0.2089,  0.2307],\n",
      "         [ 0.2029,  0.0346, -0.0274,  0.0455],\n",
      "         [ 0.3275,  1.4296, -1.1075, -0.4104],\n",
      "         [ 0.3105, -0.0152, -0.6587,  0.3432]]])\n",
      "torch.Size([2, 6, 4])\n"
     ]
    }
   ],
   "source": [
    "x=torch.randn((2,3,4), dtype=torch.cfloat)\n",
    "print(x)\n",
    "print(torch.view_as_real(x).shape)\n",
    "\n",
    "y = torch.cat((x.real,x.imag),1)\n",
    "print(y)\n",
    "print(y.shape)"
   ]
  },
  {
   "cell_type": "code",
   "execution_count": null,
   "id": "3404b1c8-42f8-49b9-8bb2-290c3b1bb6f4",
   "metadata": {},
   "outputs": [],
   "source": []
  }
 ],
 "metadata": {
  "kernelspec": {
   "display_name": "Python 3 (ipykernel)",
   "language": "python",
   "name": "python3"
  },
  "language_info": {
   "codemirror_mode": {
    "name": "ipython",
    "version": 3
   },
   "file_extension": ".py",
   "mimetype": "text/x-python",
   "name": "python",
   "nbconvert_exporter": "python",
   "pygments_lexer": "ipython3",
   "version": "3.9.12"
  }
 },
 "nbformat": 4,
 "nbformat_minor": 5
}
