{
 "cells": [
  {
   "cell_type": "code",
   "execution_count": 1,
   "id": "401384c9-d472-459b-ae0b-501260a95631",
   "metadata": {},
   "outputs": [],
   "source": [
    "import numpy as np"
   ]
  },
  {
   "cell_type": "code",
   "execution_count": 2,
   "id": "4e253597-f43a-4ae7-8809-cca28223bc00",
   "metadata": {},
   "outputs": [
    {
     "data": {
      "text/plain": [
       "array([0.44693672+0.81761036j, 0.45184771+0.05109186j])"
      ]
     },
     "execution_count": 2,
     "metadata": {},
     "output_type": "execute_result"
    }
   ],
   "source": [
    "x = np.random.random(2) + np.random.random(2) * 1j\n",
    "x"
   ]
  },
  {
   "cell_type": "code",
   "execution_count": 8,
   "id": "bd5f6a37-d2fd-4122-9106-e495ed0e29aa",
   "metadata": {},
   "outputs": [
    {
     "name": "stdout",
     "output_type": "stream",
     "text": [
      "[0.48522891+0.53447195j 0.19651139+0.1687195j  0.40916614+0.30057621j]\n",
      "[[0.48522891 0.19651139 0.40916614]\n",
      " [0.53447195 0.1687195  0.30057621]]\n",
      "(2, 3)\n"
     ]
    }
   ],
   "source": [
    "x = np.random.random(3) + np.random.random(3) * 1j\n",
    "print(x)\n",
    "print(np.stack([x.real,x.imag]))\n",
    "print(np.stack([x.real,x.imag]).shape)"
   ]
  },
  {
   "cell_type": "code",
   "execution_count": 9,
   "id": "ec64869a-9357-4fe2-a7bf-4e2bca7f578a",
   "metadata": {},
   "outputs": [
    {
     "name": "stdout",
     "output_type": "stream",
     "text": [
      "[0.88465568+0.83753534j 0.9476825 +0.78075992j 0.51627461+0.54336614j]\n",
      "[0.88465568 0.9476825  0.51627461 0.83753534 0.78075992 0.54336614]\n"
     ]
    }
   ],
   "source": [
    "x = np.random.random(3) + np.random.random(3) * 1j\n",
    "print(x)\n",
    "print(np.concatenate([x.real,x.imag]))"
   ]
  },
  {
   "cell_type": "code",
   "execution_count": null,
   "id": "205a0c35-8cab-4e55-a9a2-6b50d3c8edbd",
   "metadata": {},
   "outputs": [],
   "source": []
  }
 ],
 "metadata": {
  "kernelspec": {
   "display_name": "Python 3 (ipykernel)",
   "language": "python",
   "name": "python3"
  },
  "language_info": {
   "codemirror_mode": {
    "name": "ipython",
    "version": 3
   },
   "file_extension": ".py",
   "mimetype": "text/x-python",
   "name": "python",
   "nbconvert_exporter": "python",
   "pygments_lexer": "ipython3",
   "version": "3.9.12"
  }
 },
 "nbformat": 4,
 "nbformat_minor": 5
}
