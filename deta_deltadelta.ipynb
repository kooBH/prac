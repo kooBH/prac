{
 "cells": [
  {
   "cell_type": "code",
   "execution_count": 3,
   "id": "f446f36c-6713-429c-8384-58b3a0e3ad3a",
   "metadata": {},
   "outputs": [],
   "source": [
    "import numpy as np"
   ]
  },
  {
   "cell_type": "code",
   "execution_count": 32,
   "id": "1c57bc6d-d0fb-49ed-8795-561f69e96429",
   "metadata": {},
   "outputs": [
    {
     "name": "stdout",
     "output_type": "stream",
     "text": [
      "[[[0.34768266 0.51319427 0.97147086 0.0713947 ]\n",
      "  [0.80660414 0.13657459 0.30612807 0.96639668]\n",
      "  [0.95201856 0.03586211 0.21179717 0.50296251]]\n",
      "\n",
      " [[0.03461661 0.45188783 0.46120044 0.59065363]\n",
      "  [0.10303434 0.45954859 0.06552491 0.54517825]\n",
      "  [0.9904959  0.18085103 0.47132844 0.99061564]]]\n"
     ]
    }
   ],
   "source": [
    "x = np.random.rand(2,3,4) # C, F, T\n",
    "#x = np.ones((2,3,4))\n",
    "print(x)"
   ]
  },
  {
   "cell_type": "code",
   "execution_count": 33,
   "id": "3c06dda9-5b4a-4044-91e8-16d2153a5c31",
   "metadata": {},
   "outputs": [
    {
     "name": "stdout",
     "output_type": "stream",
     "text": [
      "[[[ 0.16551161  0.45827659 -0.90007616  0.        ]\n",
      "  [-0.67002955  0.16955348  0.66026861  0.        ]\n",
      "  [-0.91615645  0.17593506  0.29116534  0.        ]]\n",
      "\n",
      " [[ 0.41727122  0.00931261  0.1294532   0.        ]\n",
      "  [ 0.35651425 -0.39402368  0.47965335  0.        ]\n",
      "  [-0.80964487  0.29047741  0.5192872   0.        ]]]\n"
     ]
    }
   ],
   "source": [
    "d = np.zeros(x.shape)\n",
    "d[:,:,:-1] =x[:,:,1:]-x[:,:,:-1]\n",
    "print(d)"
   ]
  },
  {
   "cell_type": "code",
   "execution_count": 34,
   "id": "44bc37fc-44ae-4e26-acc4-05a54048519d",
   "metadata": {},
   "outputs": [
    {
     "name": "stdout",
     "output_type": "stream",
     "text": [
      "[[[ 0.29276499 -1.35835275  0.90007616  0.        ]\n",
      "  [ 0.83958304  0.49071513 -0.66026861  0.        ]\n",
      "  [ 1.09209152  0.11523028 -0.29116534  0.        ]]\n",
      "\n",
      " [[-0.40795861  0.12014059 -0.1294532   0.        ]\n",
      "  [-0.75053794  0.87367703 -0.47965335  0.        ]\n",
      "  [ 1.10012228  0.22880979 -0.5192872   0.        ]]]\n"
     ]
    }
   ],
   "source": [
    "dd = np.zeros(x.shape)\n",
    "dd[:,:,:-1] =d[:,:,1:]-d[:,:,:-1]\n",
    "print(dd)"
   ]
  },
  {
   "cell_type": "code",
   "execution_count": null,
   "id": "4d6e1f91-31f6-43e0-8a3a-9906ccf9a8f4",
   "metadata": {},
   "outputs": [],
   "source": []
  }
 ],
 "metadata": {
  "kernelspec": {
   "display_name": "Python 3 (ipykernel)",
   "language": "python",
   "name": "python3"
  },
  "language_info": {
   "codemirror_mode": {
    "name": "ipython",
    "version": 3
   },
   "file_extension": ".py",
   "mimetype": "text/x-python",
   "name": "python",
   "nbconvert_exporter": "python",
   "pygments_lexer": "ipython3",
   "version": "3.9.6"
  }
 },
 "nbformat": 4,
 "nbformat_minor": 5
}
