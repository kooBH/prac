{
 "cells": [
  {
   "cell_type": "code",
   "execution_count": 1,
   "id": "6825c84e-c3ac-4059-bcea-8ef974fba8a9",
   "metadata": {
    "tags": []
   },
   "outputs": [],
   "source": [
    "x = {\"a\":{\"a\":1,\"b\":2},\"b\":2}"
   ]
  },
  {
   "cell_type": "code",
   "execution_count": 2,
   "id": "25414aee-1732-4015-98f5-1dffa50806ea",
   "metadata": {
    "tags": []
   },
   "outputs": [
    {
     "data": {
      "text/plain": [
       "{'a': {'a': 1, 'b': 2}, 'b': 2}"
      ]
     },
     "execution_count": 2,
     "metadata": {},
     "output_type": "execute_result"
    }
   ],
   "source": [
    "x"
   ]
  },
  {
   "cell_type": "code",
   "execution_count": 5,
   "id": "25472ae4-0bd2-4ace-827f-23f0df1e2875",
   "metadata": {
    "tags": []
   },
   "outputs": [],
   "source": [
    "x.get(\"c\")"
   ]
  },
  {
   "cell_type": "code",
   "execution_count": null,
   "id": "e50eeb94-c94d-4253-b71f-3e479d1c855a",
   "metadata": {},
   "outputs": [],
   "source": []
  }
 ],
 "metadata": {
  "kernelspec": {
   "display_name": "Python 3 (ipykernel)",
   "language": "python",
   "name": "python3"
  },
  "language_info": {
   "codemirror_mode": {
    "name": "ipython",
    "version": 3
   },
   "file_extension": ".py",
   "mimetype": "text/x-python",
   "name": "python",
   "nbconvert_exporter": "python",
   "pygments_lexer": "ipython3",
   "version": "3.9.15"
  }
 },
 "nbformat": 4,
 "nbformat_minor": 5
}
