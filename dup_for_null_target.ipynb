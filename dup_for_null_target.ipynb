{
 "cells": [
  {
   "cell_type": "code",
   "execution_count": 19,
   "id": "b38be038-70b2-4d22-b8da-dff0573a2bef",
   "metadata": {},
   "outputs": [],
   "source": [
    "import torch\n",
    "import numpy"
   ]
  },
  {
   "cell_type": "markdown",
   "id": "1a0aa135-0aad-44e7-84e2-9655f4d07fc5",
   "metadata": {},
   "source": [
    "fill empty area of vector by pre-existing vecotr"
   ]
  },
  {
   "cell_type": "code",
   "execution_count": 82,
   "id": "c8578c27-6f9d-4f51-b56c-d4ca2f9ef95b",
   "metadata": {},
   "outputs": [
    {
     "name": "stdout",
     "output_type": "stream",
     "text": [
      "4\n",
      "torch.Size([4, 10, 2])\n"
     ]
    },
    {
     "data": {
      "text/plain": [
       "tensor([[[1.6065e-01, 6.1124e-02],\n",
       "         [6.3209e-01, 6.3952e-01],\n",
       "         [8.8994e-01, 2.2361e-01],\n",
       "         [1.2470e-01, 7.6406e-01],\n",
       "         [2.5879e-01, 5.6566e-01],\n",
       "         [6.8848e-01, 2.6304e-01],\n",
       "         [7.1631e-01, 8.6842e-01],\n",
       "         [9.3183e-02, 7.9398e-02],\n",
       "         [7.3794e-01, 5.1500e-01],\n",
       "         [3.7547e-01, 9.3556e-02]],\n",
       "\n",
       "        [[6.1305e-01, 4.6207e-01],\n",
       "         [2.7276e-01, 8.9188e-01],\n",
       "         [4.8486e-01, 5.8550e-04],\n",
       "         [2.6872e-01, 9.9188e-01],\n",
       "         [3.7269e-01, 3.8141e-01],\n",
       "         [6.7437e-01, 1.3078e-01],\n",
       "         [6.4039e-01, 6.4582e-02],\n",
       "         [6.6564e-01, 4.7936e-01],\n",
       "         [3.6923e-01, 9.8294e-01],\n",
       "         [3.9816e-01, 4.0327e-01]],\n",
       "\n",
       "        [[2.8157e-01, 7.1058e-01],\n",
       "         [8.7295e-01, 4.5519e-01],\n",
       "         [6.6061e-01, 5.7991e-01],\n",
       "         [3.9003e-01, 4.5831e-01],\n",
       "         [1.3990e-02, 3.1829e-01],\n",
       "         [6.0591e-01, 5.4151e-01],\n",
       "         [5.1429e-01, 1.8994e-02],\n",
       "         [2.3231e-01, 5.4332e-01],\n",
       "         [8.4017e-01, 8.8802e-01],\n",
       "         [5.5240e-01, 5.0063e-01]],\n",
       "\n",
       "        [[1.2111e-01, 1.9699e-01],\n",
       "         [4.8947e-01, 4.7569e-02],\n",
       "         [3.7427e-01, 8.9937e-01],\n",
       "         [8.0651e-01, 9.5141e-01],\n",
       "         [9.1369e-01, 3.5098e-01],\n",
       "         [8.3751e-01, 6.7370e-01],\n",
       "         [6.2542e-01, 8.6548e-01],\n",
       "         [5.1678e-01, 8.5306e-01],\n",
       "         [2.4181e-01, 2.4170e-04],\n",
       "         [6.9986e-01, 3.8709e-01]]])"
      ]
     },
     "execution_count": 82,
     "metadata": {},
     "output_type": "execute_result"
    }
   ],
   "source": [
    "angle = torch.zeros(4,10,2)\n",
    "n_src = numpy.random.randint(low=1,high=5)\n",
    "print(n_src)\n",
    "x = torch.rand(n_src,10,2)\n",
    "print(x.shape)\n",
    "angle[:n_src,:,:]=x\n",
    "angle[n_src:4,:,:] = x[numpy.random.choice(range(n_src),4-n_src),:,:]\n",
    "angle"
   ]
  },
  {
   "cell_type": "code",
   "execution_count": null,
   "id": "a6c1775c-e824-41c6-a809-4ef4443bce05",
   "metadata": {},
   "outputs": [],
   "source": []
  }
 ],
 "metadata": {
  "kernelspec": {
   "display_name": "Python 3 (ipykernel)",
   "language": "python",
   "name": "python3"
  },
  "language_info": {
   "codemirror_mode": {
    "name": "ipython",
    "version": 3
   },
   "file_extension": ".py",
   "mimetype": "text/x-python",
   "name": "python",
   "nbconvert_exporter": "python",
   "pygments_lexer": "ipython3",
   "version": "3.8.10"
  }
 },
 "nbformat": 4,
 "nbformat_minor": 5
}
