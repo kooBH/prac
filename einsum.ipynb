{
 "cells": [
  {
   "cell_type": "markdown",
   "id": "9f796578-b2e9-4719-99c8-134fe1c14989",
   "metadata": {
    "tags": []
   },
   "source": [
    "# Einstein summation convention\n",
    "\n",
    "+ TORCH.EINSUM  \n",
    "https://pytorch.org/docs/stable/generated/torch.einsum.html\n",
    "\n",
    "+ Einsum에 대해 간략한 정리  \n",
    "https://ita9naiwa.github.io/numeric%20calculation/2018/11/10/Einsum.html  \n",
    "  \n",
    "+ EINSUM IS ALL YOU NEED - EINSTEIN SUMMATION IN DEEP LEARNING  \n",
    "https://rockt.github.io/2018/04/30/einsum  \n",
    "\n",
    "+ Einstein Summation in Numpy  \n",
    "https://obilaniu6266h16.wordpress.com/2016/02/04/einstein-summation-in-numpy/"
   ]
  },
  {
   "cell_type": "markdown",
   "id": "9b2ee3ea-1ae1-4676-b6a2-96e30dc249c5",
   "metadata": {},
   "source": [
    "```\n",
    "Vector inner product: \"a,a->\" (Assumes two vectors of same length)\n",
    "Vector element-wise product: \"a,a->a\" (Assumes two vectors of same length)\n",
    "Vector outer product: \"a,b->ab\" (Vectors not necessarily same length.)\n",
    "Matrix transposition: \"ab->ba\"\n",
    "Matrix diagonal: \"ii->i\"\n",
    "Matrix trace: \"ii->\"\n",
    "1-D Sum: \"a->\"\n",
    "2-D Sum: \"ab->\"\n",
    "3-D Sum: \"abc->\"\n",
    "Matrix inner product \"ab,ab->\" (If you pass twice the same argument, it becomes a matrix L2 norm)\n",
    "Left-multiplication Matrix-Vector: \"ab,b->a\"\n",
    "Right-multiplication Vector-Matrix: \"a,ab->b\"\n",
    "Matrix Multiply: \"ab,bc->ac\"\n",
    "Batch Matrix Multiply: \"Yab,Ybc->Yac\"\n",
    "Quadratic form / Mahalanobis Distance: \"a,ab,b->\"\n",
    "```"
   ]
  },
  {
   "cell_type": "code",
   "execution_count": null,
   "id": "f7916870-2471-4399-99ea-956f68cdb0e7",
   "metadata": {},
   "outputs": [],
   "source": []
  },
  {
   "cell_type": "code",
   "execution_count": 1,
   "id": "d9ae5ce0-1d32-4222-ba6e-cf29daabcd98",
   "metadata": {},
   "outputs": [
    {
     "name": "stderr",
     "output_type": "stream",
     "text": [
      "/home/kbh/.conda/envs/dnn/lib/python3.9/site-packages/tqdm/auto.py:22: TqdmWarning: IProgress not found. Please update jupyter and ipywidgets. See https://ipywidgets.readthedocs.io/en/stable/user_install.html\n",
      "  from .autonotebook import tqdm as notebook_tqdm\n"
     ]
    }
   ],
   "source": [
    "import torch"
   ]
  },
  {
   "cell_type": "markdown",
   "id": "a86cbe8d-6c8e-4eff-b7cf-36a818d2bfe7",
   "metadata": {},
   "source": [
    "+ Transpose"
   ]
  },
  {
   "cell_type": "code",
   "execution_count": 2,
   "id": "437305ec-ad95-4e77-9c54-7eda2e437dd5",
   "metadata": {},
   "outputs": [
    {
     "name": "stdout",
     "output_type": "stream",
     "text": [
      "tensor([[0.9050, 0.0506],\n",
      "        [0.5148, 0.7061]])\n",
      "tensor([[0.9050, 0.5148],\n",
      "        [0.0506, 0.7061]])\n"
     ]
    }
   ],
   "source": [
    "x = torch.rand(2,2)\n",
    "print(x)\n",
    "y =  torch.einsum(\"ij->ji\",x)\n",
    "print(y)"
   ]
  },
  {
   "cell_type": "markdown",
   "id": "8d04fcd3-96e7-4974-b4e0-d00aff8e3d8c",
   "metadata": {},
   "source": [
    "+ diagonal"
   ]
  },
  {
   "cell_type": "code",
   "execution_count": 3,
   "id": "f9d57ef8-32ec-4e3b-8efd-d42897953b20",
   "metadata": {},
   "outputs": [
    {
     "name": "stdout",
     "output_type": "stream",
     "text": [
      "tensor([[0.3799, 0.6717],\n",
      "        [0.7511, 0.1676]])\n",
      "tensor([0.3799, 0.1676])\n"
     ]
    }
   ],
   "source": [
    "x = torch.rand(2,2)\n",
    "print(x)\n",
    "y =  torch.einsum(\"ii->i\",x)\n",
    "print(y)"
   ]
  },
  {
   "cell_type": "markdown",
   "id": "9de5a45a-5898-41af-ad58-fbca70a0130e",
   "metadata": {},
   "source": [
    "+ trace"
   ]
  },
  {
   "cell_type": "code",
   "execution_count": 4,
   "id": "acc28a6d-c05c-4a01-aa8d-743df193ccef",
   "metadata": {},
   "outputs": [
    {
     "name": "stdout",
     "output_type": "stream",
     "text": [
      "tensor([[0.6582, 0.7292],\n",
      "        [0.4265, 0.0500]])\n",
      "tensor(0.7082)\n"
     ]
    }
   ],
   "source": [
    "x = torch.rand(2,2)\n",
    "print(x)\n",
    "y =  torch.einsum(\"ii->\",x)\n",
    "print(y)"
   ]
  },
  {
   "cell_type": "markdown",
   "id": "b1319b72-7301-49d2-8144-891ba898a081",
   "metadata": {},
   "source": [
    "+ matrix sum to scalar"
   ]
  },
  {
   "cell_type": "code",
   "execution_count": 6,
   "id": "f105a518-5f90-4dc3-ab61-f90ff4a3ad49",
   "metadata": {},
   "outputs": [
    {
     "name": "stdout",
     "output_type": "stream",
     "text": [
      "tensor([[0.4424, 0.4060],\n",
      "        [0.5191, 0.4222]])\n",
      "tensor(1.7895)\n"
     ]
    }
   ],
   "source": [
    "x = torch.rand(2,2)\n",
    "print(x)\n",
    "y =  torch.einsum(\"ab->\",x)\n",
    "print(y)"
   ]
  },
  {
   "cell_type": "markdown",
   "id": "f8fa99f0-633b-4d03-8a19-3ef5e2b7b2ab",
   "metadata": {},
   "source": [
    "+ matrix column or row sum (to vector)"
   ]
  },
  {
   "cell_type": "code",
   "execution_count": 14,
   "id": "cef18bc2-a1dd-40b7-b698-e66d4d61dd1f",
   "metadata": {},
   "outputs": [
    {
     "name": "stdout",
     "output_type": "stream",
     "text": [
      "tensor([[2, 3],\n",
      "        [3, 4]])\n",
      "tensor([5, 7])\n",
      "tensor([5, 7])\n"
     ]
    }
   ],
   "source": [
    "x = torch.randint(10, (2, 2))\n",
    "print(x)\n",
    "y =  torch.einsum(\"ab->a\",x)\n",
    "print(y)\n",
    "y =  torch.einsum(\"ab->b\",x)\n",
    "print(y)"
   ]
  },
  {
   "cell_type": "markdown",
   "id": "4c2913f1-12b0-46e7-95ad-7aa205f9b8cf",
   "metadata": {},
   "source": [
    "+ Dot Product, Outer product of two vectors"
   ]
  },
  {
   "cell_type": "code",
   "execution_count": 21,
   "id": "77c68afc-b36a-49ee-bc20-0e4b2879d838",
   "metadata": {},
   "outputs": [
    {
     "name": "stdout",
     "output_type": "stream",
     "text": [
      "tensor([2, 7])\n",
      "tensor([6, 6])\n",
      "tensor(108)\n",
      "tensor([[12, 12],\n",
      "        [42, 42]])\n"
     ]
    }
   ],
   "source": [
    "a = torch.randint(10, (2,))\n",
    "b = torch.randint(10, (2,))\n",
    "print(a)\n",
    "print(b)\n",
    "y =  torch.einsum(\"a,b->\",a,b)\n",
    "print(y)\n",
    "y =  torch.einsum(\"a,b->ab\",a,b)\n",
    "print(y)"
   ]
  },
  {
   "cell_type": "markdown",
   "id": "f3576b3d-edaf-4cd4-bc6b-b92f87eec274",
   "metadata": {},
   "source": [
    "+ Hadamard(element-wise) product of vector or matrix"
   ]
  },
  {
   "cell_type": "code",
   "execution_count": 23,
   "id": "e8213ea6-0e13-4abe-ab36-a036330012fc",
   "metadata": {},
   "outputs": [
    {
     "name": "stdout",
     "output_type": "stream",
     "text": [
      "tensor([8, 6])\n",
      "tensor([0, 4])\n",
      "tensor([ 0, 24])\n",
      "-----------------\n",
      "tensor([[3, 3],\n",
      "        [1, 4]])\n",
      "tensor([[2, 2],\n",
      "        [6, 1]])\n",
      "tensor(22)\n"
     ]
    }
   ],
   "source": [
    "a = torch.randint(10, (2,))\n",
    "b = torch.randint(10, (2,))\n",
    "print(a)\n",
    "print(b)\n",
    "y =  torch.einsum(\"i,i->i\",a,b)\n",
    "print(y)\n",
    "print(\"-----------------\")\n",
    "a = torch.randint(10, (2,2))\n",
    "b = torch.randint(10, (2,2))\n",
    "print(a)\n",
    "print(b)\n",
    "y =  torch.einsum(\"ij,ij->\",a,b)\n",
    "print(y)"
   ]
  },
  {
   "cell_type": "markdown",
   "id": "013717f5-61e1-4087-b73a-27677323dd89",
   "metadata": {},
   "source": [
    "+ Matrix-Vector multiplication"
   ]
  },
  {
   "cell_type": "code",
   "execution_count": 25,
   "id": "f12201ad-8013-447c-bda3-eab8ae503bfb",
   "metadata": {},
   "outputs": [
    {
     "name": "stdout",
     "output_type": "stream",
     "text": [
      "tensor([[5, 9],\n",
      "        [8, 0]])\n",
      "tensor([2, 7])\n",
      "tensor([73, 16])\n"
     ]
    }
   ],
   "source": [
    "a = torch.randint(10, (2,2))\n",
    "b = torch.randint(10, (2,))\n",
    "print(a)\n",
    "print(b)\n",
    "y =  torch.einsum(\"ij,j->i\",a,b)\n",
    "print(y)"
   ]
  },
  {
   "cell_type": "markdown",
   "id": "c655d5f6-5010-45e3-be9a-979dc7e639c2",
   "metadata": {},
   "source": [
    "+ Matrix-Matrix Multiplication and Batched Matrix multiplication"
   ]
  },
  {
   "cell_type": "code",
   "execution_count": 29,
   "id": "f3b4769b-d627-4f97-a943-a9eee8e49da4",
   "metadata": {},
   "outputs": [
    {
     "name": "stdout",
     "output_type": "stream",
     "text": [
      "tensor([[1, 6],\n",
      "        [0, 3],\n",
      "        [7, 4]])\n",
      "tensor([[3, 5, 6],\n",
      "        [3, 6, 5]])\n",
      "tensor([[21, 41, 36],\n",
      "        [ 9, 18, 15],\n",
      "        [33, 59, 62]])\n",
      "-------------------\n",
      "tensor([[[4, 6],\n",
      "         [5, 8],\n",
      "         [5, 2]],\n",
      "\n",
      "        [[9, 1],\n",
      "         [2, 2],\n",
      "         [7, 8]]])\n",
      "tensor([[[2, 3, 7],\n",
      "         [2, 9, 7]],\n",
      "\n",
      "        [[9, 4, 1],\n",
      "         [2, 8, 0]]])\n",
      "tensor([[[20, 66, 70],\n",
      "         [26, 87, 91],\n",
      "         [14, 33, 49]],\n",
      "\n",
      "        [[83, 44,  9],\n",
      "         [22, 24,  2],\n",
      "         [79, 92,  7]]])\n"
     ]
    }
   ],
   "source": [
    "a = torch.randint(10, (3,2))\n",
    "b = torch.randint(10, (2,3))\n",
    "print(a)\n",
    "print(b)\n",
    "y =  torch.einsum(\"ik,kj->ij\",a,b)\n",
    "print(y)\n",
    "\n",
    "print(\"-------------------\")\n",
    "\n",
    "a = torch.randint(10, (2,3,2))\n",
    "b = torch.randint(10, (2,2,3))\n",
    "\n",
    "print(a)\n",
    "print(b)\n",
    "y =  torch.einsum(\"bik,bkj->bij\",a,b)\n",
    "print(y)"
   ]
  },
  {
   "cell_type": "markdown",
   "id": "21fb9dd1-3d11-496f-bbab-47ad76223d21",
   "metadata": {},
   "source": [
    "+ Quadritc Form, or Matrix norm, or Distance with respect to Matrix(Mahalanobis distance)"
   ]
  },
  {
   "cell_type": "code",
   "execution_count": 35,
   "id": "35c3de52-efce-4a12-9ecd-4ac63a550aa4",
   "metadata": {},
   "outputs": [
    {
     "name": "stdout",
     "output_type": "stream",
     "text": [
      "tensor([7, 4])\n",
      "tensor([8, 4])\n",
      "tensor([[8, 3],\n",
      "        [4, 5]])\n",
      "tensor(740)\n",
      "tensor([532, 208])\n",
      "tensor([576, 164])\n"
     ]
    }
   ],
   "source": [
    "a = torch.randint(10, (2,))\n",
    "b = torch.randint(10, (2,))\n",
    "X = torch.randint(10, (2,2))\n",
    "print(a)\n",
    "print(b)\n",
    "print(X)\n",
    "y =  torch.einsum(\"i,ij,j->\",a,X,b)\n",
    "print(y)\n",
    "y =  torch.einsum(\"i,ij,j->i\",a,X,b)\n",
    "print(y)\n",
    "y =  torch.einsum(\"i,ij,j->j\",a,X,b)\n",
    "print(y)"
   ]
  },
  {
   "cell_type": "markdown",
   "id": "5d74a29a-7694-40da-b4e3-0c71d7032b26",
   "metadata": {},
   "source": []
  },
  {
   "cell_type": "code",
   "execution_count": 40,
   "id": "32bfb09d-8358-4141-828b-2f3b1693e50e",
   "metadata": {},
   "outputs": [
    {
     "name": "stdout",
     "output_type": "stream",
     "text": [
      "tensor([[[9, 8, 2],\n",
      "         [9, 4, 3],\n",
      "         [7, 8, 9]],\n",
      "\n",
      "        [[7, 1, 2],\n",
      "         [5, 6, 2],\n",
      "         [4, 8, 6]],\n",
      "\n",
      "        [[9, 4, 0],\n",
      "         [9, 3, 5],\n",
      "         [0, 5, 0]],\n",
      "\n",
      "        [[1, 8, 2],\n",
      "         [3, 6, 0],\n",
      "         [6, 5, 0]]])\n",
      "tensor([[[ 0, -4,  0],\n",
      "         [-6, -3, -5],\n",
      "         [-4, -1, -8],\n",
      "         [-5, -1, -2]],\n",
      "\n",
      "        [[-4, -6, -7],\n",
      "         [-6, -7, -6],\n",
      "         [-1, -4, -1],\n",
      "         [-6, -7, -1]]])\n",
      "tensor([[[ -32,  -16,  -32],\n",
      "         [ -55,  -58,  -78],\n",
      "         [ -40,  -79,   -5],\n",
      "         [ -17,  -21,  -35]],\n",
      "\n",
      "        [[ -98,  -81, -139],\n",
      "         [ -61,  -84, -116],\n",
      "         [ -25,  -26,  -20],\n",
      "         [ -64,  -60,  -71]]])\n"
     ]
    }
   ],
   "source": [
    "a = torch.randint(10, (4,3,3))\n",
    "b = -torch.randint(10, (2,4,3))\n",
    "print(a)\n",
    "print(b)\n",
    "y = torch.einsum('fty,cfy->cft', [a, b])\n",
    "print(y)"
   ]
  },
  {
   "cell_type": "markdown",
   "id": "d2d2db59-999f-4652-b8bb-831393ee56b5",
   "metadata": {},
   "source": [
    "## Batched filtering"
   ]
  },
  {
   "cell_type": "code",
   "execution_count": 2,
   "id": "aedc5be1-b6b5-449e-bbf4-58f0fef4a85c",
   "metadata": {},
   "outputs": [
    {
     "name": "stderr",
     "output_type": "stream",
     "text": [
      "/home/kbh/.conda/envs/dnn/lib/python3.9/site-packages/tqdm/auto.py:22: TqdmWarning: IProgress not found. Please update jupyter and ipywidgets. See https://ipywidgets.readthedocs.io/en/stable/user_install.html\n",
      "  from .autonotebook import tqdm as notebook_tqdm\n"
     ]
    }
   ],
   "source": [
    "import torch"
   ]
  },
  {
   "cell_type": "code",
   "execution_count": 14,
   "id": "545e3fa9-fb4c-410c-80aa-bccbaff869d3",
   "metadata": {},
   "outputs": [
    {
     "name": "stdout",
     "output_type": "stream",
     "text": [
      "torch.Size([2, 4, 5, 6])\n",
      "torch.Size([2, 4, 5, 1])\n",
      "torch.Size([2, 5, 6])\n",
      "tensor([0.7124, 0.1091, 0.6574, 0.8030])\n",
      "tensor([0.0092, 0.4089, 0.9227, 0.3968])\n",
      "tensor(0.9763)\n",
      "tensor(0.9763)\n"
     ]
    }
   ],
   "source": [
    "B = 2\n",
    "C = 4\n",
    "F = 5\n",
    "T = 6\n",
    "\n",
    "X = torch.rand(B,C,F,T)\n",
    "h = torch.rand(B,C,F,1)\n",
    "\n",
    "Y = torch.einsum('bcft,bcfl->bft', [X, h])\n",
    "print(X.shape)\n",
    "print(h.shape)\n",
    "print(Y.shape)\n",
    "\n",
    "print(X[0,:,0,1])\n",
    "print(h[0,:,0,0])\n",
    "print(Y[0,0,1])\n",
    "\n",
    "print(torch.matmul(X[0,:,0,1],h[0,:,0,0]))"
   ]
  },
  {
   "cell_type": "code",
   "execution_count": null,
   "id": "795397ba-73a8-4dba-8301-6a2686e871e0",
   "metadata": {},
   "outputs": [],
   "source": []
  },
  {
   "cell_type": "code",
   "execution_count": null,
   "id": "1297f8f7-9f03-4487-a6eb-064567a79e63",
   "metadata": {},
   "outputs": [],
   "source": []
  }
 ],
 "metadata": {
  "kernelspec": {
   "display_name": "Python 3 (ipykernel)",
   "language": "python",
   "name": "python3"
  },
  "language_info": {
   "codemirror_mode": {
    "name": "ipython",
    "version": 3
   },
   "file_extension": ".py",
   "mimetype": "text/x-python",
   "name": "python",
   "nbconvert_exporter": "python",
   "pygments_lexer": "ipython3",
   "version": "3.9.12"
  }
 },
 "nbformat": 4,
 "nbformat_minor": 5
}
