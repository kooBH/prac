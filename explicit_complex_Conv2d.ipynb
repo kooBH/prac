{
 "cells": [
  {
   "cell_type": "code",
   "execution_count": 27,
   "id": "98acd70d-602f-48fb-bf24-f629434b4749",
   "metadata": {},
   "outputs": [],
   "source": [
    "import torch\n",
    "import torch.nn as nn\n",
    "import IPython.display as ipd"
   ]
  },
  {
   "cell_type": "markdown",
   "id": "da8fd074-8bed-47c6-bdd9-554ed15beed0",
   "metadata": {},
   "source": [
    "생각한 대로의 기능은 구조적으로 안됨"
   ]
  },
  {
   "cell_type": "markdown",
   "id": "bb04576e-19f1-4d46-861b-c55ca51a2cb8",
   "metadata": {},
   "source": [
    "## int type conv2d for convenience"
   ]
  },
  {
   "cell_type": "code",
   "execution_count": 30,
   "id": "7efecd10-ed37-4a1b-98e3-f6b72fa0381c",
   "metadata": {},
   "outputs": [
    {
     "data": {
      "text/markdown": [
       "## Kernel"
      ],
      "text/plain": [
       "<IPython.core.display.Markdown object>"
      ]
     },
     "metadata": {},
     "output_type": "display_data"
    },
    {
     "name": "stdout",
     "output_type": "stream",
     "text": [
      "torch.Size([2, 3, 3, 3, 2])\n",
      "tensor([[[[[2, 0],\n",
      "           [1, 2],\n",
      "           [2, 1]],\n",
      "\n",
      "          [[1, 2],\n",
      "           [1, 0],\n",
      "           [0, 2]],\n",
      "\n",
      "          [[0, 0],\n",
      "           [2, 1],\n",
      "           [1, 0]]],\n",
      "\n",
      "\n",
      "         [[[2, 1],\n",
      "           [1, 1],\n",
      "           [2, 1]],\n",
      "\n",
      "          [[0, 0],\n",
      "           [0, 1],\n",
      "           [2, 2]],\n",
      "\n",
      "          [[0, 1],\n",
      "           [0, 1],\n",
      "           [2, 2]]],\n",
      "\n",
      "\n",
      "         [[[0, 0],\n",
      "           [0, 0],\n",
      "           [1, 1]],\n",
      "\n",
      "          [[2, 0],\n",
      "           [1, 2],\n",
      "           [0, 0]],\n",
      "\n",
      "          [[2, 1],\n",
      "           [1, 0],\n",
      "           [1, 2]]]],\n",
      "\n",
      "\n",
      "\n",
      "        [[[[2, 0],\n",
      "           [1, 2],\n",
      "           [0, 0]],\n",
      "\n",
      "          [[2, 1],\n",
      "           [0, 0],\n",
      "           [1, 1]],\n",
      "\n",
      "          [[0, 0],\n",
      "           [1, 0],\n",
      "           [0, 1]]],\n",
      "\n",
      "\n",
      "         [[[1, 2],\n",
      "           [2, 2],\n",
      "           [2, 1]],\n",
      "\n",
      "          [[0, 0],\n",
      "           [1, 2],\n",
      "           [0, 0]],\n",
      "\n",
      "          [[2, 0],\n",
      "           [0, 0],\n",
      "           [0, 0]]],\n",
      "\n",
      "\n",
      "         [[[0, 2],\n",
      "           [2, 2],\n",
      "           [1, 1]],\n",
      "\n",
      "          [[2, 0],\n",
      "           [1, 1],\n",
      "           [1, 2]],\n",
      "\n",
      "          [[2, 1],\n",
      "           [1, 2],\n",
      "           [1, 0]]]]])\n"
     ]
    },
    {
     "data": {
      "text/markdown": [
       "## input"
      ],
      "text/plain": [
       "<IPython.core.display.Markdown object>"
      ]
     },
     "metadata": {},
     "output_type": "display_data"
    },
    {
     "name": "stdout",
     "output_type": "stream",
     "text": [
      "torch.Size([2, 3, 2])\n",
      "tensor([[[ 3, 10],\n",
      "         [ 2,  3],\n",
      "         [ 2,  3]],\n",
      "\n",
      "        [[ 6,  7],\n",
      "         [10,  3],\n",
      "         [ 2,  1]]])\n"
     ]
    }
   ],
   "source": [
    "C = 2\n",
    "L = 3\n",
    "F = 3\n",
    "T = 2\n",
    "#kernel = torch.rand((C,L,F,T),dtype=torch.cfloat)\n",
    "#input = torch.rand((C,F,T),dtype=torch.cfloat)\n",
    "kernel = torch.randint(low=0,high=3,size =(C,L,L,F,T))\n",
    "input = torch.randint(low=0,high=11,size =(C,F,T))\n",
    "ipd.display(ipd.Markdown('## Kernel'))\n",
    "print(kernel.shape)\n",
    "print(kernel)\n",
    "ipd.display(ipd.Markdown('## input'))\n",
    "print(input.shape)\n",
    "print(input)"
   ]
  },
  {
   "cell_type": "code",
   "execution_count": 23,
   "id": "d2b909b8-366d-4f8b-97cd-ef474c4a4e5b",
   "metadata": {},
   "outputs": [
    {
     "data": {
      "text/plain": [
       "torch.Size([2, 1, 3, 3])"
      ]
     },
     "execution_count": 23,
     "metadata": {},
     "output_type": "execute_result"
    }
   ],
   "source": [
    "m = nn.Conv2d(C,C,(L,L),bias=False,groups = C)\n",
    "m.weight.shape\n",
    "\n"
   ]
  },
  {
   "cell_type": "code",
   "execution_count": null,
   "id": "2002300c-32a8-4161-8822-edd990319e47",
   "metadata": {},
   "outputs": [],
   "source": []
  }
 ],
 "metadata": {
  "kernelspec": {
   "display_name": "Python 3 (ipykernel)",
   "language": "python",
   "name": "python3"
  },
  "language_info": {
   "codemirror_mode": {
    "name": "ipython",
    "version": 3
   },
   "file_extension": ".py",
   "mimetype": "text/x-python",
   "name": "python",
   "nbconvert_exporter": "python",
   "pygments_lexer": "ipython3",
   "version": "3.8.10"
  }
 },
 "nbformat": 4,
 "nbformat_minor": 5
}
