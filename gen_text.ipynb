{
 "cells": [
  {
   "cell_type": "code",
   "execution_count": null,
   "id": "1cfd62f3-ea95-4fb6-9d10-fda43d058fe3",
   "metadata": {},
   "outputs": [],
   "source": []
  },
  {
   "cell_type": "markdown",
   "id": "1314dc8f-b3d4-4bfb-8ff3-706f2ebbee9b",
   "metadata": {},
   "source": [
    "## For Google Spread Sheet"
   ]
  },
  {
   "cell_type": "code",
   "execution_count": 11,
   "id": "711cba7d-8df3-4cf9-adc7-43aa173eaa6b",
   "metadata": {},
   "outputs": [
    {
     "name": "stdout",
     "output_type": "stream",
     "text": [
      "=SUM(RANK($C2,C:C,0),RANK($D2,D:D,0),RANK($E2,E:E,0),RANK($F2,F:F,0),RANK($G2,G:G,0),RANK($H2,H:H,0),RANK($I2,I:I,0),RANK($J2,J:J,0),RANK($K2,K:K,0),RANK($L2,L:L,0),RANK($M2,M:M,0),RANK($N2,N:N,0),RANK($O2,O:O,0),RANK($P2,P:P,0),RANK($Q2,Q:Q,0),RANK($R2,R:R,0),RANK($S2,S:S,0),RANK($T2,T:T,0),RANK($U2,U:U,0),RANK($V2,V:V,0),RANK($W2,W:W,0),RANK($X2,X:X,0),RANK($Y2,Y:Y,0),)\n"
     ]
    }
   ],
   "source": [
    "print(\"=SUM(\",end=\"\")\n",
    "for i in range(67,90):\n",
    "    print(\"RANK(${}2,{}:{},0),\".format(chr(i),chr(i),chr(i)),end=\"\")\n",
    "print(\")\")"
   ]
  },
  {
   "cell_type": "code",
   "execution_count": null,
   "id": "33a0125c-d3fb-453c-a1d2-0628878a040b",
   "metadata": {},
   "outputs": [],
   "source": []
  },
  {
   "cell_type": "code",
   "execution_count": null,
   "id": "c1c83ce0-5b55-456f-b924-9bcd76e3edca",
   "metadata": {},
   "outputs": [],
   "source": []
  }
 ],
 "metadata": {
  "kernelspec": {
   "display_name": "Python 3 (ipykernel)",
   "language": "python",
   "name": "python3"
  },
  "language_info": {
   "codemirror_mode": {
    "name": "ipython",
    "version": 3
   },
   "file_extension": ".py",
   "mimetype": "text/x-python",
   "name": "python",
   "nbconvert_exporter": "python",
   "pygments_lexer": "ipython3",
   "version": "3.9.12"
  }
 },
 "nbformat": 4,
 "nbformat_minor": 5
}
