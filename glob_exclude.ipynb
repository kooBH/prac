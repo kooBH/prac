{
 "cells": [
  {
   "cell_type": "code",
   "execution_count": 1,
   "id": "b82d5bbf-e085-4d65-913f-4888d79818d0",
   "metadata": {},
   "outputs": [],
   "source": [
    "import os,glob"
   ]
  },
  {
   "cell_type": "code",
   "execution_count": 2,
   "id": "2d066239-1358-4554-8a28-771ba29e6ce1",
   "metadata": {},
   "outputs": [],
   "source": [
    "dir_target = \"/home/data2/kbh/DESED/soundbank/audio/train/soundbank/foreground\""
   ]
  },
  {
   "cell_type": "code",
   "execution_count": 19,
   "id": "a0a0bd7d-50bc-4e58-ae41-56899f10cccd",
   "metadata": {},
   "outputs": [
    {
     "name": "stdout",
     "output_type": "stream",
     "text": [
      "12\n"
     ]
    }
   ],
   "source": [
    "list_target = glob.glob(os.path.join(dir_target,\"[!D!o]*\"))\n",
    "print(len(list_target))"
   ]
  },
  {
   "cell_type": "code",
   "execution_count": 20,
   "id": "6c49dedf-685c-42a1-bfb7-213fc8342d15",
   "metadata": {},
   "outputs": [
    {
     "name": "stdout",
     "output_type": "stream",
     "text": [
      "Speech\n",
      "Cat\n",
      "Electric_shaver_toothbrush\n",
      "Frying_nOff\n",
      "Vacuum_cleaner_nOn_nOff\n",
      "Frying_nOn_nOff\n",
      "Alarm_bell_ringing\n",
      "Blender\n",
      "Vacuum_cleaner\n",
      "Vacuum_cleaner_nOn\n",
      "Running_water\n",
      "Frying\n"
     ]
    }
   ],
   "source": [
    "for i in list_target:\n",
    "    name = i.split('/')[-1]\n",
    "    print(name)"
   ]
  },
  {
   "cell_type": "markdown",
   "id": "8bf55517-5d2a-4475-86a8-7d76dee462b0",
   "metadata": {},
   "source": [
    "https://stackoverflow.com/questions/20638040/glob-exclude-pattern\n",
    "```python\n",
    "files = glob.glob('files_path/[!_]*')\n",
    "```\n",
    "\n",
    "```python\n",
    "set(glob(\"*\")) - set(glob(\"eph*\"))\n",
    "```"
   ]
  },
  {
   "cell_type": "code",
   "execution_count": 27,
   "id": "d6b56321-7cd3-4c8f-a166-a1d2a1001e71",
   "metadata": {},
   "outputs": [
    {
     "name": "stdout",
     "output_type": "stream",
     "text": [
      "1026\n"
     ]
    }
   ],
   "source": [
    "list_a = glob.glob(os.path.join(dir_target,\"*\",\"*.wav\"))\n",
    "list_a += glob.glob(os.path.join(dir_target,\"Speech\",\"*.wav\"))\n",
    "print(len(list_a))"
   ]
  },
  {
   "cell_type": "code",
   "execution_count": 28,
   "id": "77dbb0ba-2287-4aed-9186-99bd1a48f714",
   "metadata": {},
   "outputs": [
    {
     "name": "stdout",
     "output_type": "stream",
     "text": [
      "117\n",
      "792\n"
     ]
    }
   ],
   "source": [
    "list_b = glob.glob(os.path.join(dir_target,\"Speech\",\"*.wav\"))\n",
    "list_a = list(set(list_a) - set(list_b))\n",
    "print(len(list_b))\n",
    "print(len(list_a))"
   ]
  }
 ],
 "metadata": {
  "kernelspec": {
   "display_name": "Python 3 (ipykernel)",
   "language": "python",
   "name": "python3"
  },
  "language_info": {
   "codemirror_mode": {
    "name": "ipython",
    "version": 3
   },
   "file_extension": ".py",
   "mimetype": "text/x-python",
   "name": "python",
   "nbconvert_exporter": "python",
   "pygments_lexer": "ipython3",
   "version": "3.9.12"
  }
 },
 "nbformat": 4,
 "nbformat_minor": 5
}
