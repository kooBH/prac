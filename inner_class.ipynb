{
 "cells": [
  {
   "cell_type": "code",
   "execution_count": 1,
   "id": "c6fabe24-b7a3-4267-ad0b-30c2da44f7ea",
   "metadata": {},
   "outputs": [],
   "source": [
    "import torch\n",
    "import torch.nn as nn"
   ]
  },
  {
   "cell_type": "code",
   "execution_count": 9,
   "id": "9992bd2a-40b7-4594-af3e-64bef0e8c7ff",
   "metadata": {},
   "outputs": [
    {
     "name": "stdout",
     "output_type": "stream",
     "text": [
      "tensor([0.1510, 0.6549, 0.9115])\n",
      "tensor([10.1510, 10.6549, 10.9115])\n"
     ]
    }
   ],
   "source": [
    "class outer(nn.Module):\n",
    "    class inner(nn.Module) : \n",
    "        def __init__(self):\n",
    "            super(outer.inner,self).__init__()\n",
    "\n",
    "        def forward(self,x) :\n",
    "            return x + 1\n",
    "    \n",
    "    def __init__(self):\n",
    "        super(outer,self).__init__()\n",
    "\n",
    "        self.layers =[]\n",
    "        self.n_layer = 10\n",
    "        for i in range(self.n_layer) :\n",
    "            m = self.inner()\n",
    "            self.layers.append(m)\n",
    "            self.add_module(\"layer{}\".format(i),m)\n",
    "        self.layers = nn.ModuleList(self.layers)\n",
    "\n",
    "    def forward(self,x) :\n",
    "        for i in range(self.n_layer):\n",
    "            x = self.layers[i](x)\n",
    "        return x\n",
    "\n",
    "m = outer()\n",
    "\n",
    "x = torch.rand(3)\n",
    "print(x)\n",
    "y = m(x)\n",
    "print(y) \n",
    "\n",
    "        "
   ]
  },
  {
   "cell_type": "code",
   "execution_count": 15,
   "id": "fe411fe9-e6c7-4b2a-85fd-2bd1507ce54c",
   "metadata": {},
   "outputs": [
    {
     "name": "stdout",
     "output_type": "stream",
     "text": [
      "tensor([[[[0.4903, 0.8404],\n",
      "          [0.0579, 0.8497]],\n",
      "\n",
      "         [[0.2276, 0.2575],\n",
      "          [0.6514, 0.7030]]]])\n",
      "tensor([[[[-0.2139,  0.8672],\n",
      "          [-1.5490,  0.8957]],\n",
      "\n",
      "         [[-1.0637, -0.9267],\n",
      "          [ 0.8770,  1.1134]]]], grad_fn=<NativeLayerNormBackward0>)\n"
     ]
    }
   ],
   "source": [
    "x = torch.rand(1,2,2,2)\n",
    "print(x)\n",
    "m = nn.LayerNorm([2,2])\n",
    "y = m(x)\n",
    "print(y)"
   ]
  },
  {
   "cell_type": "code",
   "execution_count": null,
   "id": "b6425ea5-6dc2-4d70-b1da-b1f01eda0154",
   "metadata": {},
   "outputs": [],
   "source": []
  }
 ],
 "metadata": {
  "kernelspec": {
   "display_name": "Python 3 (ipykernel)",
   "language": "python",
   "name": "python3"
  },
  "language_info": {
   "codemirror_mode": {
    "name": "ipython",
    "version": 3
   },
   "file_extension": ".py",
   "mimetype": "text/x-python",
   "name": "python",
   "nbconvert_exporter": "python",
   "pygments_lexer": "ipython3",
   "version": "3.10.14"
  }
 },
 "nbformat": 4,
 "nbformat_minor": 5
}
