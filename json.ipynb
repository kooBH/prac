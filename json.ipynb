{
 "cells": [
  {
   "cell_type": "code",
   "execution_count": 1,
   "id": "8229076c-ee7a-4560-911a-e995ecae290c",
   "metadata": {},
   "outputs": [],
   "source": [
    "import json"
   ]
  },
  {
   "cell_type": "code",
   "execution_count": 26,
   "id": "daeb3b81-7932-4f68-b6b3-144154d11ef4",
   "metadata": {},
   "outputs": [],
   "source": [
    "data = {\n",
    "    \"task3_01.pcm\": [\n",
    "        {\"beg\": 3.72, \"end\": 7.84},    {\"beg\": 11.54, \"end\": 16.24}\n",
    "    ],\n",
    "    \"task3_02.pcm\": [\n",
    "        {\"beg\": 3.72, \"end\": 7.84},        {\"beg\": 11.54, \"end\": 16.24},        {\"beg\": 17.13, \"end\": 19.12}\n",
    "    ]\n",
    "}"
   ]
  },
  {
   "cell_type": "code",
   "execution_count": null,
   "id": "fb95e297-4347-432b-9ded-239e3fbacd65",
   "metadata": {},
   "outputs": [],
   "source": []
  },
  {
   "cell_type": "code",
   "execution_count": 27,
   "id": "1741d1e5-1cc8-4b4a-9d21-5b8c5c13b3dc",
   "metadata": {},
   "outputs": [
    {
     "name": "stdout",
     "output_type": "stream",
     "text": [
      "{\"task3_01.pcm\": [{\"beg\": 3.72, \"end\": 7.84}, {\"beg\": 11.54, \"end\": 16.24}], \"task3_02.pcm\": [{\"beg\": 3.72, \"end\": 7.84}, {\"beg\": 11.54, \"end\": 16.24}, {\"beg\": 17.13, \"end\": 19.12}]}\n"
     ]
    }
   ],
   "source": [
    "a = json.dumps(data)\n",
    "print(a)"
   ]
  },
  {
   "cell_type": "code",
   "execution_count": 28,
   "id": "97e9d9f6-3c77-4182-a109-ce20dc21a3ba",
   "metadata": {},
   "outputs": [
    {
     "name": "stdout",
     "output_type": "stream",
     "text": [
      "{\"task3_01.pcm\": [{\"beg\": 3.72, \"end\": 7.84}, {\"beg\": 11.54, \"end\": 16.24}], \"task3_02.pcm\": [{\"beg\": 3.72, \"end\": 7.84}, {\"beg\": 11.54, \"end\": 16.24}, {\"beg\": 17.13, \"end\": 19.12}]}\n"
     ]
    }
   ],
   "source": [
    "b = json.dumps(data,sort_keys=True)\n",
    "print(b)"
   ]
  },
  {
   "cell_type": "code",
   "execution_count": 29,
   "id": "79f228a2-ad81-44bc-8cca-3935aad6b21b",
   "metadata": {},
   "outputs": [
    {
     "name": "stdout",
     "output_type": "stream",
     "text": [
      "{\n",
      "    \"task3_01.pcm\": [\n",
      "        {\n",
      "            \"beg\": 3.72,\n",
      "            \"end\": 7.84\n",
      "        },\n",
      "        {\n",
      "            \"beg\": 11.54,\n",
      "            \"end\": 16.24\n",
      "        }\n",
      "    ],\n",
      "    \"task3_02.pcm\": [\n",
      "        {\n",
      "            \"beg\": 3.72,\n",
      "            \"end\": 7.84\n",
      "        },\n",
      "        {\n",
      "            \"beg\": 11.54,\n",
      "            \"end\": 16.24\n",
      "        },\n",
      "        {\n",
      "            \"beg\": 17.13,\n",
      "            \"end\": 19.12\n",
      "        }\n",
      "    ]\n",
      "}\n"
     ]
    }
   ],
   "source": [
    "b = json.dumps(data,sort_keys=False, indent=4)\n",
    "print(b)"
   ]
  },
  {
   "cell_type": "code",
   "execution_count": null,
   "id": "c19c627f-579b-40a7-9c16-7f3738bd84dd",
   "metadata": {},
   "outputs": [],
   "source": []
  },
  {
   "cell_type": "code",
   "execution_count": 30,
   "id": "8bbbc948-6f94-4f9b-9bed-101e7dee4f89",
   "metadata": {},
   "outputs": [
    {
     "name": "stdout",
     "output_type": "stream",
     "text": [
      "{\n",
      "  \"task3_01.pcm\": [\n",
      "    {\n",
      "      \"beg\": 3.72,\n",
      "      \"end\": 7.84\n",
      "    },\n",
      "    {\n",
      "      \"beg\": 11.54,\n",
      "      \"end\": 16.24\n",
      "    }\n",
      "  ],\n",
      "  \"task3_02.pcm\": [\n",
      "    {\n",
      "      \"beg\": 3.72,\n",
      "      \"end\": 7.84\n",
      "    },\n",
      "    {\n",
      "      \"beg\": 11.54,\n",
      "      \"end\": 16.24\n",
      "    },\n",
      "    {\n",
      "      \"beg\": 17.13,\n",
      "      \"end\": 19.12\n",
      "    }\n",
      "  ]\n",
      "}\n"
     ]
    }
   ],
   "source": [
    "class MyEncoder(json.JSONEncoder):\n",
    "    import re\n",
    "    FORMAT_SPEC = '@@{}@@'\n",
    "    regex = re.compile(FORMAT_SPEC.format(r'(\\d+)'))\n",
    "\n",
    "    def __init__(self, **kwargs):\n",
    "        # Save copy of any keyword argument values needed for use here.\n",
    "        self.__sort_keys = kwargs.get('sort_keys', None)\n",
    "        super(MyEncoder, self).__init__(**kwargs)\n",
    "\n",
    "    def default(self, obj):\n",
    "        return (self.FORMAT_SPEC.format(id(obj)) if isinstance(obj, NoIndent)\n",
    "                else super(MyEncoder, self).default(obj))\n",
    "\n",
    "    def encode(self, obj):\n",
    "        format_spec = self.FORMAT_SPEC  # Local var to expedite access.\n",
    "        json_repr = super(MyEncoder, self).encode(obj)  # Default JSON.\n",
    "\n",
    "        # Replace any marked-up object ids in the JSON repr with the\n",
    "        # value returned from the json.dumps() of the corresponding\n",
    "        # wrapped Python object.\n",
    "        for match in self.regex.finditer(json_repr):\n",
    "            # see https://stackoverflow.com/a/15012814/355230\n",
    "            id = int(match.group(1))\n",
    "            no_indent = PyObj_FromPtr(id)\n",
    "            json_obj_repr = json.dumps(no_indent.value, sort_keys=self.__sort_keys)\n",
    "\n",
    "            # Replace the matched id string with json formatted representation\n",
    "            # of the corresponding Python object.\n",
    "            json_repr = json_repr.replace(\n",
    "                            '\"{}\"'.format(format_spec.format(id)), json_obj_repr)\n",
    "\n",
    "        return json_repr\n",
    "\n",
    "\n",
    "b = json.dumps(data,cls=MyEncoder,sort_keys=True, indent=2)\n",
    "print(b)"
   ]
  },
  {
   "cell_type": "code",
   "execution_count": 31,
   "id": "40abe552-5b47-4c45-b462-4e67779a64ab",
   "metadata": {},
   "outputs": [
    {
     "name": "stdout",
     "output_type": "stream",
     "text": [
      "{\n",
      "  \"task3_01.pcm\": [\n",
      "    {\n",
      "      \"beg\": 3.72,\n",
      "      \"end\": 7.84\n",
      "    },\n",
      "    {\n",
      "      \"beg\": 11.54,\n",
      "      \"end\": 16.24\n",
      "    }\n",
      "  ],\n",
      "  \"task3_02.pcm\": [\n",
      "    {\n",
      "      \"beg\": 3.72,\n",
      "      \"end\": 7.84\n",
      "    },\n",
      "    {\n",
      "      \"beg\": 11.54,\n",
      "      \"end\": 16.24\n",
      "    },\n",
      "    {\n",
      "      \"beg\": 17.13,\n",
      "      \"end\": 19.12\n",
      "    }\n",
      "  ]\n",
      "}\n"
     ]
    }
   ],
   "source": [
    "b = json.dumps(data,indent=2)\n",
    "print(b)"
   ]
  },
  {
   "cell_type": "code",
   "execution_count": null,
   "id": "2984a540-08f6-447b-9e65-554d22746ca3",
   "metadata": {},
   "outputs": [],
   "source": []
  },
  {
   "cell_type": "code",
   "execution_count": null,
   "id": "b488370b-9104-4429-82c0-7f6dd670bc1d",
   "metadata": {},
   "outputs": [],
   "source": []
  }
 ],
 "metadata": {
  "kernelspec": {
   "display_name": "Python 3 (ipykernel)",
   "language": "python",
   "name": "python3"
  },
  "language_info": {
   "codemirror_mode": {
    "name": "ipython",
    "version": 3
   },
   "file_extension": ".py",
   "mimetype": "text/x-python",
   "name": "python",
   "nbconvert_exporter": "python",
   "pygments_lexer": "ipython3",
   "version": "3.9.12"
  }
 },
 "nbformat": 4,
 "nbformat_minor": 5
}
