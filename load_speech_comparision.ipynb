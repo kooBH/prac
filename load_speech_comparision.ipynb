{
 "cells": [
  {
   "cell_type": "markdown",
   "id": "2d5ad50e-08b5-4952-afce-83b7601c8a4d",
   "metadata": {},
   "source": [
    "# torch vs librosa : audio load speed    \n",
    "Conclusion : librosa is faster "
   ]
  },
  {
   "cell_type": "code",
   "execution_count": 1,
   "id": "00300d08-3f3f-435b-807e-a414cf400c76",
   "metadata": {},
   "outputs": [
    {
     "name": "stderr",
     "output_type": "stream",
     "text": [
      "/home/kbh/.conda/envs/dnn/lib/python3.9/site-packages/tqdm/auto.py:22: TqdmWarning: IProgress not found. Please update jupyter and ipywidgets. See https://ipywidgets.readthedocs.io/en/stable/user_install.html\n",
      "  from .autonotebook import tqdm as notebook_tqdm\n"
     ]
    }
   ],
   "source": [
    "import torch\n",
    "import librosa as rs\n",
    "import time"
   ]
  },
  {
   "cell_type": "code",
   "execution_count": 2,
   "id": "4d923eb2-5e03-4cb6-b8ee-309f664591e6",
   "metadata": {},
   "outputs": [],
   "source": [
    "import torchaudio"
   ]
  },
  {
   "cell_type": "code",
   "execution_count": 10,
   "id": "230801a5-07b0-4017-b361-767d0992eabc",
   "metadata": {},
   "outputs": [],
   "source": [
    "path_audio  =\"data/male_1.wav\""
   ]
  },
  {
   "cell_type": "markdown",
   "id": "1f552cf0-2d13-48ea-a159-bd6129221276",
   "metadata": {},
   "source": [
    "## Load Time"
   ]
  },
  {
   "cell_type": "code",
   "execution_count": 17,
   "id": "79f1ab05-e27b-4dc9-a6b5-8a3bf2e291f1",
   "metadata": {},
   "outputs": [
    {
     "name": "stdout",
     "output_type": "stream",
     "text": [
      "Torch::Elapsed time : 3.045705556869507\n",
      "Librosa::Elapsed time : 1.365565299987793\n"
     ]
    }
   ],
   "source": [
    "tic = time.time()\n",
    "\n",
    "# warm-up\n",
    "for  i in range(1000) :\n",
    "    torchaudio.load(path_audio)\n",
    "for  i in range(1000) :\n",
    "    rs.load(path_audio,sr=16000)\n",
    "    \n",
    "for  i in range(10000) :\n",
    "    torchaudio.load(path_audio)\n",
    "toc = time.time()\n",
    "print(\"Torch::Elapsed time : {}\".format(toc - tic))\n",
    "\n",
    "tic = time.time()\n",
    "for  i in range(10000) :\n",
    "    rs.load(path_audio,sr=16000)\n",
    "toc = time.time()\n",
    "toc = time.time()\n",
    "print(\"Librosa::Elapsed time : {}\".format(toc - tic))"
   ]
  },
  {
   "cell_type": "markdown",
   "id": "41c2d58b-640e-4b38-add3-35bac31ed663",
   "metadata": {},
   "source": [
    "## cpu -> gpu"
   ]
  },
  {
   "cell_type": "code",
   "execution_count": 21,
   "id": "15f56998-3270-4297-a05c-1c82e3609181",
   "metadata": {},
   "outputs": [
    {
     "name": "stdout",
     "output_type": "stream",
     "text": [
      "torch.Size([1, 37102])\n",
      "(37102,)\n",
      "Torch::Elapsed time : 0.5371649265289307\n",
      "Librosa::Elapsed time : 0.5317835807800293\n"
     ]
    }
   ],
   "source": [
    "tensor = torchaudio.load(path_audio)[0]\n",
    "npy = rs.load(path_audio,sr=16000)[0]\n",
    "\n",
    "print(tensor.shape)\n",
    "print(npy.shape)\n",
    "\n",
    "tic = time.time()\n",
    "for  i in range(10000) :\n",
    "    x = tensor.to(\"cuda:0\")\n",
    "toc = time.time()\n",
    "print(\"Torch::Elapsed time : {}\".format(toc - tic))\n",
    "\n",
    "tic = time.time()\n",
    "for  i in range(10000) :\n",
    "    x = torch.from_numpy(npy).to(\"cuda:0\")\n",
    "toc = time.time()\n",
    "print(\"Librosa::Elapsed time : {}\".format(toc - tic))"
   ]
  },
  {
   "cell_type": "markdown",
   "id": "f8df209f-6625-4ba1-99d5-2252b509eca8",
   "metadata": {},
   "source": [
    "## numpy cpu -> torch gpu"
   ]
  },
  {
   "cell_type": "code",
   "execution_count": null,
   "id": "07b5a206-98b5-4f56-8c99-900486f8fb9f",
   "metadata": {},
   "outputs": [],
   "source": [
    "tic = time.time()\n",
    "\n",
    "toc = time.time()\n",
    "print(\"Elapsed time : {}\".format(toc - tic))"
   ]
  }
 ],
 "metadata": {
  "kernelspec": {
   "display_name": "Python 3 (ipykernel)",
   "language": "python",
   "name": "python3"
  },
  "language_info": {
   "codemirror_mode": {
    "name": "ipython",
    "version": 3
   },
   "file_extension": ".py",
   "mimetype": "text/x-python",
   "name": "python",
   "nbconvert_exporter": "python",
   "pygments_lexer": "ipython3",
   "version": "3.9.12"
  }
 },
 "nbformat": 4,
 "nbformat_minor": 5
}
