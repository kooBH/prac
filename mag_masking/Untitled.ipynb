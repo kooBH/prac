{
 "cells": [
  {
   "cell_type": "code",
   "execution_count": 3,
   "id": "bdc8dbbd-b797-4780-9227-9112b1cbdca2",
   "metadata": {},
   "outputs": [
    {
     "name": "stderr",
     "output_type": "stream",
     "text": [
      "/home/kbh/.conda/envs/dnn/lib/python3.9/site-packages/tqdm/auto.py:22: TqdmWarning: IProgress not found. Please update jupyter and ipywidgets. See https://ipywidgets.readthedocs.io/en/stable/user_install.html\n",
      "  from .autonotebook import tqdm as notebook_tqdm\n"
     ]
    }
   ],
   "source": [
    "import numpy as np\n",
    "import librosa as rs\n",
    "import soundfile as sf\n",
    "import scipy\n",
    "import torch"
   ]
  },
  {
   "cell_type": "code",
   "execution_count": 4,
   "id": "92537cc1-1723-4e19-9e5b-272674c04b3a",
   "metadata": {},
   "outputs": [
    {
     "name": "stdout",
     "output_type": "stream",
     "text": [
      "(4, 621987)\n",
      "(4, 621987)\n"
     ]
    }
   ],
   "source": [
    "x = rs.load(\"가-시동O-OFF-서행-우-뜀-구두.wav\",mono=False)[0]\n",
    "z = rs.load(\"enhan_가-시동O-OFF-서행-우-뜀-구두.wav\",mono=False)[0]\n",
    "\n",
    "print(x.shape)\n",
    "print(z.shape)"
   ]
  },
  {
   "cell_type": "code",
   "execution_count": 6,
   "id": "0368d82c-c163-4fa3-85f2-89bee579761c",
   "metadata": {},
   "outputs": [
    {
     "name": "stdout",
     "output_type": "stream",
     "text": [
      "torch.Size([4, 257, 4860, 2])\n",
      "torch.Size([4, 257, 4860, 2])\n"
     ]
    }
   ],
   "source": [
    "X = torch.stft(torch.from_numpy(x),n_fft=512)\n",
    "Z = torch.stft(torch.from_numpy(z),n_fft=512)\n",
    "print(X.shape)\n",
    "print(Z.shape)"
   ]
  },
  {
   "cell_type": "markdown",
   "id": "c0f3b0a1-d023-4680-a5d1-848f19900d6d",
   "metadata": {},
   "source": [
    "## masking"
   ]
  },
  {
   "cell_type": "code",
   "execution_count": 14,
   "id": "096a20d9-a232-45c7-8d40-f4a717d086f2",
   "metadata": {},
   "outputs": [
    {
     "name": "stdout",
     "output_type": "stream",
     "text": [
      "torch.Size([4, 257, 4860])\n",
      "torch.Size([4, 257, 4860, 2])\n"
     ]
    }
   ],
   "source": [
    "mag_x = torch.sqrt(X[:,:,:,0]**2 + X[:,:,:,1]**2)\n",
    "mag_z = torch.sqrt(Z[:,:,:,0]**2 + Z[:,:,:,1]**2)\n",
    "m = mag_z/mag_x\n",
    "print(m.shape)\n",
    "\n",
    "Y = torch.unsqueeze(m,-1) * X\n",
    "print(Y.shape)\n",
    "\n",
    "y = torch.istft(Y,n_fft=512)\n",
    "\n",
    "sf.write(\"estim.wav\",y.T,16000)\n"
   ]
  },
  {
   "cell_type": "code",
   "execution_count": null,
   "id": "6f9e5d34-54c2-4323-995d-516dbab90def",
   "metadata": {},
   "outputs": [],
   "source": []
  }
 ],
 "metadata": {
  "kernelspec": {
   "display_name": "Python 3 (ipykernel)",
   "language": "python",
   "name": "python3"
  },
  "language_info": {
   "codemirror_mode": {
    "name": "ipython",
    "version": 3
   },
   "file_extension": ".py",
   "mimetype": "text/x-python",
   "name": "python",
   "nbconvert_exporter": "python",
   "pygments_lexer": "ipython3",
   "version": "3.9.12"
  }
 },
 "nbformat": 4,
 "nbformat_minor": 5
}
