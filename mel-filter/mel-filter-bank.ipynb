{
 "cells": [
  {
   "cell_type": "markdown",
   "metadata": {},
   "source": [
    "# [Mel-Frequency Cepstral Coefficients](https://ratsgo.github.io/speechbook/docs/fe/mfcc#filter-banks)"
   ]
  },
  {
   "cell_type": "code",
   "execution_count": 3,
   "metadata": {},
   "outputs": [],
   "source": [
    "import numpy as np"
   ]
  },
  {
   "cell_type": "code",
   "execution_count": 6,
   "metadata": {},
   "outputs": [],
   "source": [
    "nfilt = 40\n",
    "low_freq_mel = 0\n",
    "sample_rate = 16000\n",
    "NFFT = 512\n",
    "\n",
    "high_freq_mel = (2595 * np.log10(1 + (sample_rate / 2) / 700))  # Convert Hz to Mel\n",
    "mel_points = np.linspace(low_freq_mel, high_freq_mel, nfilt + 2)  # Equally spaced in Mel scale\n",
    "hz_points = (700 * (10**(mel_points / 2595) - 1))  # Convert Mel to Hz\n",
    "bin = np.floor((NFFT + 1) * hz_points / sample_rate)\n",
    "\n",
    "fbank = np.zeros((nfilt, int(np.floor(NFFT / 2 + 1))))\n",
    "for m in range(1, nfilt + 1):\n",
    "    f_m_minus = int(bin[m - 1])   # left\n",
    "    f_m = int(bin[m])             # center\n",
    "    f_m_plus = int(bin[m + 1])    # right\n",
    "    for k in range(f_m_minus, f_m):\n",
    "        fbank[m - 1, k] = (k - bin[m - 1]) / (bin[m] - bin[m - 1])\n",
    "    for k in range(f_m, f_m_plus):\n",
    "        fbank[m - 1, k] = (bin[m + 1] - k) / (bin[m + 1] - bin[m])"
   ]
  },
  {
   "cell_type": "code",
   "execution_count": 9,
   "metadata": {
    "scrolled": true
   },
   "outputs": [
    {
     "data": {
      "text/plain": [
       "array([   0.        ,   69.2688548 ,  138.5377096 ,  207.80656439,\n",
       "        277.07541919,  346.34427399,  415.61312879,  484.88198358,\n",
       "        554.15083838,  623.41969318,  692.68854798,  761.95740278,\n",
       "        831.22625757,  900.49511237,  969.76396717, 1039.03282197,\n",
       "       1108.30167676, 1177.57053156, 1246.83938636, 1316.10824116,\n",
       "       1385.37709596, 1454.64595075, 1523.91480555, 1593.18366035,\n",
       "       1662.45251515, 1731.72136994, 1800.99022474, 1870.25907954,\n",
       "       1939.52793434, 2008.79678914, 2078.06564393, 2147.33449873,\n",
       "       2216.60335353, 2285.87220833, 2355.14106312, 2424.40991792,\n",
       "       2493.67877272, 2562.94762752, 2632.21648232, 2701.48533711,\n",
       "       2770.75419191, 2840.02304671])"
      ]
     },
     "metadata": {},
     "output_type": "display_data"
    }
   ],
   "source": [
    "display(mel_points)"
   ]
  },
  {
   "cell_type": "code",
   "execution_count": 10,
   "metadata": {},
   "outputs": [
    {
     "data": {
      "text/plain": [
       "array([   0.        ,   44.37407701,   91.56109503,  141.73937073,\n",
       "        195.09852453,  251.84019719,  312.17881177,  376.34238398,\n",
       "        444.57338374,  517.12965156,  594.28537283,  676.33211398,\n",
       "        763.57992429,  856.35850754,  955.01846792, 1059.93263499,\n",
       "       1171.49747253, 1290.13457677, 1416.29226959, 1550.44729265,\n",
       "       1693.10660904, 1844.80931898, 2006.12869712, 2177.67435884,\n",
       "       2360.094564  , 2554.07866662, 2760.35971998, 2979.71724669,\n",
       "       3212.98018452, 3461.03001887, 3724.80411386, 4005.29925458,\n",
       "       4303.57541383, 4620.75975774, 4958.05090523, 5316.72345751,\n",
       "       5698.13281472, 6103.72029792, 6535.01859571, 6993.65755619,\n",
       "       7481.37034603, 8000.        ])"
      ]
     },
     "metadata": {},
     "output_type": "display_data"
    }
   ],
   "source": [
    "display(hz_points)"
   ]
  },
  {
   "cell_type": "code",
   "execution_count": 7,
   "metadata": {},
   "outputs": [
    {
     "data": {
      "text/plain": [
       "array([  0.,   1.,   2.,   4.,   6.,   8.,  10.,  12.,  14.,  16.,  19.,\n",
       "        21.,  24.,  27.,  30.,  33.,  37.,  41.,  45.,  49.,  54.,  59.,\n",
       "        64.,  69.,  75.,  81.,  88.,  95., 103., 110., 119., 128., 137.,\n",
       "       148., 158., 170., 182., 195., 209., 224., 239., 256.])"
      ]
     },
     "metadata": {},
     "output_type": "display_data"
    }
   ],
   "source": [
    "display(bin)"
   ]
  },
  {
   "cell_type": "code",
   "execution_count": 8,
   "metadata": {},
   "outputs": [
    {
     "data": {
      "text/plain": [
       "array([[0.        , 1.        , 0.        , ..., 0.        , 0.        ,\n",
       "        0.        ],\n",
       "       [0.        , 0.        , 1.        , ..., 0.        , 0.        ,\n",
       "        0.        ],\n",
       "       [0.        , 0.        , 0.        , ..., 0.        , 0.        ,\n",
       "        0.        ],\n",
       "       ...,\n",
       "       [0.        , 0.        , 0.        , ..., 0.        , 0.        ,\n",
       "        0.        ],\n",
       "       [0.        , 0.        , 0.        , ..., 0.        , 0.        ,\n",
       "        0.        ],\n",
       "       [0.        , 0.        , 0.        , ..., 0.11764706, 0.05882353,\n",
       "        0.        ]])"
      ]
     },
     "metadata": {},
     "output_type": "display_data"
    }
   ],
   "source": [
    "display(fbank)"
   ]
  },
  {
   "cell_type": "code",
   "execution_count": null,
   "metadata": {},
   "outputs": [],
   "source": []
  }
 ],
 "metadata": {
  "kernelspec": {
   "display_name": "Python 3",
   "language": "python",
   "name": "python3"
  },
  "language_info": {
   "codemirror_mode": {
    "name": "ipython",
    "version": 3
   },
   "file_extension": ".py",
   "mimetype": "text/x-python",
   "name": "python",
   "nbconvert_exporter": "python",
   "pygments_lexer": "ipython3",
   "version": "3.8.0"
  }
 },
 "nbformat": 4,
 "nbformat_minor": 4
}
