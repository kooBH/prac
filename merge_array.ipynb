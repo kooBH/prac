{
 "cells": [
  {
   "cell_type": "code",
   "execution_count": 7,
   "id": "81d9ed94-4fc2-4f8f-9945-2f2d7276c5e1",
   "metadata": {},
   "outputs": [],
   "source": [
    "import numpy as np"
   ]
  },
  {
   "cell_type": "markdown",
   "id": "2233845b-2f60-409b-a891-da8d45b0e5a0",
   "metadata": {},
   "source": [
    "# 1-D"
   ]
  },
  {
   "cell_type": "code",
   "execution_count": 14,
   "id": "a3f719a1-62ef-471e-a778-0f8f9864cecf",
   "metadata": {},
   "outputs": [
    {
     "name": "stdout",
     "output_type": "stream",
     "text": [
      "[1 2 3 4 5 6]\n",
      "[10 20 30]\n",
      "[11 22 33  4  5  6]\n"
     ]
    }
   ],
   "source": [
    "x1 = np.array([1,2,3,4,5,6])\n",
    "print(x1)\n",
    "x2 = np.array([10,20,30])\n",
    "print(x2)\n",
    "\n",
    "if len(x1) > len(x2) :\n",
    "    y = x1 + np.pad(x2,(0,len(x1)-len(x2)))\n",
    "else :\n",
    "    y = x2 + np.pad(x1,(0,len(x2)-len(x1)))\n",
    "\n",
    "print(y)"
   ]
  },
  {
   "cell_type": "markdown",
   "id": "a47e4562-778d-4d0b-b157-f4cb5488df7a",
   "metadata": {},
   "source": [
    "# 2-D"
   ]
  },
  {
   "cell_type": "code",
   "execution_count": 21,
   "id": "034fe852-c658-4ebd-a9dd-5ca83ec79180",
   "metadata": {},
   "outputs": [
    {
     "name": "stdout",
     "output_type": "stream",
     "text": [
      "[[1 2 3 4 5 6]]\n",
      "[[10 20 30]]\n",
      "(1, 6)\n",
      "(1, 3)\n",
      "(1, 6)\n"
     ]
    }
   ],
   "source": [
    "x1 = np.array([[1,2,3,4,5,6]])\n",
    "print(x1)\n",
    "x2 = np.array([[10,20,30]])\n",
    "print(x2)\n",
    "\n",
    "print(x1.shape)\n",
    "print(x2.shape)\n",
    "\n",
    "if x1.shape[1] > x2.shape[1] :\n",
    "    y = x1 + np.pad(x2,((0,0),(0,x1.shape[1]-x2.shape[1]  )))\n",
    "else :\n",
    "    y = x2 + np.pad(x1,((0,0),(0,x2.shape[1]-x1.shape[1]   )))\n",
    "\n",
    "print(y.shape)"
   ]
  },
  {
   "cell_type": "code",
   "execution_count": null,
   "id": "87f2e7d8-7a98-45c9-961b-64e858b8bf43",
   "metadata": {},
   "outputs": [],
   "source": []
  }
 ],
 "metadata": {
  "kernelspec": {
   "display_name": "Python 3 (ipykernel)",
   "language": "python",
   "name": "python3"
  },
  "language_info": {
   "codemirror_mode": {
    "name": "ipython",
    "version": 3
   },
   "file_extension": ".py",
   "mimetype": "text/x-python",
   "name": "python",
   "nbconvert_exporter": "python",
   "pygments_lexer": "ipython3",
   "version": "3.9.6"
  }
 },
 "nbformat": 4,
 "nbformat_minor": 5
}
