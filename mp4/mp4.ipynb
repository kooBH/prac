{
 "cells": [
  {
   "cell_type": "code",
   "execution_count": 10,
   "id": "45cfba6e-290f-4bb6-aa21-2879369e0bbb",
   "metadata": {},
   "outputs": [],
   "source": [
    "import ffmpeg"
   ]
  },
  {
   "cell_type": "code",
   "execution_count": 11,
   "id": "1d0b3620-4fec-462a-abf8-4b40b503d91c",
   "metadata": {},
   "outputs": [
    {
     "name": "stderr",
     "output_type": "stream",
     "text": [
      "ffmpeg version 4.2.2 Copyright (c) 2000-2019 the FFmpeg developers\n",
      "  built with gcc 7.3.0 (crosstool-NG 1.23.0.449-a04d0)\n",
      "  configuration: --prefix=/home/kbh/.conda/envs/dnn --cc=/tmp/build/80754af9/ffmpeg_1587154242452/_build_env/bin/x86_64-conda_cos6-linux-gnu-cc --disable-doc --enable-avresample --enable-gmp --enable-hardcoded-tables --enable-libfreetype --enable-libvpx --enable-pthreads --enable-libopus --enable-postproc --enable-pic --enable-pthreads --enable-shared --enable-static --enable-version3 --enable-zlib --enable-libmp3lame --disable-nonfree --enable-gpl --enable-gnutls --disable-openssl --enable-libopenh264 --enable-libx264\n",
      "  libavutil      56. 31.100 / 56. 31.100\n",
      "  libavcodec     58. 54.100 / 58. 54.100\n",
      "  libavformat    58. 29.100 / 58. 29.100\n",
      "  libavdevice    58.  8.100 / 58.  8.100\n",
      "  libavfilter     7. 57.100 /  7. 57.100\n",
      "  libavresample   4.  0.  0 /  4.  0.  0\n",
      "  libswscale      5.  5.100 /  5.  5.100\n",
      "  libswresample   3.  5.100 /  3.  5.100\n",
      "  libpostproc    55.  5.100 / 55.  5.100\n",
      "Input #0, mov,mp4,m4a,3gp,3g2,mj2, from '480_30sec.mp4':\n",
      "  Metadata:\n",
      "    major_brand     : mp42\n",
      "    minor_version   : 0\n",
      "    compatible_brands: mp42mp41isomavc1\n",
      "    creation_time   : 2015-08-07T09:13:02.000000Z\n",
      "  Duration: 00:00:30.53, start: 0.000000, bitrate: 411 kb/s\n",
      "    Stream #0:0(und): Video: h264 (Constrained Baseline) (avc1 / 0x31637661), yuv420p, 480x270 [SAR 1:1 DAR 16:9], 301 kb/s, 30 fps, 30 tbr, 30 tbn, 60 tbc (default)\n",
      "    Metadata:\n",
      "      creation_time   : 2015-08-07T09:13:02.000000Z\n",
      "      handler_name    : L-SMASH Video Handler\n",
      "      encoder         : AVC Coding\n",
      "    Stream #0:1(und): Audio: aac (LC) (mp4a / 0x6134706D), 48000 Hz, stereo, fltp, 112 kb/s (default)\n",
      "    Metadata:\n",
      "      creation_time   : 2015-08-07T09:13:02.000000Z\n",
      "      handler_name    : L-SMASH Audio Handler\n",
      "Guessed Channel Layout for Input Stream #1.0 : 6.1\n",
      "Input #1, wav, from '16kHz_28sec.wav':\n",
      "  Duration: 00:00:28.05, bitrate: 1792 kb/s\n",
      "    Stream #1:0: Audio: pcm_s16le ([1][0][0][0] / 0x0001), 16000 Hz, 6.1, s16, 1792 kb/s\n",
      "Stream mapping:\n",
      "  Stream #0:0 -> #0:0 (copy)\n",
      "  Stream #1:0 -> #0:1 (pcm_s16le (native) -> aac (native))\n",
      "Press [q] to stop, [?] for help\n",
      "[aac @ 0x558ef422b900] Using a PCE to encode channel layout \"6.1\"\n",
      "Output #0, mp4, to 'out2.mp4':\n",
      "  Metadata:\n",
      "    major_brand     : mp42\n",
      "    minor_version   : 0\n",
      "    compatible_brands: mp42mp41isomavc1\n",
      "    encoder         : Lavf58.29.100\n",
      "    Stream #0:0(und): Video: h264 (Constrained Baseline) (avc1 / 0x31637661), yuv420p, 480x270 [SAR 1:1 DAR 16:9], q=2-31, 301 kb/s, 30 fps, 30 tbr, 15360 tbn, 30 tbc (default)\n",
      "    Metadata:\n",
      "      creation_time   : 2015-08-07T09:13:02.000000Z\n",
      "      handler_name    : L-SMASH Video Handler\n",
      "      encoder         : AVC Coding\n",
      "    Stream #0:1: Audio: aac (LC) (mp4a / 0x6134706D), 16000 Hz, 6.1, fltp, 463 kb/s\n",
      "    Metadata:\n",
      "      encoder         : Lavc58.54.100 aac\n",
      "frame=  901 fps=0.0 q=-1.0 Lsize=    2703kB time=00:00:30.00 bitrate= 738.0kbits/s speed=83.7x    \n",
      "video:1104kB audio:1588kB subtitle:0kB other streams:0kB global headers:0kB muxing overhead: 0.405630%\n",
      "[aac @ 0x558ef422b900] Qavg: 297.705\n"
     ]
    },
    {
     "data": {
      "text/plain": [
       "(None, None)"
      ]
     },
     "execution_count": 11,
     "metadata": {},
     "output_type": "execute_result"
    }
   ],
   "source": [
    "video  = ffmpeg.input(\"480_30sec.mp4\").video # get only video channel\n",
    "audio  = ffmpeg.input(\"16kHz_28sec.wav\").audio # get only audio channel\n",
    "output = ffmpeg.output(video, audio, \"out2.mp4\", vcodec='copy', acodec='aac', strict='experimental')\n",
    "ffmpeg.run(output)"
   ]
  },
  {
   "cell_type": "markdown",
   "id": "56ad27ba-9661-4ef8-8270-82f762af2299",
   "metadata": {},
   "source": [
    "## => 길이 안 맞아도 생성은 가능, 빈부분은 비게 하는듯"
   ]
  },
  {
   "cell_type": "code",
   "execution_count": null,
   "id": "c2d81370-20de-4928-bfb9-cd3703e04316",
   "metadata": {},
   "outputs": [],
   "source": []
  }
 ],
 "metadata": {
  "kernelspec": {
   "display_name": "Python 3 (ipykernel)",
   "language": "python",
   "name": "python3"
  },
  "language_info": {
   "codemirror_mode": {
    "name": "ipython",
    "version": 3
   },
   "file_extension": ".py",
   "mimetype": "text/x-python",
   "name": "python",
   "nbconvert_exporter": "python",
   "pygments_lexer": "ipython3",
   "version": "3.9.12"
  }
 },
 "nbformat": 4,
 "nbformat_minor": 5
}
