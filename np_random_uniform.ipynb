{
 "cells": [
  {
   "cell_type": "code",
   "execution_count": 1,
   "id": "721d8c37-2b1d-48f0-aaa8-3161b74ca6ed",
   "metadata": {},
   "outputs": [],
   "source": [
    "import numpy as np"
   ]
  },
  {
   "cell_type": "code",
   "execution_count": 14,
   "id": "7097fc78-f0bb-4dbc-981a-98df4bc807eb",
   "metadata": {},
   "outputs": [
    {
     "name": "stdout",
     "output_type": "stream",
     "text": [
      "5.707347889288139\n"
     ]
    }
   ],
   "source": [
    "print(np.random.uniform(low=1,high=10))"
   ]
  },
  {
   "cell_type": "code",
   "execution_count": 13,
   "id": "d13f1d62-c043-48dc-878b-102a410ecf43",
   "metadata": {},
   "outputs": [
    {
     "name": "stdout",
     "output_type": "stream",
     "text": [
      "[3.2501073  3.32271092 3.64185826]\n",
      "[[1.73230811 4.75197837 5.69257317]]\n",
      "[[1.73023239 3.71105244 3.9348948 ]\n",
      " [2.77531502 2.38787713 4.94592881]]\n"
     ]
    }
   ],
   "source": [
    "x=[1,2,3]\n",
    "y=[4,5,6]\n",
    "print(np.random.uniform(low=x,high=y))\n",
    "print(np.random.uniform(low=x,high=y,size=(1,3)))\n",
    "print(np.random.uniform(low=x,high=y,size=(2,3)))"
   ]
  },
  {
   "cell_type": "code",
   "execution_count": 35,
   "id": "19d9e95c-9ff3-4899-98fd-4c7afa019f9a",
   "metadata": {},
   "outputs": [
    {
     "data": {
      "text/plain": [
       "array([1, 1])"
      ]
     },
     "execution_count": 35,
     "metadata": {},
     "output_type": "execute_result"
    }
   ],
   "source": [
    "np.random.choice([1,2,3],2)"
   ]
  },
  {
   "cell_type": "code",
   "execution_count": 36,
   "id": "76cf36f1-e140-41af-bc2e-94b2e5161719",
   "metadata": {},
   "outputs": [],
   "source": [
    "a = np.zeros((4,3))"
   ]
  },
  {
   "cell_type": "code",
   "execution_count": 37,
   "id": "b75cc79a-4249-4cb1-aa69-19a40e341a40",
   "metadata": {},
   "outputs": [
    {
     "data": {
      "text/plain": [
       "array([[0., 0., 0.],\n",
       "       [0., 0., 0.],\n",
       "       [0., 0., 0.],\n",
       "       [0., 0., 0.]])"
      ]
     },
     "execution_count": 37,
     "metadata": {},
     "output_type": "execute_result"
    }
   ],
   "source": [
    "a"
   ]
  },
  {
   "cell_type": "code",
   "execution_count": 38,
   "id": "c45ece35-2ce0-4020-8ceb-87acdeb44a0c",
   "metadata": {},
   "outputs": [
    {
     "data": {
      "text/plain": [
       "array([[3., 0., 0.],\n",
       "       [3., 0., 0.],\n",
       "       [3., 0., 0.],\n",
       "       [3., 0., 0.]])"
      ]
     },
     "execution_count": 38,
     "metadata": {},
     "output_type": "execute_result"
    }
   ],
   "source": [
    "a[:,0]=3\n",
    "a"
   ]
  },
  {
   "cell_type": "code",
   "execution_count": 59,
   "id": "c83e4752-45c1-43a9-a531-a16e782eedf3",
   "metadata": {},
   "outputs": [
    {
     "data": {
      "text/plain": [
       "array([2, 1])"
      ]
     },
     "execution_count": 59,
     "metadata": {},
     "output_type": "execute_result"
    }
   ],
   "source": [
    "np.random.choice(range(1,3),2)"
   ]
  },
  {
   "cell_type": "code",
   "execution_count": 61,
   "id": "ca09feb1-1a41-49b4-a7dc-635fefa29191",
   "metadata": {},
   "outputs": [
    {
     "data": {
      "text/plain": [
       "[0, 1, 2, 3]"
      ]
     },
     "execution_count": 61,
     "metadata": {},
     "output_type": "execute_result"
    }
   ],
   "source": [
    "list(range(4))"
   ]
  },
  {
   "cell_type": "code",
   "execution_count": 62,
   "id": "32e6d651-2719-4a98-9f34-e9a0f329ebfa",
   "metadata": {},
   "outputs": [
    {
     "data": {
      "text/plain": [
       "array([[3.1, 0.1, 0.1],\n",
       "       [3.1, 0.1, 0.1],\n",
       "       [3.1, 0.1, 0.1],\n",
       "       [3.1, 0.1, 0.1]])"
      ]
     },
     "execution_count": 62,
     "metadata": {},
     "output_type": "execute_result"
    }
   ],
   "source": [
    "a+=0.1\n",
    "a"
   ]
  },
  {
   "cell_type": "code",
   "execution_count": 63,
   "id": "eed0014e-477f-41c3-b0b1-ca7e41a9651d",
   "metadata": {},
   "outputs": [],
   "source": [
    "x = np.random.rand(3,2,4)"
   ]
  },
  {
   "cell_type": "code",
   "execution_count": 64,
   "id": "2d509ceb-33af-4b05-bfd0-2c36066eda9a",
   "metadata": {},
   "outputs": [
    {
     "data": {
      "text/plain": [
       "array([[[0.67336059, 0.12288912, 0.25118283, 0.65547529],\n",
       "        [0.07054171, 0.17292096, 0.94594764, 0.12918985]],\n",
       "\n",
       "       [[0.9943183 , 0.94738403, 0.51889683, 0.28465342],\n",
       "        [0.15249551, 0.3575397 , 0.88012027, 0.88209806]],\n",
       "\n",
       "       [[0.37071922, 0.07345895, 0.80931462, 0.61825486],\n",
       "        [0.51200053, 0.82178088, 0.53312286, 0.19270246]]])"
      ]
     },
     "execution_count": 64,
     "metadata": {},
     "output_type": "execute_result"
    }
   ],
   "source": [
    "x"
   ]
  },
  {
   "cell_type": "code",
   "execution_count": 69,
   "id": "102869ed-da69-41fd-b521-6e9bdd159401",
   "metadata": {},
   "outputs": [
    {
     "name": "stdout",
     "output_type": "stream",
     "text": [
      "(3, 2, 4)\n",
      "(3, 4)\n",
      "(3, 1, 4)\n"
     ]
    }
   ],
   "source": [
    "print(x.shape)\n",
    "print(x[:,0,:].shape)\n",
    "print(x[:,0:1,:].shape)"
   ]
  },
  {
   "cell_type": "code",
   "execution_count": 73,
   "id": "961939f1-9e2e-4c43-a043-0446f98dbef9",
   "metadata": {},
   "outputs": [
    {
     "data": {
      "text/plain": [
       "0"
      ]
     },
     "execution_count": 73,
     "metadata": {},
     "output_type": "execute_result"
    }
   ],
   "source": [
    "np.argmin([2,3,4])"
   ]
  },
  {
   "cell_type": "code",
   "execution_count": 75,
   "id": "26edd921-321a-457e-a022-ecd154db794f",
   "metadata": {},
   "outputs": [],
   "source": [
    "x= np.random.rand(3,4)"
   ]
  },
  {
   "cell_type": "code",
   "execution_count": 76,
   "id": "c09e7b1e-ac8d-463f-81d9-5f56a8b461a7",
   "metadata": {},
   "outputs": [
    {
     "data": {
      "text/plain": [
       "array([[0.11746699, 0.15326179, 0.60663029, 0.4665995 ],\n",
       "       [0.42431153, 0.74043744, 0.70351298, 0.12028238],\n",
       "       [0.91632119, 0.59705546, 0.84835426, 0.41249185]])"
      ]
     },
     "execution_count": 76,
     "metadata": {},
     "output_type": "execute_result"
    }
   ],
   "source": [
    "x"
   ]
  },
  {
   "cell_type": "code",
   "execution_count": 78,
   "id": "841a94da-95b5-4009-b395-34c16ccf9976",
   "metadata": {},
   "outputs": [
    {
     "data": {
      "text/plain": [
       "array([[0.12819412, 0.20698817, 0.71506718, 1.        ],\n",
       "       [0.46305982, 1.        , 0.82926793, 0.25778507],\n",
       "       [1.        , 0.80635504, 1.        , 0.88403835]])"
      ]
     },
     "execution_count": 78,
     "metadata": {},
     "output_type": "execute_result"
    }
   ],
   "source": [
    "x/np.max(x,axis=0)"
   ]
  },
  {
   "cell_type": "markdown",
   "id": "1c1155eb-e1f1-4e04-a4db-aa5ec30d0815",
   "metadata": {},
   "source": [
    "## Random choice in path array"
   ]
  },
  {
   "cell_type": "code",
   "execution_count": 79,
   "id": "5e71df2e-2691-428d-b42c-87e15ba8d4e0",
   "metadata": {},
   "outputs": [],
   "source": [
    "arr_path = [\"a/b/c\",\"a/b/d\",\"a/b/e\",\"f/g/h\"]"
   ]
  },
  {
   "cell_type": "code",
   "execution_count": 82,
   "id": "bf3e6560-fcb3-4dc2-973b-acdbf829c650",
   "metadata": {},
   "outputs": [
    {
     "name": "stdout",
     "output_type": "stream",
     "text": [
      "['a/b/d' 'a/b/c']\n",
      "a/b/d\n"
     ]
    }
   ],
   "source": [
    "x = np.random.choice(arr_path,2)\n",
    "print(x)\n",
    "print(x[0])"
   ]
  },
  {
   "cell_type": "code",
   "execution_count": 97,
   "id": "57b36d3c-1f10-405b-8fd4-df1d571a5c02",
   "metadata": {},
   "outputs": [
    {
     "data": {
      "text/plain": [
       "19449"
      ]
     },
     "execution_count": 97,
     "metadata": {},
     "output_type": "execute_result"
    }
   ],
   "source": [
    "np.random.randint(32767)"
   ]
  },
  {
   "cell_type": "code",
   "execution_count": 131,
   "id": "e7d93aad-cbbc-41db-a3d6-57cf8e21f902",
   "metadata": {},
   "outputs": [
    {
     "name": "stdout",
     "output_type": "stream",
     "text": [
      "1\n",
      "1\n",
      "2\n",
      "2\n",
      "1\n",
      "1\n",
      "2\n",
      "1\n",
      "2\n",
      "2\n"
     ]
    }
   ],
   "source": [
    "for i in range(10) : \n",
    "    print(np.random.randint(low=1,high=4))"
   ]
  },
  {
   "cell_type": "code",
   "execution_count": null,
   "id": "d1d76393-9ba7-45a7-9723-a4f54878184e",
   "metadata": {},
   "outputs": [],
   "source": []
  }
 ],
 "metadata": {
  "kernelspec": {
   "display_name": "Python 3 (ipykernel)",
   "language": "python",
   "name": "python3"
  },
  "language_info": {
   "codemirror_mode": {
    "name": "ipython",
    "version": 3
   },
   "file_extension": ".py",
   "mimetype": "text/x-python",
   "name": "python",
   "nbconvert_exporter": "python",
   "pygments_lexer": "ipython3",
   "version": "3.9.6"
  }
 },
 "nbformat": 4,
 "nbformat_minor": 5
}
