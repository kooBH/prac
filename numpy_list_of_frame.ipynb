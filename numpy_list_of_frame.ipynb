{
 "cells": [
  {
   "cell_type": "code",
   "execution_count": 15,
   "id": "b0b609b2-cba1-4d79-ab76-dc486be1b1fa",
   "metadata": {},
   "outputs": [],
   "source": [
    "import numpy as np\n",
    "import librosa\n",
    "import scipy.signal"
   ]
  },
  {
   "cell_type": "code",
   "execution_count": 35,
   "id": "e89bfc06-76e8-46e5-a0c2-d620289f5723",
   "metadata": {},
   "outputs": [
    {
     "name": "stdout",
     "output_type": "stream",
     "text": [
      "(1025, 16)\n"
     ]
    }
   ],
   "source": [
    "x = np.random.rand(8000)\n",
    "y = librosa.stft(x)\n",
    "print(y.shape)"
   ]
  },
  {
   "cell_type": "code",
   "execution_count": 36,
   "id": "e79da203-7e49-4da4-bedc-d4b96e53d940",
   "metadata": {},
   "outputs": [
    {
     "name": "stdout",
     "output_type": "stream",
     "text": [
      "(1, 1025, 4)\n",
      "(1025, 8)\n"
     ]
    }
   ],
   "source": [
    "z = []\n",
    "z.append(y[:,0:4])\n",
    "print(np.array(z).shape)\n",
    "\n",
    "z.append(y[:,6:8])\n",
    "z.append(y[:,6:8])\n",
    "print(np.concatenate(z,1).shape)"
   ]
  },
  {
   "cell_type": "code",
   "execution_count": 40,
   "id": "e8e93ad5-3258-4ec6-9caf-f1a03e074d02",
   "metadata": {},
   "outputs": [
    {
     "data": {
      "text/plain": [
       "(7680,)"
      ]
     },
     "execution_count": 40,
     "metadata": {},
     "output_type": "execute_result"
    }
   ],
   "source": [
    "X_4k = scipy.signal.istft(y,noverlap=1024-512,nperseg=1024)\n",
    "X_4k[1].shape"
   ]
  },
  {
   "cell_type": "code",
   "execution_count": 53,
   "id": "dc8fff24-7e83-417f-892d-fe063abf6891",
   "metadata": {},
   "outputs": [
    {
     "name": "stdout",
     "output_type": "stream",
     "text": [
      "(7, 16000)\n"
     ]
    },
    {
     "data": {
      "text/plain": [
       "(7, 513, 33)"
      ]
     },
     "execution_count": 53,
     "metadata": {},
     "output_type": "execute_result"
    }
   ],
   "source": [
    "x = np.random.rand(7,16000)\n",
    "print(x.shape)\n",
    "zz = scipy.signal.stft(x,noverlap=1024-512,nperseg=1024)[2]\n",
    "zz.shape"
   ]
  },
  {
   "cell_type": "code",
   "execution_count": null,
   "id": "a755bc5c-4a6a-41e4-82d7-9c5c223b2f65",
   "metadata": {},
   "outputs": [],
   "source": []
  }
 ],
 "metadata": {
  "kernelspec": {
   "display_name": "Python 3 (ipykernel)",
   "language": "python",
   "name": "python3"
  },
  "language_info": {
   "codemirror_mode": {
    "name": "ipython",
    "version": 3
   },
   "file_extension": ".py",
   "mimetype": "text/x-python",
   "name": "python",
   "nbconvert_exporter": "python",
   "pygments_lexer": "ipython3",
   "version": "3.9.12"
  }
 },
 "nbformat": 4,
 "nbformat_minor": 5
}
