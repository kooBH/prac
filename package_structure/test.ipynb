{
 "cells": [
  {
   "cell_type": "markdown",
   "id": "cdadf3ea-ae7c-41c5-bc63-d9ab1f69034f",
   "metadata": {},
   "source": [
    "https://wikidocs.net/1418"
   ]
  },
  {
   "cell_type": "code",
   "execution_count": 1,
   "id": "16671227-befa-4c92-b031-d0e7032c9fea",
   "metadata": {},
   "outputs": [],
   "source": [
    "import level_1.l1_p1 as a\n",
    "import level_1"
   ]
  },
  {
   "cell_type": "code",
   "execution_count": 2,
   "id": "a5fc604f-c126-4981-b406-342a12412e3f",
   "metadata": {},
   "outputs": [
    {
     "name": "stdout",
     "output_type": "stream",
     "text": [
      "['VERSION', '__all__', '__builtins__', '__cached__', '__doc__', '__file__', '__loader__', '__name__', '__package__', '__path__', '__spec__', 'hello', 'l1_p1', 'level_2_1']\n",
      "['__builtins__', '__cached__', '__doc__', '__file__', '__loader__', '__name__', '__package__', '__spec__', 'a', 'ab']\n",
      "Level 1 P 1\n"
     ]
    },
    {
     "ename": "AttributeError",
     "evalue": "module 'level_1.level_2_1.l2_1_p1' has no attribute 'ab'",
     "output_type": "error",
     "traceback": [
      "\u001b[0;31m---------------------------------------------------------------------------\u001b[0m",
      "\u001b[0;31mAttributeError\u001b[0m                            Traceback (most recent call last)",
      "Input \u001b[0;32mIn [2]\u001b[0m, in \u001b[0;36m<cell line: 5>\u001b[0;34m()\u001b[0m\n\u001b[1;32m      1\u001b[0m \u001b[38;5;28mprint\u001b[39m(\u001b[38;5;28mdir\u001b[39m(level_1))\n\u001b[1;32m      3\u001b[0m \u001b[38;5;28mprint\u001b[39m(\u001b[38;5;28mdir\u001b[39m(a))\n\u001b[0;32m----> 5\u001b[0m m \u001b[38;5;241m=\u001b[39m \u001b[43ma\u001b[49m\u001b[38;5;241;43m.\u001b[39;49m\u001b[43ma\u001b[49m\u001b[43m(\u001b[49m\u001b[43m)\u001b[49m\n",
      "File \u001b[0;32m~/work/prac/package_structure/level_1/l1_p1.py:6\u001b[0m, in \u001b[0;36ma.__init__\u001b[0;34m(self)\u001b[0m\n\u001b[1;32m      4\u001b[0m \u001b[38;5;28;01mdef\u001b[39;00m \u001b[38;5;21m__init__\u001b[39m(\u001b[38;5;28mself\u001b[39m):\n\u001b[1;32m      5\u001b[0m     \u001b[38;5;28mprint\u001b[39m(\u001b[38;5;124m\"\u001b[39m\u001b[38;5;124mLevel 1 P 1\u001b[39m\u001b[38;5;124m\"\u001b[39m)\n\u001b[0;32m----> 6\u001b[0m     m \u001b[38;5;241m=\u001b[39m \u001b[43mab\u001b[49m\u001b[38;5;241;43m.\u001b[39;49m\u001b[43mab\u001b[49m()\n",
      "\u001b[0;31mAttributeError\u001b[0m: module 'level_1.level_2_1.l2_1_p1' has no attribute 'ab'"
     ]
    }
   ],
   "source": [
    "print(dir(level_1))\n",
    "\n",
    "print(dir(a))\n",
    "\n",
    "m = a.a()"
   ]
  },
  {
   "cell_type": "code",
   "execution_count": 9,
   "id": "89b8f194-371a-4f10-9313-93fa5c61065e",
   "metadata": {},
   "outputs": [
    {
     "ename": "AttributeError",
     "evalue": "module 'level_1.l1_p1' has no attribute 'l1_p1'",
     "output_type": "error",
     "traceback": [
      "\u001b[0;31m---------------------------------------------------------------------------\u001b[0m",
      "\u001b[0;31mAttributeError\u001b[0m                            Traceback (most recent call last)",
      "Input \u001b[0;32mIn [9]\u001b[0m, in \u001b[0;36m<cell line: 1>\u001b[0;34m()\u001b[0m\n\u001b[0;32m----> 1\u001b[0m m \u001b[38;5;241m=\u001b[39m \u001b[43ma\u001b[49m\u001b[38;5;241;43m.\u001b[39;49m\u001b[43ml1_p1\u001b[49m()\n",
      "\u001b[0;31mAttributeError\u001b[0m: module 'level_1.l1_p1' has no attribute 'l1_p1'"
     ]
    }
   ],
   "source": []
  },
  {
   "cell_type": "code",
   "execution_count": null,
   "id": "f378c180-0707-4318-bbbd-0ef86afd89d4",
   "metadata": {},
   "outputs": [],
   "source": []
  }
 ],
 "metadata": {
  "kernelspec": {
   "display_name": "Python 3 (ipykernel)",
   "language": "python",
   "name": "python3"
  },
  "language_info": {
   "codemirror_mode": {
    "name": "ipython",
    "version": 3
   },
   "file_extension": ".py",
   "mimetype": "text/x-python",
   "name": "python",
   "nbconvert_exporter": "python",
   "pygments_lexer": "ipython3",
   "version": "3.9.12"
  }
 },
 "nbformat": 4,
 "nbformat_minor": 5
}
