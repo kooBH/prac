{
 "cells": [
  {
   "cell_type": "code",
   "execution_count": 20,
   "id": "2befa563-f457-484e-8120-1ff83a83e971",
   "metadata": {},
   "outputs": [],
   "source": [
    "import cv2\n",
    "import numpy as np\n",
    "import glob,os\n",
    "import librosa as rs\n",
    "import soundfile as sf\n",
    "import numpy as np\n",
    "import scipy\n",
    "\n",
    "from moviepy.editor import *\n",
    "from moviepy.audio.AudioClip import AudioArrayClip\n",
    "import matplotlib.pyplot as plt   \n",
    "import IPython.display as ipd\n"
   ]
  },
  {
   "cell_type": "markdown",
   "id": "42aeb97b-9bda-40b8-9b4e-f6b8173e9ff7",
   "metadata": {},
   "source": [
    "# Extract Audio From Video"
   ]
  },
  {
   "cell_type": "code",
   "execution_count": 14,
   "id": "59b27fe5-9cec-44a7-acd7-e903c4811997",
   "metadata": {},
   "outputs": [
    {
     "name": "stdout",
     "output_type": "stream",
     "text": [
      "59.94\n",
      "23763\n",
      "396.4464464464465\n",
      "44100\n"
     ]
    }
   ],
   "source": [
    "path_vid = \"input.mp4\"\n",
    "\n",
    "video = VideoFileClip(path_vid)\n",
    "print(video.fps)\n",
    "fps = video.fps\n",
    "print(video.reader.nframes)\n",
    "\n",
    "print(video.reader.nframes/fps)\n",
    "\n",
    "audio = video.audio\n",
    "print(audio.fps)\n",
    "\n",
    "#aud_raw = audio.to_soundarray()\n",
    "#print(aud_raw.shape)\n",
    "#sf.write(\"audio.wav\",aud_raw,audio.fps)\n"
   ]
  },
  {
   "cell_type": "markdown",
   "id": "ec462312-3fd2-45b3-9971-81b2071b8692",
   "metadata": {
    "tags": []
   },
   "source": [
    "## Issue\n",
    "6분 30초가량의 오디오 중에서 앞쪽 1분 30초 정도만  \n",
    "잘 추출되고 나머지 부분은 반복되는 잘못된 값이 출력된다\n",
    "\n",
    "=> \n",
    "\n",
    "```\n",
    "ffmpeg -i '.\\2024-01-11 CES2024_SBA 06-mpWAV.mp4' -q:a 0 -map a sample.wav\n",
    "```\n",
    "ffmpeg 이 편하다."
   ]
  },
  {
   "cell_type": "markdown",
   "id": "d5d584fe-f054-4f57-ae23-dfb23fbfae87",
   "metadata": {},
   "source": [
    "# Fuse with Vid"
   ]
  },
  {
   "cell_type": "code",
   "execution_count": 21,
   "id": "867bebc0-06e7-4fe8-ab5a-0153939663f4",
   "metadata": {},
   "outputs": [
    {
     "name": "stdout",
     "output_type": "stream",
     "text": [
      "(2, 17482299)\n",
      "Moviepy - Building video output.mp4.\n",
      "MoviePy - Writing audio in outputTEMP_MPY_wvf_snd.mp4\n"
     ]
    },
    {
     "name": "stderr",
     "output_type": "stream",
     "text": [
      "                                                                                             \r"
     ]
    },
    {
     "name": "stdout",
     "output_type": "stream",
     "text": [
      "MoviePy - Done.\n",
      "Moviepy - Writing video output.mp4\n",
      "\n"
     ]
    },
    {
     "name": "stderr",
     "output_type": "stream",
     "text": [
      "                                                                                             \r"
     ]
    },
    {
     "name": "stdout",
     "output_type": "stream",
     "text": [
      "Moviepy - Done !\n",
      "Moviepy - video ready output.mp4\n"
     ]
    }
   ],
   "source": [
    "path_enhan = \"20240205_CES_SBA_enhan.wav\"\n",
    "path_output = \"output.mp4\"\n",
    "\n",
    "enhan,_ = rs.load(path_enhan, mono=False, sr = audio.fps)\n",
    "print(enhan.shape)\n",
    "# Set the new audio clip for the video\n",
    "video = video.set_audio(AudioArrayClip(enhan.T, fps=audio.fps))\n",
    "\n",
    "# Write the new video with replaced audio to the output path\n",
    "video.write_videofile(path_output, codec='libx264', audio_codec='aac')\n",
    "\n",
    "# Close the video clip\n",
    "video.close()\n"
   ]
  },
  {
   "cell_type": "code",
   "execution_count": null,
   "id": "7ed5224b-8ec3-4c16-9040-c101fae4e064",
   "metadata": {},
   "outputs": [],
   "source": [
    "\n",
    "\n",
    "\n",
    "print(vid.shape)\n",
    "\n",
    "raw = audio.to_soundarray()\n",
    "print(raw.shape)\n",
    "\n",
    "ipd.display(ipd.Audio(raw[:,0], rate=audio.fps))\n",
    "# Vid \n",
    "#out = cv2.VideoWriter('output.mp4', cv2.VideoWriter_fourcc(*'mp4v'), fps, (vid.shape[2],vid.shape[1]), False)\n",
    "out = cv2.VideoWriter('output.mp4', cv2.VideoWriter_fourcc(*'VP80'), fps, (vid.shape[2],vid.shape[1]))\n",
    "for i in range(vid.shape[0]):\n",
    "    out.write(vid[i])\n",
    "out.release()\n",
    "\n",
    "np.save(\"output.np\", vid)\n",
    "\n",
    "\n",
    "# Mix"
   ]
  },
  {
   "cell_type": "markdown",
   "id": "aa035049-847b-4fd1-ac99-7447a493f431",
   "metadata": {},
   "source": [
    "```python\n",
    "from moviepy.editor import *\n",
    "videoclip = VideoFileClip(\"filename.mp4\")\n",
    "audioclip = AudioFileClip(\"audioname.mp3\")\n",
    "\n",
    "new_audioclip = CompositeAudioClip([audioclip])\n",
    "videoclip.audio = new_audioclip\n",
    "videoclip.write_videofile(\"new_filename.mp4\")\n",
    "```"
   ]
  },
  {
   "cell_type": "code",
   "execution_count": null,
   "id": "9e244ce3-17ec-4693-9ac3-7c82e6aef9d2",
   "metadata": {},
   "outputs": [],
   "source": []
  }
 ],
 "metadata": {
  "kernelspec": {
   "display_name": "Python 3 (ipykernel)",
   "language": "python",
   "name": "python3"
  },
  "language_info": {
   "codemirror_mode": {
    "name": "ipython",
    "version": 3
   },
   "file_extension": ".py",
   "mimetype": "text/x-python",
   "name": "python",
   "nbconvert_exporter": "python",
   "pygments_lexer": "ipython3",
   "version": "3.9.12"
  }
 },
 "nbformat": 4,
 "nbformat_minor": 5
}
