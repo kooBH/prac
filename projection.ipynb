{
 "cells": [
  {
   "cell_type": "code",
   "execution_count": 2,
   "id": "2fe52b36-fe04-45a0-a850-0e11d577ad27",
   "metadata": {},
   "outputs": [],
   "source": [
    "from scipy.io import wavfile\n",
    "import librosa\n",
    "\n",
    "import numpy as np\n",
    "from numpy.linalg import inv\n",
    "from numpy.linalg import norm\n",
    "\n",
    "import matplotlib.pyplot as plt   \n",
    "import IPython.display as ipd"
   ]
  },
  {
   "cell_type": "code",
   "execution_count": 3,
   "id": "e6f05755-7b58-472e-997d-f3dd431a31f4",
   "metadata": {},
   "outputs": [],
   "source": [
    "path_noise = \"data/wav/noise_1ch.wav\"\n",
    "path_noisy = \"data/wav/noisy_1ch.wav\"\n",
    "path_speech = \"data/wav/clean_1ch.wav\"\n",
    "path_enhan = \"data/wav/t51.wav\"\n",
    "path_estim = \"data/wav/estim.wav\""
   ]
  },
  {
   "cell_type": "code",
   "execution_count": 4,
   "id": "c6413dcf-8ba3-40ba-a9e4-68ba16153a94",
   "metadata": {},
   "outputs": [
    {
     "name": "stdout",
     "output_type": "stream",
     "text": [
      "(104711,)\n",
      "(104711,)\n",
      "(104711,)\n",
      "(104711,)\n",
      "(104711,)\n"
     ]
    }
   ],
   "source": [
    "sr,n = wavfile.read(path_noise)\n",
    "sr,s = wavfile.read(path_speech)\n",
    "sr,s_hathat = wavfile.read(path_enhan)\n",
    "sr,s_hat  = wavfile.read(path_estim)\n",
    "sr,x = wavfile.read(path_noisy)\n",
    "\n",
    "s_hathat = np.pad(s_hathat,(512,0))\n",
    "s_hathat = s_hathat[:len(s)]\n",
    "\n",
    "x = s + n\n",
    "\n",
    "n = n/32768\n",
    "s = s/32768\n",
    "s_hat = s_hat/32768\n",
    "s_hathat = s_hathat/32768\n",
    "x = x/32768\n",
    "\n",
    "# Normalization\n",
    "#n = n/np.max(np.abs(n))\n",
    "#s = s/np.max(np.abs(s))\n",
    "#s_hathat = s_hathat/np.max(np.abs(s_hathat))\n",
    "#s_hat = s_hat/np.max(np.abs(s_hat))\n",
    "#x = x/np.max(np.abs(x))\n",
    "\n",
    "\n",
    "print(s.shape)\n",
    "print(s_hat.shape)\n",
    "print(s_hathat.shape)\n",
    "print(n.shape)\n",
    "print(x.shape)"
   ]
  },
  {
   "cell_type": "code",
   "execution_count": 5,
   "id": "f4f6ddc5-18dd-49d7-bc10-fc06762cf15e",
   "metadata": {},
   "outputs": [
    {
     "name": "stdout",
     "output_type": "stream",
     "text": [
      "(1025, 205)\n",
      "(1025, 205)\n",
      "(1025, 205)\n",
      "(1025, 205)\n",
      "(1025, 205)\n"
     ]
    }
   ],
   "source": [
    "N = np.abs(librosa.stft(n))\n",
    "S = np.abs(librosa.stft(s))\n",
    "X = np.abs(librosa.stft(x))\n",
    "S_hat = np.abs(librosa.stft(s_hat))\n",
    "S_hathat = np.abs(librosa.stft(s_hathat))\n",
    "\n",
    "print(N.shape)\n",
    "print(S.shape)\n",
    "print(X.shape)\n",
    "print(S_hat.shape)\n",
    "print(S_hathat.shape)"
   ]
  },
  {
   "cell_type": "code",
   "execution_count": 20,
   "id": "e4949636-bb23-4a3b-8689-bade00846d43",
   "metadata": {},
   "outputs": [],
   "source": [
    "idx = 50\n",
    "\n",
    "tmp_N = N[:,idx:idx+1]\n",
    "tmp_S = S[:,idx:idx+1]\n",
    "tmp_Y = tmp_S+tmp_N\n",
    "tmp_X = X[:,idx:idx+1]\n",
    "\n"
   ]
  },
  {
   "cell_type": "code",
   "execution_count": 35,
   "id": "3b4a687c-370a-4eff-a688-b172e63ffa3a",
   "metadata": {},
   "outputs": [
    {
     "name": "stdout",
     "output_type": "stream",
     "text": [
      "(1025, 205)\n",
      "(1025, 1)\n",
      "[[1171.92410719]]\n"
     ]
    }
   ],
   "source": [
    "P = tmp_S@inv(tmp_S.T@tmp_S)@tmp_S.T\n",
    "\n",
    "target = P@tmp_N\n",
    "print(S.shape)\n",
    "print(target.shape)\n",
    "print(target.T@tmp_N)"
   ]
  }
 ],
 "metadata": {
  "kernelspec": {
   "display_name": "Python 3 (ipykernel)",
   "language": "python",
   "name": "python3"
  },
  "language_info": {
   "codemirror_mode": {
    "name": "ipython",
    "version": 3
   },
   "file_extension": ".py",
   "mimetype": "text/x-python",
   "name": "python",
   "nbconvert_exporter": "python",
   "pygments_lexer": "ipython3",
   "version": "3.9.6"
  }
 },
 "nbformat": 4,
 "nbformat_minor": 5
}
