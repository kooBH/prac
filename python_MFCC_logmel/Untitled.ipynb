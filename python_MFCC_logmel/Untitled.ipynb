{
 "cells": [
  {
   "cell_type": "code",
   "execution_count": 10,
   "id": "aa5ddc26-f2c9-4a51-866a-8fc8f7c4f2b1",
   "metadata": {},
   "outputs": [],
   "source": [
    "import torch"
   ]
  },
  {
   "cell_type": "code",
   "execution_count": 11,
   "id": "bfb1220d-b7c8-488a-b4aa-e8b9f0a98768",
   "metadata": {},
   "outputs": [
    {
     "name": "stdout",
     "output_type": "stream",
     "text": [
      "tensor([0.7913])\n",
      "tensor([-0.1016])\n",
      "tensor([-0.2341])\n",
      "tensor([-0.1016])\n"
     ]
    }
   ],
   "source": [
    "x = torch.rand(1)\n",
    "print(x)\n",
    "\n",
    "s = torch.log10(x)\n",
    "print(s)\n",
    "\n",
    "y = torch.log(x)\n",
    "print(y)\n",
    "\n",
    "z = torch.log10(torch.exp(y))\n",
    "print(z)"
   ]
  },
  {
   "cell_type": "code",
   "execution_count": 12,
   "id": "adda45ae-81f5-4bea-a99b-0fc3d2e5276c",
   "metadata": {},
   "outputs": [],
   "source": [
    "import numpy as np\n",
    "x = x.detach().numpy()"
   ]
  },
  {
   "cell_type": "code",
   "execution_count": 15,
   "id": "6bdc25da-43e6-4e6a-baa8-27a617e72b3d",
   "metadata": {},
   "outputs": [
    {
     "name": "stdout",
     "output_type": "stream",
     "text": [
      "[0.79132164]\n",
      "[-0.10164697]\n",
      "[-0.23405075]\n",
      "[-0.10164697]\n"
     ]
    }
   ],
   "source": [
    "\n",
    "print(x)\n",
    "\n",
    "s = np.log10(x)\n",
    "print(s)\n",
    "\n",
    "y = np.log(x)\n",
    "print(y)\n",
    "\n",
    "z = np.log10(np.exp(y))\n",
    "print(z)"
   ]
  },
  {
   "cell_type": "code",
   "execution_count": null,
   "id": "ee1ead1d-010c-4f60-ad70-ba1ac043a985",
   "metadata": {},
   "outputs": [],
   "source": []
  }
 ],
 "metadata": {
  "kernelspec": {
   "display_name": "Python 3",
   "language": "python",
   "name": "python3"
  },
  "language_info": {
   "codemirror_mode": {
    "name": "ipython",
    "version": 3
   },
   "file_extension": ".py",
   "mimetype": "text/x-python",
   "name": "python",
   "nbconvert_exporter": "python",
   "pygments_lexer": "ipython3",
   "version": "3.8.0"
  }
 },
 "nbformat": 4,
 "nbformat_minor": 5
}
