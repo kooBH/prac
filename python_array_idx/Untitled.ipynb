{
 "cells": [
  {
   "cell_type": "code",
   "execution_count": 14,
   "id": "22cb550e-b593-48ea-848d-7e9dbc1cedb8",
   "metadata": {},
   "outputs": [
    {
     "name": "stdout",
     "output_type": "stream",
     "text": [
      "[0, 1, 2, 3, 4, 5, 6]\n",
      "[0, 1, 2]\n",
      "[3, 4, 5, 6]\n",
      "(5, 5, 5, 5)\n",
      "(2, 5, 5, 4)\n"
     ]
    }
   ],
   "source": [
    "import numpy as np\n",
    "\n",
    "x = [0,1,2,3,4,5,6]\n",
    "print(x)\n",
    "print(x[:3])\n",
    "print(x[3:])\n",
    "\n",
    "y = np.random.rand(5,5,5,5)\n",
    "print(np.shape(y))\n",
    "\n",
    "z = y[:2,...,1:]\n",
    "print(np.shape(z))"
   ]
  },
  {
   "cell_type": "code",
   "execution_count": null,
   "id": "b7448848-bfa9-4075-ac68-f409e5cea343",
   "metadata": {},
   "outputs": [],
   "source": []
  }
 ],
 "metadata": {
  "kernelspec": {
   "display_name": "Python 3 (ipykernel)",
   "language": "python",
   "name": "python3"
  },
  "language_info": {
   "codemirror_mode": {
    "name": "ipython",
    "version": 3
   },
   "file_extension": ".py",
   "mimetype": "text/x-python",
   "name": "python",
   "nbconvert_exporter": "python",
   "pygments_lexer": "ipython3",
   "version": "3.8.10"
  }
 },
 "nbformat": 4,
 "nbformat_minor": 5
}
