{
 "cells": [
  {
   "cell_type": "code",
   "execution_count": 1,
   "id": "2d04b778-d62f-467d-b21e-4f2d2b644a87",
   "metadata": {},
   "outputs": [],
   "source": [
    "def A() : \n",
    "    print(\"A\")\n",
    "    \n",
    "def B() :\n",
    "    print(\"B\")"
   ]
  },
  {
   "cell_type": "code",
   "execution_count": 2,
   "id": "57e2c772-9657-46c9-82bd-5629288745fd",
   "metadata": {},
   "outputs": [
    {
     "name": "stdout",
     "output_type": "stream",
     "text": [
      "A\n",
      "B\n",
      "A\n"
     ]
    }
   ],
   "source": [
    "f = A\n",
    "f()\n",
    "\n",
    "f = B\n",
    "f()\n",
    "\n",
    "f = A\n",
    "f()"
   ]
  },
  {
   "cell_type": "code",
   "execution_count": null,
   "id": "773d2e93-b2de-46c6-a5df-3ab8513679e3",
   "metadata": {},
   "outputs": [],
   "source": []
  }
 ],
 "metadata": {
  "kernelspec": {
   "display_name": "Python 3 (ipykernel)",
   "language": "python",
   "name": "python3"
  },
  "language_info": {
   "codemirror_mode": {
    "name": "ipython",
    "version": 3
   },
   "file_extension": ".py",
   "mimetype": "text/x-python",
   "name": "python",
   "nbconvert_exporter": "python",
   "pygments_lexer": "ipython3",
   "version": "3.8.10"
  }
 },
 "nbformat": 4,
 "nbformat_minor": 5
}
