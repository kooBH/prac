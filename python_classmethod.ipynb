{
 "cells": [
  {
   "cell_type": "code",
   "execution_count": 12,
   "id": "402cccc8-bd78-40dd-849b-4d17f1b2c9c6",
   "metadata": {},
   "outputs": [],
   "source": [
    "class A:\n",
    "    v = 10\n",
    "    def __init__(self):\n",
    "        pass\n",
    "    \n",
    "    def print(self,a):\n",
    "        print(a)\n",
    "        \n",
    "    @classmethod\n",
    "    def print_cm(c):\n",
    "        print(c.v)\n",
    "        \n",
    "    "
   ]
  },
  {
   "cell_type": "code",
   "execution_count": 13,
   "id": "bcc2071f-993a-479b-a652-22f19ce7b77c",
   "metadata": {},
   "outputs": [
    {
     "name": "stdout",
     "output_type": "stream",
     "text": [
      "10\n"
     ]
    }
   ],
   "source": [
    "A.print_cm()"
   ]
  },
  {
   "cell_type": "code",
   "execution_count": null,
   "id": "62762de1-b69d-48bc-a507-9e622bb27eb7",
   "metadata": {},
   "outputs": [],
   "source": []
  }
 ],
 "metadata": {
  "kernelspec": {
   "display_name": "Python 3 (ipykernel)",
   "language": "python",
   "name": "python3"
  },
  "language_info": {
   "codemirror_mode": {
    "name": "ipython",
    "version": 3
   },
   "file_extension": ".py",
   "mimetype": "text/x-python",
   "name": "python",
   "nbconvert_exporter": "python",
   "pygments_lexer": "ipython3",
   "version": "3.9.6"
  }
 },
 "nbformat": 4,
 "nbformat_minor": 5
}
