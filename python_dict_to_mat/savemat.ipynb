{
 "cells": [
  {
   "cell_type": "code",
   "execution_count": null,
   "id": "palestinian-trustee",
   "metadata": {},
   "outputs": [],
   "source": []
  },
  {
   "cell_type": "markdown",
   "id": "twenty-delta",
   "metadata": {},
   "source": [
    "https://docs.scipy.org/doc/scipy/reference/generated/scipy.io.savemat.html\n",
    "\n",
    "## scipy.io.savemat\n",
    "scipy.io.savemat(file_name, mdict, appendmat=True, format='5', long_field_names=False, do_compression=False, oned_as='row')[source]\n",
    "Save a dictionary of names and arrays into a MATLAB-style .mat file.\n",
    "\n",
    "This saves the array objects in the given dictionary to a MATLAB- style .mat file.\n",
    "\n",
    "Parameters\n",
    "file_namestr or file-like object\n",
    "Name of the .mat file (.mat extension not needed if appendmat == True). Can also pass open file_like object.\n",
    "\n",
    "mdictdict\n",
    "Dictionary from which to save matfile variables.\n",
    "\n",
    "appendmatbool, optional\n",
    "True (the default) to append the .mat extension to the end of the given filename, if not already present.\n",
    "\n",
    "format{‘5’, ‘4’}, string, optional\n",
    "‘5’ (the default) for MATLAB 5 and up (to 7.2), ‘4’ for MATLAB 4 .mat files.\n",
    "\n",
    "long_field_namesbool, optional\n",
    "False (the default) - maximum field name length in a structure is 31 characters which is the documented maximum length. True - maximum field name length in a structure is 63 characters which works for MATLAB 7.6+.\n",
    "\n",
    "do_compressionbool, optional\n",
    "Whether or not to compress matrices on write. Default is False.\n",
    "\n",
    "oned_as{‘row’, ‘column’}, optional\n",
    "If ‘column’, write 1-D NumPy arrays as column vectors. If ‘row’, write 1-D NumPy arrays as row vectors.\n"
   ]
  },
  {
   "cell_type": "code",
   "execution_count": 24,
   "id": "accepted-variation",
   "metadata": {},
   "outputs": [],
   "source": [
    "from scipy.io import savemat\n",
    "import numpy as np"
   ]
  },
  {
   "cell_type": "code",
   "execution_count": 25,
   "id": "under-destiny",
   "metadata": {},
   "outputs": [],
   "source": [
    "snr5 = np.array([\"F123\",\"F2\"])\n",
    "snr0 = np.array([\"M1\",\"M2123\"])\n",
    "data = {\"data\":{\"SNR5\":snr5,\"SNR0\":snr0}}"
   ]
  },
  {
   "cell_type": "markdown",
   "id": "clean-genealogy",
   "metadata": {},
   "source": [
    "length of string is set as max(len(str))  \n",
    "use matlab strtrim(str) to trim"
   ]
  },
  {
   "cell_type": "code",
   "execution_count": 26,
   "id": "large-interstate",
   "metadata": {},
   "outputs": [],
   "source": [
    "savemat(\"data.mat\", data)"
   ]
  },
  {
   "cell_type": "code",
   "execution_count": null,
   "id": "automatic-lesbian",
   "metadata": {},
   "outputs": [],
   "source": []
  }
 ],
 "metadata": {
  "kernelspec": {
   "display_name": "Python 3",
   "language": "python",
   "name": "python3"
  },
  "language_info": {
   "codemirror_mode": {
    "name": "ipython",
    "version": 3
   },
   "file_extension": ".py",
   "mimetype": "text/x-python",
   "name": "python",
   "nbconvert_exporter": "python",
   "pygments_lexer": "ipython3",
   "version": "3.8.0"
  }
 },
 "nbformat": 4,
 "nbformat_minor": 5
}
