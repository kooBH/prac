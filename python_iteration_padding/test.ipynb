{
 "cells": [
  {
   "cell_type": "code",
   "execution_count": 20,
   "id": "bdb3da45-5efa-4b9b-9cfc-676ea151e965",
   "metadata": {},
   "outputs": [],
   "source": [
    "x = [1, 2, 3]\n",
    "y = [3, 4, 5]"
   ]
  },
  {
   "cell_type": "code",
   "execution_count": 21,
   "id": "ff2fe245-a667-42db-9edc-141f86fdfe02",
   "metadata": {},
   "outputs": [
    {
     "name": "stdout",
     "output_type": "stream",
     "text": [
      "[1, 2, 3, 10]\n",
      "[3, 4, 5, 10]\n"
     ]
    }
   ],
   "source": [
    "for i in [x, y] : \n",
    "    i = i.append(10)\n",
    "print(x)\n",
    "print(y)"
   ]
  },
  {
   "cell_type": "markdown",
   "id": "f8e76d56-2161-4d7a-9e37-e57816358ff6",
   "metadata": {},
   "source": [
    " append()가 함수 호출시 기존의 변수를 접근하는 듯, 그냥 indexing 하면 안되는거 같다.  "
   ]
  },
  {
   "cell_type": "code",
   "execution_count": 23,
   "id": "5a320c4e-8a33-4f4f-8976-138cbd2b387d",
   "metadata": {},
   "outputs": [
    {
     "name": "stdout",
     "output_type": "stream",
     "text": [
      "[1, 2, 3]\n",
      "[4, 5, 6]\n",
      "------\n",
      "[1, 2, 3]\n",
      "[4, 5, 6]\n",
      "------\n",
      "[1, 2, 3, 13]\n",
      "[4, 5, 6, 13]\n"
     ]
    }
   ],
   "source": [
    "a = [1, 2, 3]\n",
    "b = [4, 5, 6]\n",
    "c = 4\n",
    "if c > 3 :\n",
    "    for i in [a, b] :\n",
    "        i = i[:-2]\n",
    "        i=i.append(11)\n",
    "print(a)\n",
    "print(b)\n",
    "\n",
    "print('------')\n",
    "\n",
    "for i in [a, b] :\n",
    "    i = i[:-2]\n",
    "    i=i.append(13)\n",
    "print(a)\n",
    "print(b)\n",
    "\n",
    "print('------')\n",
    "\n",
    "for i in [a, b] :\n",
    "    i=i.append(13)\n",
    "print(a)\n",
    "print(b)"
   ]
  },
  {
   "cell_type": "markdown",
   "id": "f4c61042-1d70-4897-bec6-d0713fb26771",
   "metadata": {},
   "source": [
    "뭐가 문제야?  인덱싱을 해서 넘겨주는 시점에서 shallow 한 접근을 하게 되서 해당 블록 밖에서는 사용이 안된다는 건가?   \n",
    "https://wikidocs.net/16038    \n",
    "indexing은 shallow 연산이네  "
   ]
  },
  {
   "cell_type": "code",
   "execution_count": 27,
   "id": "4bcbd7e5-7ed9-453a-b0ba-da46c8f1ae32",
   "metadata": {},
   "outputs": [
    {
     "name": "stdout",
     "output_type": "stream",
     "text": [
      "140553960251520\n",
      "140553960354496\n",
      "====\n",
      "140553960251520\n",
      "140553960225536\n",
      "----\n",
      "140553960354496\n",
      "140553960225536\n",
      "----\n"
     ]
    }
   ],
   "source": [
    "x1 = [1,2,3]\n",
    "x2 = [2,3,4]\n",
    "\n",
    "print(id(x1))\n",
    "print(id(x2))\n",
    "\n",
    "print('====')\n",
    "\n",
    "for i in [x1,x2] :\n",
    "    print(id(i))\n",
    "    i = i[:]\n",
    "    print(id(i))\n",
    "    print('----')"
   ]
  },
  {
   "cell_type": "markdown",
   "id": "ba3e2533-dd6d-4b3e-8f58-faa74c51478e",
   "metadata": {},
   "source": [
    "indexing 시 iteration 에서 i 라는 새로운 변수에 값을 넣게된다. "
   ]
  },
  {
   "cell_type": "code",
   "execution_count": null,
   "id": "b46f6423-9809-43f3-b205-b398d6ac75a4",
   "metadata": {},
   "outputs": [],
   "source": []
  }
 ],
 "metadata": {
  "kernelspec": {
   "display_name": "Python 3",
   "language": "python",
   "name": "python3"
  },
  "language_info": {
   "codemirror_mode": {
    "name": "ipython",
    "version": 3
   },
   "file_extension": ".py",
   "mimetype": "text/x-python",
   "name": "python",
   "nbconvert_exporter": "python",
   "pygments_lexer": "ipython3",
   "version": "3.8.0"
  }
 },
 "nbformat": 4,
 "nbformat_minor": 5
}
