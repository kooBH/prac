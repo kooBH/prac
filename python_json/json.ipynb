{
 "cells": [
  {
   "cell_type": "code",
   "execution_count": 1,
   "id": "83e69aa6-db6c-407f-8ffe-6d580acb3691",
   "metadata": {},
   "outputs": [],
   "source": [
    "import json"
   ]
  },
  {
   "cell_type": "markdown",
   "id": "0f549039-53d9-4753-8062-46ce2093cd3f",
   "metadata": {},
   "source": [
    "## Load"
   ]
  },
  {
   "cell_type": "code",
   "execution_count": 2,
   "id": "9b8e5de0-f121-407f-bfc1-297668265c16",
   "metadata": {},
   "outputs": [
    {
     "name": "stdout",
     "output_type": "stream",
     "text": [
      "{'ab': ['aaa', 'aab', 'aac']}\n",
      "['aaa', 'aab', 'aac']\n",
      "aaa\n"
     ]
    }
   ],
   "source": [
    "with open(\"data.json\") as json_file:\n",
    "    json_data = json.load(json_file)\n",
    "    a = json_data[\"a\"]\n",
    "    ab=json_data[\"a\"][\"ab\"]\n",
    "    print(a)\n",
    "    print(ab)\n",
    "    print(ab[0])\n",
    "\n"
   ]
  },
  {
   "cell_type": "markdown",
   "id": "14f4c37b-52c7-4f22-9dd6-bb564072150d",
   "metadata": {},
   "source": [
    "## Write"
   ]
  },
  {
   "cell_type": "code",
   "execution_count": 8,
   "id": "3f29f0d9-bbce-4ec4-a76b-8aaeb28465fe",
   "metadata": {},
   "outputs": [
    {
     "name": "stdout",
     "output_type": "stream",
     "text": [
      "{'123': 123, 'a': {'b': 'c'}}\n"
     ]
    }
   ],
   "source": [
    "data = {}\n",
    "data[\"123\"]=123\n",
    "data[\"a\"]={}\n",
    "data[\"a\"][\"b\"] = \"c\"\n",
    "print(data)\n",
    "with open('out.json', 'w') as f:\n",
    "    json.dump(data, f, indent=2)"
   ]
  }
 ],
 "metadata": {
  "kernelspec": {
   "display_name": "Python 3 (ipykernel)",
   "language": "python",
   "name": "python3"
  },
  "language_info": {
   "codemirror_mode": {
    "name": "ipython",
    "version": 3
   },
   "file_extension": ".py",
   "mimetype": "text/x-python",
   "name": "python",
   "nbconvert_exporter": "python",
   "pygments_lexer": "ipython3",
   "version": "3.8.10"
  }
 },
 "nbformat": 4,
 "nbformat_minor": 5
}
