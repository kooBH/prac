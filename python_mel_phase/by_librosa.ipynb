{
 "cells": [
  {
   "cell_type": "code",
   "execution_count": 49,
   "id": "487f5bfd-5394-44f3-9af9-c936aaef3e53",
   "metadata": {},
   "outputs": [
    {
     "data": {
      "text/plain": [
       "'/home/nas/user/kbh/workspace/prac/python_mel_phase'"
      ]
     },
     "execution_count": 49,
     "metadata": {},
     "output_type": "execute_result"
    }
   ],
   "source": [
    "pwd"
   ]
  },
  {
   "cell_type": "code",
   "execution_count": 50,
   "id": "52a15ea5-1def-4b6d-b210-1f4938a02c6a",
   "metadata": {},
   "outputs": [],
   "source": [
    "noisy_path = '../data/wav/noisy.wav'\n",
    "noise_path = '../data/wav/noise.wav'\n",
    "estim_path = '../data/wav/estim.wav'\n",
    "clean_path = '../data/wav/clean.wav'"
   ]
  },
  {
   "cell_type": "code",
   "execution_count": 51,
   "id": "e43c1236-7e5d-4b84-9704-3d16b80c9607",
   "metadata": {},
   "outputs": [],
   "source": [
    "import torch\n",
    "import librosa\n",
    "import soundfile as sf\n",
    "import numpy as np\n",
    "import torch\n",
    "import os,glob"
   ]
  },
  {
   "cell_type": "markdown",
   "id": "ed202ed2-6615-4f2b-8706-6da637c447d1",
   "metadata": {},
   "source": [
    "librosa.feature.inverse.mel_to_stft  \n",
    "librosa.feature.inverse.mel_to_stft(M, sr=22050, n_fft=2048, power=2.0, **kwargs)[source]  \n",
    "Approximate STFT magnitude from a Mel power spectrogram.  "
   ]
  },
  {
   "cell_type": "code",
   "execution_count": 52,
   "id": "290686cf-5373-4329-af56-735d621b5b83",
   "metadata": {},
   "outputs": [],
   "source": [
    "fft_size = 1024\n",
    "shift_size = 256"
   ]
  },
  {
   "cell_type": "code",
   "execution_count": 53,
   "id": "540eea7f-e466-41d6-b9e3-9a823ebc2adf",
   "metadata": {},
   "outputs": [
    {
     "name": "stdout",
     "output_type": "stream",
     "text": [
      "(100578,)\n",
      "(40, 389)\n",
      "(513, 389)\n"
     ]
    }
   ],
   "source": [
    "noisy, sr = librosa.load(noisy_path,sr=16000)\n",
    "print(np.shape(noisy))\n",
    "noisy_mel = librosa.feature.melspectrogram(noisy,sr=sr,n_fft=fft_size,center=False,n_mels=40,hop_length=shift_size)\n",
    "print(np.shape(noisy_mel))\n",
    "noisy_mag = librosa.feature.inverse.mel_to_stft(noisy_mel,sr=sr,n_fft=fft_size)\n",
    "print(np.shape(noisy_mag))"
   ]
  },
  {
   "cell_type": "code",
   "execution_count": 54,
   "id": "826cfe69-b778-49ea-8e93-541633a04c61",
   "metadata": {},
   "outputs": [
    {
     "name": "stdout",
     "output_type": "stream",
     "text": [
      "(513, 389)\n",
      "(513, 389)\n"
     ]
    }
   ],
   "source": [
    "noisy_spec = librosa.stft(noisy,window='hann', n_fft=fft_size,hop_length=shift_size, win_length=None,center=False)\n",
    "print(np.shape(noisy_spec))\n",
    "_,noisy_phase = librosa.magphase(noisy_spec,power=2.0)\n",
    "print(np.shape(noisy_phase))"
   ]
  },
  {
   "cell_type": "code",
   "execution_count": 55,
   "id": "6ae12ed0-c8e9-4f0a-b54b-cef2791d02d7",
   "metadata": {},
   "outputs": [
    {
     "name": "stdout",
     "output_type": "stream",
     "text": [
      "(100352,)\n"
     ]
    }
   ],
   "source": [
    "noisy_inv = librosa.istft( noisy_mag*noisy_phase, hop_length=shift_size, win_length=fft_size, window='hann', center=False)\n",
    "print(np.shape(noisy_inv))"
   ]
  },
  {
   "cell_type": "code",
   "execution_count": 48,
   "id": "4fa88a16-f524-4f1b-9f75-66f59cace41c",
   "metadata": {},
   "outputs": [],
   "source": [
    "sf.write('inv_noisy.wav',noisy_inv,16000)"
   ]
  },
  {
   "cell_type": "code",
   "execution_count": null,
   "id": "9a036439-e019-41cd-9054-2ee02cc38c62",
   "metadata": {},
   "outputs": [],
   "source": []
  }
 ],
 "metadata": {
  "kernelspec": {
   "display_name": "Python 3 (ipykernel)",
   "language": "python",
   "name": "python3"
  },
  "language_info": {
   "codemirror_mode": {
    "name": "ipython",
    "version": 3
   },
   "file_extension": ".py",
   "mimetype": "text/x-python",
   "name": "python",
   "nbconvert_exporter": "python",
   "pygments_lexer": "ipython3",
   "version": "3.9.6"
  }
 },
 "nbformat": 4,
 "nbformat_minor": 5
}
