{
 "cells": [
  {
   "cell_type": "code",
   "execution_count": 20,
   "id": "dd17728c-b9c3-4883-b55c-4cd3ebe19b7d",
   "metadata": {},
   "outputs": [],
   "source": [
    "noisy_path = '../data/wav/noisy.wav'\n",
    "noise_path = '../data/wav/noise.wav'\n",
    "estim_path = '../data/wav/estim.wav'\n",
    "clean_path = '../data/wav/clean.wav'"
   ]
  },
  {
   "cell_type": "code",
   "execution_count": 21,
   "id": "5f11ffb6-704e-4148-9b73-0f963835401e",
   "metadata": {},
   "outputs": [],
   "source": [
    "import torch\n",
    "import librosa\n",
    "import soundfile as sf\n",
    "import numpy as np\n",
    "import torch\n",
    "import os,glob\n",
    "import torchaudio.transforms as T"
   ]
  },
  {
   "cell_type": "code",
   "execution_count": 22,
   "id": "50693a62-3708-478f-af4a-b420fd5b803e",
   "metadata": {},
   "outputs": [],
   "source": [
    "fft_size = 1024\n",
    "shift_size = 256"
   ]
  },
  {
   "cell_type": "markdown",
   "id": "b19db5e8-9fe4-46ad-b8d2-c6b0288c57cb",
   "metadata": {},
   "source": [
    "## Load"
   ]
  },
  {
   "cell_type": "code",
   "execution_count": 23,
   "id": "73be6427-4ad8-4737-8ec6-aa18a032e3a1",
   "metadata": {},
   "outputs": [
    {
     "name": "stdout",
     "output_type": "stream",
     "text": [
      "(100578,)\n"
     ]
    }
   ],
   "source": [
    "noisy, sr = librosa.load(noisy_path,sr=16000)\n",
    "print(np.shape(noisy))"
   ]
  },
  {
   "cell_type": "markdown",
   "id": "f69f6dcd-9c0d-44bb-9e6f-9822695b9cbb",
   "metadata": {},
   "source": [
    "## WAV2SPEC"
   ]
  },
  {
   "cell_type": "code",
   "execution_count": 24,
   "id": "fd23c19c-4fa7-4fb9-ba57-fbfd9afd327e",
   "metadata": {},
   "outputs": [
    {
     "name": "stdout",
     "output_type": "stream",
     "text": [
      "torch.Size([513, 389, 2])\n",
      "tensor([[[-1.3996e+00,  0.0000e+00],\n",
      "         [-1.5314e+00,  0.0000e+00],\n",
      "         [ 1.1386e+00,  0.0000e+00],\n",
      "         ...,\n",
      "         [-1.7270e-01,  0.0000e+00],\n",
      "         [ 4.0452e-01,  0.0000e+00],\n",
      "         [-1.0408e+00,  0.0000e+00]],\n",
      "\n",
      "        [[-6.3967e-01, -1.2435e+00],\n",
      "         [ 3.7087e+00,  1.1556e+00],\n",
      "         [-4.1249e+00,  1.4343e+00],\n",
      "         ...,\n",
      "         [-5.3391e-01,  7.4937e+00],\n",
      "         [ 3.3199e+00, -7.0069e+00],\n",
      "         [-4.6760e+00,  5.2994e+00]],\n",
      "\n",
      "        [[ 7.6219e-01, -1.1502e+00],\n",
      "         [-6.4073e+00,  2.7481e+00],\n",
      "         [ 8.3862e+00, -1.3455e+00],\n",
      "         ...,\n",
      "         [ 1.9660e+00, -2.2380e+01],\n",
      "         [-8.5919e+00,  1.9632e+01],\n",
      "         [ 1.5134e+01, -1.4583e+01]],\n",
      "\n",
      "        ...,\n",
      "\n",
      "        [[ 1.8076e-03, -8.9571e-05],\n",
      "         [-3.4585e-03, -2.1577e-05],\n",
      "         [ 1.7314e-03,  4.0603e-04],\n",
      "         ...,\n",
      "         [ 4.2248e-04, -4.1103e-04],\n",
      "         [ 2.3746e-04, -1.6451e-04],\n",
      "         [ 2.5749e-05,  4.4504e-04]],\n",
      "\n",
      "        [[ 3.3140e-05,  1.8358e-03],\n",
      "         [ 3.6726e-03,  5.8651e-05],\n",
      "         [-2.6226e-05, -1.7637e-03],\n",
      "         ...,\n",
      "         [-1.3161e-04, -5.1737e-05],\n",
      "         [ 3.4618e-04,  2.4855e-04],\n",
      "         [ 3.2187e-04, -1.2186e-04]],\n",
      "\n",
      "        [[-1.8488e-03,  0.0000e+00],\n",
      "         [-3.7410e-03,  0.0000e+00],\n",
      "         [-2.0676e-03,  0.0000e+00],\n",
      "         ...,\n",
      "         [-2.0444e-04,  0.0000e+00],\n",
      "         [-4.0199e-04,  0.0000e+00],\n",
      "         [-5.6255e-04,  0.0000e+00]]])\n"
     ]
    }
   ],
   "source": [
    "torch_noisy = torch.from_numpy(noisy)\n",
    "t1 = T.Spectrogram(n_fft = fft_size, hop_length= shift_size, center = False,power=None)\n",
    "noisy_spec = t1(torch_noisy)\n",
    "print(noisy_spec.shape)\n",
    "print(noisy_spec)"
   ]
  },
  {
   "cell_type": "code",
   "execution_count": 25,
   "id": "06944648-b954-4e88-81d4-76eb62773111",
   "metadata": {},
   "outputs": [
    {
     "name": "stdout",
     "output_type": "stream",
     "text": [
      "torch.Size([513, 389])\n",
      "torch.Size([513, 389])\n"
     ]
    }
   ],
   "source": [
    "noisy_mag = noisy_spec[:,:,0]**2 + noisy_spec[:,:,1]**2\n",
    "print(noisy_mag.shape)\n",
    "#print(noisy_mag)\n",
    "noisy_pha = torch.angle(noisy_spec[:,:,0]+noisy_spec[:,:,1]*1j)\n",
    "print(noisy_pha.shape)"
   ]
  },
  {
   "cell_type": "markdown",
   "id": "8fe0bcc4-3ee1-4b04-a211-0c5cea30ccd4",
   "metadata": {},
   "source": [
    "## SPEC2MEL"
   ]
  },
  {
   "cell_type": "code",
   "execution_count": 26,
   "id": "189f6f73-0858-4cbb-871a-ef869044c6b0",
   "metadata": {},
   "outputs": [
    {
     "name": "stdout",
     "output_type": "stream",
     "text": [
      "torch.Size([80, 389])\n"
     ]
    }
   ],
   "source": [
    "t2 = T.MelScale(n_mels=80, sample_rate = sr)\n",
    "noisy_mel = t2(noisy_mag)\n",
    "print(noisy_mel.shape)"
   ]
  },
  {
   "cell_type": "markdown",
   "id": "5735ecae-953e-40cd-87c7-1892bf66a363",
   "metadata": {},
   "source": [
    "## MEL2SPEC"
   ]
  },
  {
   "cell_type": "code",
   "execution_count": 27,
   "id": "1b010cd0-28ed-485e-8f4a-3ae5712b8728",
   "metadata": {},
   "outputs": [
    {
     "name": "stdout",
     "output_type": "stream",
     "text": [
      "torch.Size([513, 389])\n"
     ]
    }
   ],
   "source": [
    "t3 = T.InverseMelScale(n_stft = int(fft_size/2 +1), n_mels = 80, sample_rate = sr, max_iter = 5000,tolerance_loss =1e-6)\n",
    "noisy_inv_mag = t3(noisy_mel)\n",
    "print(noisy_inv_mag.shape)\n",
    "#print(noisy_inv_spec)"
   ]
  },
  {
   "cell_type": "markdown",
   "id": "8fc207f3-16cd-4a7a-9847-46006dc8abab",
   "metadata": {},
   "source": [
    "## SPEC2WAV"
   ]
  },
  {
   "cell_type": "code",
   "execution_count": 28,
   "id": "87277b43-0f85-480d-9eb4-7a84d33c8df9",
   "metadata": {},
   "outputs": [
    {
     "name": "stdout",
     "output_type": "stream",
     "text": [
      "torch.Size([1, 513, 389])\n",
      "torch.Size([1, 513, 389])\n",
      "torch.Size([1, 513, 389, 2])\n",
      "torch.Size([1, 513, 389])\n"
     ]
    }
   ],
   "source": [
    "noisy_inv_mag = torch.unsqueeze(noisy_inv_mag,0)\n",
    "noisy_pha = torch.unsqueeze(noisy_pha,0)\n",
    "print(noisy_inv_mag.shape)\n",
    "print(noisy_pha.shape)\n",
    "\n",
    "tmp = noisy_inv_mag*torch.exp(noisy_pha*1j)\n",
    "noisy_inv_spec= torch.zeros((tmp.shape[0],tmp.shape[1],tmp.shape[2],2))\n",
    "print(noisy_inv_spec.shape)\n",
    "print(tmp.real.shape)\n",
    "noisy_inv_spec[:,:,:,0] = tmp.real\n",
    "noisy_inv_spec[:,:,:,1] = tmp.imag\n"
   ]
  },
  {
   "cell_type": "code",
   "execution_count": 29,
   "id": "1647fdd8-1d5e-4a3a-97a9-5baca0ed0cb1",
   "metadata": {},
   "outputs": [
    {
     "name": "stdout",
     "output_type": "stream",
     "text": [
      "torch.Size([1, 99840])\n"
     ]
    }
   ],
   "source": [
    "noisy_inv_torch = torch.istft(noisy_inv_spec, n_fft = fft_size, hop_length= shift_size, center = False)\n",
    "print(noisy_inv_torch.shape)"
   ]
  },
  {
   "cell_type": "markdown",
   "id": "55c51638-17eb-4daf-9ed7-0328c25e59a5",
   "metadata": {},
   "source": [
    "## SAVE"
   ]
  },
  {
   "cell_type": "code",
   "execution_count": 34,
   "id": "5bfaf153-a28d-42ed-b100-90c5951f04bb",
   "metadata": {},
   "outputs": [
    {
     "name": "stdout",
     "output_type": "stream",
     "text": [
      "(99840,)\n"
     ]
    }
   ],
   "source": [
    "noisy_inv_np = noisy_inv_torch.detach().cpu().numpy()\n",
    "noisy_inv = noisy_inv_np/max(abs(noisy_inv_np))\n",
    "noisy_inv = noisy_inv[0,:]\n",
    "print(np.shape(noisy_inv))\n",
    "sf.write('inv_noisy_torch.wav',noisy_inv,16000)"
   ]
  },
  {
   "cell_type": "markdown",
   "id": "0220acaa-1827-48f4-b5ea-7a2ee8636c51",
   "metadata": {},
   "source": [
    "## Plot"
   ]
  },
  {
   "cell_type": "code",
   "execution_count": 35,
   "id": "9f7fb07c-29bf-45e4-b064-e6744a03877f",
   "metadata": {},
   "outputs": [],
   "source": [
    "import matplotlib.pyplot as plt"
   ]
  },
  {
   "cell_type": "code",
   "execution_count": 37,
   "id": "96b04f01-b2ec-4696-b36a-776aa9a8175e",
   "metadata": {},
   "outputs": [
    {
     "data": {
      "image/png": "[encoded data removed]",
      "text/plain": [
       "<Figure size 432x288 with 1 Axes>"
      ]
     },
     "metadata": {
      "needs_background": "light"
     },
     "output_type": "display_data"
    }
   ],
   "source": [
    "plt.plot(noisy_inv_np)\n",
    "plt.show()"
   ]
  },
  {
   "cell_type": "markdown",
   "id": "e1957b96-d1f5-4334-97cb-14a052a7ad0b",
   "metadata": {},
   "source": [
    "## MISC "
   ]
  },
  {
   "cell_type": "code",
   "execution_count": null,
   "id": "e5c98b2b-40d1-47df-9d60-50adcd949f97",
   "metadata": {},
   "outputs": [],
   "source": []
  }
 ],
 "metadata": {
  "kernelspec": {
   "display_name": "Python 3 (ipykernel)",
   "language": "python",
   "name": "python3"
  },
  "language_info": {
   "codemirror_mode": {
    "name": "ipython",
    "version": 3
   },
   "file_extension": ".py",
   "mimetype": "text/x-python",
   "name": "python",
   "nbconvert_exporter": "python",
   "pygments_lexer": "ipython3",
   "version": "3.8.10"
  }
 },
 "nbformat": 4,
 "nbformat_minor": 5
}
