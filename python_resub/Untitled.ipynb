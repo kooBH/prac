{
 "cells": [
  {
   "cell_type": "code",
   "execution_count": 26,
   "id": "dceca963-66f0-4979-9307-3821817e5db8",
   "metadata": {},
   "outputs": [],
   "source": [
    "import re"
   ]
  },
  {
   "cell_type": "code",
   "execution_count": 27,
   "id": "42e9ed67-0285-4edf-950a-10636409bb4f",
   "metadata": {},
   "outputs": [],
   "source": [
    "x = \"☆☆my NAME 은 ㄱㅂㅎ 이다 ! ☆☆ ? ??? ㅁ\""
   ]
  },
  {
   "cell_type": "code",
   "execution_count": 30,
   "id": "bfaeca46-86d5-4ae1-b2b0-e16bd2a58332",
   "metadata": {},
   "outputs": [
    {
     "name": "stdout",
     "output_type": "stream",
     "text": [
      " my NAME 은 ㄱㅂㅎ 이다 ! ? ??? ㅁ\n",
      "☆☆my NAME 은 ㄱㅂㅎ 이다 ! ☆☆ ? ??? ㅁ\n",
      "☆☆SMALLSMALL NAME 은 ㄱㅂㅎ 이다 ! ☆☆ ? ??? ㅁ\n",
      "SMALLSMALLmySMALLSMALLSMALLSMALLSMALLSMALLSMALLSMALLSMALLSMALLSMALLSMALLSMALLSMALLSMALLSMALLSMALLSMALLSMALLSMALLSMALLSMALLSMALLSMALLSMALLSMALLSMALL\n"
     ]
    }
   ],
   "source": [
    "s = re.sub(r\"[^a-zA-Z가-힣ㄱ-ㅎ0-9.!?]+\",r\" \",x)\n",
    "print(s)\n",
    "s = re.sub(r\"[\\s]\",r\" \",x)\n",
    "print(s)\n",
    "s = re.sub(r\"[a-z]\",r\"SMALL\",x)\n",
    "print(s)\n",
    "s = re.sub(r\"[^a-z]\",r\"SMALL\",x)\n",
    "print(s)"
   ]
  },
  {
   "cell_type": "code",
   "execution_count": 24,
   "id": "3efce840-b9d1-448d-bc0b-1b594768bd68",
   "metadata": {},
   "outputs": [
    {
     "name": "stdout",
     "output_type": "stream",
     "text": [
      "☆☆my NAME 은 ㄱㅂㅎ 이다 ! ☆☆ ? ??? ㅁ\n"
     ]
    }
   ],
   "source": []
  },
  {
   "cell_type": "code",
   "execution_count": 25,
   "id": "98e14fc5-9cc6-4c06-ba70-d4fc261e8350",
   "metadata": {},
   "outputs": [
    {
     "name": "stdout",
     "output_type": "stream",
     "text": [
      "☆☆xx NAME 은 ㄱㅂㅎ 이다 ! ☆☆ ? ??? ㅁ\n"
     ]
    }
   ],
   "source": []
  },
  {
   "cell_type": "code",
   "execution_count": null,
   "id": "e1d27717-32d5-4df0-a46e-3d154f2995b7",
   "metadata": {},
   "outputs": [],
   "source": []
  },
  {
   "cell_type": "code",
   "execution_count": null,
   "id": "4972f1e0-d3de-4d30-8427-2f8e9f7b50bc",
   "metadata": {},
   "outputs": [],
   "source": []
  }
 ],
 "metadata": {
  "kernelspec": {
   "display_name": "Python 3 (ipykernel)",
   "language": "python",
   "name": "python3"
  },
  "language_info": {
   "codemirror_mode": {
    "name": "ipython",
    "version": 3
   },
   "file_extension": ".py",
   "mimetype": "text/x-python",
   "name": "python",
   "nbconvert_exporter": "python",
   "pygments_lexer": "ipython3",
   "version": "3.8.10"
  }
 },
 "nbformat": 4,
 "nbformat_minor": 5
}
