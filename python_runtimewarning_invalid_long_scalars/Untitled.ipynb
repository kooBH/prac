{
 "cells": [
  {
   "attachments": {
    "81c7d240-f315-45d6-a58b-d032aec14cbd.png": {
     "image/png": "[encoded data removed]"
    }
   },
   "cell_type": "markdown",
   "id": "c0477e9b-ab4b-438d-87b3-4731f44e3218",
   "metadata": {},
   "source": [
    "![image.png](attachment:81c7d240-f315-45d6-a58b-d032aec14cbd.png)"
   ]
  },
  {
   "cell_type": "code",
   "execution_count": 3,
   "id": "f12c7000-d3d3-4dc0-98d8-7674bbf4de68",
   "metadata": {},
   "outputs": [],
   "source": [
    "import numpy as np"
   ]
  },
  {
   "cell_type": "code",
   "execution_count": 20,
   "id": "c943b9dc-4dc0-46f6-85d5-ccbc4afd9836",
   "metadata": {},
   "outputs": [],
   "source": [
    "x = np.sum([12312312344897897897897897892342342343123,123123123,123123])\n",
    "y = np.sum([123123789789797812,312312312,312312])"
   ]
  },
  {
   "cell_type": "code",
   "execution_count": 21,
   "id": "5497707d-920c-4fb1-a332-08d3ed6e7762",
   "metadata": {},
   "outputs": [
    {
     "data": {
      "text/plain": [
       "9.999945855025832e+22"
      ]
     },
     "execution_count": 21,
     "metadata": {},
     "output_type": "execute_result"
    }
   ],
   "source": [
    "x/y"
   ]
  },
  {
   "cell_type": "code",
   "execution_count": 17,
   "id": "ce774dc5-525e-4911-b175-783007479ac2",
   "metadata": {},
   "outputs": [
    {
     "name": "stdout",
     "output_type": "stream",
     "text": [
      "3.  -0.9999999999996257\n",
      "-inf\n",
      "inf\n",
      "7.  nan\n"
     ]
    },
    {
     "name": "stderr",
     "output_type": "stream",
     "text": [
      "/tmp/ipykernel_22972/3933704828.py:4: RuntimeWarning: overflow encountered in cosh\n",
      "  print(1-np.cosh(x))\n",
      "/tmp/ipykernel_22972/3933704828.py:5: RuntimeWarning: overflow encountered in cosh\n",
      "  print(1+np.cosh(x))\n",
      "/tmp/ipykernel_22972/3933704828.py:6: RuntimeWarning: overflow encountered in cosh\n",
      "  print(\"7. \", (1-np.cosh(x))/(1+np.cosh(x))) # this produces overflow error\n",
      "/tmp/ipykernel_22972/3933704828.py:6: RuntimeWarning: invalid value encountered in double_scalars\n",
      "  print(\"7. \", (1-np.cosh(x))/(1+np.cosh(x))) # this produces overflow error\n"
     ]
    }
   ],
   "source": [
    "x = 30\n",
    "print(\"3. \", (1-np.cosh(x))/(1+np.cosh(x)))\n",
    "x = 900\n",
    "print(1-np.cosh(x))\n",
    "print(1+np.cosh(x))\n",
    "print(\"7. \", (1-np.cosh(x))/(1+np.cosh(x))) # this produces overflow error"
   ]
  },
  {
   "cell_type": "code",
   "execution_count": 29,
   "id": "51aa4279-a4e5-4827-84a8-c3c2ba74905a",
   "metadata": {},
   "outputs": [
    {
     "data": {
      "text/plain": [
       "5"
      ]
     },
     "execution_count": 29,
     "metadata": {},
     "output_type": "execute_result"
    }
   ],
   "source": [
    "a = [1,3,5]\n",
    "b = 2\n",
    "np.max([np.max(a),b])"
   ]
  },
  {
   "cell_type": "code",
   "execution_count": 30,
   "id": "1dd34bd1-3683-4361-872c-6610e3483523",
   "metadata": {},
   "outputs": [
    {
     "data": {
      "text/plain": [
       "0.001"
      ]
     },
     "execution_count": 30,
     "metadata": {},
     "output_type": "execute_result"
    }
   ],
   "source": [
    "1e-3"
   ]
  },
  {
   "cell_type": "code",
   "execution_count": null,
   "id": "91efb7ad-e138-4032-9476-c5aa52ea1a86",
   "metadata": {},
   "outputs": [],
   "source": []
  }
 ],
 "metadata": {
  "kernelspec": {
   "display_name": "Python 3 (ipykernel)",
   "language": "python",
   "name": "python3"
  },
  "language_info": {
   "codemirror_mode": {
    "name": "ipython",
    "version": 3
   },
   "file_extension": ".py",
   "mimetype": "text/x-python",
   "name": "python",
   "nbconvert_exporter": "python",
   "pygments_lexer": "ipython3",
   "version": "3.8.10"
  }
 },
 "nbformat": 4,
 "nbformat_minor": 5
}
