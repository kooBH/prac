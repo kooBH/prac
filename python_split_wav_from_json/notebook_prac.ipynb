{
 "cells": [
  {
   "cell_type": "code",
   "execution_count": 56,
   "metadata": {},
   "outputs": [],
   "source": [
    "import os\n",
    "import json\n",
    "import soundfile as sf"
   ]
  },
  {
   "cell_type": "code",
   "execution_count": 36,
   "metadata": {},
   "outputs": [],
   "source": [
    "input_root='\\\\\\\\163.239.192.82\\\\nas1_data\\\\DB\\\\[DB]AV-TR(서울대병원)'\n",
    "info = 'tr_intervals_nocaretaker.json'"
   ]
  },
  {
   "cell_type": "code",
   "execution_count": 37,
   "metadata": {},
   "outputs": [],
   "source": [
    "with open(info, \"rb\") as file_json:\n",
    "    j = json.load(file_json)"
   ]
  },
  {
   "cell_type": "code",
   "execution_count": 58,
   "metadata": {},
   "outputs": [
    {
     "name": "stdout",
     "output_type": "stream",
     "text": [
      "\\\\163.239.192.82\\nas1_data\\DB\\[DB]AV-TR(서울대병원)/89_200622-1031_김0미.wav\n",
      "\\\\163.239.192.82\\nas1_data\\DB\\[DB]AV-TR(서울대병원)/69_200602-1615_양0정.wav\n",
      "\\\\163.239.192.82\\nas1_data\\DB\\[DB]AV-TR(서울대병원)/70_200602-1622_유0식.wav\n",
      "\\\\163.239.192.82\\nas1_data\\DB\\[DB]AV-TR(서울대병원)/86_200622-1004_이0숙.wav\n",
      "\\\\163.239.192.82\\nas1_data\\DB\\[DB]AV-TR(서울대병원)/42_200427-1117_장0나.wav\n",
      "\\\\163.239.192.82\\nas1_data\\DB\\[DB]AV-TR(서울대병원)/25_200420-1157_최0자.wav\n",
      "\\\\163.239.192.82\\nas1_data\\DB\\[DB]AV-TR(서울대병원)/52_200511-1650_최0지.wav\n",
      "\\\\163.239.192.82\\nas1_data\\DB\\[DB]AV-TR(서울대병원)/45_200511-1510_김0연.wav\n",
      "\\\\163.239.192.82\\nas1_data\\DB\\[DB]AV-TR(서울대병원)/26_200420-1211_김0연.wav\n",
      "\\\\163.239.192.82\\nas1_data\\DB\\[DB]AV-TR(서울대병원)/60_200525-1625_심욱0.wav\n",
      "\\\\163.239.192.82\\nas1_data\\DB\\[DB]AV-TR(서울대병원)/72_200602-1736_김0정.wav\n",
      "\\\\163.239.192.82\\nas1_data\\DB\\[DB]AV-TR(서울대병원)/68_200602-1554_정0욱.wav\n",
      "\\\\163.239.192.82\\nas1_data\\DB\\[DB]AV-TR(서울대병원)/63_200525-1715_김0순.wav\n",
      "\\\\163.239.192.82\\nas1_data\\DB\\[DB]AV-TR(서울대병원)/48_200511-1550_홍0두.wav\n",
      "\\\\163.239.192.82\\nas1_data\\DB\\[DB]AV-TR(서울대병원)/83_200622-0903_김0철.wav\n",
      "\\\\163.239.192.82\\nas1_data\\DB\\[DB]AV-TR(서울대병원)/40_200427-1051_박0경.wav\n",
      "\\\\163.239.192.82\\nas1_data\\DB\\[DB]AV-TR(서울대병원)/81_200608-1156_이0만.wav\n",
      "\\\\163.239.192.82\\nas1_data\\DB\\[DB]AV-TR(서울대병원)/57_200525-1529_황0식.wav\n",
      "\\\\163.239.192.82\\nas1_data\\DB\\[DB]AV-TR(서울대병원)/100_200629-1734_홍0주.wav\n",
      "\\\\163.239.192.82\\nas1_data\\DB\\[DB]AV-TR(서울대병원)/99_200629-1721_조0현.wav\n",
      "\\\\163.239.192.82\\nas1_data\\DB\\[DB]AV-TR(서울대병원)/93_200629-1522_이0욱.wav\n",
      "\\\\163.239.192.82\\nas1_data\\DB\\[DB]AV-TR(서울대병원)/43_200427-1126_성낙0.wav\n",
      "\\\\163.239.192.82\\nas1_data\\DB\\[DB]AV-TR(서울대병원)/79_200608-1123_김주0.wav\n",
      "\\\\163.239.192.82\\nas1_data\\DB\\[DB]AV-TR(서울대병원)/46_200511-1519_고0자.wav\n",
      "\\\\163.239.192.82\\nas1_data\\DB\\[DB]AV-TR(서울대병원)/71_200602-1652_이0숙.wav\n",
      "\\\\163.239.192.82\\nas1_data\\DB\\[DB]AV-TR(서울대병원)/61_200525-1653_조0제.wav\n",
      "\\\\163.239.192.82\\nas1_data\\DB\\[DB]AV-TR(서울대병원)/36_200427-1021_이0원.wav\n",
      "\\\\163.239.192.82\\nas1_data\\DB\\[DB]AV-TR(서울대병원)/37_200427-1028_문0선.wav\n",
      "\\\\163.239.192.82\\nas1_data\\DB\\[DB]AV-TR(서울대병원)/62_200525-1705_송0찬.wav\n",
      "\\\\163.239.192.82\\nas1_data\\DB\\[DB]AV-TR(서울대병원)/67_200602-1545_조0자.wav\n",
      "\\\\163.239.192.82\\nas1_data\\DB\\[DB]AV-TR(서울대병원)/65_200602-1529_강0식.wav\n",
      "\\\\163.239.192.82\\nas1_data\\DB\\[DB]AV-TR(서울대병원)/84_200622-0916_신0자.wav\n",
      "\\\\163.239.192.82\\nas1_data\\DB\\[DB]AV-TR(서울대병원)/95_200629-1620_최0엽.wav\n",
      "\\\\163.239.192.82\\nas1_data\\DB\\[DB]AV-TR(서울대병원)/94_200629-1604_오0열.wav\n",
      "\\\\163.239.192.82\\nas1_data\\DB\\[DB]AV-TR(서울대병원)/90_200622-1037_박0배.wav\n",
      "\\\\163.239.192.82\\nas1_data\\DB\\[DB]AV-TR(서울대병원)/47_200511-1539_윤0두.wav\n",
      "\\\\163.239.192.82\\nas1_data\\DB\\[DB]AV-TR(서울대병원)/53_200511-1701_박0미.wav\n",
      "\\\\163.239.192.82\\nas1_data\\DB\\[DB]AV-TR(서울대병원)/58_200525-1546_한0자.wav\n",
      "\\\\163.239.192.82\\nas1_data\\DB\\[DB]AV-TR(서울대병원)/92_200622-1108_김0순.wav\n",
      "\\\\163.239.192.82\\nas1_data\\DB\\[DB]AV-TR(서울대병원)/34_200427-0954_박0명.wav\n",
      "\\\\163.239.192.82\\nas1_data\\DB\\[DB]AV-TR(서울대병원)/41_200427-1103_강양0.wav\n",
      "\\\\163.239.192.82\\nas1_data\\DB\\[DB]AV-TR(서울대병원)/97_200629-1706_박0태.wav\n",
      "\\\\163.239.192.82\\nas1_data\\DB\\[DB]AV-TR(서울대병원)/38_200427-1036_김0연.wav\n",
      "\\\\163.239.192.82\\nas1_data\\DB\\[DB]AV-TR(서울대병원)/31_200427-0920-김기0.wav\n",
      "\\\\163.239.192.82\\nas1_data\\DB\\[DB]AV-TR(서울대병원)/27_200420-1223_이0석.wav\n",
      "\\\\163.239.192.82\\nas1_data\\DB\\[DB]AV-TR(서울대병원)/35_200427-1008_김영0.wav\n",
      "\\\\163.239.192.82\\nas1_data\\DB\\[DB]AV-TR(서울대병원)/91_200622-1056_박재0.wav\n",
      "\\\\163.239.192.82\\nas1_data\\DB\\[DB]AV-TR(서울대병원)/49_200511-1613_황0희.wav\n",
      "\\\\163.239.192.82\\nas1_data\\DB\\[DB]AV-TR(서울대병원)/87_200622-1015_김0균.wav\n",
      "\\\\163.239.192.82\\nas1_data\\DB\\[DB]AV-TR(서울대병원)/77_200608-1059_김한0.wav\n",
      "\\\\163.239.192.82\\nas1_data\\DB\\[DB]AV-TR(서울대병원)/33_200427-0943_오재0.wav\n",
      "\\\\163.239.192.82\\nas1_data\\DB\\[DB]AV-TR(서울대병원)/39_200427-1042_김0순.wav\n",
      "\\\\163.239.192.82\\nas1_data\\DB\\[DB]AV-TR(서울대병원)/88_200622-1022_황0모.wav\n",
      "\\\\163.239.192.82\\nas1_data\\DB\\[DB]AV-TR(서울대병원)/66_200602-1537_이0달.wav\n",
      "\\\\163.239.192.82\\nas1_data\\DB\\[DB]AV-TR(서울대병원)/80_200608-1133_배0단.wav\n",
      "\\\\163.239.192.82\\nas1_data\\DB\\[DB]AV-TR(서울대병원)/32_200427-0930_김0자.wav\n",
      "\\\\163.239.192.82\\nas1_data\\DB\\[DB]AV-TR(서울대병원)/59_200525-1602_최0순.wav\n",
      "\\\\163.239.192.82\\nas1_data\\DB\\[DB]AV-TR(서울대병원)/28_200420-1236_이0용.wav\n",
      "\\\\163.239.192.82\\nas1_data\\DB\\[DB]AV-TR(서울대병원)/24_200420-1148_김0현.wav\n",
      "\\\\163.239.192.82\\nas1_data\\DB\\[DB]AV-TR(서울대병원)/82_200608-1210_김0식.wav\n",
      "\\\\163.239.192.82\\nas1_data\\DB\\[DB]AV-TR(서울대병원)/96_200629-1632_손0자.wav\n",
      "\\\\163.239.192.82\\nas1_data\\DB\\[DB]AV-TR(서울대병원)/85_200622-0956_0래중.wav\n",
      "\\\\163.239.192.82\\nas1_data\\DB\\[DB]AV-TR(서울대병원)/75_200608-1040_이0영.wav\n",
      "\\\\163.239.192.82\\nas1_data\\DB\\[DB]AV-TR(서울대병원)/44_200427-1136_김0숙.wav\n",
      "\\\\163.239.192.82\\nas1_data\\DB\\[DB]AV-TR(서울대병원)/98_200629-1714_김0숙.wav\n",
      "files : 65/96\n"
     ]
    }
   ],
   "source": [
    "root = input_root\n",
    "cnt = 0\n",
    "for i in j :\n",
    "    tmp = root +'/'+ i + '.wav' \n",
    "    tmp2 = os.path.isfile(tmp)\n",
    "    if tmp2 :\n",
    "        print(tmp)\n",
    "        cnt +=1\n",
    "    \n",
    "print(\"files : \" + str(cnt)+'/'+ str(len(j)))"
   ]
  },
  {
   "cell_type": "code",
   "execution_count": 72,
   "metadata": {},
   "outputs": [
    {
     "data": {
      "text/plain": [
       "{'nurse': ['4.917~6.497',\n",
       "  '7.68~10.125',\n",
       "  '10.694~12.703',\n",
       "  '14.176~18.874',\n",
       "  '78.544~82.162',\n",
       "  '84.564~84.994',\n",
       "  '106.023~107.092',\n",
       "  '144.596~145.501'],\n",
       " 'patient': ['11.899~13.298', '83.732~84.564', '85.289~88.482']}"
      ]
     },
     "execution_count": 72,
     "metadata": {},
     "output_type": "execute_result"
    }
   ],
   "source": [
    "target='100_200629-1734_홍0주'\n",
    "tmp = root +'/'+ target + '.wav' \n",
    "j[target]"
   ]
  },
  {
   "cell_type": "code",
   "execution_count": 73,
   "metadata": {},
   "outputs": [],
   "source": [
    "data,sr = sf.read(tmp)"
   ]
  },
  {
   "cell_type": "code",
   "execution_count": 64,
   "metadata": {},
   "outputs": [],
   "source": [
    "ch = 16\n",
    "sr = 16000"
   ]
  },
  {
   "cell_type": "code",
   "execution_count": 75,
   "metadata": {},
   "outputs": [
    {
     "name": "stdout",
     "output_type": "stream",
     "text": [
      "<class 'numpy.ndarray'>\n",
      "(2328576, 16)\n"
     ]
    }
   ],
   "source": [
    "print(type(data))\n",
    "print(data.shape)"
   ]
  },
  {
   "cell_type": "code",
   "execution_count": 80,
   "metadata": {},
   "outputs": [
    {
     "name": "stdout",
     "output_type": "stream",
     "text": [
      "16000\n",
      "4.917 ~ 6.497\n",
      "78672 ~ 103952\n",
      "7.68 ~ 10.125\n",
      "122880 ~ 162000\n",
      "10.694 ~ 12.703\n",
      "171104 ~ 203248\n",
      "14.176 ~ 18.874\n",
      "226816 ~ 301984\n",
      "78.544 ~ 82.162\n",
      "1256704 ~ 1314592\n",
      "84.564 ~ 84.994\n",
      "1353024 ~ 1359904\n",
      "106.023 ~ 107.092\n",
      "1696368 ~ 1713472\n",
      "144.596 ~ 145.501\n",
      "2313536 ~ 2328016\n",
      "11.899 ~ 13.298\n",
      "190384 ~ 212768\n",
      "83.732 ~ 84.564\n",
      "1339712 ~ 1353024\n",
      "85.289 ~ 88.482\n",
      "1364624 ~ 1415712\n"
     ]
    }
   ],
   "source": [
    "print(sr)\n",
    "cnt = 0\n",
    "for i in j[target]['nurse'] :\n",
    "    t = i.split('~')\n",
    "    start = float(t[0])\n",
    "    stop  = float(t[1])\n",
    "    print(str(start)+' ~ ' + str(stop))\n",
    "    start_idx = int(start*sr)\n",
    "    stop_idx = int(stop*sr)\n",
    "    print(str(start_idx)+' ~ ' + str(stop_idx))\n",
    "    tmp = data[start_idx:stop_idx][:];\n",
    "    sf.write(target+'_nurse_'+str(cnt)+'.wav',tmp,sr)\n",
    "    cnt+=1\n",
    "cnt = 0  \n",
    "for i in j[target]['patient'] :\n",
    "    t = i.split('~')\n",
    "    start = float(t[0])\n",
    "    stop  = float(t[1])\n",
    "    print(str(start)+' ~ ' + str(stop))\n",
    "    start_idx = int(start*sr)\n",
    "    stop_idx = int(stop*sr)\n",
    "    tmp = data[start_idx:stop_idx][:];\n",
    "    print(str(start_idx)+' ~ ' + str(stop_idx))\n",
    "    sf.write(target+'_patient_'+str(cnt)+'.wav',tmp,sr)\n",
    "    cnt+=1"
   ]
  },
  {
   "cell_type": "code",
   "execution_count": null,
   "metadata": {},
   "outputs": [],
   "source": []
  }
 ],
 "metadata": {
  "kernelspec": {
   "display_name": "Python 3",
   "language": "python",
   "name": "python3"
  },
  "language_info": {
   "codemirror_mode": {
    "name": "ipython",
    "version": 3
   },
   "file_extension": ".py",
   "mimetype": "text/x-python",
   "name": "python",
   "nbconvert_exporter": "python",
   "pygments_lexer": "ipython3",
   "version": "3.8.7"
  }
 },
 "nbformat": 4,
 "nbformat_minor": 4
}
