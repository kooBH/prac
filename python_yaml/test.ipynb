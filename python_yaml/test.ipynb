{
 "cells": [
  {
   "cell_type": "code",
   "execution_count": 1,
   "id": "a45022aa-3775-4cc8-928a-a71d1744f9aa",
   "metadata": {},
   "outputs": [],
   "source": [
    "from hparams import HParam "
   ]
  },
  {
   "cell_type": "code",
   "execution_count": 6,
   "id": "e3887f43-60cb-458a-abc1-895904fea92d",
   "metadata": {},
   "outputs": [],
   "source": [
    "hp = HParam('t1.yml')"
   ]
  },
  {
   "cell_type": "code",
   "execution_count": 3,
   "id": "e46e8e25-f08a-4c71-ac6e-45664554340b",
   "metadata": {},
   "outputs": [
    {
     "data": {
      "text/plain": [
       "[2, 3, 4]"
      ]
     },
     "execution_count": 3,
     "metadata": {},
     "output_type": "execute_result"
    }
   ],
   "source": [
    "hp.param1.a1"
   ]
  },
  {
   "cell_type": "code",
   "execution_count": 4,
   "id": "a8520ddf-b94a-4633-a49b-a41d6c26285e",
   "metadata": {},
   "outputs": [
    {
     "data": {
      "text/plain": [
       "True"
      ]
     },
     "execution_count": 4,
     "metadata": {},
     "output_type": "execute_result"
    }
   ],
   "source": [
    "2 in hp.param1.a1"
   ]
  },
  {
   "cell_type": "code",
   "execution_count": 15,
   "id": "da329ac3-46e9-4629-8d21-1d43c3ec9fdc",
   "metadata": {},
   "outputs": [
    {
     "data": {
      "text/plain": [
       "hparams.Dotdict"
      ]
     },
     "execution_count": 15,
     "metadata": {},
     "output_type": "execute_result"
    }
   ],
   "source": [
    "type(hp.arch)"
   ]
  },
  {
   "cell_type": "code",
   "execution_count": 24,
   "id": "9a51923c-2ec3-44f4-8dc7-4724e61175cd",
   "metadata": {},
   "outputs": [
    {
     "data": {
      "text/plain": [
       "{'in_channels': 4,\n",
       " 'out_channels': 64,\n",
       " 'kernel_size': [1, 5],\n",
       " 'stride': [1, 2],\n",
       " 'padding': [0, 2]}"
      ]
     },
     "execution_count": 24,
     "metadata": {},
     "output_type": "execute_result"
    }
   ],
   "source": [
    "dict(hp.arch.encoder.enc1)"
   ]
  },
  {
   "cell_type": "code",
   "execution_count": 26,
   "id": "35f346a3-f873-40d8-adea-f7c80f3e43a2",
   "metadata": {},
   "outputs": [
    {
     "name": "stdout",
     "output_type": "stream",
     "text": [
      "in_channels\n",
      "out_channels\n"
     ]
    }
   ],
   "source": [
    "def func(in_channels, out_channels,kernel_size,stride,padding):\n",
    "    print(in_channels)\n",
    "    print(out_channels)\n",
    "    \n",
    "func(*dict(hp.arch.encoder.enc1))"
   ]
  },
  {
   "cell_type": "code",
   "execution_count": null,
   "id": "1cb21953-aabd-4eda-90ec-6194023106db",
   "metadata": {},
   "outputs": [],
   "source": []
  }
 ],
 "metadata": {
  "kernelspec": {
   "display_name": "Python 3 (ipykernel)",
   "language": "python",
   "name": "python3"
  },
  "language_info": {
   "codemirror_mode": {
    "name": "ipython",
    "version": 3
   },
   "file_extension": ".py",
   "mimetype": "text/x-python",
   "name": "python",
   "nbconvert_exporter": "python",
   "pygments_lexer": "ipython3",
   "version": "3.9.12"
  }
 },
 "nbformat": 4,
 "nbformat_minor": 5
}
