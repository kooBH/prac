{
 "cells": [
  {
   "cell_type": "code",
   "execution_count": 1,
   "id": "a45022aa-3775-4cc8-928a-a71d1744f9aa",
   "metadata": {},
   "outputs": [],
   "source": [
    "from hparams import HParam "
   ]
  },
  {
   "cell_type": "code",
   "execution_count": 4,
   "id": "e3887f43-60cb-458a-abc1-895904fea92d",
   "metadata": {},
   "outputs": [],
   "source": [
    "hp = HParam('t1.yml')"
   ]
  },
  {
   "cell_type": "code",
   "execution_count": 7,
   "id": "e46e8e25-f08a-4c71-ac6e-45664554340b",
   "metadata": {},
   "outputs": [
    {
     "data": {
      "text/plain": [
       "[2, 3, 4]"
      ]
     },
     "execution_count": 7,
     "metadata": {},
     "output_type": "execute_result"
    }
   ],
   "source": [
    "hp.param1.a1"
   ]
  },
  {
   "cell_type": "code",
   "execution_count": 9,
   "id": "a8520ddf-b94a-4633-a49b-a41d6c26285e",
   "metadata": {},
   "outputs": [
    {
     "data": {
      "text/plain": [
       "True"
      ]
     },
     "execution_count": 9,
     "metadata": {},
     "output_type": "execute_result"
    }
   ],
   "source": [
    "2 in hp.param1.a1"
   ]
  },
  {
   "cell_type": "code",
   "execution_count": null,
   "id": "da329ac3-46e9-4629-8d21-1d43c3ec9fdc",
   "metadata": {},
   "outputs": [],
   "source": []
  }
 ],
 "metadata": {
  "kernelspec": {
   "display_name": "Python 3 (ipykernel)",
   "language": "python",
   "name": "python3"
  },
  "language_info": {
   "codemirror_mode": {
    "name": "ipython",
    "version": 3
   },
   "file_extension": ".py",
   "mimetype": "text/x-python",
   "name": "python",
   "nbconvert_exporter": "python",
   "pygments_lexer": "ipython3",
   "version": "3.8.10"
  }
 },
 "nbformat": 4,
 "nbformat_minor": 5
}
