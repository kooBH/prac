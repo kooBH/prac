{
 "cells": [
  {
   "cell_type": "markdown",
   "id": "bdd2bc02-aae8-4a00-9383-7e709376a1f0",
   "metadata": {},
   "source": [
    "https://pytorch.org/docs/stable/generated/torch.nn.BCELoss.html"
   ]
  },
  {
   "cell_type": "code",
   "execution_count": 3,
   "id": "a391aff9-d66e-44ea-85e0-2c91f96b3dde",
   "metadata": {},
   "outputs": [],
   "source": [
    "import torch\n",
    "import torch.nn as nn"
   ]
  },
  {
   "cell_type": "code",
   "execution_count": 17,
   "id": "8e1a5ada-051d-4985-af69-8df33b1aab54",
   "metadata": {},
   "outputs": [
    {
     "name": "stdout",
     "output_type": "stream",
     "text": [
      "tensor([0., 0., 0., 0., 0., 0., 0., 0., 0., 0., 0., 0., 0., 0., 0., 0., 0., 0., 0., 0., 0., 0., 0., 0.,\n",
      "        0., 0., 0., 0., 0., 0., 0., 0., 0., 0., 0., 0., 0., 0., 0., 0., 0., 0., 0., 0., 0., 0., 0., 0.,\n",
      "        0., 0., 0., 0., 0., 0., 0., 0., 0., 0., 0., 0., 0., 0., 0., 0., 0., 0., 0., 0., 0., 0., 0., 0.,\n",
      "        0., 0., 0., 0., 0., 0., 0., 0., 0., 0., 0., 0., 0., 0., 0., 0., 0., 0., 0., 0., 0., 0., 0., 0.,\n",
      "        0., 0., 0., 0.])\n",
      "tensor([0.7382, 0.9342, 0.7130, 0.7141, 0.4221, 0.5821, 0.4979, 0.1902, 0.0939,\n",
      "        0.4209, 0.3799, 0.0214, 0.6232, 0.1632, 0.9107, 0.2817, 0.7202, 0.8334,\n",
      "        0.4166, 0.2857, 0.6172, 0.3709, 0.6586, 0.1429, 0.7958, 0.9275, 0.4533,\n",
      "        0.7240, 0.3733, 0.3668, 0.8428, 0.3933, 0.7580, 0.2830, 0.9533, 0.9479,\n",
      "        0.6005, 0.7983, 0.5050, 0.7113, 0.9039, 0.6431, 0.7278, 0.9263, 0.7026,\n",
      "        0.4868, 0.2115, 0.6699, 0.7077, 0.4788, 0.2916, 0.2108, 0.4101, 0.5967,\n",
      "        0.3511, 0.5274, 0.3977, 0.9503, 0.6644, 0.5669, 0.7849, 0.5182, 0.2856,\n",
      "        0.4416, 0.7536, 0.0571, 0.3129, 0.8069, 0.7646, 0.2833, 0.8846, 0.8720,\n",
      "        0.9555, 0.0299, 0.0660, 0.8843, 0.4776, 0.7507, 0.8108, 0.8210, 0.1074,\n",
      "        0.0716, 0.1370, 0.4251, 0.7183, 0.9483, 0.5814, 0.3371, 0.6266, 0.7870,\n",
      "        0.7968, 0.4617, 0.5442, 0.9440, 0.4187, 0.9393, 0.6359, 0.7868, 0.2984,\n",
      "        0.8183], requires_grad=True)\n",
      "tensor([0., 1., 0., 0., 0., 0., 0., 0., 0., 0., 0., 0., 0., 0., 0., 0., 0., 0.,\n",
      "        0., 0., 0., 0., 0., 0., 0., 0., 0., 0., 0., 0., 0., 0., 0., 0., 0., 0.,\n",
      "        0., 0., 0., 0., 0., 0., 0., 0., 0., 0., 0., 0., 0., 0., 0., 0., 0., 0.,\n",
      "        0., 0., 0., 0., 0., 0., 0., 0., 0., 0., 0., 0., 0., 0., 0., 0., 0., 0.,\n",
      "        0., 0., 0., 0., 0., 0., 0., 0., 0., 0., 0., 0., 0., 0., 0., 0., 0., 0.,\n",
      "        0., 0., 0., 0., 0., 0., 0., 0., 0., 0.])\n",
      "tensor([1., 1., 1., 1., 1., 1., 1., 1., 1., 1., 1., 1., 1., 1., 1., 1., 1., 1.,\n",
      "        1., 1., 1., 1., 1., 1., 1., 1., 1., 1., 1., 1., 1., 1., 1., 1., 1., 1.,\n",
      "        1., 1., 1., 1., 1., 1., 1., 1., 1., 1., 1., 1., 1., 1., 1., 1., 1., 1.,\n",
      "        1., 1., 1., 1., 1., 1., 1., 1., 1., 1., 1., 1., 1., 1., 1., 1., 1., 1.,\n",
      "        1., 1., 1., 1., 1., 1., 1., 1., 1., 1., 1., 1., 1., 1., 1., 1., 1., 1.,\n",
      "        1., 1., 1., 1., 1., 1., 1., 1., 1., 1.])\n"
     ]
    }
   ],
   "source": [
    "loss = nn.BCELoss()\n",
    "num = 100\n",
    "x = torch.zeros(num)\n",
    "r = torch.rand(num, requires_grad=True)\n",
    "z = torch.zeros(num)\n",
    "z[1]=1\n",
    "y = torch.ones(num)\n",
    "print(x)\n",
    "print(r)\n",
    "print(z)\n",
    "print(y)"
   ]
  },
  {
   "cell_type": "code",
   "execution_count": 18,
   "id": "bdb54dd5-f412-4825-b449-b6d2fef3f943",
   "metadata": {},
   "outputs": [
    {
     "name": "stdout",
     "output_type": "stream",
     "text": [
      "tensor(100.)\n",
      "tensor(0.7601, grad_fn=<BinaryCrossEntropyBackward>)\n",
      "tensor(99.)\n",
      "tensor(0.)\n"
     ]
    }
   ],
   "source": [
    "print(loss(x,y))\n",
    "print(loss(r,y))\n",
    "print(loss(z,y))\n",
    "print(loss(y,y))"
   ]
  },
  {
   "cell_type": "code",
   "execution_count": 11,
   "id": "3f10f350-0124-4dcb-9d9f-3b835d4f8bd5",
   "metadata": {},
   "outputs": [
    {
     "name": "stdout",
     "output_type": "stream",
     "text": [
      "tensor([[1., 0., 1., 1., 1., 1., 1., 1., 1., 1.],\n",
      "        [0., 0., 1., 0., 0., 0., 0., 1., 0., 0.]])\n",
      "tensor(52.5000)\n",
      "tensor(47.5000)\n"
     ]
    }
   ],
   "source": [
    "loss = nn.BCELoss()\n",
    "num = 100\n",
    "z = torch.zeros(2,num)\n",
    "o = torch.ones(2,num)\n",
    "r = torch.rand(num, requires_grad=True)\n",
    "t = r > 0.1\n",
    "t2 = r > 0.9\n",
    "y = torch.zeros(2,num)\n",
    "y[0,:] = t[:]\n",
    "y[1,:] = t2[:]\n",
    "print(y[:,:10])\n",
    "\n",
    "print(loss(z,y))\n",
    "print(loss(o,y))"
   ]
  },
  {
   "cell_type": "code",
   "execution_count": 15,
   "id": "3b104fc6-fd87-41af-9495-7630b17f8772",
   "metadata": {},
   "outputs": [
    {
     "data": {
      "text/plain": [
       "tensor([ True, False,  True,  True,  True,  True,  True,  True,  True,  True,\n",
       "         True,  True,  True,  True,  True,  True,  True,  True,  True,  True,\n",
       "         True,  True,  True,  True,  True,  True,  True,  True, False,  True,\n",
       "         True,  True,  True,  True,  True,  True,  True,  True,  True, False,\n",
       "         True,  True,  True,  True,  True,  True,  True,  True,  True,  True,\n",
       "         True,  True,  True,  True,  True,  True,  True,  True, False, False,\n",
       "         True,  True,  True,  True,  True,  True,  True,  True,  True,  True,\n",
       "         True,  True,  True,  True,  True,  True,  True,  True,  True,  True,\n",
       "         True,  True,  True,  True,  True,  True,  True,  True, False,  True,\n",
       "         True,  True,  True,  True,  True,  True,  True,  True,  True,  True])"
      ]
     },
     "execution_count": 15,
     "metadata": {},
     "output_type": "execute_result"
    }
   ],
   "source": [
    "t = t.float()\n",
    "t\n",
    "t.bool()"
   ]
  },
  {
   "cell_type": "code",
   "execution_count": null,
   "id": "7735331a-347c-4985-bf2b-6f9f9d9210fa",
   "metadata": {},
   "outputs": [],
   "source": []
  }
 ],
 "metadata": {
  "kernelspec": {
   "display_name": "Python 3 (ipykernel)",
   "language": "python",
   "name": "python3"
  },
  "language_info": {
   "codemirror_mode": {
    "name": "ipython",
    "version": 3
   },
   "file_extension": ".py",
   "mimetype": "text/x-python",
   "name": "python",
   "nbconvert_exporter": "python",
   "pygments_lexer": "ipython3",
   "version": "3.8.10"
  }
 },
 "nbformat": 4,
 "nbformat_minor": 5
}
