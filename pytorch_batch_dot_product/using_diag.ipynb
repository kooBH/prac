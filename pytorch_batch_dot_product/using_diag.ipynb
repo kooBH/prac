{
 "cells": [
  {
   "cell_type": "markdown",
   "id": "8aa2b889-642e-4158-b7ac-13c17c6add52",
   "metadata": {},
   "source": [
    "https://discuss.pytorch.org/t/efficient-batch-dot-product/41382/3  \n",
    "```python\n",
    "((U.t() @ V) * V).sum()\n",
    "```"
   ]
  },
  {
   "cell_type": "code",
   "execution_count": 1,
   "id": "ddaed2f8-0977-4cc9-a4d5-69fe6baccccd",
   "metadata": {},
   "outputs": [],
   "source": [
    "import torch"
   ]
  },
  {
   "cell_type": "code",
   "execution_count": 2,
   "id": "ea6b1511-45be-41cf-a62d-d89dd90a9efb",
   "metadata": {},
   "outputs": [],
   "source": [
    "B = 3\n",
    "N = 5"
   ]
  },
  {
   "cell_type": "code",
   "execution_count": 8,
   "id": "82a8a41a-cadc-46dc-8228-234ed1586d02",
   "metadata": {},
   "outputs": [],
   "source": [
    "a = torch.randint(1, 5, (B,N))\n",
    "b = torch.randint(1, 5, (B,N))"
   ]
  },
  {
   "cell_type": "code",
   "execution_count": 9,
   "id": "59654490-5656-4d79-975d-b88813b3a70a",
   "metadata": {},
   "outputs": [
    {
     "name": "stdout",
     "output_type": "stream",
     "text": [
      "torch.Size([3, 5])\n",
      "tensor([[4, 1, 3, 1, 2],\n",
      "        [2, 3, 1, 1, 2],\n",
      "        [3, 1, 3, 2, 2]])\n",
      "torch.Size([3, 5])\n",
      "tensor([[3, 1, 1, 2, 4],\n",
      "        [4, 4, 4, 4, 2],\n",
      "        [1, 2, 2, 2, 2]])\n"
     ]
    }
   ],
   "source": [
    "print(a.shape)\n",
    "print(a)\n",
    "print(b.shape)\n",
    "print(b)"
   ]
  },
  {
   "cell_type": "markdown",
   "id": "fe3faf60-f167-42a8-84a6-9c49a0226b65",
   "metadata": {},
   "source": [
    "output.shape must be (3,1)"
   ]
  },
  {
   "cell_type": "code",
   "execution_count": 27,
   "id": "7bb4a09e-2c0b-4c77-b179-33f0138e10fd",
   "metadata": {},
   "outputs": [
    {
     "name": "stdout",
     "output_type": "stream",
     "text": [
      "tensor(26)\n",
      "tensor(32)\n",
      "tensor(19)\n"
     ]
    }
   ],
   "source": [
    "for i in range(B) :\n",
    "    t = 0\n",
    "    for j in range(N) : \n",
    "        t +=a[i,j]*b[i,j]\n",
    "    print(t)"
   ]
  },
  {
   "cell_type": "code",
   "execution_count": 29,
   "id": "809bd006-9072-4574-ab0d-834e6fbf2b7a",
   "metadata": {},
   "outputs": [
    {
     "name": "stdout",
     "output_type": "stream",
     "text": [
      "torch.Size([3, 3])\n",
      "tensor([[26, 40, 18],\n",
      "        [20, 32, 16],\n",
      "        [25, 40, 19]])\n",
      "torch.Size([3])\n",
      "tensor([26, 32, 19])\n"
     ]
    }
   ],
   "source": [
    "c = ((a @ b.t()))\n",
    "print(c.shape)\n",
    "print(c)\n",
    "\n",
    "d = torch.diag(c)\n",
    "print(d.shape)\n",
    "print(d)"
   ]
  },
  {
   "cell_type": "markdown",
   "id": "c9470edd-6347-43e0-95f2-1dda48b928e1",
   "metadata": {},
   "source": [
    "batch dot product  is diag(X,Y.t()) "
   ]
  },
  {
   "cell_type": "code",
   "execution_count": 30,
   "id": "b3208033-dcb3-4a97-8da2-fd55fc0dad6b",
   "metadata": {},
   "outputs": [
    {
     "data": {
      "text/plain": [
       "tensor([ 676, 1024,  361])"
      ]
     },
     "execution_count": 30,
     "metadata": {},
     "output_type": "execute_result"
    }
   ],
   "source": [
    "d**2"
   ]
  },
  {
   "cell_type": "code",
   "execution_count": null,
   "id": "f7aa2232-3e69-44bd-8e9c-88185b420fad",
   "metadata": {},
   "outputs": [],
   "source": []
  }
 ],
 "metadata": {
  "kernelspec": {
   "display_name": "Python 3",
   "language": "python",
   "name": "python3"
  },
  "language_info": {
   "codemirror_mode": {
    "name": "ipython",
    "version": 3
   },
   "file_extension": ".py",
   "mimetype": "text/x-python",
   "name": "python",
   "nbconvert_exporter": "python",
   "pygments_lexer": "ipython3",
   "version": "3.8.0"
  }
 },
 "nbformat": 4,
 "nbformat_minor": 5
}
