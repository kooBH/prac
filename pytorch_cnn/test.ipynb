{
 "cells": [
  {
   "cell_type": "code",
   "execution_count": 1,
   "id": "4db6eba0-800f-4ed9-95ea-d5bfbe2804c7",
   "metadata": {},
   "outputs": [],
   "source": [
    "import torch"
   ]
  },
  {
   "cell_type": "code",
   "execution_count": 4,
   "id": "8f4a905c-63ac-4b30-8997-c65fd6e777de",
   "metadata": {},
   "outputs": [
    {
     "name": "stdout",
     "output_type": "stream",
     "text": [
      "tensor([[[[0.4306, 0.8484, 0.0770, 0.8523],\n",
      "          [0.6840, 0.2329, 0.5694, 0.0304],\n",
      "          [0.4517, 0.1560, 0.7737, 0.0912]],\n",
      "\n",
      "         [[0.9331, 0.2958, 0.9927, 0.7459],\n",
      "          [0.3794, 0.3654, 0.9607, 0.0208],\n",
      "          [0.4611, 0.0405, 0.5814, 0.3793]]]])\n",
      "torch.Size([1, 2, 3, 4])\n"
     ]
    }
   ],
   "source": [
    "x = torch.rand(1,2,3,4)\n",
    "print(x)\n",
    "print(x.shape)"
   ]
  },
  {
   "cell_type": "code",
   "execution_count": 17,
   "id": "925999df-fc73-4832-bf01-941542937ccf",
   "metadata": {},
   "outputs": [],
   "source": [
    "cnn1 = torch.nn.Conv2d(in_channels=2, out_channels=6, kernel_size=(3,3), stride=1, padding=(1,1), dilation=1, groups=1, bias=True, padding_mode='zeros')"
   ]
  },
  {
   "cell_type": "code",
   "execution_count": 18,
   "id": "65523278-dfea-4218-a520-69cbc5cab0dc",
   "metadata": {},
   "outputs": [
    {
     "name": "stdout",
     "output_type": "stream",
     "text": [
      "torch.Size([1, 6, 3, 4])\n"
     ]
    }
   ],
   "source": [
    "y = cnn1(x)\n",
    "print(y.shape)"
   ]
  },
  {
   "cell_type": "code",
   "execution_count": 22,
   "id": "63862f1f-c449-4732-a6a4-ee437fd7da89",
   "metadata": {},
   "outputs": [
    {
     "data": {
      "text/plain": [
       "-20.0"
      ]
     },
     "execution_count": 22,
     "metadata": {},
     "output_type": "execute_result"
    }
   ],
   "source": [
    "import numpy as np\n",
    "\n",
    "10*np.log10(0.01)"
   ]
  },
  {
   "cell_type": "code",
   "execution_count": null,
   "id": "2495986e-1a08-40d6-9d1b-ebe500811127",
   "metadata": {},
   "outputs": [],
   "source": []
  }
 ],
 "metadata": {
  "kernelspec": {
   "display_name": "Python 3",
   "language": "python",
   "name": "python3"
  },
  "language_info": {
   "codemirror_mode": {
    "name": "ipython",
    "version": 3
   },
   "file_extension": ".py",
   "mimetype": "text/x-python",
   "name": "python",
   "nbconvert_exporter": "python",
   "pygments_lexer": "ipython3",
   "version": "3.8.0"
  }
 },
 "nbformat": 4,
 "nbformat_minor": 5
}
