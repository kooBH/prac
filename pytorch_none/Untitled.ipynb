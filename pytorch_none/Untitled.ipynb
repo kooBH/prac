{
 "cells": [
  {
   "cell_type": "code",
   "execution_count": 2,
   "id": "b55e8957-d9cd-4072-9971-7193276fad82",
   "metadata": {},
   "outputs": [],
   "source": [
    "import torch\n",
    "import torch.nn as nn"
   ]
  },
  {
   "cell_type": "code",
   "execution_count": 3,
   "id": "5ef05855-f4d0-4929-8404-0cb47a76d72e",
   "metadata": {},
   "outputs": [],
   "source": [
    "x = torch.rand(2,3)"
   ]
  },
  {
   "cell_type": "code",
   "execution_count": 4,
   "id": "ffcaff22-5aa9-4e7f-a420-1f553308e327",
   "metadata": {},
   "outputs": [],
   "source": [
    "m = nn.Sigmoid()"
   ]
  },
  {
   "cell_type": "code",
   "execution_count": 5,
   "id": "c60fbd1a-227a-4a23-bdc5-737ef258a511",
   "metadata": {},
   "outputs": [
    {
     "name": "stdout",
     "output_type": "stream",
     "text": [
      "tensor([[0.5525, 0.8168, 0.2078],\n",
      "        [0.5722, 0.8565, 0.9305]])\n",
      "tensor([[0.6347, 0.6935, 0.5518],\n",
      "        [0.6393, 0.7019, 0.7172]])\n"
     ]
    }
   ],
   "source": [
    "print(x)\n",
    "z = m(x)\n",
    "print(z)"
   ]
  },
  {
   "cell_type": "code",
   "execution_count": 12,
   "id": "ed4a956f-0efa-4ec3-a7c0-a53a264ae8cf",
   "metadata": {},
   "outputs": [],
   "source": [
    "class passing(nn.Module) : \n",
    "    def __init__(self):\n",
    "        super().__init__()\n",
    "        \n",
    "    def forward(self,x):\n",
    "        return x"
   ]
  },
  {
   "cell_type": "code",
   "execution_count": 13,
   "id": "6a45a183-e336-4f31-80ec-af2fd72626e6",
   "metadata": {},
   "outputs": [],
   "source": [
    "m2 = passing()"
   ]
  },
  {
   "cell_type": "code",
   "execution_count": 14,
   "id": "3c8f7464-2db5-4bab-b717-a16884e6ba3c",
   "metadata": {},
   "outputs": [
    {
     "name": "stdout",
     "output_type": "stream",
     "text": [
      "tensor([[0.5525, 0.8168, 0.2078],\n",
      "        [0.5722, 0.8565, 0.9305]])\n",
      "tensor([[0.5525, 0.8168, 0.2078],\n",
      "        [0.5722, 0.8565, 0.9305]])\n"
     ]
    }
   ],
   "source": [
    "print(x)\n",
    "z = m2(x)\n",
    "print(z)"
   ]
  },
  {
   "cell_type": "code",
   "execution_count": null,
   "id": "3b412423-672c-4744-be63-deac95ee4782",
   "metadata": {},
   "outputs": [],
   "source": []
  }
 ],
 "metadata": {
  "kernelspec": {
   "display_name": "Python 3 (ipykernel)",
   "language": "python",
   "name": "python3"
  },
  "language_info": {
   "codemirror_mode": {
    "name": "ipython",
    "version": 3
   },
   "file_extension": ".py",
   "mimetype": "text/x-python",
   "name": "python",
   "nbconvert_exporter": "python",
   "pygments_lexer": "ipython3",
   "version": "3.8.10"
  }
 },
 "nbformat": 4,
 "nbformat_minor": 5
}
