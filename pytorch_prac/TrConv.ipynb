{
 "cells": [
  {
   "cell_type": "code",
   "execution_count": 4,
   "id": "2aaff145-509d-4e44-8518-399c078ea7e1",
   "metadata": {},
   "outputs": [],
   "source": [
    "import torch\n",
    "import torch.nn as nn"
   ]
  },
  {
   "cell_type": "markdown",
   "id": "d88168f7-cdd2-42e6-83af-a91eb38f0095",
   "metadata": {},
   "source": [
    "https://pytorch.org/docs/stable/generated/torch.nn.ConvTranspose2d.html"
   ]
  },
  {
   "cell_type": "code",
   "execution_count": 42,
   "id": "8ab32b04-2ff2-4a14-89cd-3332fa1b516c",
   "metadata": {},
   "outputs": [
    {
     "name": "stdout",
     "output_type": "stream",
     "text": [
      "torch.Size([1, 2, 3, 3])\n",
      "torch.Size([1, 2, 6, 6])\n",
      "------\n",
      "torch.Size([1, 2, 5, 5])\n",
      "torch.Size([1, 2, 10, 10])\n"
     ]
    }
   ],
   "source": [
    "w = nn.ConvTranspose2d(2,2,2,stride=2)\n",
    "x = torch.rand(1,2,3,3)\n",
    "print(x.shape)\n",
    "y = w(x)\n",
    "print(y.shape)\n",
    "print('------')\n",
    "x = torch.rand(1,2,5,5)\n",
    "print(x.shape)\n",
    "y = w(x)\n",
    "print(y.shape)"
   ]
  }
 ],
 "metadata": {
  "kernelspec": {
   "display_name": "Python 3 (ipykernel)",
   "language": "python",
   "name": "python3"
  },
  "language_info": {
   "codemirror_mode": {
    "name": "ipython",
    "version": 3
   },
   "file_extension": ".py",
   "mimetype": "text/x-python",
   "name": "python",
   "nbconvert_exporter": "python",
   "pygments_lexer": "ipython3",
   "version": "3.8.10"
  }
 },
 "nbformat": 4,
 "nbformat_minor": 5
}
