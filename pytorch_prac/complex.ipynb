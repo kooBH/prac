{
 "cells": [
  {
   "cell_type": "code",
   "execution_count": 1,
   "id": "ad735b1f-e436-4242-b8ed-1c8c2c3c1a62",
   "metadata": {},
   "outputs": [],
   "source": [
    "import torch"
   ]
  },
  {
   "cell_type": "code",
   "execution_count": 2,
   "id": "e07da03b-8533-4177-89b2-07fef4c82b80",
   "metadata": {},
   "outputs": [
    {
     "name": "stdout",
     "output_type": "stream",
     "text": [
      "tensor([0.9805, 0.8053, 0.9827, 0.8523])\n",
      "tensor([0.4827, 0.9580, 0.6700, 0.4738])\n"
     ]
    }
   ],
   "source": [
    "r = torch.rand(4)\n",
    "i = torch.rand(4)\n",
    "\n",
    "print(r)\n",
    "print(i)"
   ]
  },
  {
   "cell_type": "code",
   "execution_count": 7,
   "id": "1ec9ec31-28b2-48c0-82da-7b1e5978eb68",
   "metadata": {},
   "outputs": [
    {
     "name": "stdout",
     "output_type": "stream",
     "text": [
      "tensor([0.9805+0.4827j, 0.8053+0.9580j, 0.9827+0.6700j, 0.8523+0.4738j])\n",
      "tensor([0.4574, 0.8718, 0.5984, 0.5073])\n"
     ]
    }
   ],
   "source": [
    "c = r + i*1j\n",
    "print(c)\n",
    "\n",
    "print(torch.angle(c))"
   ]
  },
  {
   "cell_type": "code",
   "execution_count": 14,
   "id": "9f6158f1-1335-4bda-9219-48a9b3588e3a",
   "metadata": {},
   "outputs": [
    {
     "name": "stdout",
     "output_type": "stream",
     "text": [
      "tensor([[0.8528, 0.9320],\n",
      "        [0.6888, 0.4945],\n",
      "        [0.3955, 0.7898],\n",
      "        [0.4595, 0.2312]])\n",
      "tensor([[0., 0.],\n",
      "        [0., 0.],\n",
      "        [0., 0.],\n",
      "        [0., 0.]])\n"
     ]
    }
   ],
   "source": [
    "cc = torch.rand(4,2)\n",
    "print(cc)\n",
    "ang = torch.angle(cc)\n",
    "print(ang)"
   ]
  },
  {
   "cell_type": "markdown",
   "id": "82136319-adcc-4307-b37a-bbbe86392c34",
   "metadata": {},
   "source": [
    "## cplx -> mag,phase -> cplx"
   ]
  },
  {
   "cell_type": "code",
   "execution_count": 20,
   "id": "0c350750-8add-436a-8125-e1d19bde9e58",
   "metadata": {},
   "outputs": [
    {
     "name": "stdout",
     "output_type": "stream",
     "text": [
      "tensor([0.4984, 0.1212, 0.8593, 0.6746])\n",
      "tensor([0.5587, 0.7409, 0.3007, 0.0513])\n",
      "tensor([0.7487, 0.7508, 0.9104, 0.6765])\n",
      "tensor([0.8424, 1.4087, 0.3366, 0.0759])\n",
      "tensor([0.4984+0.5587j, 0.1212+0.7409j, 0.8593+0.3007j, 0.6746+0.0513j])\n"
     ]
    }
   ],
   "source": [
    "r = torch.rand(4)\n",
    "i = torch.rand(4)\n",
    "c=r + i*1j\n",
    "print(r)\n",
    "print(i)\n",
    "mag = torch.sqrt(c.real**2 +c.imag**2)\n",
    "ang = torch.angle(c)\n",
    "print(mag)\n",
    "print(ang)\n",
    "\n",
    "cplx = mag*torch.exp(1j*ang)\n",
    "print(cplx)"
   ]
  },
  {
   "cell_type": "code",
   "execution_count": null,
   "id": "ea06f57c-cfc0-4942-a3a8-37c73d8f1705",
   "metadata": {},
   "outputs": [],
   "source": []
  }
 ],
 "metadata": {
  "kernelspec": {
   "display_name": "Python 3 (ipykernel)",
   "language": "python",
   "name": "python3"
  },
  "language_info": {
   "codemirror_mode": {
    "name": "ipython",
    "version": 3
   },
   "file_extension": ".py",
   "mimetype": "text/x-python",
   "name": "python",
   "nbconvert_exporter": "python",
   "pygments_lexer": "ipython3",
   "version": "3.8.10"
  }
 },
 "nbformat": 4,
 "nbformat_minor": 5
}
