{
 "cells": [
  {
   "cell_type": "code",
   "execution_count": 4,
   "id": "cf9ef4ed-6953-4a49-aa94-80132de39b8e",
   "metadata": {},
   "outputs": [],
   "source": [
    "from singleton_class.A import AA"
   ]
  },
  {
   "cell_type": "code",
   "execution_count": 6,
   "id": "930dfab0-62ef-4f9c-9b9d-c1bbea543353",
   "metadata": {},
   "outputs": [
    {
     "name": "stdout",
     "output_type": "stream",
     "text": [
      "create\n"
     ]
    }
   ],
   "source": [
    "x = AA()"
   ]
  },
  {
   "cell_type": "code",
   "execution_count": 7,
   "id": "0d87f0f5-e8b6-4bff-b6ec-485491a5c247",
   "metadata": {},
   "outputs": [
    {
     "name": "stdout",
     "output_type": "stream",
     "text": [
      "recycle\n"
     ]
    }
   ],
   "source": [
    "y = AA()"
   ]
  },
  {
   "cell_type": "code",
   "execution_count": 8,
   "id": "086e8cb1-7b56-4fd0-8761-145cc20fbd9a",
   "metadata": {},
   "outputs": [
    {
     "name": "stdout",
     "output_type": "stream",
     "text": [
      "3\n",
      "recycle\n",
      "3\n"
     ]
    }
   ],
   "source": [
    "y.set(3)\n",
    "print(y.get())\n",
    "\n",
    "z = AA()\n",
    "print(z.get())"
   ]
  },
  {
   "cell_type": "code",
   "execution_count": null,
   "id": "d9b7a6fb-6870-49ba-880c-0a4fc567926e",
   "metadata": {},
   "outputs": [],
   "source": []
  }
 ],
 "metadata": {
  "kernelspec": {
   "display_name": "Python 3 (ipykernel)",
   "language": "python",
   "name": "python3"
  },
  "language_info": {
   "codemirror_mode": {
    "name": "ipython",
    "version": 3
   },
   "file_extension": ".py",
   "mimetype": "text/x-python",
   "name": "python",
   "nbconvert_exporter": "python",
   "pygments_lexer": "ipython3",
   "version": "3.9.12"
  }
 },
 "nbformat": 4,
 "nbformat_minor": 5
}
