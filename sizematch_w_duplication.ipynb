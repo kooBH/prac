{
 "cells": [
  {
   "cell_type": "code",
   "execution_count": 1,
   "id": "e922d431-a3f4-45d3-9a01-480d00af8735",
   "metadata": {},
   "outputs": [
    {
     "name": "stderr",
     "output_type": "stream",
     "text": [
      "/home/kbh/.conda/envs/dnn/lib/python3.9/site-packages/tqdm/auto.py:22: TqdmWarning: IProgress not found. Please update jupyter and ipywidgets. See https://ipywidgets.readthedocs.io/en/stable/user_install.html\n",
      "  from .autonotebook import tqdm as notebook_tqdm\n"
     ]
    }
   ],
   "source": [
    "import torch"
   ]
  },
  {
   "cell_type": "code",
   "execution_count": 3,
   "id": "61c204ec-5761-4e86-bf49-a041ece7f985",
   "metadata": {},
   "outputs": [
    {
     "name": "stdout",
     "output_type": "stream",
     "text": [
      "tensor([[0.0738, 0.4203],\n",
      "        [0.9487, 0.8840],\n",
      "        [0.9877, 0.3959],\n",
      "        [0.9056, 0.8081]])\n",
      "tensor([[0.0738, 0.4203],\n",
      "        [0.9487, 0.8840],\n",
      "        [0.9877, 0.3959],\n",
      "        [0.9056, 0.8081],\n",
      "        [0.0738, 0.4203],\n",
      "        [0.9487, 0.8840],\n",
      "        [0.9877, 0.3959],\n",
      "        [0.9056, 0.8081]])\n"
     ]
    }
   ],
   "source": [
    "x = torch.rand(4,2)\n",
    "print(x)\n",
    "\n",
    "y = torch.cat([x]*2,0)\n",
    "print(y)"
   ]
  },
  {
   "cell_type": "code",
   "execution_count": null,
   "id": "50daa5e7-0e20-40ea-b393-825bf11b19f5",
   "metadata": {},
   "outputs": [],
   "source": []
  }
 ],
 "metadata": {
  "kernelspec": {
   "display_name": "Python 3 (ipykernel)",
   "language": "python",
   "name": "python3"
  },
  "language_info": {
   "codemirror_mode": {
    "name": "ipython",
    "version": 3
   },
   "file_extension": ".py",
   "mimetype": "text/x-python",
   "name": "python",
   "nbconvert_exporter": "python",
   "pygments_lexer": "ipython3",
   "version": "3.9.12"
  }
 },
 "nbformat": 4,
 "nbformat_minor": 5
}
