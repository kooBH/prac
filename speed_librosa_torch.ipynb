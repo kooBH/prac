{
 "cells": [
  {
   "cell_type": "code",
   "execution_count": 1,
   "id": "87bad239-8445-45de-8cf2-5f319177e34a",
   "metadata": {},
   "outputs": [
    {
     "name": "stderr",
     "output_type": "stream",
     "text": [
      "/home/kbh/.conda/envs/dnn/lib/python3.9/site-packages/tqdm/auto.py:22: TqdmWarning: IProgress not found. Please update jupyter and ipywidgets. See https://ipywidgets.readthedocs.io/en/stable/user_install.html\n",
      "  from .autonotebook import tqdm as notebook_tqdm\n"
     ]
    }
   ],
   "source": [
    "import numpy as np\n",
    "import torch\n",
    "import librosa as rs\n",
    "import time"
   ]
  },
  {
   "cell_type": "code",
   "execution_count": 7,
   "id": "e28ba0e5-7dc3-456f-aa6d-3de4afd61c87",
   "metadata": {},
   "outputs": [
    {
     "name": "stdout",
     "output_type": "stream",
     "text": [
      "(1025, 32)\n",
      "[[ 2.54750643e+02+0.00000000e+00j  4.71605524e+02+0.00000000e+00j\n",
      "   5.23207546e+02+0.00000000e+00j ...  5.28313412e+02+0.00000000e+00j\n",
      "   5.00703051e+02+0.00000000e+00j  3.13981865e+02+0.00000000e+00j]\n",
      " [-1.24887840e+02+1.63948386e+02j -2.77539605e+02+4.71986195e+01j\n",
      "  -2.63182561e+02-1.44615617e+00j ... -2.70789729e+02+5.48183839e+00j\n",
      "  -2.75782280e+02-2.80865844e+01j -1.81046040e+02-1.52631597e+02j]\n",
      " [-3.94160660e+00-1.07053964e+02j  2.80599266e+01+2.37703973e+01j\n",
      "   2.81089115e+00+3.71714633e+00j ...  7.58654834e+00-1.54037250e+00j\n",
      "   7.29760109e+00-1.26510840e+01j  4.68911525e+01+8.32750067e+01j]\n",
      " ...\n",
      " [-2.73499692e+00-7.05189438e-02j  8.46340463e-01-2.16171222e+00j\n",
      "   6.18191711e+00+9.02346957e-01j ...  9.68730758e+00+1.87042030e+00j\n",
      "  -1.17570469e+01+2.45765826e+00j  6.95613087e+00-1.55175097e+00j]\n",
      " [ 1.39839924e+00-9.73337054e-02j  1.80792789e-01-1.10181547e+00j\n",
      "  -9.59732057e-01+1.95313206e+00j ...  1.45563175e+00+1.60972747e+00j\n",
      "   9.83138292e+00-1.98608029e+00j -2.53691067e+00-3.97068862e+00j]\n",
      " [-1.19426402e+00+0.00000000e+00j  3.25217664e-02+0.00000000e+00j\n",
      "  -5.68541033e-01+0.00000000e+00j ... -9.22285665e+00+0.00000000e+00j\n",
      "  -8.84764245e+00+0.00000000e+00j -2.66620297e+00+0.00000000e+00j]]\n",
      "(2, 1025, 32)\n"
     ]
    }
   ],
   "source": [
    "x = np.random.rand(16000)\n",
    "y = rs.stft(x)\n",
    "print(y.shape)\n",
    "print(y)\n",
    "z = np.stack((y.real,y.imag))\n",
    "print(z.shape)"
   ]
  },
  {
   "cell_type": "code",
   "execution_count": null,
   "id": "006d2af4-019f-43dd-99b9-b865633cb1d2",
   "metadata": {},
   "outputs": [],
   "source": []
  }
 ],
 "metadata": {
  "kernelspec": {
   "display_name": "Python 3 (ipykernel)",
   "language": "python",
   "name": "python3"
  },
  "language_info": {
   "codemirror_mode": {
    "name": "ipython",
    "version": 3
   },
   "file_extension": ".py",
   "mimetype": "text/x-python",
   "name": "python",
   "nbconvert_exporter": "python",
   "pygments_lexer": "ipython3",
   "version": "3.9.12"
  }
 },
 "nbformat": 4,
 "nbformat_minor": 5
}
