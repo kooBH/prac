{
 "cells": [
  {
   "cell_type": "code",
   "execution_count": 22,
   "id": "9bcaba55-f99c-4a98-b4fa-c18073e1c8a9",
   "metadata": {},
   "outputs": [],
   "source": [
    "import numpy as np\n",
    "import librosa"
   ]
  },
  {
   "cell_type": "code",
   "execution_count": 26,
   "id": "1847b543-2b09-4488-994b-850d297357c6",
   "metadata": {},
   "outputs": [],
   "source": [
    "path = \"data/wav/999.wav\""
   ]
  },
  {
   "cell_type": "code",
   "execution_count": 28,
   "id": "2f523de5-802e-4419-83b5-495c904bea9d",
   "metadata": {},
   "outputs": [
    {
     "name": "stdout",
     "output_type": "stream",
     "text": [
      "(483099,)\n"
     ]
    }
   ],
   "source": [
    "x,_ = librosa.load(path,sr=16000)\n",
    "print(x.shape)"
   ]
  },
  {
   "cell_type": "code",
   "execution_count": 29,
   "id": "f64f2884-7959-4853-8e0f-40f044c547d4",
   "metadata": {},
   "outputs": [],
   "source": [
    "y = librosa.stft(x,window='hann',n_fft=512,hop_length=128, win_length=None,center=True,dtype=np.cdouble)"
   ]
  },
  {
   "cell_type": "code",
   "execution_count": 30,
   "id": "a809554b-ac03-4c7d-9b82-6d99060008d8",
   "metadata": {},
   "outputs": [
    {
     "name": "stdout",
     "output_type": "stream",
     "text": [
      "(257, 3775)\n",
      "[[ 5.51676002e+00+0.00000000e+00j  6.06059192e+00+0.00000000e+00j\n",
      "   1.18224170e+00+0.00000000e+00j ... -2.94653660e+00+0.00000000e+00j\n",
      "  -6.30895343e-01+0.00000000e+00j  1.44807642e+00+0.00000000e+00j]\n",
      " [-7.29973255e-01+2.94902991e-17j -5.27704886e+00+7.38683779e-01j\n",
      "  -8.10050928e-01-5.43227159e+00j ...  2.24172536e+00+6.08299869e-01j\n",
      "   1.75166176e-01+1.63070427e+00j -1.32960835e+00+3.95936719e-01j]\n",
      " [-3.02152483e+00-7.71696619e-17j  2.87042154e+00-1.73524138e+00j\n",
      "  -4.93250155e-01+3.29309816e+00j ... -1.20139920e+00-2.95345714e-01j\n",
      "   4.19422284e-01-2.59336910e-01j  8.20594305e-01-5.19307981e-01j]\n",
      " ...\n",
      " [ 1.80927767e-01-4.77304283e-17j -4.92112294e-02+9.51037146e-03j\n",
      "  -1.05692611e-01+8.97383831e-02j ... -7.11661128e-03-6.23357596e-03j\n",
      "   1.49309608e-02+2.84656654e-03j -1.39198594e-02-7.43651214e-03j]\n",
      " [-1.20756236e-01+9.54097912e-18j  3.93739083e-02+9.15597386e-02j\n",
      "   1.99157420e-02-8.67414461e-02j ...  7.75929994e-03+5.09248767e-03j\n",
      "   1.71692661e-03+5.09301820e-03j  2.40628298e-02+7.02612332e-03j]\n",
      " [ 9.46977424e-02+0.00000000e+00j  5.43862986e-03+0.00000000e+00j\n",
      "   3.85622638e-04+0.00000000e+00j ... -4.74932679e-03+0.00000000e+00j\n",
      "  -1.58929505e-02+0.00000000e+00j -2.82216574e-02+0.00000000e+00j]]\n"
     ]
    }
   ],
   "source": [
    "print(y.shape)\n",
    "print(y)"
   ]
  },
  {
   "cell_type": "code",
   "execution_count": null,
   "id": "250edf60-140b-44bf-91c0-6172ca3e4efb",
   "metadata": {},
   "outputs": [],
   "source": []
  }
 ],
 "metadata": {
  "kernelspec": {
   "display_name": "Python 3 (ipykernel)",
   "language": "python",
   "name": "python3"
  },
  "language_info": {
   "codemirror_mode": {
    "name": "ipython",
    "version": 3
   },
   "file_extension": ".py",
   "mimetype": "text/x-python",
   "name": "python",
   "nbconvert_exporter": "python",
   "pygments_lexer": "ipython3",
   "version": "3.9.6"
  }
 },
 "nbformat": 4,
 "nbformat_minor": 5
}
