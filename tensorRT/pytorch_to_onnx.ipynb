{
 "cells": [
  {
   "cell_type": "code",
   "execution_count": 1,
   "id": "06738808-300e-4384-8388-9cbb1034bf58",
   "metadata": {},
   "outputs": [],
   "source": [
    "import torch\n",
    "import torch.nn as nn\n",
    "import onnx"
   ]
  },
  {
   "cell_type": "markdown",
   "id": "cf9e909c-e32c-4702-a0ab-67fb66e699bb",
   "metadata": {},
   "source": [
    "## Model"
   ]
  },
  {
   "cell_type": "code",
   "execution_count": 12,
   "id": "5536d89f-d7f3-4278-b8dd-6b660d1fa66d",
   "metadata": {},
   "outputs": [],
   "source": [
    "class test_model(nn.Module):\n",
    "    def __init__(self):\n",
    "        super().__init__()\n",
    "        self.layer_1 = nn.Linear(30,3)\n",
    "    def forward(self,x):\n",
    "        y = self.layer_1(x)\n",
    "        y[:,-1]=3\n",
    "        return y\n",
    "        "
   ]
  },
  {
   "cell_type": "markdown",
   "id": "6f95e211-e910-4721-9bb6-7d382784dfc5",
   "metadata": {},
   "source": [
    "## Convert"
   ]
  },
  {
   "cell_type": "code",
   "execution_count": 15,
   "id": "becb50f8-0e21-45b6-8aaf-844196ed9238",
   "metadata": {},
   "outputs": [
    {
     "name": "stdout",
     "output_type": "stream",
     "text": [
      "<class 'torch.Tensor'>\n",
      "torch.Size([1, 30])\n",
      "tensor([[-0.3319,  0.2013,  3.0000]], device='cuda:0', grad_fn=<CopySlices>)\n",
      "Model was successfully converted to ONNX format.\n",
      "It was saved to test.onnx\n"
     ]
    }
   ],
   "source": [
    "# load pre-trained model ------------------------------------\n",
    "model = test_model()\n",
    "\n",
    "# preprocessing stage ---------------------------------------\n",
    "input = torch.rand(1,30).cuda()\n",
    "print(type(input))\n",
    "print(input.shape)\n",
    "# inference stage -------------------------------------------\n",
    "model.eval()\n",
    "model.cuda()\n",
    "output = model(input)\n",
    "print(output)\n",
    "torch.onnx.export(model, input, \"test.onnx\", input_names=[\"input\"], output_names=[\"output\"], export_params=True,opset_version=11)\n",
    "\n",
    "onnx_model = onnx.load(\"test.onnx\")\n",
    "# check that the model converted fine\n",
    "onnx.checker.check_model(onnx_model)\n",
    "\n",
    "print(\"Model was successfully converted to ONNX format.\")\n",
    "print(\"It was saved to\", \"test.onnx\")"
   ]
  },
  {
   "cell_type": "code",
   "execution_count": null,
   "id": "b363fe02-a51a-4326-81fa-00281081fe0d",
   "metadata": {},
   "outputs": [],
   "source": []
  }
 ],
 "metadata": {
  "kernelspec": {
   "display_name": "Python 3 (ipykernel)",
   "language": "python",
   "name": "python3"
  },
  "language_info": {
   "codemirror_mode": {
    "name": "ipython",
    "version": 3
   },
   "file_extension": ".py",
   "mimetype": "text/x-python",
   "name": "python",
   "nbconvert_exporter": "python",
   "pygments_lexer": "ipython3",
   "version": "3.9.0"
  }
 },
 "nbformat": 4,
 "nbformat_minor": 5
}
