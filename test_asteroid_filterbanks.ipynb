{
 "cells": [
  {
   "cell_type": "code",
   "execution_count": 4,
   "id": "ee052f2e-8463-4573-9e5a-332ccc023de7",
   "metadata": {},
   "outputs": [],
   "source": [
    "import asteroid_filterbanks\n",
    "import torch"
   ]
  },
  {
   "cell_type": "code",
   "execution_count": 14,
   "id": "af30fbfa-3b63-4723-8d16-82251cfb5462",
   "metadata": {},
   "outputs": [],
   "source": [
    "n_fft = 512\n",
    "sr = 16000"
   ]
  },
  {
   "cell_type": "markdown",
   "id": "39ee5cad-7ba3-4298-b340-d81382ab9e9d",
   "metadata": {},
   "source": [
    "```python\n",
    "class ParamSincFB(Filterbank):\n",
    "    \"\"\"Extension of the parameterized filterbank from [1] proposed in [2].\n",
    "    Modified and extended from from `<https://github.com/mravanelli/SincNet>`__\n",
    "    Args:\n",
    "        n_filters (int): Number of filters. Half of `n_filters` (the real\n",
    "            parts) will have parameters, the other half will correspond to the\n",
    "            imaginary parts. `n_filters` should be even.\n",
    "        kernel_size (int): Length of the filters.\n",
    "        stride (int, optional): Stride of the convolution. If None (default),\n",
    "            set to ``kernel_size // 2``.\n",
    "        sample_rate (float, optional): The sample rate (used for initialization).\n",
    "        min_low_hz (int, optional): Lowest low frequency allowed (Hz).\n",
    "        min_band_hz (int, optional): Lowest band frequency allowed (Hz).\n",
    "```\n",
    "```\n",
    "NotImplementedError: Filterbanks must be wrapped with an Encoder or a Decoder.\n",
    "```"
   ]
  },
  {
   "cell_type": "code",
   "execution_count": 35,
   "id": "d620e6b5-391e-4e88-8db9-7d062e5c0ae1",
   "metadata": {},
   "outputs": [
    {
     "name": "stdout",
     "output_type": "stream",
     "text": [
      "torch.Size([1, 2, 32500])\n",
      "torch.Size([1, 2, 256, 3225])\n"
     ]
    }
   ],
   "source": [
    "FB = asteroid_filterbanks.Encoder(asteroid_filterbanks.ParamSincFB(\n",
    "    256,\n",
    "    251,\n",
    "   stride=10,\n",
    "   sample_rate =  sr\n",
    "   )\n",
    ")\n",
    "                                  \n",
    "x = torch.zeros(1,2,32500)\n",
    "print(x.shape)\n",
    "\n",
    "y = FB(x)\n",
    "print(y.shape)"
   ]
  },
  {
   "cell_type": "code",
   "execution_count": 27,
   "id": "03430658-81cf-48d6-b567-559cce65efb4",
   "metadata": {},
   "outputs": [
    {
     "name": "stdout",
     "output_type": "stream",
     "text": [
      "torch.Size([1, 2, 256, 3225])\n"
     ]
    }
   ],
   "source": []
  },
  {
   "cell_type": "code",
   "execution_count": null,
   "id": "5ff31731-3d17-419a-a0aa-0c393f3f81c2",
   "metadata": {},
   "outputs": [],
   "source": []
  }
 ],
 "metadata": {
  "kernelspec": {
   "display_name": "Python 3 (ipykernel)",
   "language": "python",
   "name": "python3"
  },
  "language_info": {
   "codemirror_mode": {
    "name": "ipython",
    "version": 3
   },
   "file_extension": ".py",
   "mimetype": "text/x-python",
   "name": "python",
   "nbconvert_exporter": "python",
   "pygments_lexer": "ipython3",
   "version": "3.9.12"
  }
 },
 "nbformat": 4,
 "nbformat_minor": 5
}
