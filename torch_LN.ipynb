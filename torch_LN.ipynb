{
 "cells": [
  {
   "cell_type": "code",
   "execution_count": 2,
   "id": "b41d8daa-906e-4c85-b372-04fdb6b63925",
   "metadata": {},
   "outputs": [],
   "source": [
    "import torch.nn as nn\n",
    "import torch"
   ]
  },
  {
   "cell_type": "code",
   "execution_count": 9,
   "id": "41140dc1-4741-4dd2-a8e8-d3720af7f6bd",
   "metadata": {},
   "outputs": [
    {
     "name": "stdout",
     "output_type": "stream",
     "text": [
      "torch.Size([2, 3, 4, 5])\n"
     ]
    }
   ],
   "source": [
    "\n",
    "B = 2\n",
    "C = 3\n",
    "F = 4\n",
    "T = 5\n",
    "\n",
    "x = torch.rand(B,C,F,T)\n",
    "print(x.shape)\n",
    "\n",
    "bn = nn.BatchNorm2d(C)\n",
    "ln = nn.LayerNorm([F,T])\n",
    "\n",
    "ybn = bn(x)\n",
    "yln = ln(x)"
   ]
  },
  {
   "cell_type": "code",
   "execution_count": null,
   "id": "2bac13a4-5aa1-4a3f-9939-6ea8050dc581",
   "metadata": {},
   "outputs": [],
   "source": []
  },
  {
   "cell_type": "code",
   "execution_count": null,
   "id": "e6ff8791-d9a9-4677-bc40-f9ef7b9baae3",
   "metadata": {},
   "outputs": [],
   "source": []
  },
  {
   "cell_type": "code",
   "execution_count": null,
   "id": "7f39cf62-7e11-4026-904c-95a76d5185fb",
   "metadata": {},
   "outputs": [],
   "source": []
  }
 ],
 "metadata": {
  "kernelspec": {
   "display_name": "Python 3 (ipykernel)",
   "language": "python",
   "name": "python3"
  },
  "language_info": {
   "codemirror_mode": {
    "name": "ipython",
    "version": 3
   },
   "file_extension": ".py",
   "mimetype": "text/x-python",
   "name": "python",
   "nbconvert_exporter": "python",
   "pygments_lexer": "ipython3",
   "version": "3.9.12"
  }
 },
 "nbformat": 4,
 "nbformat_minor": 5
}
