{
 "cells": [
  {
   "cell_type": "code",
   "execution_count": 1,
   "id": "b0b7089e-4b13-46b3-afcc-cd3b8635a26d",
   "metadata": {},
   "outputs": [
    {
     "name": "stderr",
     "output_type": "stream",
     "text": [
      "/home/kbh/.conda/envs/dnn/lib/python3.9/site-packages/tqdm/auto.py:22: TqdmWarning: IProgress not found. Please update jupyter and ipywidgets. See https://ipywidgets.readthedocs.io/en/stable/user_install.html\n",
      "  from .autonotebook import tqdm as notebook_tqdm\n"
     ]
    }
   ],
   "source": [
    "import torch.nn as nn\n",
    "import torch"
   ]
  },
  {
   "cell_type": "code",
   "execution_count": 27,
   "id": "7d5d3b64-f358-41f6-93d8-51881111daba",
   "metadata": {},
   "outputs": [],
   "source": [
    "class SEBlock(nn.Module) :\n",
    "    def __init__(self,in_channel,ratio=16):\n",
    "        super().__init__()\n",
    "        \n",
    "        size_se = int(in_channel/ratio)\n",
    "       \n",
    "        self.pool = torch.nn.AdaptiveAvgPool2d((1,1))\n",
    "            # Squeeze\n",
    "        self.squeeze = nn.Linear(in_channel,size_se)\n",
    "        self.relu = nn.ReLU()\n",
    "            # Excitation\n",
    "        self.excitation = nn.Linear(size_se,in_channel)\n",
    "        self.sigmoid = nn.Sigmoid()\n",
    "        \n",
    "    def forward(self,x):\n",
    "        # x : [B,C,F,T]\n",
    "        \n",
    "        \n",
    "        x_ = self.pool(x)\n",
    "        x_ = x_.permute(0,2,3,1)\n",
    "        \n",
    "        x_ = self.squeeze(x_)\n",
    "        x_ = self.relu(x_)\n",
    "        x_ = self.excitation(x_)\n",
    "        x_ = self.sigmoid(x_)\n",
    "        x_ = x_.permute(0,3,1,2)\n",
    "        x = x*x_\n",
    "        \n",
    "       \n",
    "        return x"
   ]
  },
  {
   "cell_type": "code",
   "execution_count": 29,
   "id": "80feb3d5-bdee-4159-9381-fc09f27b3f9f",
   "metadata": {},
   "outputs": [
    {
     "name": "stdout",
     "output_type": "stream",
     "text": [
      "torch.Size([2, 64, 32, 16])\n",
      "torch.Size([2, 1, 1, 64])\n",
      "torch.Size([2, 64, 32, 16])\n"
     ]
    }
   ],
   "source": [
    "x = torch.rand(2,64,32,16)\n",
    "print(x.shape)\n",
    "m = SEBlock(64)\n",
    "\n",
    "y = m(x)\n",
    "print(y.shape)"
   ]
  },
  {
   "cell_type": "code",
   "execution_count": null,
   "id": "4566a117-cac5-4c0d-8512-b62481fdef7d",
   "metadata": {},
   "outputs": [],
   "source": []
  },
  {
   "cell_type": "code",
   "execution_count": null,
   "id": "05795996-ea49-4214-a328-8309ebe8eb0d",
   "metadata": {},
   "outputs": [],
   "source": []
  }
 ],
 "metadata": {
  "kernelspec": {
   "display_name": "Python 3 (ipykernel)",
   "language": "python",
   "name": "python3"
  },
  "language_info": {
   "codemirror_mode": {
    "name": "ipython",
    "version": 3
   },
   "file_extension": ".py",
   "mimetype": "text/x-python",
   "name": "python",
   "nbconvert_exporter": "python",
   "pygments_lexer": "ipython3",
   "version": "3.9.12"
  }
 },
 "nbformat": 4,
 "nbformat_minor": 5
}
