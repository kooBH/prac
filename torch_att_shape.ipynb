{
 "cells": [
  {
   "cell_type": "code",
   "execution_count": 1,
   "id": "a0debec4-6de0-4c12-b6d3-51c73e7adc5e",
   "metadata": {},
   "outputs": [],
   "source": [
    "import torch\n",
    "import torch.nn as nn"
   ]
  },
  {
   "cell_type": "code",
   "execution_count": 13,
   "id": "63af4a00-5506-4d8a-8c65-62277275a013",
   "metadata": {},
   "outputs": [
    {
     "name": "stdout",
     "output_type": "stream",
     "text": [
      "torch.Size([1, 4, 6])\n"
     ]
    }
   ],
   "source": [
    "embed_dim = 6\n",
    "num_heads = 2\n",
    "\n",
    "\n",
    "q = torch.rand(1,4,embed_dim)\n",
    "k = torch.rand(1,3,6)\n",
    "v = torch.rand(1,3,6)\n",
    "\n",
    "m = nn.MultiheadAttention(embed_dim, num_heads,  batch_first=True)\n",
    "\n",
    "y, _ = m(q,k,v)\n",
    "print(y.shape)"
   ]
  },
  {
   "cell_type": "code",
   "execution_count": 16,
   "id": "2bb4c1ee-da48-4beb-bf8d-cf37c889edac",
   "metadata": {},
   "outputs": [
    {
     "name": "stdout",
     "output_type": "stream",
     "text": [
      "{}\n"
     ]
    }
   ],
   "source": [
    "x = {}\n",
    "\n",
    "if \"a\" in x.keys() :\n",
    "    x[\"a\"] = 0\n",
    "print(x)"
   ]
  },
  {
   "cell_type": "code",
   "execution_count": null,
   "id": "c1a3308e-68af-4403-8be9-1725956cc9d0",
   "metadata": {},
   "outputs": [],
   "source": []
  }
 ],
 "metadata": {
  "kernelspec": {
   "display_name": "Python 3 (ipykernel)",
   "language": "python",
   "name": "python3"
  },
  "language_info": {
   "codemirror_mode": {
    "name": "ipython",
    "version": 3
   },
   "file_extension": ".py",
   "mimetype": "text/x-python",
   "name": "python",
   "nbconvert_exporter": "python",
   "pygments_lexer": "ipython3",
   "version": "3.10.14"
  }
 },
 "nbformat": 4,
 "nbformat_minor": 5
}
