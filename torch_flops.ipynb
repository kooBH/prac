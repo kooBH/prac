{
 "cells": [
  {
   "cell_type": "code",
   "execution_count": 1,
   "id": "b64d509b-95fe-4fd2-ae22-94a8d86ea205",
   "metadata": {},
   "outputs": [
    {
     "name": "stderr",
     "output_type": "stream",
     "text": [
      "/home/kbh/.conda/envs/dnn/lib/python3.9/site-packages/tqdm/auto.py:22: TqdmWarning: IProgress not found. Please update jupyter and ipywidgets. See https://ipywidgets.readthedocs.io/en/stable/user_install.html\n",
      "  from .autonotebook import tqdm as notebook_tqdm\n"
     ]
    }
   ],
   "source": [
    "from ptflops import get_model_complexity_info\n",
    "import torch\n",
    "import torch.nn as nn"
   ]
  },
  {
   "cell_type": "code",
   "execution_count": 6,
   "id": "4c70b2bf-d152-4956-934a-eeae1af62059",
   "metadata": {},
   "outputs": [],
   "source": [
    "m1 = nn.GRU(128,128,128,batch_first=True)\n",
    "m2 = nn.GRU(1024,1024,1024,batch_first=True)"
   ]
  },
  {
   "cell_type": "code",
   "execution_count": 7,
   "id": "1499b9cf-d978-4910-b3ba-2c5e6b1d321d",
   "metadata": {},
   "outputs": [
    {
     "name": "stdout",
     "output_type": "stream",
     "text": [
      "GRU(12.68 M, 100.000% Params, 1.6 GMac, 100.000% MACs, 128, 128, num_layers=128, batch_first=True)\n",
      "m1::ptflops : MACS 1599488000 |  PARAM 12681216\n",
      "GRU(6448.74 M, 100.000% Params, 807.01 GMac, 100.000% MACs, 1024, 1024, num_layers=1024, batch_first=True)\n",
      "m2::ptflops : MACS 807010304000 |  PARAM 6448742400\n"
     ]
    }
   ],
   "source": [
    "macs_ptflos, params_ptflops = get_model_complexity_info(m1, (125,128), as_strings=False,print_per_layer_stat=True, verbose=True)   \n",
    "print(\"m1::ptflops : MACS {} |  PARAM {}\".format(macs_ptflos,params_ptflops))\n",
    "\n",
    "macs_ptflos, params_ptflops = get_model_complexity_info(m2, (125,1024), as_strings=False,print_per_layer_stat=True, verbose=True)   \n",
    "print(\"m2::ptflops : MACS {} |  PARAM {}\".format(macs_ptflos,params_ptflops))"
   ]
  },
  {
   "cell_type": "code",
   "execution_count": null,
   "id": "9f616676-4142-4b32-8015-450072bb800b",
   "metadata": {},
   "outputs": [],
   "source": []
  }
 ],
 "metadata": {
  "kernelspec": {
   "display_name": "Python 3 (ipykernel)",
   "language": "python",
   "name": "python3"
  },
  "language_info": {
   "codemirror_mode": {
    "name": "ipython",
    "version": 3
   },
   "file_extension": ".py",
   "mimetype": "text/x-python",
   "name": "python",
   "nbconvert_exporter": "python",
   "pygments_lexer": "ipython3",
   "version": "3.9.12"
  }
 },
 "nbformat": 4,
 "nbformat_minor": 5
}
