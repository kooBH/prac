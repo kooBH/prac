{
 "cells": [
  {
   "cell_type": "markdown",
   "id": "3a6ab9ec-5056-41af-8be8-9bd6e745162c",
   "metadata": {},
   "source": [
    "# learnable parameter"
   ]
  },
  {
   "cell_type": "code",
   "execution_count": 38,
   "id": "a3c0598c-d751-4fbd-bfd2-bb505bab6a69",
   "metadata": {},
   "outputs": [],
   "source": [
    "import torch\n",
    "import torch.nn as nn\n",
    "import matplotlib.pyplot as plt   \n",
    "import numpy as np"
   ]
  },
  {
   "cell_type": "markdown",
   "id": "64afbe2c-fc46-46cb-ab2d-74f21d7f1c55",
   "metadata": {},
   "source": [
    "https://discuss.pytorch.org/t/best-way-to-define-a-scalar-using-nn-parameter-in-pytorch/97209   \n",
    "https://pytorch.org/docs/stable/generated/torch.nn.parameter.Parameter.html"
   ]
  },
  {
   "cell_type": "code",
   "execution_count": 39,
   "id": "d77c803d-46c2-4132-b709-84d6c7e8092f",
   "metadata": {},
   "outputs": [],
   "source": [
    "class module_scalar(nn.Module):\n",
    "    def __init__(self):\n",
    "        super().__init__()\n",
    "        self.alpha = nn.Parameter(torch.ones(1))\n",
    "    def forward(self,x):\n",
    "        return x*self.alpha\n",
    "    \n",
    "    def value(self) :\n",
    "        return self.alpha.data\n",
    "    "
   ]
  },
  {
   "cell_type": "code",
   "execution_count": 73,
   "id": "2ec0c888-5445-4352-b5d5-072935afb9e5",
   "metadata": {},
   "outputs": [
    {
     "name": "stdout",
     "output_type": "stream",
     "text": [
      "0 : 27.48  | tensor([1.1000])\n",
      "10 : 21.73  | tensor([2.0948])\n",
      "20 : 16.76  | tensor([3.0653])\n",
      "30 : 12.61  | tensor([3.9921])\n",
      "40 : 9.258  | tensor([4.8597])\n",
      "50 : 6.623  | tensor([5.6577])\n",
      "60 : 4.616  | tensor([6.3799])\n",
      "70 : 3.13  | tensor([7.0230])\n",
      "80 : 2.063  | tensor([7.5869])\n",
      "90 : 1.319  | tensor([8.0731])\n"
     ]
    },
    {
     "data": {
      "text/plain": [
       "[<matplotlib.lines.Line2D at 0x7f3647953430>]"
      ]
     },
     "execution_count": 73,
     "metadata": {},
     "output_type": "execute_result"
    },
    {
     "data": {
      "image/png": "[encoded data removed]",
      "text/plain": [
       "<Figure size 432x288 with 1 Axes>"
      ]
     },
     "metadata": {
      "needs_background": "light"
     },
     "output_type": "display_data"
    }
   ],
   "source": [
    "\n",
    "x = torch.rand(30,40)\n",
    "#t = torch.zeros(30,40)\n",
    "t = 10*x\n",
    "\n",
    "m = module_scalar()\n",
    "criterion = nn.MSELoss()\n",
    "\n",
    "optimizer = torch.optim.Adam(m.parameters(),lr=0.1)\n",
    "\n",
    "m.train()\n",
    "\n",
    "n_iter = 100\n",
    "\n",
    "val = np.zeros(n_iter)\n",
    "for i in range(n_iter) : \n",
    "    y = m(x)\n",
    "    loss = criterion(y,t)\n",
    "    optimizer.zero_grad()\n",
    "    loss.backward()\n",
    "    optimizer.step()\n",
    "    \n",
    "    val[i]=(m.value().numpy())\n",
    "    #print(val[-1])\n",
    "    if i % 10 == 0 :\n",
    "        print(\"{} : {:.4}  | {}\".format(i,loss,m.value()))\n",
    "        \n",
    "plt.figure()\n",
    "plt.title(\"scalar -> 0 \")\n",
    "plt.plot(val[:])"
   ]
  },
  {
   "cell_type": "code",
   "execution_count": null,
   "id": "573893b6-bb66-411a-bcb7-4095b3779a2f",
   "metadata": {},
   "outputs": [],
   "source": []
  }
 ],
 "metadata": {
  "kernelspec": {
   "display_name": "Python 3 (ipykernel)",
   "language": "python",
   "name": "python3"
  },
  "language_info": {
   "codemirror_mode": {
    "name": "ipython",
    "version": 3
   },
   "file_extension": ".py",
   "mimetype": "text/x-python",
   "name": "python",
   "nbconvert_exporter": "python",
   "pygments_lexer": "ipython3",
   "version": "3.9.6"
  }
 },
 "nbformat": 4,
 "nbformat_minor": 5
}
