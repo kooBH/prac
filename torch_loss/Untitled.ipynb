{
 "cells": [
  {
   "cell_type": "code",
   "execution_count": 72,
   "id": "6a5ae49a-d702-495d-9f8a-3e9cc677d704",
   "metadata": {},
   "outputs": [],
   "source": [
    "import torch"
   ]
  },
  {
   "cell_type": "code",
   "execution_count": 73,
   "id": "8939821a-50d9-4e86-9df7-30bdb64e3367",
   "metadata": {},
   "outputs": [
    {
     "name": "stdout",
     "output_type": "stream",
     "text": [
      "tensor([0.7839, 0.9051, 0.6084, 0.8119])\n",
      "tensor([0.8475, 0.3734, 0.6004, 0.2893])\n"
     ]
    }
   ],
   "source": [
    "x = torch.rand(4)\n",
    "y = torch.rand(4)\n",
    "print(x)\n",
    "print(y)"
   ]
  },
  {
   "cell_type": "code",
   "execution_count": 74,
   "id": "28b42489-35f9-4e22-a4b4-234b10f62ded",
   "metadata": {},
   "outputs": [
    {
     "name": "stdout",
     "output_type": "stream",
     "text": [
      "tensor(0.1400)\n",
      "tensor(0.)\n"
     ]
    }
   ],
   "source": [
    "c = torch.nn.MSELoss()\n",
    "l = c(x,y)\n",
    "print(l)\n",
    "l = c(x,x)\n",
    "print(l)"
   ]
  },
  {
   "cell_type": "code",
   "execution_count": 75,
   "id": "112b0d05-b92d-45d3-a56f-ad76cb487fc5",
   "metadata": {},
   "outputs": [
    {
     "name": "stdout",
     "output_type": "stream",
     "text": [
      "tensor(0.2815)\n"
     ]
    }
   ],
   "source": [
    "c = torch.nn.L1Loss()\n",
    "l = c(x,y)\n",
    "print(l)"
   ]
  },
  {
   "cell_type": "code",
   "execution_count": 76,
   "id": "4402a1ce-8f1e-4f1d-9d9b-948aaae2b576",
   "metadata": {},
   "outputs": [
    {
     "name": "stdout",
     "output_type": "stream",
     "text": [
      "tensor(0.)\n",
      "tensor(0.)\n"
     ]
    }
   ],
   "source": [
    "c = torch.nn.KLDivLoss(reduction='batchmean')\n",
    "l = c(torch.log(x),torch.log(y))\n",
    "print(l)\n",
    "l = c(torch.log(x),torch.log(x))\n",
    "print(l)"
   ]
  },
  {
   "cell_type": "code",
   "execution_count": null,
   "id": "28942e69-7872-4819-a1d5-b9032e3e23af",
   "metadata": {},
   "outputs": [],
   "source": []
  },
  {
   "cell_type": "code",
   "execution_count": null,
   "id": "76a4847a-5558-4c47-ab6e-4bc31a1f78e4",
   "metadata": {},
   "outputs": [],
   "source": []
  },
  {
   "cell_type": "code",
   "execution_count": null,
   "id": "94074e2f-920e-4fe9-b40a-79565c686417",
   "metadata": {},
   "outputs": [],
   "source": []
  }
 ],
 "metadata": {
  "kernelspec": {
   "display_name": "Python 3",
   "language": "python",
   "name": "python3"
  },
  "language_info": {
   "codemirror_mode": {
    "name": "ipython",
    "version": 3
   },
   "file_extension": ".py",
   "mimetype": "text/x-python",
   "name": "python",
   "nbconvert_exporter": "python",
   "pygments_lexer": "ipython3",
   "version": "3.8.0"
  }
 },
 "nbformat": 4,
 "nbformat_minor": 5
}
