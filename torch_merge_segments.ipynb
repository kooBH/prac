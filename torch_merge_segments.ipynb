{
 "cells": [
  {
   "cell_type": "code",
   "execution_count": 1,
   "id": "467e21a2-1ce8-42eb-ab6b-075f0179ba6d",
   "metadata": {},
   "outputs": [
    {
     "name": "stderr",
     "output_type": "stream",
     "text": [
      "/home/kbh/anaconda3/envs/dnn/lib/python3.9/site-packages/tqdm/auto.py:22: TqdmWarning: IProgress not found. Please update jupyter and ipywidgets. See https://ipywidgets.readthedocs.io/en/stable/user_install.html\n",
      "  from .autonotebook import tqdm as notebook_tqdm\n"
     ]
    }
   ],
   "source": [
    "import torch"
   ]
  },
  {
   "cell_type": "code",
   "execution_count": 7,
   "id": "9eae87b7-8405-47ea-8475-0d9083883cbc",
   "metadata": {},
   "outputs": [
    {
     "name": "stdout",
     "output_type": "stream",
     "text": [
      "[tensor([[0.0306, 0.9500, 0.5473],\n",
      "        [0.3531, 0.5994, 0.5339],\n",
      "        [0.9120, 0.9752, 0.2416],\n",
      "        [0.6327, 0.2978, 0.6060]]), tensor([[0.4476, 0.4176, 0.3859],\n",
      "        [0.5600, 0.5970, 0.5779],\n",
      "        [0.1750, 0.5874, 0.3290],\n",
      "        [0.5359, 0.7204, 0.2843]]), tensor([[0.0306, 0.9500, 0.5473],\n",
      "        [0.3531, 0.5994, 0.5339],\n",
      "        [0.9120, 0.9752, 0.2416],\n",
      "        [0.6327, 0.2978, 0.6060]]), tensor([[0.4476, 0.4176, 0.3859],\n",
      "        [0.5600, 0.5970, 0.5779],\n",
      "        [0.1750, 0.5874, 0.3290],\n",
      "        [0.5359, 0.7204, 0.2843]])]\n",
      "torch.Size([16, 3])\n"
     ]
    }
   ],
   "source": [
    "x = torch.rand(4,3)\n",
    "y = torch.rand(4,3)\n",
    "\n",
    "p = [x, y, x, y]\n",
    "print(p)\n",
    "\n",
    "c = torch.concat(p)\n",
    "print(c.shape)"
   ]
  },
  {
   "cell_type": "code",
   "execution_count": null,
   "id": "b8069d22-0216-430a-b608-aa592d55e345",
   "metadata": {},
   "outputs": [],
   "source": []
  }
 ],
 "metadata": {
  "kernelspec": {
   "display_name": "Python 3 (ipykernel)",
   "language": "python",
   "name": "python3"
  },
  "language_info": {
   "codemirror_mode": {
    "name": "ipython",
    "version": 3
   },
   "file_extension": ".py",
   "mimetype": "text/x-python",
   "name": "python",
   "nbconvert_exporter": "python",
   "pygments_lexer": "ipython3",
   "version": "3.9.12"
  }
 },
 "nbformat": 4,
 "nbformat_minor": 5
}
