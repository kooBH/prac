{
 "cells": [
  {
   "cell_type": "code",
   "execution_count": 1,
   "id": "3206fb42-b95a-4a2d-9815-78d10d984d6c",
   "metadata": {},
   "outputs": [
    {
     "name": "stderr",
     "output_type": "stream",
     "text": [
      "/home/kbh/.conda/envs/dnn/lib/python3.9/site-packages/tqdm/auto.py:22: TqdmWarning: IProgress not found. Please update jupyter and ipywidgets. See https://ipywidgets.readthedocs.io/en/stable/user_install.html\n",
      "  from .autonotebook import tqdm as notebook_tqdm\n"
     ]
    }
   ],
   "source": [
    "import torch\n",
    "import torch.nn as nn"
   ]
  },
  {
   "cell_type": "code",
   "execution_count": 25,
   "id": "76860d2c-b8af-4b63-b89a-843f21aba85b",
   "metadata": {},
   "outputs": [
    {
     "name": "stdout",
     "output_type": "stream",
     "text": [
      "tensor([[[0.8698, 0.7856, 0.5950, 0.3094],\n",
      "         [0.9366, 0.0902, 0.4822, 0.4773],\n",
      "         [0.6268, 0.6790, 0.5757, 0.6580]],\n",
      "\n",
      "        [[0.0267, 0.1186, 0.3264, 0.6362],\n",
      "         [0.5010, 0.1104, 0.8106, 0.2766],\n",
      "         [0.6264, 0.3071, 0.5870, 0.3328]]])\n",
      "tensor([[[ 1.2452,  0.8700,  0.0203, -1.2529],\n",
      "         [ 1.5431, -2.2303, -0.4828, -0.5044],\n",
      "         [ 0.1621,  0.3946, -0.0660,  0.3010]],\n",
      "\n",
      "        [[-1.5474, -1.1540, -0.2650,  1.0606],\n",
      "         [ 0.4822, -1.1892,  1.8066, -0.4778],\n",
      "         [ 1.0188, -0.3474,  0.8501, -0.2375]]],\n",
      "       grad_fn=<NativeLayerNormBackward0>)\n",
      "torch.Size([2, 3, 4])\n"
     ]
    }
   ],
   "source": [
    "x = torch.rand(2,3,4)\n",
    "\n",
    "print(x)\n",
    "m = nn.LayerNorm((3,4))\n",
    "y = m(x)\n",
    "print(y)\n",
    "print(y.shape)"
   ]
  },
  {
   "cell_type": "code",
   "execution_count": null,
   "id": "45a5b6bd-d8d8-4b83-9f6c-7867deaa4be6",
   "metadata": {},
   "outputs": [],
   "source": []
  },
  {
   "cell_type": "code",
   "execution_count": null,
   "id": "874f9e5e-0e5d-497e-8c43-106a80bcb77e",
   "metadata": {},
   "outputs": [],
   "source": []
  }
 ],
 "metadata": {
  "kernelspec": {
   "display_name": "Python 3 (ipykernel)",
   "language": "python",
   "name": "python3"
  },
  "language_info": {
   "codemirror_mode": {
    "name": "ipython",
    "version": 3
   },
   "file_extension": ".py",
   "mimetype": "text/x-python",
   "name": "python",
   "nbconvert_exporter": "python",
   "pygments_lexer": "ipython3",
   "version": "3.9.12"
  }
 },
 "nbformat": 4,
 "nbformat_minor": 5
}
