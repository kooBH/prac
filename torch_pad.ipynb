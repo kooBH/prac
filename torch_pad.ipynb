{
 "cells": [
  {
   "cell_type": "code",
   "execution_count": 1,
   "id": "aa3d9417-4b38-42c3-8094-430435db2181",
   "metadata": {},
   "outputs": [],
   "source": [
    "import torch\n",
    "import torch.nn.functional as F"
   ]
  },
  {
   "cell_type": "code",
   "execution_count": 2,
   "id": "68cb0a52-6a95-42d2-a2ec-fa937e577f5a",
   "metadata": {},
   "outputs": [],
   "source": [
    "x = torch.rand(2,3)"
   ]
  },
  {
   "cell_type": "code",
   "execution_count": 9,
   "id": "a02fbc7f-4a48-4a5b-be1c-5a4229b9948c",
   "metadata": {},
   "outputs": [
    {
     "name": "stdout",
     "output_type": "stream",
     "text": [
      "tensor([[0.7194, 0.1333, 0.0590],\n",
      "        [0.8757, 0.2454, 0.6109]])\n",
      "torch.Size([2, 3])\n"
     ]
    }
   ],
   "source": [
    "print(x)\n",
    "print(x.shape)"
   ]
  },
  {
   "cell_type": "code",
   "execution_count": 12,
   "id": "56a85204-ad77-4b1c-aa9d-e55183e5f1f2",
   "metadata": {},
   "outputs": [
    {
     "name": "stdout",
     "output_type": "stream",
     "text": [
      "tensor([[0.7194, 0.1333, 0.0590, 0.0000],\n",
      "        [0.8757, 0.2454, 0.6109, 0.0000]])\n",
      "torch.Size([2, 4])\n"
     ]
    }
   ],
   "source": [
    "y = F.pad(x,(0,1),'constant',value=0)\n",
    "print(y)\n",
    "print(y.shape)"
   ]
  },
  {
   "cell_type": "code",
   "execution_count": null,
   "id": "d4c32521-6bf0-41e4-a386-1b7a8e0947f4",
   "metadata": {},
   "outputs": [],
   "source": []
  }
 ],
 "metadata": {
  "kernelspec": {
   "display_name": "Python 3 (ipykernel)",
   "language": "python",
   "name": "python3"
  },
  "language_info": {
   "codemirror_mode": {
    "name": "ipython",
    "version": 3
   },
   "file_extension": ".py",
   "mimetype": "text/x-python",
   "name": "python",
   "nbconvert_exporter": "python",
   "pygments_lexer": "ipython3",
   "version": "3.8.10"
  }
 },
 "nbformat": 4,
 "nbformat_minor": 5
}
