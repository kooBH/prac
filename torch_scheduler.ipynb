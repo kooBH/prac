{
 "cells": [
  {
   "cell_type": "code",
   "execution_count": 4,
   "id": "5ba9cd32-e457-4093-9e39-37513ca5526a",
   "metadata": {},
   "outputs": [],
   "source": [
    "import torch\n",
    "import torch.nn as nn\n",
    "import torch.optim.lr_scheduler as lr_scheduler"
   ]
  },
  {
   "cell_type": "code",
   "execution_count": 5,
   "id": "eebba643-aed5-43c7-9d4b-65d74c53a713",
   "metadata": {},
   "outputs": [],
   "source": [
    "class WarmUpScheduler(lr_scheduler.LambdaLR):\n",
    "    def __init__(self, optimizer, \n",
    "                 warmup_steps,\n",
    "                 last_epoch=-1):\n",
    "        def lr_lambda(step):\n",
    "            print(step)\n",
    "            if step < warmup_steps:\n",
    "                return float(step)/float(warmup_steps)\n",
    "            else :\n",
    "                return 1\n",
    "\n",
    "        super(WarmUpScheduler, self).__init__(optimizer,lr_lambda,last_epoch=last_epoch)\n",
    "        \n",
    "class base_model(nn.Module):\n",
    "    def __init__(self):\n",
    "        super(base_model,self).__init__()\n",
    "        \n",
    "        self.m = nn.Linear(32,32)\n",
    "        \n",
    "    def forward(self,x):\n",
    "        return self.m(x)"
   ]
  },
  {
   "cell_type": "code",
   "execution_count": 9,
   "id": "1763947c-9c31-4285-ad6f-6c8de70e9eb2",
   "metadata": {},
   "outputs": [
    {
     "name": "stdout",
     "output_type": "stream",
     "text": [
      "0\n",
      "1\n",
      "2\n",
      "3\n",
      "4\n",
      "5\n",
      "6\n",
      "7\n"
     ]
    }
   ],
   "source": [
    "\n",
    "model = base_model()\n",
    "optim = torch.optim.AdamW(model.parameters())\n",
    "scheduler = WarmUpScheduler(optim,100)\n",
    "\n",
    "scheduler.step()\n",
    "scheduler.step()\n",
    "scheduler.step()\n",
    "scheduler.step()\n",
    "scheduler.step()\n",
    "scheduler.step()\n",
    "scheduler.step()"
   ]
  },
  {
   "cell_type": "code",
   "execution_count": null,
   "id": "a6041b0d-4641-4619-be38-a415e024fda0",
   "metadata": {},
   "outputs": [],
   "source": []
  }
 ],
 "metadata": {
  "kernelspec": {
   "display_name": "Python 3 (ipykernel)",
   "language": "python",
   "name": "python3"
  },
  "language_info": {
   "codemirror_mode": {
    "name": "ipython",
    "version": 3
   },
   "file_extension": ".py",
   "mimetype": "text/x-python",
   "name": "python",
   "nbconvert_exporter": "python",
   "pygments_lexer": "ipython3",
   "version": "3.9.12"
  }
 },
 "nbformat": 4,
 "nbformat_minor": 5
}
