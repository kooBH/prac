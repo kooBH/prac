{
 "cells": [
  {
   "cell_type": "code",
   "execution_count": 3,
   "id": "b36e7240-eb85-45be-90b9-de80afa0e8c7",
   "metadata": {},
   "outputs": [],
   "source": [
    "import torch"
   ]
  },
  {
   "cell_type": "code",
   "execution_count": 43,
   "id": "c66a81b7-54bc-41d4-ad1b-8083c0418446",
   "metadata": {},
   "outputs": [
    {
     "name": "stdout",
     "output_type": "stream",
     "text": [
      "torch.Size([1, 257, 501, 2])\n",
      "torch.Size([1, 257, 500, 2])\n",
      "torch.Size([1, 64000])\n",
      "tensor(5.1890e-05)\n",
      "tensor(5.2420e-05)\n"
     ]
    }
   ],
   "source": [
    "x = torch.rand(1,64000)\n",
    "X = torch.stft(x,n_fft=512,center=True)\n",
    "print(X.shape)\n",
    "Z = X[:,:,:500,:]\n",
    "print(Z.shape)\n",
    "y = torch.istft(X,n_fft=512)\n",
    "z = torch.istft(Z,n_fft=512)\n",
    "print(y.shape)\n",
    "# reducing target length due to STFT 1 frame mismatch\n",
    "print(torch.sum(x[:,:-128]-z))\n",
    "print(torch.sum(x-y))"
   ]
  },
  {
   "cell_type": "code",
   "execution_count": null,
   "id": "4189d71a-5f44-4650-9bd3-2702a96a5b0c",
   "metadata": {},
   "outputs": [],
   "source": []
  },
  {
   "cell_type": "code",
   "execution_count": 50,
   "id": "9b023fb2-cce9-4558-8f3b-445f87b81d20",
   "metadata": {},
   "outputs": [
    {
     "name": "stdout",
     "output_type": "stream",
     "text": [
      "tensor([[0.3532, 0.2467, 0.6127],\n",
      "        [0.4575, 0.3993, 0.7523]])\n",
      "tensor([0.4575, 0.3993, 0.7523])\n"
     ]
    }
   ],
   "source": [
    "t = torch.rand(2,3)\n",
    "print(t)\n",
    "print(torch.max(t,dim=0)[0])"
   ]
  },
  {
   "cell_type": "code",
   "execution_count": 51,
   "id": "04cddbed-68c8-4a64-9ec8-06951424df49",
   "metadata": {},
   "outputs": [
    {
     "ename": "TypeError",
     "evalue": "zeros(): argument 'size' must be tuple of ints, but found element of type torch.Size at pos 2",
     "output_type": "error",
     "traceback": [
      "\u001b[0;31m---------------------------------------------------------------------------\u001b[0m",
      "\u001b[0;31mTypeError\u001b[0m                                 Traceback (most recent call last)",
      "\u001b[0;32m/tmp/ipykernel_32527/711981668.py\u001b[0m in \u001b[0;36m<module>\u001b[0;34m\u001b[0m\n\u001b[1;32m      1\u001b[0m \u001b[0mtt\u001b[0m \u001b[0;34m=\u001b[0m \u001b[0mtorch\u001b[0m\u001b[0;34m.\u001b[0m\u001b[0mrand\u001b[0m\u001b[0;34m(\u001b[0m\u001b[0;36m3\u001b[0m\u001b[0;34m,\u001b[0m\u001b[0;36m4\u001b[0m\u001b[0;34m)\u001b[0m\u001b[0;34m\u001b[0m\u001b[0;34m\u001b[0m\u001b[0m\n\u001b[0;32m----> 2\u001b[0;31m \u001b[0mttt\u001b[0m \u001b[0;34m=\u001b[0m \u001b[0mtorch\u001b[0m\u001b[0;34m.\u001b[0m\u001b[0mzeros\u001b[0m\u001b[0;34m(\u001b[0m\u001b[0;36m2\u001b[0m\u001b[0;34m,\u001b[0m\u001b[0mtt\u001b[0m\u001b[0;34m.\u001b[0m\u001b[0mshape\u001b[0m\u001b[0;34m)\u001b[0m\u001b[0;34m\u001b[0m\u001b[0;34m\u001b[0m\u001b[0m\n\u001b[0m",
      "\u001b[0;31mTypeError\u001b[0m: zeros(): argument 'size' must be tuple of ints, but found element of type torch.Size at pos 2"
     ]
    }
   ],
   "source": [
    "tt = torch.rand(3,4)\n",
    "ttt = torch.zeros(2,tt.shape)"
   ]
  },
  {
   "cell_type": "code",
   "execution_count": null,
   "id": "b6d242b9-fd41-4dbb-bac8-a7b822b0790b",
   "metadata": {},
   "outputs": [],
   "source": []
  }
 ],
 "metadata": {
  "kernelspec": {
   "display_name": "Python 3 (ipykernel)",
   "language": "python",
   "name": "python3"
  },
  "language_info": {
   "codemirror_mode": {
    "name": "ipython",
    "version": 3
   },
   "file_extension": ".py",
   "mimetype": "text/x-python",
   "name": "python",
   "nbconvert_exporter": "python",
   "pygments_lexer": "ipython3",
   "version": "3.8.10"
  }
 },
 "nbformat": 4,
 "nbformat_minor": 5
}
