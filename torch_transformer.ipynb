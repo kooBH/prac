{
 "cells": [
  {
   "cell_type": "code",
   "execution_count": 2,
   "id": "4bbb44ff-8759-4493-93ad-96641c0c8585",
   "metadata": {},
   "outputs": [],
   "source": [
    "import torch\n",
    "import torch.nn as nn"
   ]
  },
  {
   "cell_type": "code",
   "execution_count": 12,
   "id": "a7fe211a-47bf-46a9-bbfb-440199b732d3",
   "metadata": {},
   "outputs": [],
   "source": [
    "B = 2\n",
    "F = 256\n",
    "T = 30"
   ]
  },
  {
   "cell_type": "code",
   "execution_count": 15,
   "id": "ec3260b7-29c2-426e-b25f-03c3011e2c99",
   "metadata": {},
   "outputs": [
    {
     "name": "stdout",
     "output_type": "stream",
     "text": [
      "torch.Size([2, 30, 256])\n"
     ]
    }
   ],
   "source": [
    "x = torch.rand(B,T,F)\n",
    "print(x.shape)"
   ]
  },
  {
   "cell_type": "code",
   "execution_count": 16,
   "id": "75dc2cb9-b527-4743-bd9c-fbe587c4fd52",
   "metadata": {},
   "outputs": [],
   "source": [
    "m = torch.nn.Transformer(d_model=256,batch_first=True)"
   ]
  },
  {
   "cell_type": "code",
   "execution_count": 18,
   "id": "49872766-3d28-421b-b4fd-f0398c307932",
   "metadata": {},
   "outputs": [
    {
     "name": "stdout",
     "output_type": "stream",
     "text": [
      "torch.Size([2, 30, 256])\n"
     ]
    }
   ],
   "source": [
    "y = m(x,x)\n",
    "print(y.shape)"
   ]
  },
  {
   "cell_type": "code",
   "execution_count": 20,
   "id": "5e973cfd-990e-4040-98c4-0795205c0a17",
   "metadata": {},
   "outputs": [
    {
     "name": "stdout",
     "output_type": "stream",
     "text": [
      "torch.Size([2, 60, 256])\n",
      "torch.Size([2, 60, 256])\n"
     ]
    }
   ],
   "source": [
    "xx = torch.rand(B,2*T,F)\n",
    "print(xx.shape)\n",
    "y = m(xx,xx)\n",
    "print(y.shape)"
   ]
  },
  {
   "cell_type": "code",
   "execution_count": null,
   "id": "b893c58f-9014-4c6b-9978-52e5b2aaeda2",
   "metadata": {},
   "outputs": [],
   "source": []
  }
 ],
 "metadata": {
  "kernelspec": {
   "display_name": "Python 3 (ipykernel)",
   "language": "python",
   "name": "python3"
  },
  "language_info": {
   "codemirror_mode": {
    "name": "ipython",
    "version": 3
   },
   "file_extension": ".py",
   "mimetype": "text/x-python",
   "name": "python",
   "nbconvert_exporter": "python",
   "pygments_lexer": "ipython3",
   "version": "3.9.12"
  }
 },
 "nbformat": 4,
 "nbformat_minor": 5
}
