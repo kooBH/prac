{
 "cells": [
  {
   "cell_type": "code",
   "execution_count": 1,
   "id": "1289ecde-f265-4107-9ac9-b7c42667c7a7",
   "metadata": {},
   "outputs": [],
   "source": [
    "import torch\n",
    "import torch.nn as nn \n",
    "import numpy as np"
   ]
  },
  {
   "cell_type": "markdown",
   "id": "1020b28a-a13e-44e5-998a-b10569bc7260",
   "metadata": {},
   "source": [
    "## Concatenate - C"
   ]
  },
  {
   "cell_type": "code",
   "execution_count": 12,
   "id": "795f3e05-a321-4dba-a524-db46e011b87e",
   "metadata": {},
   "outputs": [
    {
     "name": "stdout",
     "output_type": "stream",
     "text": [
      "torch.Size([6, 3, 2])\n"
     ]
    }
   ],
   "source": [
    "x = torch.rand(4,3,2)\n",
    "y = torch.rand(2,3,2)\n",
    "print(x.shape)\n",
    "print(y.shape)\n",
    "\n",
    "z = torch.cat((x,y))\n",
    "print(z.shape)"
   ]
  },
  {
   "cell_type": "markdown",
   "id": "977fc86a-4b96-4581-a51b-33e652f5b28c",
   "metadata": {},
   "source": [
    "## Cocatenate - V"
   ]
  },
  {
   "cell_type": "code",
   "execution_count": 18,
   "id": "d7b7c060-05d1-4695-876a-b8c5909b777b",
   "metadata": {},
   "outputs": [
    {
     "name": "stdout",
     "output_type": "stream",
     "text": [
      "torch.Size([2, 3, 2])\n",
      "torch.Size([2, 3, 2])\n",
      "torch.Size([2, 3, 4])\n"
     ]
    }
   ],
   "source": [
    "x = torch.rand(2,3,2)\n",
    "y = torch.rand(2,3,2)\n",
    "print(x.shape)\n",
    "print(y.shape)\n",
    "\n",
    "z = torch.cat((x,y),2)\n",
    "print(z.shape)"
   ]
  },
  {
   "cell_type": "markdown",
   "id": "8e5935a3-0b62-42a6-9e40-01b6493a882d",
   "metadata": {
    "tags": []
   },
   "source": [
    "## Stack"
   ]
  },
  {
   "cell_type": "code",
   "execution_count": 16,
   "id": "005f587d-38b7-4815-9b47-2e6bedf74ad2",
   "metadata": {},
   "outputs": [
    {
     "name": "stdout",
     "output_type": "stream",
     "text": [
      "torch.Size([2, 3, 2])\n",
      "torch.Size([2, 3, 2])\n",
      "torch.Size([2, 2, 3, 2])\n"
     ]
    }
   ],
   "source": [
    "x = torch.rand(2,3,2)\n",
    "y = torch.rand(2,3,2)\n",
    "print(x.shape)\n",
    "print(y.shape)\n",
    "\n",
    "z = torch.stack((x,y))\n",
    "print(z.shape)"
   ]
  },
  {
   "cell_type": "code",
   "execution_count": null,
   "id": "5cf94fbe-8375-40af-87f7-ca69a58f7c45",
   "metadata": {},
   "outputs": [],
   "source": []
  }
 ],
 "metadata": {
  "kernelspec": {
   "display_name": "Python 3 (ipykernel)",
   "language": "python",
   "name": "python3"
  },
  "language_info": {
   "codemirror_mode": {
    "name": "ipython",
    "version": 3
   },
   "file_extension": ".py",
   "mimetype": "text/x-python",
   "name": "python",
   "nbconvert_exporter": "python",
   "pygments_lexer": "ipython3",
   "version": "3.9.6"
  }
 },
 "nbformat": 4,
 "nbformat_minor": 5
}
