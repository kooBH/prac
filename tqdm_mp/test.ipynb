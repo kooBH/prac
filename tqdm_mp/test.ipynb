{
 "cells": [
  {
   "cell_type": "code",
   "execution_count": 1,
   "metadata": {},
   "outputs": [],
   "source": [
    "from multiprocessing import Pool, cpu_count\n",
    "from tqdm import tqdm\n",
    "from time import "
   ]
  },
  {
   "cell_type": "code",
   "execution_count": 2,
   "metadata": {},
   "outputs": [],
   "source": [
    "arr = list(range(1000000))\n",
    "cpu_num = 16\n",
    "def func(x):\n",
    "    y = arr[x]*arr[x]\n",
    "    sleep(1)"
   ]
  },
  {
   "cell_type": "code",
   "execution_count": null,
   "metadata": {},
   "outputs": [
    {
     "name": "stderr",
     "output_type": "stream",
     "text": [
      " 14%|█▎        | 137460/1000000 [00:11<01:13, 11673.67it/s]Process ForkPoolWorker-3:\n",
      "Process ForkPoolWorker-5:\n",
      "Process ForkPoolWorker-8:\n",
      "Process ForkPoolWorker-11:\n",
      "Process ForkPoolWorker-14:\n",
      "Process ForkPoolWorker-2:\n",
      "Process ForkPoolWorker-1:\n",
      "Process ForkPoolWorker-13:\n",
      "Process ForkPoolWorker-12:\n",
      "Process ForkPoolWorker-4:\n",
      "Process ForkPoolWorker-6:\n",
      "Process ForkPoolWorker-15:\n",
      "Process ForkPoolWorker-9:\n",
      "Process ForkPoolWorker-10:\n",
      "Process ForkPoolWorker-16:\n",
      "Process ForkPoolWorker-7:\n",
      "Traceback (most recent call last):\n",
      "Traceback (most recent call last):\n",
      "Traceback (most recent call last):\n",
      "Traceback (most recent call last):\n",
      "Traceback (most recent call last):\n",
      "Traceback (most recent call last):\n",
      "Traceback (most recent call last):\n",
      "Traceback (most recent call last):\n",
      "Traceback (most recent call last):\n",
      "Traceback (most recent call last):\n",
      "Traceback (most recent call last):\n",
      "Traceback (most recent call last):\n",
      "Traceback (most recent call last):\n",
      "Traceback (most recent call last):\n",
      "  File \"/home/kbh/anaconda3/envs/prac/lib/python3.8/multiprocessing/process.py\", line 313, in _bootstrap\n",
      "    self.run()\n",
      "  File \"/home/kbh/anaconda3/envs/prac/lib/python3.8/multiprocessing/process.py\", line 313, in _bootstrap\n",
      "    self.run()\n",
      "  File \"/home/kbh/anaconda3/envs/prac/lib/python3.8/multiprocessing/process.py\", line 313, in _bootstrap\n",
      "    self.run()\n",
      "Traceback (most recent call last):\n",
      "  File \"/home/kbh/anaconda3/envs/prac/lib/python3.8/multiprocessing/process.py\", line 313, in _bootstrap\n",
      "    self.run()\n",
      "  File \"/home/kbh/anaconda3/envs/prac/lib/python3.8/multiprocessing/process.py\", line 313, in _bootstrap\n",
      "    self.run()\n"
     ]
    }
   ],
   "source": [
    "with Pool(cpu_num) as p:\n",
    "    r = list(tqdm(p.imap(func,arr),total=len(arr)))"
   ]
  },
  {
   "cell_type": "code",
   "execution_count": null,
   "metadata": {},
   "outputs": [],
   "source": []
  }
 ],
 "metadata": {
  "kernelspec": {
   "display_name": "Python 3",
   "language": "python",
   "name": "python3"
  },
  "language_info": {
   "codemirror_mode": {
    "name": "ipython",
    "version": 3
   },
   "file_extension": ".py",
   "mimetype": "text/x-python",
   "name": "python",
   "nbconvert_exporter": "python",
   "pygments_lexer": "ipython3",
   "version": "3.8.0"
  }
 },
 "nbformat": 4,
 "nbformat_minor": 4
}
