{
 "cells": [
  {
   "cell_type": "code",
   "execution_count": 11,
   "id": "489ae6d5-48bd-46e2-90c9-16597aaf9fbd",
   "metadata": {},
   "outputs": [],
   "source": [
    "# modified from https://github.com/HarryVolek/PyTorch_Speaker_Verification\n",
    "import os\n",
    "import yaml\n",
    "\n",
    "def load_hparam_str(hp_str):\n",
    "    path = os.path.join('config', 'temp-restore.yaml')\n",
    "    with open(path, 'w') as f:\n",
    "        f.write(hp_str)\n",
    "    return HParam(path)\n",
    "\n",
    "def load_hparam(filename):\n",
    "    stream = open(filename, 'r')\n",
    "    docs = yaml.load_all(stream, Loader=yaml.FullLoader)\n",
    "    hparam_dict = dict()\n",
    "    for doc in docs:\n",
    "        for k, v in doc.items():\n",
    "            hparam_dict[k] = v\n",
    "    return hparam_dict\n",
    "\n",
    "def merge_dict(user, default):\n",
    "    if isinstance(user, dict) and isinstance(default, dict):\n",
    "        for k, v in default.items():\n",
    "            if k not in user:\n",
    "                user[k] = v\n",
    "            else:\n",
    "                user[k] = merge_dict(user[k], v)\n",
    "    return user\n",
    "\n",
    "class Dotdict(dict):\n",
    "    \"\"\"\n",
    "    a dictionary that supports dot notation \n",
    "    as well as dictionary access notation \n",
    "    usage: d = DotDict() or d = DotDict({'val1':'first'})\n",
    "    set attributes: d.val2 = 'second' or d['val2'] = 'second'\n",
    "    get attributes: d.val2 or d['val2']\n",
    "    \"\"\"\n",
    "    __getattr__ = dict.__getitem__\n",
    "    __setattr__ = dict.__setitem__\n",
    "    __delattr__ = dict.__delitem__\n",
    "\n",
    "    def __init__(self, dct=None):\n",
    "        dct = dict() if not dct else dct\n",
    "        for key, value in dct.items():\n",
    "            if hasattr(value, 'keys'):\n",
    "                value = Dotdict(value)\n",
    "            self[key] = value\n",
    "\n",
    "class HParam(Dotdict):\n",
    "\n",
    "    def __init__(self, file_target, file_default=None):\n",
    "        super(Dotdict, self).__init__()\n",
    "        \n",
    "        if file_default is not None : \n",
    "            hp_dict_base = load_hparam(file_default)\n",
    "            hp_dict_update = load_hparam(file_target)\n",
    "            hp_dict_base=merge_dict(hp_dict_update,hp_dict_base)\n",
    "        else :\n",
    "            hp_dict_base = load_hparam(file_target)\n",
    "        \n",
    "        hp_dotdict = Dotdict(hp_dict_base)\n",
    "        for k, v in hp_dotdict.items():\n",
    "            setattr(self, k, v)\n",
    "            \n",
    "    __getattr__ = Dotdict.__getitem__\n",
    "    __setattr__ = Dotdict.__setitem__\n",
    "    __delattr__ = Dotdict.__delitem__\n"
   ]
  },
  {
   "cell_type": "code",
   "execution_count": 12,
   "id": "3299b801-1ed8-4706-a71f-09dd5ac742d5",
   "metadata": {},
   "outputs": [
    {
     "name": "stdout",
     "output_type": "stream",
     "text": [
      "{'a': {'key': 'defaukt', 'val': 0}, 'b': {'key': 'b', 'val': 2}}\n",
      "{'a': {'val': 3333, 'key': 'defaukt'}, 'b': {'key': 'bb', 'val': 22}}\n",
      "{'a': {'key': 'defaukt', 'val': 0}, 'b': {'key': 'b', 'val': 2}}\n",
      "{'a': {'val': 3333}, 'b': {'key': 'bb', 'val': 22}}\n"
     ]
    }
   ],
   "source": [
    "print(HParam(\"default.yaml\",\"v1.yaml\"))\n",
    "print(HParam(\"v1.yaml\",\"default.yaml\"))\n",
    "print(HParam(\"default.yaml\"))\n",
    "print(HParam(\"v1.yaml\"))"
   ]
  },
  {
   "cell_type": "code",
   "execution_count": 33,
   "id": "03a4992e-72e6-4491-8ab7-e89fa3401134",
   "metadata": {},
   "outputs": [
    {
     "name": "stdout",
     "output_type": "stream",
     "text": [
      "tensor([0.7178, 0.6077, 0.7774, 0.1240, 0.5061, 0.2580, 0.7909, 0.6329, 0.6704,\n",
      "        0.1637], dtype=torch.float64)\n",
      "tensor([11.7178, 11.6077, 11.7774,  0.1240, 11.5061,  0.2580, 11.7909, 11.6329,\n",
      "        11.6704,  0.1637], dtype=torch.float64)\n"
     ]
    }
   ],
   "source": [
    "import torch\n",
    "x = torch.rand(10,dtype=torch.double)\n",
    "print(x)\n",
    "x = torch.where(x < 0.5, x,x+11.)\n",
    "print(x)"
   ]
  },
  {
   "cell_type": "code",
   "execution_count": 26,
   "id": "9b9dd75a-9d59-4ed0-8130-1d8ee8d5a25e",
   "metadata": {},
   "outputs": [
    {
     "ename": "RuntimeError",
     "evalue": "expected scalar type float but found long int",
     "output_type": "error",
     "traceback": [
      "\u001b[0;31m---------------------------------------------------------------------------\u001b[0m",
      "\u001b[0;31mRuntimeError\u001b[0m                              Traceback (most recent call last)",
      "Input \u001b[0;32mIn [26]\u001b[0m, in \u001b[0;36m<cell line: 1>\u001b[0;34m()\u001b[0m\n\u001b[0;32m----> 1\u001b[0m \u001b[43mtorch\u001b[49m\u001b[38;5;241;43m.\u001b[39;49m\u001b[43mwhere\u001b[49m\u001b[43m(\u001b[49m\u001b[43mx\u001b[49m\u001b[43m \u001b[49m\u001b[38;5;241;43m>\u001b[39;49m\u001b[43m \u001b[49m\u001b[38;5;241;43m0.5\u001b[39;49m\u001b[43m,\u001b[49m\u001b[43mx\u001b[49m\u001b[43m,\u001b[49m\u001b[38;5;241;43m0\u001b[39;49m\u001b[43m)\u001b[49m\n",
      "\u001b[0;31mRuntimeError\u001b[0m: expected scalar type float but found long int"
     ]
    }
   ],
   "source": []
  },
  {
   "cell_type": "code",
   "execution_count": null,
   "id": "4a823cdd-0a33-4b10-9738-9637f2d88d07",
   "metadata": {},
   "outputs": [],
   "source": []
  }
 ],
 "metadata": {
  "kernelspec": {
   "display_name": "Python 3 (ipykernel)",
   "language": "python",
   "name": "python3"
  },
  "language_info": {
   "codemirror_mode": {
    "name": "ipython",
    "version": 3
   },
   "file_extension": ".py",
   "mimetype": "text/x-python",
   "name": "python",
   "nbconvert_exporter": "python",
   "pygments_lexer": "ipython3",
   "version": "3.9.12"
  }
 },
 "nbformat": 4,
 "nbformat_minor": 5
}
